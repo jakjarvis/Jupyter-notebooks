{
 "cells": [
  {
   "cell_type": "markdown",
   "metadata": {},
   "source": [
    "# --- Day 19: Medicine for Rudolph ---\n",
    "\n",
    "Rudolph the Red-Nosed Reindeer is sick! His nose isn't shining very brightly, and he needs medicine.\n",
    "\n",
    "Red-Nosed Reindeer biology isn't similar to regular reindeer biology; Rudolph is going to need custom-made medicine. Unfortunately, Red-Nosed Reindeer chemistry isn't similar to regular reindeer chemistry, either.\n",
    "\n",
    "The North Pole is equipped with a Red-Nosed Reindeer nuclear fusion/fission plant, capable of constructing any Red-Nosed Reindeer molecule you need. It works by starting with some input molecule and then doing a series of replacements, one per step, until it has the right molecule.\n",
    "\n",
    "However, the machine has to be calibrated before it can be used. Calibration involves determining the number of molecules that can be generated in one step from a given starting point.\n",
    "\n",
    "For example, imagine a simpler machine that supports only the following replacements:\n",
    "\n",
    "- H => HO\n",
    "- H => OH\n",
    "- O => HH\n",
    "\n",
    "Given the replacements above and starting with HOH, the following molecules could be generated:\n",
    "\n",
    "- HOOH (via H => HO on the first H).\n",
    "- HOHO (via H => HO on the second H).\n",
    "- OHOH (via H => OH on the first H).\n",
    "- HOOH (via H => OH on the second H).\n",
    "- HHHH (via O => HH).\n",
    "\n",
    "So, in the example above, there are 4 distinct molecules (not five, because HOOH appears twice) after one replacement from HOH. Santa's favorite molecule, HOHOHO, can become 7 distinct molecules (over nine replacements: six from H, and three from O).\n",
    "\n",
    "The machine replaces without regard for the surrounding characters. For example, given the string H2O, the transition H => OO would result in OO2O.\n",
    "\n",
    "Your puzzle input describes all of the possible replacements and, at the bottom, the medicine molecule for which you need to calibrate the machine. How many distinct molecules can be created after all the different ways you can do one replacement on the medicine molecule?"
   ]
  },
  {
   "cell_type": "code",
   "execution_count": 91,
   "metadata": {},
   "outputs": [
    {
     "name": "stdout",
     "output_type": "stream",
     "text": [
      "['O', 'Rn', 'P', 'B', 'P', 'Mg', 'Ar', 'Ca', 'Ca', 'Ca', 'Si', 'Th', 'Ca', 'Ca', 'Si', 'Th', 'Ca', 'Ca', 'P', 'B', 'Si', 'Rn', 'F', 'Ar', 'Rn', 'F', 'Ar', 'Ca', 'Ca', 'Si', 'Th', 'Ca', 'Ca', 'Si', 'Th', 'Ca', 'Ca', 'Ca', 'Ca', 'Ca', 'Ca', 'Si', 'Rn', 'F', 'Y', 'F', 'Ar', 'Si', 'Rn', 'Mg', 'Ar', 'Ca', 'Si', 'Rn', 'P', 'Ti', 'Ti', 'B', 'F', 'Y', 'P', 'B', 'F', 'Ar', 'Si', 'Rn', 'Ca', 'Si', 'Rn', 'Ti', 'Rn', 'F', 'Ar', 'Si', 'Al', 'Ar', 'P', 'Ti', 'B', 'P', 'Ti', 'Rn', 'Ca', 'Si', 'Al', 'Ar', 'Ca', 'P', 'Ti', 'Ti', 'B', 'P', 'Mg', 'Y', 'F', 'Ar', 'P', 'Ti', 'Rn', 'F', 'Ar', 'Si', 'Rn', 'Ca', 'Ca', 'F', 'Ar', 'Rn', 'Ca', 'F', 'Ar', 'Ca', 'Si', 'Rn', 'Si', 'Rn', 'Mg', 'Ar', 'F', 'Y', 'Ca', 'Si', 'Rn', 'Mg', 'Ar', 'Ca', 'Ca', 'Si', 'Th', 'P', 'Rn', 'F', 'Ar', 'P', 'B', 'Ca', 'Si', 'Rn', 'Mg', 'Ar', 'Ca', 'Ca', 'Si', 'Th', 'Ca', 'Si', 'Rn', 'Ti', 'Mg', 'Ar', 'F', 'Ar', 'Si', 'Th', 'Si', 'Th', 'Ca', 'Ca', 'Si', 'Rn', 'Mg', 'Ar', 'Ca', 'Ca', 'Si', 'Rn', 'F', 'Ar', 'Ti', 'B', 'P', 'Ti', 'Rn', 'Ca', 'Si', 'Al', 'Ar', 'Ca', 'P', 'Ti', 'Rn', 'F', 'Ar', 'P', 'B', 'P', 'B', 'Ca', 'Ca', 'Si', 'Th', 'Ca', 'P', 'B', 'Si', 'Th', 'P', 'Rn', 'F', 'Ar', 'Si', 'Th', 'Ca', 'Si', 'Th', 'Ca', 'Si', 'Th', 'Ca', 'P', 'Ti', 'B', 'Si', 'Rn', 'F', 'Y', 'F', 'Ar', 'Ca', 'Ca', 'P', 'Rn', 'F', 'Ar', 'P', 'B', 'Ca', 'Ca', 'P', 'B', 'Si', 'Rn', 'Ti', 'Rn', 'F', 'Ar', 'Ca', 'P', 'Rn', 'F', 'Ar', 'Si', 'Rn', 'Ca', 'Ca', 'Ca', 'Si', 'Th', 'Ca', 'Rn', 'Ca', 'F', 'Ar', 'Y', 'Ca', 'Si', 'Rn', 'F', 'Ar', 'B', 'Ca', 'Ca', 'Ca', 'Si', 'Th', 'F', 'Ar', 'P', 'B', 'F', 'Ar', 'Ca', 'Si', 'Rn', 'F', 'Ar', 'Rn', 'Ca', 'Ca', 'Ca', 'F', 'Ar', 'Si', 'Rn', 'F', 'Ar', 'Ti', 'Rn', 'P', 'Mg', 'Ar', 'F']\n"
     ]
    }
   ],
   "source": [
    "# Input the formula of the medicine as a string\n",
    "medicine = 'ORnPBPMgArCaCaCaSiThCaCaSiThCaCaPBSiRnFArRnFArCaCaSiThCaCaSiThCaCaCaCaCaCaSiRnFYFArSiRnMgArCaSiRnPTiTiBFYPBFArSiRnCaSiRnTiRnFArSiAlArPTiBPTiRnCaSiAlArCaPTiTiBPMgYFArPTiRnFArSiRnCaCaFArRnCaFArCaSiRnSiRnMgArFYCaSiRnMgArCaCaSiThPRnFArPBCaSiRnMgArCaCaSiThCaSiRnTiMgArFArSiThSiThCaCaSiRnMgArCaCaSiRnFArTiBPTiRnCaSiAlArCaPTiRnFArPBPBCaCaSiThCaPBSiThPRnFArSiThCaSiThCaSiThCaPTiBSiRnFYFArCaCaPRnFArPBCaCaPBSiRnTiRnFArCaPRnFArSiRnCaCaCaSiThCaRnCaFArYCaSiRnFArBCaCaCaSiThFArPBFArCaSiRnFArRnCaCaCaFArSiRnFArTiRnPMgArF'\n",
    "\n",
    "# Create a list of all the components of the medicine, in order\n",
    "medicineComponents = []\n",
    "for component in range(len(medicine)):\n",
    "    if component != len(medicine) - 1:\n",
    "        if medicine[component].isupper() == True and medicine[component+1].isupper() == False:\n",
    "            medicineComponents += [medicine[component:component+2]]\n",
    "        elif medicine[component].isupper() == True and medicine[component+1].isupper() == True:\n",
    "            medicineComponents += medicine[component]\n",
    "        elif medicine[component] == 'e':\n",
    "            medicineComponents += medicine[component]\n",
    "    else:\n",
    "        if medicine[component].isupper() == True:\n",
    "            medicineComponents += medicine[component]\n",
    "        elif medicine[component] == 'e':\n",
    "            medicineComponents += medicine[component]\n",
    "        \n",
    "print(medicineComponents)"
   ]
  },
  {
   "cell_type": "code",
   "execution_count": 92,
   "metadata": {},
   "outputs": [
    {
     "name": "stdout",
     "output_type": "stream",
     "text": [
      "['Al', 'B', 'Ca', 'F', 'H', 'Mg', 'N', 'O', 'P', 'Si', 'Th', 'Ti', 'e']\n"
     ]
    }
   ],
   "source": [
    "# Save the instructions part of the input as a csv and read it into a dataframe\n",
    "import pandas as pd\n",
    "df = pd.read_csv(r'C:\\Users\\Jono\\Documents\\Python Scripts\\Day 19 Input.csv')\n",
    "\n",
    "# Create a list of all the molecules which can be switched\n",
    "molecules = []\n",
    "for row in df['Replacements']:\n",
    "    if row[1] == ' ':\n",
    "        molecules += row[0]\n",
    "    else:\n",
    "        molecules += [row[0:2]]\n",
    "molecules = sorted(set(molecules))\n",
    "print(molecules)"
   ]
  },
  {
   "cell_type": "code",
   "execution_count": 93,
   "metadata": {},
   "outputs": [
    {
     "name": "stdout",
     "output_type": "stream",
     "text": [
      "{'Al': [], 'B': [], 'Ca': [], 'F': [], 'H': [], 'Mg': [], 'N': [], 'O': [], 'P': [], 'Si': [], 'Th': [], 'Ti': [], 'e': []}\n"
     ]
    }
   ],
   "source": [
    "# Create a dictionary of blank lists from the molecule list\n",
    "instructions = {}\n",
    "for molecule in molecules:\n",
    "    instructions[molecule] = []   \n",
    "print(instructions)"
   ]
  },
  {
   "cell_type": "code",
   "execution_count": 94,
   "metadata": {},
   "outputs": [
    {
     "name": "stdout",
     "output_type": "stream",
     "text": [
      "{'Al': ['ThF', 'ThRnFAr'], 'B': ['BCa', 'TiB', 'TiRnFAr'], 'Ca': ['CaCa', 'PB', 'PRnFAr', 'SiRnFYFAr', 'SiRnMgAr', 'SiTh'], 'F': ['CaF', 'PMg', 'SiAl'], 'H': ['CRnAlAr', 'CRnFYFYFAr', 'CRnFYMgAr', 'CRnMgYFAr', 'HCa', 'NRnFYFAr', 'NRnMgAr', 'NTh', 'OB', 'ORnFAr'], 'Mg': ['BF', 'TiMg'], 'N': ['CRnFAr', 'HSi'], 'O': ['CRnFYFAr', 'CRnMgAr', 'HP', 'NRnFAr', 'OTi'], 'P': ['CaP', 'PTi', 'SiRnFAr'], 'Si': ['CaSi'], 'Th': ['ThCa'], 'Ti': ['BP', 'TiTi'], 'e': ['HF', 'NAl', 'OMg']}\n"
     ]
    }
   ],
   "source": [
    "# Populate each blank list with all the possible things that molecule can be switched to\n",
    "for row in df['Replacements']:\n",
    "    instructions[row.split()[0]] += [row.split()[2]]\n",
    "print(instructions)"
   ]
  },
  {
   "cell_type": "code",
   "execution_count": 95,
   "metadata": {},
   "outputs": [
    {
     "name": "stdout",
     "output_type": "stream",
     "text": [
      "576\n"
     ]
    }
   ],
   "source": [
    "# Create a blank list to remember what could have been changed in the last check\n",
    "previousCombos = []\n",
    "# Create an integer to count the unique combos\n",
    "uniqueCombos = 0\n",
    "# Use a for loop to check if each component in the list of medicine components can be changed\n",
    "for component in range(len(medicineComponents)):\n",
    "    if medicineComponents[component] in molecules:\n",
    "        # Create a new list of components, identical to the medicine\n",
    "        newCombos = []\n",
    "        newCombo = medicineComponents.copy()\n",
    "        # For each possible replacement of that moelcule, create the new formula, \n",
    "        # turn it into a string and save it in the list of combos\n",
    "        for replacement in instructions[medicineComponents[component]]:\n",
    "            newCombo[component] = replacement\n",
    "            comboString = ''.join(str(i) for i in newCombo)\n",
    "            # Check if the combination had already been created from the previous iteration, if not, increase the count\n",
    "            if comboString not in previousCombos:\n",
    "                uniqueCombos += 1\n",
    "            newCombos += [comboString]\n",
    "        # Set the list of previous combos to this new set\n",
    "        previousCombos = newCombos\n",
    "print(uniqueCombos)"
   ]
  },
  {
   "cell_type": "markdown",
   "metadata": {},
   "source": [
    "# --- Part Two ---\n",
    "\n",
    "Now that the machine is calibrated, you're ready to begin molecule fabrication.\n",
    "\n",
    "Molecule fabrication always begins with just a single electron, e, and applying replacements one at a time, just like the ones during calibration.\n",
    "\n",
    "For example, suppose you have the following replacements:\n",
    "\n",
    "- e => H\n",
    "- e => O\n",
    "- H => HO\n",
    "- H => OH\n",
    "- O => HH\n",
    "\n",
    "If you'd like to make HOH, you start with e, and then make the following replacements:\n",
    "\n",
    "- e => O to get O\n",
    "- O => HH to get HH\n",
    "- H => OH (on the second H) to get HOH\n",
    "\n",
    "So, you could make HOH after 3 steps. Santa's favorite molecule, HOHOHO, can be made in 6 steps.\n",
    "\n",
    "How long will it take to make the medicine? Given the available replacements and the medicine molecule in your puzzle input, what is the fewest number of steps to go from e to the medicine molecule?"
   ]
  },
  {
   "cell_type": "code",
   "execution_count": 96,
   "metadata": {},
   "outputs": [
    {
     "name": "stdout",
     "output_type": "stream",
     "text": [
      "{'ThF': 'Al', 'ThRnFAr': 'Al', 'BCa': 'B', 'TiB': 'B', 'TiRnFAr': 'B', 'CaCa': 'Ca', 'PB': 'Ca', 'PRnFAr': 'Ca', 'SiRnFYFAr': 'Ca', 'SiRnMgAr': 'Ca', 'SiTh': 'Ca', 'CaF': 'F', 'PMg': 'F', 'SiAl': 'F', 'CRnAlAr': 'H', 'CRnFYFYFAr': 'H', 'CRnFYMgAr': 'H', 'CRnMgYFAr': 'H', 'HCa': 'H', 'NRnFYFAr': 'H', 'NRnMgAr': 'H', 'NTh': 'H', 'OB': 'H', 'ORnFAr': 'H', 'BF': 'Mg', 'TiMg': 'Mg', 'CRnFAr': 'N', 'HSi': 'N', 'CRnFYFAr': 'O', 'CRnMgAr': 'O', 'HP': 'O', 'NRnFAr': 'O', 'OTi': 'O', 'CaP': 'P', 'PTi': 'P', 'SiRnFAr': 'P', 'CaSi': 'Si', 'ThCa': 'Th', 'BP': 'Ti', 'TiTi': 'Ti', 'HF': 'e', 'NAl': 'e', 'OMg': 'e'}\n"
     ]
    }
   ],
   "source": [
    "# Similarly to in Part 1, read the dataframe but this time to create a dictionary of molecules that could result\n",
    "# from a molecule in the list (resultants), with the corresponsing initial molecule\n",
    "import pandas as pd\n",
    "df = pd.read_csv(r'C:\\Users\\Jono\\Documents\\Python Scripts\\Day 19 Input.csv')\n",
    "resultants = {}\n",
    "for row in df['Replacements']:\n",
    "    resultants[row.split(' ')[2]] = row.split(' ')[0]\n",
    "print(resultants)"
   ]
  },
  {
   "cell_type": "code",
   "execution_count": 97,
   "metadata": {},
   "outputs": [],
   "source": [
    "# Create a function which checks each step in the medicine formula,  \n",
    "def check(medicine, swaps):\n",
    "    skip = 0\n",
    "    for step in range(len(medicine)):\n",
    "        if skip >= 1:\n",
    "            skip -= 1\n",
    "        # Checks if it can be created from another molecule (is it a resultant) and if so switch it\n",
    "        for resultant in resultants:\n",
    "            if len(medicine) - step >= len(resultant):\n",
    "                if medicine[step:step+len(resultant)] == resultant:\n",
    "                    medicine = medicine[0:step] + resultants[resultant] + medicine[step + len(resultant):]\n",
    "                    # If the length of the new molecule is shorter than the original, skip the difference in steps\n",
    "                    skip += len(resultants[resultant]) - len(medicine[step:step+len(resultant)])\n",
    "                    swaps += 1  \n",
    "    return medicine, swaps"
   ]
  },
  {
   "cell_type": "code",
   "execution_count": 98,
   "metadata": {},
   "outputs": [
    {
     "name": "stdout",
     "output_type": "stream",
     "text": [
      "e\n",
      "207\n"
     ]
    }
   ],
   "source": [
    "# Set the inputs, including a boolean to check when all the molecules have been reduced to electrons\n",
    "medicine = 'ORnPBPMgArCaCaCaSiThCaCaSiThCaCaPBSiRnFArRnFArCaCaSiThCaCaSiThCaCaCaCaCaCaSiRnFYFArSiRnMgArCaSiRnPTiTiBFYPBFArSiRnCaSiRnTiRnFArSiAlArPTiBPTiRnCaSiAlArCaPTiTiBPMgYFArPTiRnFArSiRnCaCaFArRnCaFArCaSiRnSiRnMgArFYCaSiRnMgArCaCaSiThPRnFArPBCaSiRnMgArCaCaSiThCaSiRnTiMgArFArSiThSiThCaCaSiRnMgArCaCaSiRnFArTiBPTiRnCaSiAlArCaPTiRnFArPBPBCaCaSiThCaPBSiThPRnFArSiThCaSiThCaSiThCaPTiBSiRnFYFArCaCaPRnFArPBCaCaPBSiRnTiRnFArCaPRnFArSiRnCaCaCaSiThCaRnCaFArYCaSiRnFArBCaCaCaSiThFArPBFArCaSiRnFArRnCaCaCaFArSiRnFArTiRnPMgArF'\n",
    "swaps = 0\n",
    "allE = False\n",
    "\n",
    "# While the medicine hasn't all been reduced to electrons, pass the ever simplifiying formula back through the function\n",
    "while allE == False: #for n in range(1):\n",
    "    medicine, swaps = check(medicine, swaps)\n",
    "    nonE = 0\n",
    "    for letter in medicine:\n",
    "        if letter != 'e':\n",
    "            nonE += 1\n",
    "    if nonE == 0:\n",
    "        allE = True\n",
    "\n",
    "print(medicine)\n",
    "print(swaps)"
   ]
  }
 ],
 "metadata": {
  "kernelspec": {
   "display_name": "Python 3",
   "language": "python",
   "name": "python3"
  },
  "language_info": {
   "codemirror_mode": {
    "name": "ipython",
    "version": 3
   },
   "file_extension": ".py",
   "mimetype": "text/x-python",
   "name": "python",
   "nbconvert_exporter": "python",
   "pygments_lexer": "ipython3",
   "version": "3.8.5"
  }
 },
 "nbformat": 4,
 "nbformat_minor": 4
}
