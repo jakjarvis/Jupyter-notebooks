{
 "cells": [
  {
   "cell_type": "markdown",
   "metadata": {},
   "source": [
    "# --- Day 13: Knights of the Dinner Table ---\n",
    "\n",
    "In years past, the holiday feast with your family hasn't gone so well. Not everyone gets along! This year, you resolve, will be different. You're going to find the optimal seating arrangement and avoid all those awkward conversations.\n",
    "\n",
    "You start by writing up a list of everyone invited and the amount their happiness would increase or decrease if they were to find themselves sitting next to each other person. You have a circular table that will be just big enough to fit everyone comfortably, and so each person will have exactly two neighbors.\n",
    "\n",
    "For example, suppose you have only four attendees planned, and you calculate their potential happiness as follows:\n",
    "\n",
    "- Alice would gain 54 happiness units by sitting next to Bob.\n",
    "- Alice would lose 79 happiness units by sitting next to Carol.\n",
    "- Alice would lose 2 happiness units by sitting next to David.\n",
    "- Bob would gain 83 happiness units by sitting next to Alice.\n",
    "- Bob would lose 7 happiness units by sitting next to Carol.\n",
    "- Bob would lose 63 happiness units by sitting next to David.\n",
    "- Carol would lose 62 happiness units by sitting next to Alice.\n",
    "- Carol would gain 60 happiness units by sitting next to Bob.\n",
    "- Carol would gain 55 happiness units by sitting next to David.\n",
    "- David would gain 46 happiness units by sitting next to Alice.\n",
    "- David would lose 7 happiness units by sitting next to Bob.\n",
    "- David would gain 41 happiness units by sitting next to Carol.\n",
    "\n",
    "Then, if you seat Alice next to David, Alice would lose 2 happiness units (because David talks so much), but David would gain 46 happiness units (because Alice is such a good listener), for a total change of 44.\n",
    "\n",
    "If you continue around the table, you could then seat Bob next to Alice (Bob gains 83, Alice gains 54). Finally, seat Carol, who sits next to Bob (Carol gains 60, Bob loses 7) and David (Carol gains 55, David gains 41). The arrangement looks like this:"
   ]
  },
  {
   "cell_type": "code",
   "execution_count": 2,
   "metadata": {},
   "outputs": [],
   "source": [
    "#      +41 +46\n",
    "# +55   David    -2\n",
    "# Carol       Alice\n",
    "# +60    Bob    +54\n",
    "#      -7  +83"
   ]
  },
  {
   "cell_type": "markdown",
   "metadata": {},
   "source": [
    "After trying every other seating arrangement in this hypothetical scenario, you find that this one is the most optimal, with a total change in happiness of 330.\n",
    "\n",
    "What is the total change in happiness for the optimal seating arrangement of the actual guest list?"
   ]
  },
  {
   "cell_type": "code",
   "execution_count": 115,
   "metadata": {},
   "outputs": [
    {
     "name": "stdout",
     "output_type": "stream",
     "text": [
      "{'Alice': {'Bob': -2, 'Carol': -62, 'David': 65, 'Eric': 21, 'Frank': -81, 'George': -4, 'Mallory': -80}, 'Bob': {'Alice': 93, 'Carol': 19, 'David': 5, 'Eric': 49, 'Frank': 68, 'George': 23, 'Mallory': 29}, 'Carol': {'Alice': -54, 'Bob': -70, 'David': -37, 'Eric': -46, 'Frank': 33, 'George': -35, 'Mallory': 10}, 'David': {'Alice': 43, 'Bob': -96, 'Carol': -53, 'Eric': -30, 'Frank': -12, 'George': 75, 'Mallory': -20}, 'Eric': {'Alice': 8, 'Bob': -89, 'Carol': -69, 'David': -34, 'Frank': 95, 'George': 34, 'Mallory': -99}, 'Frank': {'Alice': -97, 'Bob': 6, 'Carol': -9, 'David': 56, 'Eric': -17, 'George': 18, 'Mallory': -56}, 'George': {'Alice': 45, 'Bob': 76, 'Carol': 63, 'David': 54, 'Eric': 54, 'Frank': 30, 'Mallory': 7}, 'Mallory': {'Alice': 31, 'Bob': -32, 'Carol': 95, 'David': 91, 'Eric': -66, 'Frank': -75, 'George': -99}}\n"
     ]
    }
   ],
   "source": [
    "# Import input as a .csv\n",
    "import pandas as pd\n",
    "\n",
    "df = pd.read_csv(r\"C:\\Users\\Jono\\Documents\\Python Scripts\\Day 13 Input.csv\")\n",
    "\n",
    "# Create list of lists containing each step of the input\n",
    "lst = []\n",
    "\n",
    "for row in df[\"Happiness\"]:\n",
    "    lst += [row.split(' ')]\n",
    "\n",
    "# Create a list of the guests\n",
    "guests = []\n",
    "\n",
    "for line in lst:\n",
    "    # print(line)\n",
    "    name = line[0]\n",
    "    if name not in guests:\n",
    "        guests += [name]\n",
    "\n",
    "# Create nested dictionary of information about who likes/dislikes sitting next to who\n",
    "register = {}\n",
    "\n",
    "# For every guest in turn\n",
    "for guest in guests:\n",
    "    \n",
    "    # Create a list of the other guests at the table\n",
    "    otherGuests = guests.copy()\n",
    "    otherGuests.remove(guest)\n",
    "    \n",
    "    # Add the guest as a key to the top level dictionary, with the related value being another empty sub-dictionary\n",
    "    register[guest] = {}\n",
    "    \n",
    "    # For each other guest at the table\n",
    "    for otherGuest in otherGuests:\n",
    "        # Read each entry in the list of instructions\n",
    "        for instruction in lst:\n",
    "            # And if that instruction relates to both the subject guest and the guest you're assessing them against\n",
    "            if instruction[0] == guest and instruction[-1] == (otherGuest + '.'):\n",
    "                # Check if they are unhappy, in which case add a negative value to the sub-dictionary\n",
    "                if instruction[2] == 'lose':\n",
    "                    register[guest][otherGuest] = int('-' + instruction[3])\n",
    "                # Check if they are happy, in which case add a negative value to the sub-dictionary\n",
    "                elif instruction[2] == 'gain':\n",
    "                    register[guest][otherGuest] = int(instruction[3])\n",
    "                # Just in case there is a typo\n",
    "                else:\n",
    "                    print('Recognition error in ' + str(step))\n",
    "\n",
    "print(register)"
   ]
  },
  {
   "cell_type": "code",
   "execution_count": 116,
   "metadata": {},
   "outputs": [],
   "source": [
    "# Work out all possible permutations of the seating arrangements\n",
    "import itertools\n",
    "\n",
    "options = []\n",
    "fullOptions = []\n",
    "\n",
    "# Create a list of all possible options\n",
    "options = list(itertools.permutations(guests, len(guests)))\n",
    "\n",
    "# Create a second list which adds the initial guest to the end of each entry, completing the circle\n",
    "for option in options:\n",
    "    fullOptions += [option + (option[0],)]"
   ]
  },
  {
   "cell_type": "code",
   "execution_count": 117,
   "metadata": {},
   "outputs": [
    {
     "name": "stdout",
     "output_type": "stream",
     "text": [
      "New best arrangement is ('Alice', 'Bob', 'Carol', 'David', 'Frank', 'Eric', 'George', 'Mallory', 'Alice')\n",
      "New best arrangement is ('Alice', 'Bob', 'Carol', 'David', 'George', 'Eric', 'Frank', 'Mallory', 'Alice')\n",
      "New best arrangement is ('Alice', 'Bob', 'Carol', 'David', 'Mallory', 'Frank', 'Eric', 'George', 'Alice')\n",
      "New best arrangement is ('Alice', 'Bob', 'Carol', 'Eric', 'Frank', 'George', 'David', 'Mallory', 'Alice')\n",
      "New best arrangement is ('Alice', 'Bob', 'Carol', 'Frank', 'David', 'Mallory', 'George', 'Eric', 'Alice')\n",
      "New best arrangement is ('Alice', 'Bob', 'Carol', 'Frank', 'Eric', 'George', 'David', 'Mallory', 'Alice')\n",
      "New best arrangement is ('Alice', 'Bob', 'Carol', 'Mallory', 'David', 'Frank', 'Eric', 'George', 'Alice')\n",
      "New best arrangement is ('Alice', 'Bob', 'Carol', 'Mallory', 'David', 'George', 'Frank', 'Eric', 'Alice')\n",
      "New best arrangement is ('Alice', 'Bob', 'Frank', 'Carol', 'Mallory', 'David', 'George', 'Eric', 'Alice')\n",
      "New best arrangement is ('Alice', 'Bob', 'Frank', 'Eric', 'George', 'Carol', 'Mallory', 'David', 'Alice')\n",
      "New best arrangement is ('Alice', 'Bob', 'George', 'Eric', 'Frank', 'Carol', 'Mallory', 'David', 'Alice')\n",
      "New best arrangement is ('Alice', 'David', 'Mallory', 'Carol', 'Frank', 'Eric', 'George', 'Bob', 'Alice')\n",
      "New best arrangement is ('Bob', 'Alice', 'David', 'Mallory', 'Carol', 'Frank', 'Eric', 'George', 'Bob')\n",
      "New best arrangement is ('Bob', 'George', 'Eric', 'Frank', 'Carol', 'Mallory', 'David', 'Alice', 'Bob')\n",
      "New best arrangement is ('Carol', 'Frank', 'Eric', 'George', 'Bob', 'Alice', 'David', 'Mallory', 'Carol')\n",
      "New best arrangement is ('Carol', 'Mallory', 'David', 'Alice', 'Bob', 'George', 'Eric', 'Frank', 'Carol')\n",
      "New best arrangement is ('David', 'Alice', 'Bob', 'George', 'Eric', 'Frank', 'Carol', 'Mallory', 'David')\n",
      "New best arrangement is ('David', 'Mallory', 'Carol', 'Frank', 'Eric', 'George', 'Bob', 'Alice', 'David')\n",
      "New best arrangement is ('Eric', 'Frank', 'Carol', 'Mallory', 'David', 'Alice', 'Bob', 'George', 'Eric')\n",
      "New best arrangement is ('Eric', 'George', 'Bob', 'Alice', 'David', 'Mallory', 'Carol', 'Frank', 'Eric')\n",
      "New best arrangement is ('Frank', 'Carol', 'Mallory', 'David', 'Alice', 'Bob', 'George', 'Eric', 'Frank')\n",
      "New best arrangement is ('Frank', 'Eric', 'George', 'Bob', 'Alice', 'David', 'Mallory', 'Carol', 'Frank')\n",
      "New best arrangement is ('George', 'Bob', 'Alice', 'David', 'Mallory', 'Carol', 'Frank', 'Eric', 'George')\n",
      "New best arrangement is ('George', 'Eric', 'Frank', 'Carol', 'Mallory', 'David', 'Alice', 'Bob', 'George')\n",
      "New best arrangement is ('Mallory', 'Carol', 'Frank', 'Eric', 'George', 'Bob', 'Alice', 'David', 'Mallory')\n",
      "New best arrangement is ('Mallory', 'David', 'Alice', 'Bob', 'George', 'Eric', 'Frank', 'Carol', 'Mallory')\n",
      "('Mallory', 'David', 'Alice', 'Bob', 'George', 'Eric', 'Frank', 'Carol', 'Mallory')\n",
      "664\n"
     ]
    }
   ],
   "source": [
    "# Set global variables for the current best arrangement and the respective score\n",
    "best_arrangement = []\n",
    "topScore = 0\n",
    "\n",
    "# Use a for loop to test all the possible options\n",
    "for option in fullOptions:\n",
    "\n",
    "    counter = 0\n",
    "    score = 0\n",
    "    \n",
    "    # Use a while loop to iterate through each option until the penultimate guest (remember, the last guest is the first guest again)\n",
    "    while counter <= len(guests) - 1:\n",
    "        \n",
    "        # For each guest around the table, add the score they and the next guest contribute (bi-directional)\n",
    "        score += register[option[counter]][option[counter + 1]]\n",
    "        score += register[option[counter + 1]][option[counter]]\n",
    "   \n",
    "        counter += 1\n",
    "    \n",
    "    # If the score at the end of the while loop is higher than the existing top score, make it the top score and save the arrangement\n",
    "    if score >= topScore:\n",
    "        topScore = score\n",
    "        best_arrangement = option\n",
    "        print('New best arrangement is ' + str(option))\n",
    "\n",
    "# Print the best arrangement and their score\n",
    "print(best_arrangement)\n",
    "print(topScore)"
   ]
  },
  {
   "cell_type": "markdown",
   "metadata": {},
   "source": [
    "# --- Part Two ---\n",
    "\n",
    "In all the commotion, you realize that you forgot to seat yourself. At this point, you're pretty apathetic toward the whole thing, and your happiness wouldn't really go up or down regardless of who you sit next to. You assume everyone else would be just as ambivalent about sitting next to you, too.\n",
    "\n",
    "So, add yourself to the list, and give all happiness relationships that involve you a score of 0.\n",
    "\n",
    "What is the total change in happiness for the optimal seating arrangement that actually includes yourself?"
   ]
  },
  {
   "cell_type": "code",
   "execution_count": 118,
   "metadata": {},
   "outputs": [
    {
     "name": "stdout",
     "output_type": "stream",
     "text": [
      "{'Alice': {'Bob': -2, 'Carol': -62, 'David': 65, 'Eric': 21, 'Frank': -81, 'George': -4, 'Mallory': -80, 'Jono': 0}, 'Bob': {'Alice': 93, 'Carol': 19, 'David': 5, 'Eric': 49, 'Frank': 68, 'George': 23, 'Mallory': 29, 'Jono': 0}, 'Carol': {'Alice': -54, 'Bob': -70, 'David': -37, 'Eric': -46, 'Frank': 33, 'George': -35, 'Mallory': 10, 'Jono': 0}, 'David': {'Alice': 43, 'Bob': -96, 'Carol': -53, 'Eric': -30, 'Frank': -12, 'George': 75, 'Mallory': -20, 'Jono': 0}, 'Eric': {'Alice': 8, 'Bob': -89, 'Carol': -69, 'David': -34, 'Frank': 95, 'George': 34, 'Mallory': -99, 'Jono': 0}, 'Frank': {'Alice': -97, 'Bob': 6, 'Carol': -9, 'David': 56, 'Eric': -17, 'George': 18, 'Mallory': -56, 'Jono': 0}, 'George': {'Alice': 45, 'Bob': 76, 'Carol': 63, 'David': 54, 'Eric': 54, 'Frank': 30, 'Mallory': 7, 'Jono': 0}, 'Mallory': {'Alice': 31, 'Bob': -32, 'Carol': 95, 'David': 91, 'Eric': -66, 'Frank': -75, 'George': -99, 'Jono': 0}, 'Jono': {'Alice': 0, 'Bob': 0, 'Carol': 0, 'David': 0, 'Eric': 0, 'Frank': 0, 'George': 0, 'Mallory': 0}}\n",
      "['Alice', 'Bob', 'Carol', 'David', 'Eric', 'Frank', 'George', 'Mallory', 'Jono']\n"
     ]
    }
   ],
   "source": [
    "# Add myself to the existing register\n",
    "\n",
    "for dic in register:\n",
    "    register[dic]['Jono'] = 0\n",
    "\n",
    "register['Jono'] = {}\n",
    "\n",
    "for guest in guests:\n",
    "    register['Jono'][guest] = 0\n",
    "\n",
    "guests.append('Jono')\n",
    "    \n",
    "print(register)\n",
    "print(guests)"
   ]
  },
  {
   "cell_type": "code",
   "execution_count": 119,
   "metadata": {},
   "outputs": [],
   "source": [
    "# Same as Part 1\n",
    "import itertools\n",
    "\n",
    "options = []\n",
    "fullOptions = []\n",
    "\n",
    "options = list(itertools.permutations(guests, len(guests)))\n",
    "\n",
    "for option in options:\n",
    "    fullOptions += [option + (option[0],)]"
   ]
  },
  {
   "cell_type": "code",
   "execution_count": 120,
   "metadata": {},
   "outputs": [
    {
     "name": "stdout",
     "output_type": "stream",
     "text": [
      "New best arrangement is ('Alice', 'Bob', 'Carol', 'David', 'Frank', 'Eric', 'George', 'Mallory', 'Jono', 'Alice')\n",
      "New best arrangement is ('Alice', 'Bob', 'Carol', 'David', 'Frank', 'Eric', 'George', 'Jono', 'Mallory', 'Alice')\n",
      "New best arrangement is ('Alice', 'Bob', 'Carol', 'David', 'George', 'Eric', 'Frank', 'Mallory', 'Jono', 'Alice')\n",
      "New best arrangement is ('Alice', 'Bob', 'Carol', 'David', 'George', 'Eric', 'Frank', 'Jono', 'Mallory', 'Alice')\n",
      "New best arrangement is ('Alice', 'Bob', 'Carol', 'David', 'Mallory', 'Jono', 'Frank', 'Eric', 'George', 'Alice')\n",
      "New best arrangement is ('Alice', 'Bob', 'Carol', 'Eric', 'Frank', 'George', 'David', 'Mallory', 'Jono', 'Alice')\n",
      "New best arrangement is ('Alice', 'Bob', 'Carol', 'Frank', 'David', 'George', 'Eric', 'Jono', 'Mallory', 'Alice')\n",
      "New best arrangement is ('Alice', 'Bob', 'Carol', 'Frank', 'David', 'Mallory', 'Jono', 'Eric', 'George', 'Alice')\n",
      "New best arrangement is ('Alice', 'Bob', 'Carol', 'Frank', 'Eric', 'George', 'David', 'Mallory', 'Jono', 'Alice')\n",
      "New best arrangement is ('Alice', 'Bob', 'Carol', 'Mallory', 'David', 'George', 'Eric', 'Frank', 'Jono', 'Alice')\n",
      "New best arrangement is ('Alice', 'Bob', 'Carol', 'Mallory', 'Jono', 'Frank', 'Eric', 'George', 'David', 'Alice')\n",
      "New best arrangement is ('Alice', 'Bob', 'Frank', 'Carol', 'Mallory', 'David', 'George', 'Eric', 'Jono', 'Alice')\n",
      "New best arrangement is ('Alice', 'Bob', 'Frank', 'Carol', 'Mallory', 'Jono', 'Eric', 'George', 'David', 'Alice')\n",
      "New best arrangement is ('Alice', 'Bob', 'Frank', 'Eric', 'George', 'David', 'Mallory', 'Carol', 'Jono', 'Alice')\n",
      "New best arrangement is ('Alice', 'Bob', 'George', 'Eric', 'Frank', 'Jono', 'Carol', 'Mallory', 'David', 'Alice')\n",
      "New best arrangement is ('Alice', 'David', 'Mallory', 'Carol', 'Jono', 'Frank', 'Eric', 'George', 'Bob', 'Alice')\n",
      "New best arrangement is ('Bob', 'Alice', 'David', 'Mallory', 'Carol', 'Jono', 'Frank', 'Eric', 'George', 'Bob')\n",
      "New best arrangement is ('Bob', 'George', 'Eric', 'Frank', 'Jono', 'Carol', 'Mallory', 'David', 'Alice', 'Bob')\n",
      "New best arrangement is ('Carol', 'Mallory', 'David', 'Alice', 'Bob', 'George', 'Eric', 'Frank', 'Jono', 'Carol')\n",
      "New best arrangement is ('Carol', 'Jono', 'Frank', 'Eric', 'George', 'Bob', 'Alice', 'David', 'Mallory', 'Carol')\n",
      "New best arrangement is ('David', 'Alice', 'Bob', 'George', 'Eric', 'Frank', 'Jono', 'Carol', 'Mallory', 'David')\n",
      "New best arrangement is ('David', 'Mallory', 'Carol', 'Jono', 'Frank', 'Eric', 'George', 'Bob', 'Alice', 'David')\n",
      "New best arrangement is ('Eric', 'Frank', 'Jono', 'Carol', 'Mallory', 'David', 'Alice', 'Bob', 'George', 'Eric')\n",
      "New best arrangement is ('Eric', 'George', 'Bob', 'Alice', 'David', 'Mallory', 'Carol', 'Jono', 'Frank', 'Eric')\n",
      "New best arrangement is ('Frank', 'Eric', 'George', 'Bob', 'Alice', 'David', 'Mallory', 'Carol', 'Jono', 'Frank')\n",
      "New best arrangement is ('Frank', 'Jono', 'Carol', 'Mallory', 'David', 'Alice', 'Bob', 'George', 'Eric', 'Frank')\n",
      "New best arrangement is ('George', 'Bob', 'Alice', 'David', 'Mallory', 'Carol', 'Jono', 'Frank', 'Eric', 'George')\n",
      "New best arrangement is ('George', 'Eric', 'Frank', 'Jono', 'Carol', 'Mallory', 'David', 'Alice', 'Bob', 'George')\n",
      "New best arrangement is ('Mallory', 'Carol', 'Jono', 'Frank', 'Eric', 'George', 'Bob', 'Alice', 'David', 'Mallory')\n",
      "New best arrangement is ('Mallory', 'David', 'Alice', 'Bob', 'George', 'Eric', 'Frank', 'Jono', 'Carol', 'Mallory')\n",
      "New best arrangement is ('Jono', 'Carol', 'Mallory', 'David', 'Alice', 'Bob', 'George', 'Eric', 'Frank', 'Jono')\n",
      "New best arrangement is ('Jono', 'Frank', 'Eric', 'George', 'Bob', 'Alice', 'David', 'Mallory', 'Carol', 'Jono')\n",
      "('Jono', 'Frank', 'Eric', 'George', 'Bob', 'Alice', 'David', 'Mallory', 'Carol', 'Jono')\n",
      "640\n"
     ]
    }
   ],
   "source": [
    "best_arrangement = []\n",
    "topScore = 0\n",
    "\n",
    "for option in fullOptions:\n",
    "\n",
    "    counter = 0\n",
    "    score = 0\n",
    "\n",
    "    while counter <= len(guests) - 1:\n",
    "                       \n",
    "        score += register[option[counter]][option[counter + 1]]\n",
    "        score += register[option[counter + 1]][option[counter]]\n",
    "   \n",
    "        counter += 1\n",
    "    \n",
    "    if score >= topScore:\n",
    "        topScore = score\n",
    "        best_arrangement = option\n",
    "        print('New best arrangement is ' + str(option))\n",
    "\n",
    "print(best_arrangement)\n",
    "print(topScore)"
   ]
  },
  {
   "cell_type": "code",
   "execution_count": null,
   "metadata": {},
   "outputs": [],
   "source": []
  }
 ],
 "metadata": {
  "kernelspec": {
   "display_name": "Python 3",
   "language": "python",
   "name": "python3"
  },
  "language_info": {
   "codemirror_mode": {
    "name": "ipython",
    "version": 3
   },
   "file_extension": ".py",
   "mimetype": "text/x-python",
   "name": "python",
   "nbconvert_exporter": "python",
   "pygments_lexer": "ipython3",
   "version": "3.8.8"
  }
 },
 "nbformat": 4,
 "nbformat_minor": 4
}
