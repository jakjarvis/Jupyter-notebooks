{
 "cells": [
  {
   "cell_type": "code",
   "execution_count": null,
   "id": "dbe9fcb6",
   "metadata": {},
   "outputs": [],
   "source": [
    "\n",
    "        # Add the guest as a key to the top level dictionary, with the related value being another empty sub-dictionary\n",
    "        register[guest] = {}\n",
    "\n",
    "        # For each other guest at the table\n",
    "        for otherGuest in otherGuests:\n",
    "            # Read each entry in the list of instructions\n",
    "            for instruction in input_list:\n",
    "                # And if that instruction relates to both the subject guest and the guest you're assessing them against\n",
    "                if instruction[0] == guest and instruction[-1] == (otherGuest + '.'):\n",
    "                    # Check if they are unhappy, in which case add a negative value to the sub-dictionary\n",
    "                    if instruction[2] == 'lose':\n",
    "                        register[guest][otherGuest] = int('-' + instruction[3])\n",
    "                    # Check if they are happy, in which case add a negative value to the sub-dictionary\n",
    "                    elif instruction[2] == 'gain':\n",
    "                        register[guest][otherGuest] = int(instruction[3])\n",
    "                    # Just in case there is a typo\n",
    "                    else:\n",
    "                        print('Recognition error in ' + str(step))\n",
    "\n",
    "        options = []\n",
    "        fullOptions = []\n",
    "\n",
    "        # Create a list of all possible options\n",
    "        options = list(itertools.permutations(guests, len(guests)))\n",
    "\n",
    "        # Create a second list which adds the initial guest to the end of each entry, completing the circle\n",
    "        for option in options:\n",
    "            fullOptions += [option + (option[0],)]\n",
    "\n",
    "        # Set global variables for the current best arrangement and the respective score\n",
    "        best_arrangement = []\n",
    "        topScore = 0\n",
    "\n",
    "        # Use a for loop to test all the possible options\n",
    "        for option in fullOptions:\n",
    "            counter = 0\n",
    "        score = 0\n",
    "\n",
    "        # Use a while loop to iterate through each option until the penultimate guest (remember, the last guest is the first guest again)\n",
    "        while counter <= len(guests) - 1:\n",
    "            # For each guest around the table, add the score they and the next guest contribute (bi-directional)\n",
    "            score += register[option[counter]][option[counter + 1]]\n",
    "            score += register[option[counter + 1]][option[counter]]\n",
    "\n",
    "            counter += 1\n",
    "\n",
    "        # If the score at the end of the while loop is higher than the existing top score, make it the top score and save the arrangement\n",
    "        if score >= topScore:\n",
    "             topScore = score\n",
    "             best_arrangement = option\n",
    "             print('New best arrangement is ' + str(option))\n"
   ]
  }
 ],
 "metadata": {
  "kernelspec": {
   "display_name": "Python 3",
   "language": "python",
   "name": "python3"
  },
  "language_info": {
   "codemirror_mode": {
    "name": "ipython",
    "version": 3
   },
   "file_extension": ".py",
   "mimetype": "text/x-python",
   "name": "python",
   "nbconvert_exporter": "python",
   "pygments_lexer": "ipython3",
   "version": "3.8.8"
  }
 },
 "nbformat": 4,
 "nbformat_minor": 5
}
