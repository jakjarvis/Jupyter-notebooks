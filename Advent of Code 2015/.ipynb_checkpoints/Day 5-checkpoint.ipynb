{
 "cells": [
  {
   "cell_type": "markdown",
   "metadata": {},
   "source": [
    "# --- Day 5: Doesn't He Have Intern-Elves For This? ---\n",
    "\n",
    "Santa needs help figuring out which strings in his text file are naughty or nice.\n",
    "\n",
    "A nice string is one with all of the following properties:\n",
    "\n",
    "It contains at least three vowels (aeiou only), like aei, xazegov, or aeiouaeiouaeiou.\n",
    "It contains at least one letter that appears twice in a row, like xx, abcdde (dd), or aabbccdd (aa, bb, cc, or dd).\n",
    "It does not contain the strings ab, cd, pq, or xy, even if they are part of one of the other requirements.\n",
    "For example:\n",
    "\n",
    "ugknbfddgicrmopn is nice because it has at least three vowels (u...i...o...), a double letter (...dd...), and none of the disallowed substrings.\n",
    "aaa is nice because it has at least three vowels and a double letter, even though the letters used by different rules overlap.\n",
    "jchzalrnumimnmhp is naughty because it has no double letter.\n",
    "haegwjzuvuyypxyu is naughty because it contains the string xy.\n",
    "dvszwmarrgswjxmb is naughty because it contains only one vowel.\n",
    "\n",
    "How many strings are nice?"
   ]
  },
  {
   "cell_type": "code",
   "execution_count": 9,
   "metadata": {},
   "outputs": [],
   "source": [
    "# Define test word\n",
    "word = 'abcdeffghi'"
   ]
  },
  {
   "cell_type": "code",
   "execution_count": 10,
   "metadata": {},
   "outputs": [],
   "source": [
    "# Read input\n",
    "import pandas as pd\n",
    "df = pd.read_csv(r\"C:\\Users\\Jono\\Documents\\Python Scripts\\Day 5 Input.csv\")\n",
    "\n",
    "lst = []\n",
    "\n",
    "for row in df[\"Words\"]:\n",
    "    lst.append(row)"
   ]
  },
  {
   "cell_type": "code",
   "execution_count": 11,
   "metadata": {},
   "outputs": [],
   "source": [
    "# Define a function to count vowels and return if there are >= 3:\n",
    "def countvowels(word):\n",
    "    \n",
    "    vowels = False\n",
    "    \n",
    "    a = word.count('a')\n",
    "    e = word.count('e')\n",
    "    i = word.count('i')\n",
    "    o = word.count('o')\n",
    "    u = word.count('u')\n",
    "\n",
    "    if (a+e+i+o+u) >=3:\n",
    "        vowels = True\n",
    "    else:\n",
    "        vowels = False\n",
    "    \n",
    "    return vowels"
   ]
  },
  {
   "cell_type": "code",
   "execution_count": 12,
   "metadata": {},
   "outputs": [
    {
     "name": "stdout",
     "output_type": "stream",
     "text": [
      "True\n"
     ]
    }
   ],
   "source": [
    "# Test function\n",
    "vowels = countvowels(word)\n",
    "print(vowels)"
   ]
  },
  {
   "cell_type": "code",
   "execution_count": 13,
   "metadata": {},
   "outputs": [],
   "source": [
    "# Create a function to parse the string and check each letter against it's next\n",
    "def countdups(word):\n",
    "\n",
    "    counter = 0\n",
    "    dups = False\n",
    "    a = ''\n",
    "\n",
    "    for char in word:\n",
    "        if char == a:\n",
    "            dups = True\n",
    "    \n",
    "        a = char\n",
    "    \n",
    "    return dups"
   ]
  },
  {
   "cell_type": "code",
   "execution_count": 14,
   "metadata": {},
   "outputs": [
    {
     "name": "stdout",
     "output_type": "stream",
     "text": [
      "True\n"
     ]
    }
   ],
   "source": [
    "# Test function\n",
    "dups = countdups(word)\n",
    "print(dups)"
   ]
  },
  {
   "cell_type": "code",
   "execution_count": 15,
   "metadata": {},
   "outputs": [],
   "source": [
    "# Create a function with if and or's to check for banned pairs\n",
    "def checksubs(word):\n",
    "    \n",
    "    subs = False\n",
    "    \n",
    "    if \"ab\" in word or \"cd\" in word or \"pq\" in word or \"xy\" in word:\n",
    "        subs = True\n",
    "        \n",
    "    return subs\n",
    "        "
   ]
  },
  {
   "cell_type": "code",
   "execution_count": 16,
   "metadata": {},
   "outputs": [
    {
     "name": "stdout",
     "output_type": "stream",
     "text": [
      "True\n"
     ]
    }
   ],
   "source": [
    "# Test function\n",
    "subs = checksubs(word)\n",
    "print(subs)"
   ]
  },
  {
   "cell_type": "code",
   "execution_count": 17,
   "metadata": {},
   "outputs": [
    {
     "name": "stdout",
     "output_type": "stream",
     "text": [
      "236\n"
     ]
    }
   ],
   "source": [
    "counter = 0\n",
    "\n",
    "# Loop through list and apply functions\n",
    "for entry in lst:\n",
    "    vowels = countvowels(entry)\n",
    "    dups = countdups(entry)\n",
    "    subs = checksubs(entry)\n",
    "    \n",
    "    # If all tests are good, increase the counter\n",
    "    if vowels == True and dups == True and subs == False:\n",
    "        counter = counter +1\n",
    "\n",
    "# Answer!\n",
    "print(counter)"
   ]
  },
  {
   "cell_type": "markdown",
   "metadata": {},
   "source": [
    "# Part 2\n",
    "\n",
    "Realizing the error of his ways, Santa has switched to a better model of determining whether a string is naughty or nice. None of the old rules apply, as they are all clearly ridiculous.\n",
    "\n",
    "Now, a nice string is one with all of the following properties:\n",
    "\n",
    "It contains a pair of any two letters that appears at least twice in the string without overlapping, like xyxy (xy) or aabcdefgaa (aa), but not like aaa (aa, but it overlaps).\n",
    "It contains at least one letter which repeats with exactly one letter between them, like xyx, abcdefeghi (efe), or even aaa.\n",
    "For example:\n",
    "\n",
    "qjhvhtzxzqqjkmpb is nice because is has a pair that appears twice (qj) and a letter that repeats with exactly one letter between them (zxz).\n",
    "xxyxx is nice because it has a pair that appears twice and a letter that repeats with one between, even though the letters used by each rule overlap.\n",
    "uurcxstgmygtbstg is naughty because it has a pair (tg) but no repeat with a single letter between them.\n",
    "ieodomkazucvgmuy is naughty because it has a repeating letter with one between (odo), but no pair that appears twice.\n",
    "\n",
    "How many strings are nice under these new rules?"
   ]
  },
  {
   "cell_type": "code",
   "execution_count": 18,
   "metadata": {},
   "outputs": [],
   "source": [
    "# Define a test word\n",
    "word = 'abugglgsssskbjzjg'"
   ]
  },
  {
   "cell_type": "code",
   "execution_count": 35,
   "metadata": {},
   "outputs": [],
   "source": [
    "# Create a function for double pairs using string.count(substring) for first 2 values (write first 2 values as a string)\n",
    "\n",
    "def doublepair(word):\n",
    "\n",
    "    n = len(word)\n",
    "    c = len(word)\n",
    "    dubs = False\n",
    "\n",
    "    for a in word:\n",
    "        # Define what each pair looks like\n",
    "        pair = a + word[(1+n-c)]\n",
    "        b = word.count(pair)\n",
    "        # Define what a triple of that letter would look like (to check you don't have aaa looking like 2 pairs)\n",
    "        trip = a + a + a\n",
    "        d = word.count(trip)\n",
    "        # Define what a quadruple would look like, so you don't accidentally rule out a bbbb)\n",
    "        quad = a + a + a + a\n",
    "        p = word.count(quad)\n",
    "        \n",
    "        # Check if there are 2 more pairs than triples, or there is a quadruple\n",
    "        if p >= 1 or b - d >=2:\n",
    "            dubs = True\n",
    "            break\n",
    "        \n",
    "        c = c-1\n",
    "        \n",
    "        if c<=1:\n",
    "            break\n",
    "\n",
    "    return dubs   "
   ]
  },
  {
   "cell_type": "code",
   "execution_count": 36,
   "metadata": {
    "scrolled": true
   },
   "outputs": [
    {
     "name": "stdout",
     "output_type": "stream",
     "text": [
      "True\n"
     ]
    }
   ],
   "source": [
    "# Test function\n",
    "dubs = doublepair(word)\n",
    "print(dubs)"
   ]
  },
  {
   "cell_type": "code",
   "execution_count": 37,
   "metadata": {},
   "outputs": [],
   "source": [
    "#Define function to check for a bridge letter\n",
    "def bridge(word):\n",
    "    \n",
    "    n = 2\n",
    "    l = len(word)\n",
    "    xyx = False\n",
    "    \n",
    "    for a in word:\n",
    "        \n",
    "        # Check if the letter in the for loop is the same as one 2 ahead\n",
    "        if a == word[n]:\n",
    "            xyx = True\n",
    "            break\n",
    "        \n",
    "        n = n+1\n",
    "        \n",
    "        if n == l:\n",
    "            break\n",
    "    \n",
    "    return xyx"
   ]
  },
  {
   "cell_type": "code",
   "execution_count": 38,
   "metadata": {},
   "outputs": [
    {
     "name": "stdout",
     "output_type": "stream",
     "text": [
      "True\n"
     ]
    }
   ],
   "source": [
    "# Test function\n",
    "xyx = bridge(word)\n",
    "print(xyx)"
   ]
  },
  {
   "cell_type": "code",
   "execution_count": 40,
   "metadata": {},
   "outputs": [
    {
     "name": "stdout",
     "output_type": "stream",
     "text": [
      "51\n"
     ]
    }
   ],
   "source": [
    "counter = 0\n",
    "\n",
    "# Run through entries and apply all functions again\n",
    "for entry in lst:\n",
    "    dubs = doublepair(entry)\n",
    "    xyx = bridge(entry)\n",
    "    \n",
    "    if dubs == True and xyx == True:\n",
    "        counter = counter +1\n",
    "    \n",
    "print(counter)"
   ]
  },
  {
   "cell_type": "code",
   "execution_count": null,
   "metadata": {},
   "outputs": [],
   "source": []
  }
 ],
 "metadata": {
  "kernelspec": {
   "display_name": "Python 3",
   "language": "python",
   "name": "python3"
  },
  "language_info": {
   "codemirror_mode": {
    "name": "ipython",
    "version": 3
   },
   "file_extension": ".py",
   "mimetype": "text/x-python",
   "name": "python",
   "nbconvert_exporter": "python",
   "pygments_lexer": "ipython3",
   "version": "3.8.5"
  }
 },
 "nbformat": 4,
 "nbformat_minor": 4
}
