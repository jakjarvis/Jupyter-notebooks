{
 "cells": [
  {
   "cell_type": "markdown",
   "metadata": {},
   "source": [
    "# --- Day 15: Science for Hungry People ---\n",
    "\n",
    "Today, you set out on the task of perfecting your milk-dunking cookie recipe. All you have to do is find the right balance of ingredients.\n",
    "\n",
    "Your recipe leaves room for exactly 100 teaspoons of ingredients. You make a list of the remaining ingredients you could use to finish the recipe (your puzzle input) and their properties per teaspoon:\n",
    "\n",
    "- capacity (how well it helps the cookie absorb milk)\n",
    "- durability (how well it keeps the cookie intact when full of milk)\n",
    "- flavor (how tasty it makes the cookie)\n",
    "- texture (how it improves the feel of the cookie)\n",
    "- calories (how many calories it adds to the cookie)\n",
    "\n",
    "You can only measure ingredients in whole-teaspoon amounts accurately, and you have to be accurate so you can reproduce your results in the future. The total score of a cookie can be found by adding up each of the properties (negative totals become 0) and then multiplying together everything except calories.\n",
    "\n",
    "For instance, suppose you have these two ingredients:\n",
    "\n",
    "- Butterscotch: capacity -1, durability -2, flavor 6, texture 3, calories 8\n",
    "- Cinnamon: capacity 2, durability 3, flavor -2, texture -1, calories 3\n",
    "\n",
    "Then, choosing to use 44 teaspoons of butterscotch and 56 teaspoons of cinnamon (because the amounts of each ingredient must add up to 100) would result in a cookie with the following properties:\n",
    "\n",
    "- A capacity of 44x-1 + 56x2 = 68\n",
    "- A durability of 44x-2 + 56x3 = 80\n",
    "- A flavor of 44x6 + 56*x2 = 152\n",
    "- A texture of 44x3 + 56x-1 = 76\n",
    "\n",
    "Multiplying these together (68 * 80 * 152 * 76, ignoring calories for now) results in a total score of 62842880, which happens to be the best score possible given these ingredients. If any properties had produced a negative total, it would have instead become zero, causing the whole score to multiply to zero.\n",
    "\n",
    "Given the ingredients in your kitchen and their properties, what is the total score of the highest-scoring cookie you can make?"
   ]
  },
  {
   "cell_type": "code",
   "execution_count": 2,
   "metadata": {},
   "outputs": [
    {
     "name": "stdout",
     "output_type": "stream",
     "text": [
      "[['Sprinkles:', 'capacity', '2,', 'durability', '0,', 'flavor', '-2,', 'texture', '0,', 'calories', '3'], ['Butterscotch:', 'capacity', '0,', 'durability', '5,', 'flavor', '-3,', 'texture', '0,', 'calories', '3'], ['Chocolate:', 'capacity', '0,', 'durability', '0,', 'flavor', '5,', 'texture', '-1,', 'calories', '8'], ['Candy:', 'capacity', '0,', 'durability', '-1,', 'flavor', '0,', 'texture', '5,', 'calories', '8', '']]\n",
      "   Calories  Capacity  Durability  Flavor           Name  Texture\n",
      "0       3.0       2.0         0.0    -2.0     Sprinkles:      0.0\n",
      "1       3.0       0.0         5.0    -3.0  Butterscotch:      0.0\n",
      "2       8.0       0.0         0.0     5.0     Chocolate:     -1.0\n",
      "3       8.0       0.0        -1.0     0.0         Candy:      5.0\n"
     ]
    }
   ],
   "source": [
    "import pandas as pd\n",
    "import re\n",
    "\n",
    "df = pd.read_csv(r'C:\\Users\\Jono\\Documents\\Python Scripts\\Day 15 Input.csv')\n",
    "\n",
    "inpt = []\n",
    "\n",
    "for row in df[\"Ingredient\"]:\n",
    "    inpt += [row.split(' ')]\n",
    "\n",
    "print(inpt)\n",
    "\n",
    "# Create new dataframe with relevent information\n",
    "data = pd.DataFrame()\n",
    "\n",
    "for line in inpt:\n",
    "    data = data.append({'Name':line[0], 'Capacity':int(re.sub(\"[^\\d\\-]\", \"\", line[2])), 'Durability':int(re.sub(\"[^\\d\\-]\", \"\", line[4])), 'Flavor':int(re.sub(\"[^\\d\\-]\", \"\", line[6])), 'Texture':int(re.sub(\"[^\\d\\-]\", \"\", line[8])), 'Calories':int(re.sub(\"[^\\d\\-]\", \"\", line[10]))}, ignore_index=True)\n",
    "    \n",
    "print(data)"
   ]
  },
  {
   "cell_type": "code",
   "execution_count": 5,
   "metadata": {},
   "outputs": [
    {
     "name": "stdout",
     "output_type": "stream",
     "text": [
      "['Sprinkles:', 'Butterscotch:', 'Chocolate:', 'Candy:']\n"
     ]
    }
   ],
   "source": [
    "# Create a list of attributes\n",
    "attributes = list(data.columns.values)\n",
    "attributes.remove('Name')\n",
    "attributes.remove('Calories')\n",
    "\n",
    "# Create a list of ingredients\n",
    "ingredients = data['Name'].tolist() \n",
    "print(ingredients)"
   ]
  },
  {
   "cell_type": "code",
   "execution_count": 8,
   "metadata": {},
   "outputs": [
    {
     "name": "stdout",
     "output_type": "stream",
     "text": [
      "1\n"
     ]
    }
   ],
   "source": [
    "# Create a list of all possible combinations - this way is veeeery computationally heavy, try something new!\n",
    "from itertools import combinations_with_replacement\n",
    "\n",
    "combos = []\n",
    "blankEntry = {}\n",
    "\n",
    "for item in ingredients:\n",
    "    blankEntry[item] = 0 \n",
    "\n",
    "counter = 0\n",
    "\n",
    "for combo in combinations_with_replacement(ingredients, 100):\n",
    "    entry = []\n",
    "    for i in combo:\n",
    "        blankEntry[i] += 1\n",
    "    \n",
    "    if entry not in combos:\n",
    "        combos += [entry]\n",
    "    \n",
    "    counter += 1\n",
    "    if counter % 1000000 == 0:\n",
    "        print(counter)\n",
    "        \n",
    "print(len(combos))"
   ]
  },
  {
   "cell_type": "code",
   "execution_count": 116,
   "metadata": {},
   "outputs": [
    {
     "ename": "AttributeError",
     "evalue": "'Solver' object has no attribute 'AddMultiplicationEquality'",
     "output_type": "error",
     "traceback": [
      "\u001b[1;31m---------------------------------------------------------------------------\u001b[0m",
      "\u001b[1;31mAttributeError\u001b[0m                            Traceback (most recent call last)",
      "\u001b[1;32m<ipython-input-116-4e4b559f673d>\u001b[0m in \u001b[0;36m<module>\u001b[1;34m\u001b[0m\n\u001b[0;32m     24\u001b[0m \u001b[1;33m\u001b[0m\u001b[0m\n\u001b[0;32m     25\u001b[0m \u001b[0mscore\u001b[0m \u001b[1;33m=\u001b[0m \u001b[0msolver\u001b[0m\u001b[1;33m.\u001b[0m\u001b[0mIntVar\u001b[0m\u001b[1;33m(\u001b[0m\u001b[1;36m0\u001b[0m\u001b[1;33m,\u001b[0m \u001b[0minfinity\u001b[0m\u001b[1;33m,\u001b[0m \u001b[1;34m'score'\u001b[0m\u001b[1;33m)\u001b[0m\u001b[1;33m\u001b[0m\u001b[1;33m\u001b[0m\u001b[0m\n\u001b[1;32m---> 26\u001b[1;33m \u001b[0msolver\u001b[0m\u001b[1;33m.\u001b[0m\u001b[0mAddMultiplicationEquality\u001b[0m\u001b[1;33m(\u001b[0m\u001b[0mscore\u001b[0m \u001b[1;33m==\u001b[0m \u001b[1;36m1\u001b[0m \u001b[1;33m*\u001b[0m \u001b[0mcapacity\u001b[0m\u001b[1;33m)\u001b[0m\u001b[1;33m\u001b[0m\u001b[1;33m\u001b[0m\u001b[0m\n\u001b[0m\u001b[0;32m     27\u001b[0m \u001b[1;33m\u001b[0m\u001b[0m\n\u001b[0;32m     28\u001b[0m \u001b[1;33m\u001b[0m\u001b[0m\n",
      "\u001b[1;31mAttributeError\u001b[0m: 'Solver' object has no attribute 'AddMultiplicationEquality'"
     ]
    }
   ],
   "source": [
    "from ortools.linear_solver import pywraplp\n",
    "\n",
    "# Create the linear solver with the GLOP backend.\n",
    "solver = pywraplp.Solver.CreateSolver('GLOP')\n",
    "\n",
    "infinity = solver.infinity()\n",
    "# Create the variables\n",
    "sprinkles = solver.IntVar(0, infinity, 'sprinkles')\n",
    "butterscotch = solver.IntVar(0, infinity, 'butterscotch')\n",
    "chocolate = solver.IntVar(0, infinity, 'chocolate')\n",
    "candy = solver.IntVar(0, infinity, 'candy')\n",
    "\n",
    "capacity = solver.IntVar(0, infinity, 'capacity')\n",
    "solver.Add(capacity == 2 * sprinkles)\n",
    "\n",
    "durability = solver.IntVar(0, 1000, 'durability')\n",
    "solver.Add(durability == 5 * butterscotch - candy)\n",
    "\n",
    "flavor = solver.IntVar(0, 1000, 'flavor')\n",
    "solver.Add(flavor == 5 * chocolate - 2 * sprinkles - 3 * butterscotch)\n",
    "\n",
    "texture = solver.IntVar(0, 1000, 'texture')\n",
    "solver.Add(texture == 5 * candy - chocolate)\n",
    "\n",
    "score = solver.IntVar(0, infinity, 'score')\n",
    "solver.AddMultiplicationEquality(score == 1 * capacity)\n",
    "\n",
    "\n",
    "print('Number of variables =', solver.NumVariables())\n",
    "\n",
    "# Create a linear constraint, all ingredients add to 100.\n",
    "\n",
    "ctTotal = solver.Constraint(100, 100, 'ctTotal')\n",
    "ctTotal.SetCoefficient(sprinkles, 1)\n",
    "ctTotal.SetCoefficient(butterscotch, 1)\n",
    "ctTotal.SetCoefficient(chocolate, 1)\n",
    "ctTotal.SetCoefficient(candy, 1)\n",
    "\n",
    "# Create a linear constraint, capacity sum >= 0.\n",
    "ctCap = solver.Constraint(0, 1000, 'ctCap')\n",
    "ctCap.SetCoefficient(sprinkles, 2)\n",
    "ctCap.SetCoefficient(butterscotch, 0)\n",
    "ctCap.SetCoefficient(chocolate, 0)\n",
    "ctCap.SetCoefficient(candy, 0)\n",
    "\n",
    "# Create a linear constraint, durability sum >= 0.\n",
    "ctDur = solver.Constraint(0, 1000, 'ctDur')\n",
    "ctDur.SetCoefficient(sprinkles, 0)\n",
    "ctDur.SetCoefficient(butterscotch, 5)\n",
    "ctDur.SetCoefficient(chocolate, 0)\n",
    "ctDur.SetCoefficient(candy, -1)\n",
    "\n",
    "# Create a linear constraint, flavor sum >= 0.\n",
    "ctFla = solver.Constraint(0, 1000, 'ctFla')\n",
    "ctFla.SetCoefficient(sprinkles, -2)\n",
    "ctFla.SetCoefficient(butterscotch, -3)\n",
    "ctFla.SetCoefficient(chocolate, 5)\n",
    "ctFla.SetCoefficient(candy, 0)\n",
    "\n",
    "# Create a linear constraint, texture sum >= 0.\n",
    "ctTex = solver.Constraint(0, 1000, 'ctTex')\n",
    "ctTex.SetCoefficient(sprinkles, 0)\n",
    "ctTex.SetCoefficient(butterscotch, 0)\n",
    "ctTex.SetCoefficient(chocolate, -1)\n",
    "ctTex.SetCoefficient(candy, 5)\n",
    "\n",
    "cap = solver\n",
    "\n",
    "print('Number of constraints =', solver.NumConstraints())\n",
    "\n",
    "# Create the objective function\n",
    "\n",
    "# capacity = 2 * sprinkles + 0 * butterscotch + -2 * chocolate + 0 * candy\n",
    "# durability = 0 * sprinkles + 5 * butterscotch + -3 * chocolate + 0 * candy\n",
    "# flavor = 0 * sprinkles + 0 * butterscotch + 5 * chocolate + -1 * candy\n",
    "# texture = 0 * sprinkles + -1 * butterscotch + 0 * chocolate + 5 * candy\n",
    "\n",
    "# solver.Maximize(capacity * durability * flavor * texture)\n",
    "    \n",
    "# solver.Maximize((2 * sprinkles - 2 * chocolate) * (5 * butterscotch - 3 * chocolate) * (5 * chocolate - 1 * candy) * (-1 * butterscotch 5 * candy))\n",
    "\n",
    "objective = solver.Objective()\n",
    "objective.SetCoefficient(score, 1)\n",
    "objective.SetMaximization()\n",
    "\n",
    "print('Solution:')\n",
    "print('Objective value =', objective.Value())\n",
    "print('sprinkles =', sprinkles.solution_value())\n",
    "print('butterscotch =', butterscotch.solution_value())\n",
    "print('chocolate =', chocolate.solution_value())\n",
    "print('candy =', candy.solution_value())\n",
    "\n",
    "print('\\nAdvanced usage:')\n",
    "print('Problem solved in %f milliseconds' % solver.wall_time())\n",
    "print('Problem solved in %d iterations' % solver.iterations())\n",
    "print('Problem solved in %d branch-and-bound nodes' % solver.nodes())"
   ]
  },
  {
   "cell_type": "code",
   "execution_count": null,
   "metadata": {},
   "outputs": [],
   "source": [
    "capacity = 2 * sprinkles + 0 * butterscotch + -2 * chocolate + 0 * candy\n",
    "durability = 0 * sprinkles + 5 * butterscotch + -3 * chocolate + 0 * candy\n",
    "flavor = 0 * sprinkles + 0 * butterscotch + 5 * chocolate + -1 * candy\n",
    "texture = 0 * sprinkles + -1 * butterscotch + 0 * chocolate + 5 * candy"
   ]
  }
 ],
 "metadata": {
  "kernelspec": {
   "display_name": "Python 3",
   "language": "python",
   "name": "python3"
  },
  "language_info": {
   "codemirror_mode": {
    "name": "ipython",
    "version": 3
   },
   "file_extension": ".py",
   "mimetype": "text/x-python",
   "name": "python",
   "nbconvert_exporter": "python",
   "pygments_lexer": "ipython3",
   "version": "3.8.5"
  }
 },
 "nbformat": 4,
 "nbformat_minor": 4
}
