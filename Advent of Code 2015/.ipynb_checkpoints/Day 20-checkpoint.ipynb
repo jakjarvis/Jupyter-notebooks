{
 "cells": [
  {
   "cell_type": "markdown",
   "metadata": {},
   "source": [
    "# --- Day 20: Infinite Elves and Infinite Houses ---\n",
    "\n",
    "To keep the Elves busy, Santa has them deliver some presents by hand, door-to-door. He sends them down a street with infinite houses numbered sequentially: 1, 2, 3, 4, 5, and so on.\n",
    "\n",
    "Each Elf is assigned a number, too, and delivers presents to houses based on that number:\n",
    "\n",
    "- The first Elf (number 1) delivers presents to every house: 1, 2, 3, 4, 5, ....\n",
    "- The second Elf (number 2) delivers presents to every second house: 2, 4, 6, 8, 10, ....\n",
    "- Elf number 3 delivers presents to every third house: 3, 6, 9, 12, 15, ....\n",
    "\n",
    "There are infinitely many Elves, numbered starting with 1. Each Elf delivers presents equal to ten times his or her number at each house.\n",
    "\n",
    "So, the first nine houses on the street end up like this:\n",
    "\n",
    "- House 1 got 10 presents.\n",
    "- House 2 got 30 presents.\n",
    "- House 3 got 40 presents.\n",
    "- House 4 got 70 presents.\n",
    "- House 5 got 60 presents.\n",
    "- House 6 got 120 presents.\n",
    "- House 7 got 80 presents.\n",
    "- House 8 got 150 presents.\n",
    "- House 9 got 130 presents.\n",
    "\n",
    "The first house gets 10 presents: it is visited only by Elf 1, which delivers 1 * 10 = 10 presents. The fourth house gets 70 presents, because it is visited by Elves 1, 2, and 4, for a total of 10 + 20 + 40 = 70 presents.\n",
    "\n",
    "What is the lowest house number of the house to get at least as many presents as the number in your puzzle input?\n",
    "\n",
    "Your puzzle input is 36000000."
   ]
  },
  {
   "cell_type": "code",
   "execution_count": 21,
   "metadata": {},
   "outputs": [
    {
     "name": "stdout",
     "output_type": "stream",
     "text": [
      "House 100000 gets 2460780 presents.\n",
      "House 200000 gets 4960620 presents.\n",
      "House 300000 gets 9843120 presents.\n",
      "House 400000 gets 9960300 presents.\n",
      "House 500000 gets 12304530 presents.\n",
      "House 600000 gets 19842480 presents.\n",
      "House 700000 gets 19686240 presents.\n",
      "House 800000 gets 19959660 presents.\n",
      "First house is 831600\n"
     ]
    }
   ],
   "source": [
    "# Using a for loop for each house, determine it's integer roots, sem them and times by 10. If it is > input, answer!\n",
    "\n",
    "# Set variables and import sqrt function\n",
    "from math import sqrt \n",
    "answer = 36000000\n",
    "house = 1\n",
    "presents = 0\n",
    "elves = []\n",
    "\n",
    "# Use a while loop to keep checking new houses until one has recieved enough presents\n",
    "while presents <= answer:\n",
    "    # Use a for loop to check if each elf delivers to that house (if they are a root). As roots come in pairs,\n",
    "    # save memory by just checking up to the square root of the house number, then finding the corresponding pairs.\n",
    "    for elf in range(1, int(sqrt(house)) + 1):\n",
    "        # If house house number is divisible by the elf number wothout remainder, at it and it's pair to a list\n",
    "        if house % elf == 0:\n",
    "            elves += elf, int(house/elf)\n",
    "    # Remove duplicate instances and sum the list x10 to find the number of presents\n",
    "    elves = list(set(elves))\n",
    "    presents = sum(elves) * 10\n",
    "    # If it is > the answer, hooray!\n",
    "    if presents >= answer:\n",
    "        print('First house is', house)\n",
    "    # Otherwise print an occosional progress check, reset vairables and try again\n",
    "    else:\n",
    "        if house % 100000 == 0:\n",
    "            print('House', house, 'gets', presents, 'presents.')\n",
    "        house += 1\n",
    "        presents = 0\n",
    "        elves = []"
   ]
  },
  {
   "cell_type": "markdown",
   "metadata": {},
   "source": [
    "# --- Part Two ---\n",
    "\n",
    "The Elves decide they don't want to visit an infinite number of houses. Instead, each Elf will stop after delivering presents to 50 houses. To make up for it, they decide to deliver presents equal to eleven times their number at each house.\n",
    "\n",
    "With these changes, what is the new lowest house number of the house to get at least as many presents as the number in your puzzle input?"
   ]
  },
  {
   "cell_type": "code",
   "execution_count": 49,
   "metadata": {},
   "outputs": [
    {
     "name": "stdout",
     "output_type": "stream",
     "text": [
      "House 100000 gets 2644125 presents.\n",
      "House 200000 gets 5288250 presents.\n",
      "House 300000 gets 10393625 presents.\n",
      "House 400000 gets 10576500 presents.\n",
      "House 500000 gets 13220625 presents.\n",
      "House 600000 gets 20787250 presents.\n",
      "House 700000 gets 20653875 presents.\n",
      "House 800000 gets 21153000 presents.\n",
      "First house is 884520\n"
     ]
    }
   ],
   "source": [
    "# Like Part 1, except keep a register of how many times each elf has made a visit, \n",
    "# and when it is 50 or more dont add them to that houses list\n",
    "\n",
    "from math import sqrt \n",
    "answer = 36000000\n",
    "house = 1\n",
    "presents = 0\n",
    "elves = []\n",
    "visits = {}\n",
    "\n",
    "while presents <= answer:\n",
    "    for elf in range(1, int(sqrt(house)) + 1):\n",
    "        if house % elf == 0:            \n",
    "            if elf not in visits or visits[elf] <= 49:\n",
    "                elves.append(elf)\n",
    "                if elf not in visits:\n",
    "                    visits[elf] = 1\n",
    "                else:\n",
    "                    visits[elf] += 1                \n",
    "            if int(house/elf) not in visits or visits[int(house/elf)] <= 49 and house != elf:\n",
    "                elves.append(int(house/elf))\n",
    "                if int(house/elf) not in visits:\n",
    "                    visits[int(house/elf)] = 1\n",
    "                else:\n",
    "                    visits[int(house/elf)] += 1                \n",
    "    elves = list(set(elves))\n",
    "    presents = sum(elves) * 11\n",
    "    if presents >= answer:\n",
    "        print('First house is', house)\n",
    "    else:\n",
    "        if house % 100000 == 0:\n",
    "            print('House', house, 'gets', presents, 'presents.')\n",
    "        house += 1\n",
    "        presents = 0\n",
    "        elves = []"
   ]
  }
 ],
 "metadata": {
  "kernelspec": {
   "display_name": "Python 3",
   "language": "python",
   "name": "python3"
  },
  "language_info": {
   "codemirror_mode": {
    "name": "ipython",
    "version": 3
   },
   "file_extension": ".py",
   "mimetype": "text/x-python",
   "name": "python",
   "nbconvert_exporter": "python",
   "pygments_lexer": "ipython3",
   "version": "3.8.5"
  }
 },
 "nbformat": 4,
 "nbformat_minor": 4
}
