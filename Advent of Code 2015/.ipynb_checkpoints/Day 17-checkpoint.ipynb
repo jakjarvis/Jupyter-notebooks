{
 "cells": [
  {
   "cell_type": "markdown",
   "metadata": {},
   "source": [
    "# --- Day 17: No Such Thing as Too Much ---\n",
    "\n",
    "The elves bought too much eggnog again - 150 liters this time. To fit it all into your refrigerator, you'll need to move it into smaller containers. You take an inventory of the capacities of the available containers.\n",
    "\n",
    "For example, suppose you have containers of size 20, 15, 10, 5, and 5 liters. If you need to store 25 liters, there are four ways to do it:\n",
    "\n",
    "- 15 and 10\n",
    "- 20 and 5 (the first 5)\n",
    "- 20 and 5 (the second 5)\n",
    "- 15, 5, and 5\n",
    "\n",
    "Filling all containers entirely, how many different combinations of containers can exactly fit all 150 liters of eggnog?"
   ]
  },
  {
   "cell_type": "code",
   "execution_count": 3,
   "metadata": {},
   "outputs": [
    {
     "name": "stdout",
     "output_type": "stream",
     "text": [
      "{'a': 50, 'b': 48, 'c': 45, 'd': 44, 'e': 42, 'f': 41, 'g': 35, 'h': 35, 'i': 33, 'j': 30, 'k': 24, 'l': 20, 'm': 18, 'n': 18, 'o': 16, 'p': 14, 'q': 13, 'r': 13, 's': 6, 't': 1}\n"
     ]
    }
   ],
   "source": [
    "# Define input (simple this time so easier to just copy paste in rather than using an input csv)\n",
    "inpt = [33, 14, 18, 20, 45, 35, 16, 35, 1, 13, 18, 13, 50, 44, 48, 6, 24, 41, 30, 42]\n",
    "\n",
    "# Turn the input into a register of jugs, giving them a letter as key (this mainly helps to visualise), \n",
    "# sorted largest to smallest with a being the largest\n",
    "containers = {}\n",
    "for n in range(len(inpt)):\n",
    "    containers[chr(97 + n)] = sorted(inpt, reverse = True)[n]\n",
    "\n",
    "print(containers)"
   ]
  },
  {
   "cell_type": "code",
   "execution_count": 4,
   "metadata": {},
   "outputs": [],
   "source": [
    "# Create a recursive function to test combinations of the jugs\n",
    "    # Function uses containerDict - the full dictionary of all jugs\n",
    "    # It uses remainingDict - a dictionary of the jugs left to test (this prevents having to check combos more than once)\n",
    "    # It passes the list of the jugs in the current combination, combolist\n",
    "    # It appends them to a list of winning combos (winningCombos)\n",
    "def jugFiller(containerDict, remainingDict, comboList, winningCombos):\n",
    "    \n",
    "    # Run a for loop over remainingDict (which begins equal to containerDict when there are no jugs in the current \n",
    "    # combination)\n",
    "    for n in range(len(remainingDict)):\n",
    "        \n",
    "        # Add the next jug in the list of remaining jugs to the current combination\n",
    "        comboList.append(list(remainingDict.keys())[n])\n",
    "        ## print('Combo is ', str(comboList))\n",
    "        \n",
    "        # Creat a local variable to track the total capacity of the current combination of jugs (localTotal)\n",
    "        localTotal = 0     \n",
    "        for jug in comboList:\n",
    "            localTotal += containerDict.get(jug, None)        \n",
    "        ## print('Total score is ', localTotal)\n",
    "        \n",
    "        # If the total is 150 exactly, add it to the list of winning combos\n",
    "        if localTotal == 150:\n",
    "            winningCombos.append(comboList.copy())\n",
    "            ## print('Combo is a winner!')\n",
    "            ## print('Winning combos are ', str(winningCombos))        \n",
    "        \n",
    "        # If the combination is equal or greater tha 150, no further jugs are needed and the function should return to the \n",
    "        # level above to test the next jug in previous for loop. The last jug in the current combo should thus be removed.\n",
    "        if localTotal >= 150:\n",
    "            comboList.pop()\n",
    "        \n",
    "        # If the combination is less than 150 then we need to try adding another jug. The list of relevent jugs is determined\n",
    "        # from those later in the list (i.e. smaller) than the latest jug to be added. This ensures no duplicate combos.\n",
    "        else:\n",
    "            remainingDict = containerDict.copy()           \n",
    "            for x in range(97, ord(comboList[-1]) + 1):\n",
    "                del remainingDict[chr(x)]\n",
    "            # The function then recurs, passing the newly defined remainingDict so that the next for loop only cycles through\n",
    "            # jugs that have not been already used or tried.\n",
    "            winningCombos = jugFiller(containerDict, remainingDict, comboList, winningCombos)\n",
    "            # Once the recurring function has returned, we know all remaining combinations on top of the current combination\n",
    "            # has been tried, so we remove the last item, ready to return to the top of the for loop and try the next jug\n",
    "            comboList.pop()\n",
    "            # And we reset the remainingDict to what it was before\n",
    "            remainingDict = containerDict.copy()\n",
    "            if len(comboList) != 0:\n",
    "                for x in range(97, ord(comboList[-1]) + 1):\n",
    "                    del remainingDict[chr(x)]\n",
    "                     \n",
    "    return winningCombos"
   ]
  },
  {
   "cell_type": "code",
   "execution_count": 5,
   "metadata": {},
   "outputs": [
    {
     "name": "stdout",
     "output_type": "stream",
     "text": [
      "Number of winning combos is  1304\n"
     ]
    }
   ],
   "source": [
    "# Launch the function, using the containier list from the start, remaining equal to containers and both lists empty\n",
    "remaining = containers.copy()\n",
    "combo = []\n",
    "winners = []\n",
    "totalWinners = jugFiller(containers, remaining, combo, winners)\n",
    "\n",
    "# The length of the resulting list is the answer!\n",
    "print('Number of winning combos is ', len(totalWinners))"
   ]
  },
  {
   "cell_type": "markdown",
   "metadata": {},
   "source": [
    "# --- Part Two ---\n",
    "\n",
    "While playing with all the containers in the kitchen, another load of eggnog arrives! The shipping and receiving department is requesting as many containers as you can spare.\n",
    "\n",
    "Find the minimum number of containers that can exactly fit all 150 liters of eggnog. How many different ways can you fill that number of containers and still hold exactly 150 litres?\n",
    "\n",
    "In the example above, the minimum number of containers was two. There were three ways to use that many containers, and so the answer there would be 3."
   ]
  },
  {
   "cell_type": "code",
   "execution_count": 8,
   "metadata": {},
   "outputs": [
    {
     "name": "stdout",
     "output_type": "stream",
     "text": [
      "18\n"
     ]
    }
   ],
   "source": [
    "# Determine the length of the shortest list in the winning combos\n",
    "lengths = {}\n",
    "minLength = len(containers)\n",
    "for combo in totalWinners:\n",
    "    if len(combo) <= minLength:\n",
    "        minLength = len(combo)\n",
    "\n",
    "# Determine how many lists of that length are in the winning lists\n",
    "totalMin = 0\n",
    "for combo in totalWinners:\n",
    "    if len(combo) <= minLength:\n",
    "        totalMin += 1\n",
    "\n",
    "# Answer!\n",
    "print(totalMin)"
   ]
  }
 ],
 "metadata": {
  "kernelspec": {
   "display_name": "Python 3",
   "language": "python",
   "name": "python3"
  },
  "language_info": {
   "codemirror_mode": {
    "name": "ipython",
    "version": 3
   },
   "file_extension": ".py",
   "mimetype": "text/x-python",
   "name": "python",
   "nbconvert_exporter": "python",
   "pygments_lexer": "ipython3",
   "version": "3.8.5"
  }
 },
 "nbformat": 4,
 "nbformat_minor": 4
}
