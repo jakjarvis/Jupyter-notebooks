{
 "cells": [
  {
   "cell_type": "markdown",
   "metadata": {},
   "source": [
    "# --- Day 4: The Ideal Stocking Stuffer ---\n",
    "Santa needs help mining some AdventCoins (very similar to bitcoins) to use as gifts for all the economically forward-thinking little girls and boys.\n",
    "\n",
    "To do this, he needs to find MD5 hashes which, in hexadecimal, start with at least five zeroes. The input to the MD5 hash is some secret key (your puzzle input, given below) followed by a number in decimal. To mine AdventCoins, you must find Santa the lowest positive number (no leading zeroes: 1, 2, 3, ...) that produces such a hash.\n",
    "\n",
    "For example:\n",
    "\n",
    "If your secret key is abcdef, the answer is 609043, because the MD5 hash of abcdef609043 starts with five zeroes (000001dbbfa...), and it is the lowest such number to do so.\n",
    "If your secret key is pqrstuv, the lowest number it combines with to make an MD5 hash starting with five zeroes is 1048970; that is, the MD5 hash of pqrstuv1048970 looks like 000006136ef....\n",
    "Your puzzle input is bgvyzdsv."
   ]
  },
  {
   "cell_type": "code",
   "execution_count": 1,
   "metadata": {},
   "outputs": [],
   "source": [
    "# Iterative method:\n",
    "# Take input, add 1, convert to MD5, check 1st 5 digits, if not 00000, add 2, convert, check..."
   ]
  },
  {
   "cell_type": "code",
   "execution_count": 5,
   "metadata": {},
   "outputs": [],
   "source": [
    "# Import the MD5 hashing function\n",
    "import hashlib"
   ]
  },
  {
   "cell_type": "code",
   "execution_count": 40,
   "metadata": {},
   "outputs": [],
   "source": [
    "# Define inputs to MD5\n",
    "key = 'bgvyzdsv'\n",
    "counter = 1\n",
    "\n",
    "# Concatenate inputs (both must be strings)\n",
    "concat = key + str(counter)"
   ]
  },
  {
   "cell_type": "code",
   "execution_count": 41,
   "metadata": {},
   "outputs": [
    {
     "name": "stdout",
     "output_type": "stream",
     "text": [
      "bgvyzdsv\n",
      "1\n",
      "bgvyzdsv1\n"
     ]
    }
   ],
   "source": [
    "# Check all variables\n",
    "print(key)\n",
    "print(counter)\n",
    "print(concat)"
   ]
  },
  {
   "cell_type": "code",
   "execution_count": 42,
   "metadata": {},
   "outputs": [
    {
     "name": "stdout",
     "output_type": "stream",
     "text": [
      "6940da637d7f68ff727fa41b9b90a209\n"
     ]
    }
   ],
   "source": [
    "# Hash the concatenation into MD5 (must be encoded into unicode)\n",
    "code = hashlib.md5(concat.encode('utf-8'))\n",
    "\n",
    "# At any point you can ask it for the digest of the concatenation of the data fed to it so far using the digest() or hexdigest() methods.\n",
    "print(code.hexdigest())"
   ]
  },
  {
   "cell_type": "code",
   "execution_count": 39,
   "metadata": {},
   "outputs": [
    {
     "name": "stdout",
     "output_type": "stream",
     "text": [
      "000004b30d481662b9cb0c105f6549b2\n",
      "254575\n"
     ]
    }
   ],
   "source": [
    "# Check if first 5 digits are 00000\n",
    "\n",
    "while str(code.hexdigest())[0:5] != '00000':\n",
    "    counter = counter + 1\n",
    "    concat = key + str(counter)\n",
    "    code = hashlib.md5(concat.encode('utf-8'))\n",
    "    if counter%100000 == 0:\n",
    "        print(counter)\n",
    "\n",
    "print(code.hexdigest())\n",
    "print(counter)"
   ]
  },
  {
   "cell_type": "markdown",
   "metadata": {},
   "source": [
    "# Part 2\n",
    "\n",
    "Now find one that starts with six zeroes."
   ]
  },
  {
   "cell_type": "code",
   "execution_count": 43,
   "metadata": {},
   "outputs": [
    {
     "name": "stdout",
     "output_type": "stream",
     "text": [
      "100000\n",
      "200000\n",
      "300000\n",
      "400000\n",
      "500000\n",
      "600000\n",
      "700000\n",
      "800000\n",
      "900000\n",
      "1000000\n",
      "000000b1b64bf5eb55aad89986126953\n",
      "1038736\n"
     ]
    }
   ],
   "source": [
    "# Check if first 5 digits are 00000\n",
    "\n",
    "while str(code.hexdigest())[0:6] != '000000':\n",
    "    counter = counter + 1\n",
    "    concat = key + str(counter)\n",
    "    code = hashlib.md5(concat.encode('utf-8'))\n",
    "    if counter%100000 == 0:\n",
    "        print(counter)\n",
    "\n",
    "print(code.hexdigest())\n",
    "print(counter)"
   ]
  },
  {
   "cell_type": "code",
   "execution_count": null,
   "metadata": {},
   "outputs": [],
   "source": []
  }
 ],
 "metadata": {
  "kernelspec": {
   "display_name": "Python 3",
   "language": "python",
   "name": "python3"
  },
  "language_info": {
   "codemirror_mode": {
    "name": "ipython",
    "version": 3
   },
   "file_extension": ".py",
   "mimetype": "text/x-python",
   "name": "python",
   "nbconvert_exporter": "python",
   "pygments_lexer": "ipython3",
   "version": "3.8.5"
  }
 },
 "nbformat": 4,
 "nbformat_minor": 4
}
