{
 "cells": [
  {
   "cell_type": "markdown",
   "metadata": {},
   "source": [
    "# --- Day 16: Aunt Sue ---\n",
    "\n",
    "Your Aunt Sue has given you a wonderful gift, and you'd like to send her a thank you card. However, there's a small problem: she signed it \"From, Aunt Sue\".\n",
    "\n",
    "You have 500 Aunts named \"Sue\".\n",
    "\n",
    "So, to avoid sending the card to the wrong person, you need to figure out which Aunt Sue (which you conveniently number 1 to 500, for sanity) gave you the gift. You open the present and, as luck would have it, good ol' Aunt Sue got you a My First Crime Scene Analysis Machine! Just what you wanted. Or needed, as the case may be.\n",
    "\n",
    "The My First Crime Scene Analysis Machine (MFCSAM for short) can detect a few specific compounds in a given sample, as well as how many distinct kinds of those compounds there are. According to the instructions, these are what the MFCSAM can detect:\n",
    "\n",
    "- children, by human DNA age analysis.\n",
    "- cats. It doesn't differentiate individual breeds.\n",
    "- Several seemingly random breeds of dog: samoyeds, pomeranians, akitas, and vizslas.\n",
    "- goldfish. No other kinds of fish.\n",
    "- trees, all in one group.\n",
    "- cars, presumably by exhaust or gasoline or something.\n",
    "- perfumes, which is handy, since many of your Aunts Sue wear a few kinds.\n",
    "\n",
    "In fact, many of your Aunts Sue have many of these. You put the wrapping from the gift into the MFCSAM. It beeps inquisitively at you a few times and then prints out a message on ticker tape:\n",
    "\n",
    "- children: 3\n",
    "- cats: 7\n",
    "- samoyeds: 2\n",
    "- pomeranians: 3\n",
    "- akitas: 0\n",
    "- vizslas: 0\n",
    "- goldfish: 5\n",
    "- trees: 3\n",
    "- cars: 2\n",
    "- perfumes: 1\n",
    "\n",
    "You make a list of the things you can remember about each Aunt Sue. Things missing from your list aren't zero - you simply don't remember the value.\n",
    "\n",
    "What is the number of the Sue that got you the gift?"
   ]
  },
  {
   "cell_type": "code",
   "execution_count": 325,
   "metadata": {},
   "outputs": [],
   "source": [
    "# Read input as csv file\n",
    "import pandas as pd\n",
    "df = pd.read_csv(r'C:\\Users\\Jono\\Documents\\Python Scripts\\Day 16 Input.csv')\n",
    "\n",
    "# Read each line of input into a list of dictionaries, containing the known info about each Aunt Sue\n",
    "inpt = []\n",
    "for row in df['Sues']:\n",
    "    inpt += [{row.split(' ')[i]:row.split(' ')[i + 1] for i in range(0, len(row.split(' ')), 2)}]"
   ]
  },
  {
   "cell_type": "code",
   "execution_count": 326,
   "metadata": {},
   "outputs": [],
   "source": [
    "# Create an empty dataframe with the column headings of all the criteria\n",
    "criteria = ['Sue', 'children:', 'cats:', 'samoyeds:', 'pomeranians:', 'akitas:', 'vizslas:', 'goldfish:', 'trees:', 'cars:', 'perfumes:']\n",
    "data = pd.DataFrame(columns=criteria)"
   ]
  },
  {
   "cell_type": "code",
   "execution_count": 327,
   "metadata": {},
   "outputs": [
    {
     "name": "stdout",
     "output_type": "stream",
     "text": [
      "     children: cats: samoyeds: pomeranians: akitas: vizslas: goldfish: trees:  \\\n",
      "Sue                                                                             \n",
      "1:        None  None      None         None       0     None         6      9   \n",
      "2:        None  None      None         None       0     None         7      1   \n",
      "3:        None  None      None         None       6     None      None   None   \n",
      "4:        None  None      None         None    None        0      None   None   \n",
      "5:        None  None      None         None    None     None         1      3   \n",
      "...        ...   ...       ...          ...     ...      ...       ...    ...   \n",
      "496:      None     4      None         None    None     None      None      1   \n",
      "497:      None     1      None         None    None     None      None   None   \n",
      "498:      None     9      None         None    None        6      None   None   \n",
      "499:      None  None      None         None       3        8      None   None   \n",
      "500:      None  None      None         None    None     None      None      4   \n",
      "\n",
      "     cars: perfumes:  \n",
      "Sue                   \n",
      "1:    None      None  \n",
      "2:    None      None  \n",
      "3:      10         7  \n",
      "4:       6         2  \n",
      "5:    None        10  \n",
      "...    ...       ...  \n",
      "496:    10      None  \n",
      "497:     7         0  \n",
      "498:  None         7  \n",
      "499:  None         1  \n",
      "500:     9         4  \n",
      "\n",
      "[500 rows x 10 columns]\n"
     ]
    }
   ],
   "source": [
    "# Create empty dictionaries with each of the criteria defined above as keys, with default None values\n",
    "new_reg = dict.fromkeys(criteria)\n",
    "\n",
    "# Read values from each entry in the input list into the empty dictionary, leaving the rest as None, and append to the empty dataframe\n",
    "for entry in inpt:\n",
    "    for item in entry:\n",
    "        new_reg[item] = (entry.get(item)).strip(',')\n",
    "    data = data.append(new_reg, ignore_index=True)\n",
    "    new_reg = dict.fromkeys(criteria)\n",
    "\n",
    "# Make Sue the index, and check how the dataframe looks\n",
    "data.set_index('Sue', inplace=True, drop=True)\n",
    "print(data)"
   ]
  },
  {
   "cell_type": "code",
   "execution_count": 328,
   "metadata": {},
   "outputs": [],
   "source": [
    "# Define the answer as a dictionary\n",
    "answer = {'Sue': 0, 'children:': 3, 'cats:': 7, 'samoyeds:': 2, 'pomeranians:': 3, 'akitas:': 0, 'vizslas:': 0, 'goldfish:': 5, 'trees:': 3, 'cars:': 2, 'perfumes:': 1}"
   ]
  },
  {
   "cell_type": "code",
   "execution_count": 329,
   "metadata": {},
   "outputs": [],
   "source": [
    "# For each entry (row) in each catagory (column), check if the value is none or the answer, and if not set it to 'Wrong'\n",
    "for catagory in criteria[1:len(criteria)]:\n",
    "    for entry in range(1,len(data) + 1):\n",
    "        if data[catagory][str(entry) + ':'] != None and data[catagory][str(entry) + ':'] != str(answer[catagory]):\n",
    "            data.at[str(entry) + ':', catagory] = 'Wrong'"
   ]
  },
  {
   "cell_type": "code",
   "execution_count": 330,
   "metadata": {},
   "outputs": [
    {
     "name": "stdout",
     "output_type": "stream",
     "text": [
      "     children:  cats: samoyeds: pomeranians: akitas: vizslas: goldfish:  \\\n",
      "Sue                                                                       \n",
      "1:        None   None      None         None       0     None     Wrong   \n",
      "2:        None   None      None         None       0     None     Wrong   \n",
      "3:        None   None      None         None   Wrong     None      None   \n",
      "4:        None   None      None         None    None        0      None   \n",
      "5:        None   None      None         None    None     None     Wrong   \n",
      "...        ...    ...       ...          ...     ...      ...       ...   \n",
      "496:      None  Wrong      None         None    None     None      None   \n",
      "497:      None  Wrong      None         None    None     None      None   \n",
      "498:      None  Wrong      None         None    None    Wrong      None   \n",
      "499:      None   None      None         None   Wrong    Wrong      None   \n",
      "500:      None   None      None         None    None     None      None   \n",
      "\n",
      "     trees:  cars: perfumes:  \n",
      "Sue                           \n",
      "1:    Wrong   None      None  \n",
      "2:    Wrong   None      None  \n",
      "3:     None  Wrong     Wrong  \n",
      "4:     None  Wrong     Wrong  \n",
      "5:        3   None     Wrong  \n",
      "...     ...    ...       ...  \n",
      "496:  Wrong  Wrong      None  \n",
      "497:   None  Wrong     Wrong  \n",
      "498:   None   None     Wrong  \n",
      "499:   None   None         1  \n",
      "500:  Wrong  Wrong     Wrong  \n",
      "\n",
      "[500 rows x 10 columns]\n"
     ]
    }
   ],
   "source": [
    "# As a check, print and/or write the output to a csv file\n",
    "print(data)\n",
    "data.to_csv(r'C:\\Users\\Jono\\Documents\\Python Scripts\\Day 16 Output.csv')"
   ]
  },
  {
   "cell_type": "code",
   "execution_count": 331,
   "metadata": {},
   "outputs": [
    {
     "name": "stdout",
     "output_type": "stream",
     "text": [
      "     children: cats: samoyeds: pomeranians: akitas: vizslas: goldfish: trees:  \\\n",
      "Sue                                                                             \n",
      "103:      None  None      None         None    None     None         5   None   \n",
      "\n",
      "     cars: perfumes:  \n",
      "Sue                   \n",
      "103:     2         1  \n"
     ]
    }
   ],
   "source": [
    "# For each row, turn the values to strings and check if any are 'Wrong'. Print the rows that none are Wrong.\n",
    "for n in range(0, len(data)):\n",
    "    if data.iloc[n].str.contains(\"Wrong\").any() == False:\n",
    "        print(data[n:n+1])"
   ]
  },
  {
   "cell_type": "markdown",
   "metadata": {},
   "source": [
    "# --- Part Two ---\n",
    "\n",
    "As you're about to send the thank you note, something in the MFCSAM's instructions catches your eye. Apparently, it has an outdated retroencabulator, and so the output from the machine isn't exact values - some of them indicate ranges.\n",
    "\n",
    "In particular, the cats and trees readings indicates that there are greater than that many (due to the unpredictable nuclear decay of cat dander and tree pollen), while the pomeranians and goldfish readings indicate that there are fewer than that many (due to the modial interaction of magnetoreluctance).\n",
    "\n",
    "What is the number of the real Aunt Sue?"
   ]
  },
  {
   "cell_type": "code",
   "execution_count": 333,
   "metadata": {},
   "outputs": [
    {
     "name": "stdout",
     "output_type": "stream",
     "text": [
      "     children: cats: samoyeds: pomeranians: akitas: vizslas: goldfish: trees:  \\\n",
      "Sue                                                                             \n",
      "405:      None  None      None         None    None     None      None      8   \n",
      "\n",
      "     cars: perfumes:  \n",
      "Sue                   \n",
      "405:     2         1  \n"
     ]
    }
   ],
   "source": [
    "# Set up the data as for Part 1\n",
    "import pandas as pd\n",
    "df = pd.read_csv(r'C:\\Users\\Jono\\Documents\\Python Scripts\\Day 16 Input.csv')\n",
    "inpt = []\n",
    "for row in df['Sues']:\n",
    "    inpt += [{row.split(' ')[i]:row.split(' ')[i + 1] for i in range(0, len(row.split(' ')), 2)}]\n",
    "\n",
    "criteria = ['Sue', 'children:', 'cats:', 'samoyeds:', 'pomeranians:', 'akitas:', 'vizslas:', 'goldfish:', 'trees:', 'cars:', 'perfumes:']\n",
    "data = pd.DataFrame(columns=criteria)\n",
    "\n",
    "new_reg = dict.fromkeys(criteria)\n",
    "for entry in inpt:\n",
    "    for item in entry:\n",
    "        new_reg[item] = (entry.get(item)).strip(',')\n",
    "    data = data.append(new_reg, ignore_index=True)\n",
    "    new_reg = dict.fromkeys(criteria)\n",
    "\n",
    "data.set_index('Sue', inplace=True, drop=True)\n",
    "answer = {'Sue': 0, 'children:': 3, 'cats:': 7, 'samoyeds:': 2, 'pomeranians:': 3, 'akitas:': 0, 'vizslas:': 0, 'goldfish:': 5, 'trees:': 3, 'cars:': 2, 'perfumes:': 1}\n",
    "\n",
    "# To the for look, set up if statements for the other >/< criteria, changing != to <= or >= respectively\n",
    "for catagory in criteria[1:len(criteria)]:\n",
    "    if catagory == 'cats:' or catagory == 'trees:':\n",
    "        for entry in range(1,len(data) + 1):\n",
    "            if data[catagory][str(entry) + ':'] != None and data[catagory][str(entry) + ':'] <= str(answer[catagory]):\n",
    "                data.at[str(entry) + ':', catagory] = 'Wrong'        \n",
    "    elif catagory == 'pomeranians:' or catagory == 'goldfish:':\n",
    "        for entry in range(1,len(data) + 1):\n",
    "            if data[catagory][str(entry) + ':'] != None and data[catagory][str(entry) + ':'] >= str(answer[catagory]):\n",
    "                data.at[str(entry) + ':', catagory] = 'Wrong' \n",
    "    else:\n",
    "        for entry in range(1,len(data) + 1):\n",
    "            if data[catagory][str(entry) + ':'] != None and data[catagory][str(entry) + ':'] != str(answer[catagory]):\n",
    "                data.at[str(entry) + ':', catagory] = 'Wrong'\n",
    "\n",
    "for n in range(0, len(data)):\n",
    "    if data.iloc[n].str.contains(\"Wrong\").any() == False:\n",
    "        print(data[n:n+1])"
   ]
  },
  {
   "cell_type": "code",
   "execution_count": null,
   "metadata": {},
   "outputs": [],
   "source": []
  }
 ],
 "metadata": {
  "kernelspec": {
   "display_name": "Python 3",
   "language": "python",
   "name": "python3"
  },
  "language_info": {
   "codemirror_mode": {
    "name": "ipython",
    "version": 3
   },
   "file_extension": ".py",
   "mimetype": "text/x-python",
   "name": "python",
   "nbconvert_exporter": "python",
   "pygments_lexer": "ipython3",
   "version": "3.8.5"
  }
 },
 "nbformat": 4,
 "nbformat_minor": 4
}
