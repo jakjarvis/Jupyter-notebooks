{
 "cells": [
  {
   "cell_type": "code",
   "execution_count": null,
   "id": "1df25e38",
   "metadata": {},
   "outputs": [],
   "source": [
    "    <div id=\"part_1\">\n",
    "        <h4>Input - Part 1</h4>\n",
    "        <input type=\"text\" name=\"part1_input\" id=\"part1_input\" required>\n",
    "    </div>\n",
    "    <div id=\"part_2\" class=\"d-none\">\n",
    "        <h4>Input - Part 2</h4>\n",
    "        <input type=\"text\" name=\"part2_input\" id=\"part2_input\" value=\"NA\">\n",
    "    </div>\n",
    "    <div id=\"file\" class=\"d-none\">\n",
    "        <h4>Input file</h4>\n",
    "        <input type=\"file\" id=\"input_file\" name=\"input_file\">\n",
    "        <p>Due to the size of this input, please copy-paste it into a .txt file and upload it here.</p>\n",
    "    </div>"
   ]
  }
 ],
 "metadata": {
  "kernelspec": {
   "display_name": "Python 3",
   "language": "python",
   "name": "python3"
  },
  "language_info": {
   "codemirror_mode": {
    "name": "ipython",
    "version": 3
   },
   "file_extension": ".py",
   "mimetype": "text/x-python",
   "name": "python",
   "nbconvert_exporter": "python",
   "pygments_lexer": "ipython3",
   "version": "3.8.8"
  }
 },
 "nbformat": 4,
 "nbformat_minor": 5
}
