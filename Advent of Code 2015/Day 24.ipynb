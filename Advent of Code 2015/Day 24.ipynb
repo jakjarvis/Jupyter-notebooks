{
 "cells": [
  {
   "cell_type": "markdown",
   "metadata": {},
   "source": [
    "# --- Day 24: It Hangs in the Balance ---\n",
    "\n",
    "It's Christmas Eve, and Santa is loading up the sleigh for this year's deliveries. However, there's one small problem: he can't get the sleigh to balance. If it isn't balanced, he can't defy physics, and nobody gets presents this year.\n",
    "\n",
    "No pressure.\n",
    "\n",
    "Santa has provided you a list of the weights of every package he needs to fit on the sleigh. The packages need to be split into three groups of exactly the same weight, and every package has to fit. The first group goes in the passenger compartment of the sleigh, and the second and third go in containers on either side. Only when all three groups weigh exactly the same amount will the sleigh be able to fly. Defying physics has rules, you know!\n",
    "\n",
    "Of course, that's not the only problem. The first group - the one going in the passenger compartment - needs as few packages as possible so that Santa has some legroom left over. It doesn't matter how many packages are in either of the other two groups, so long as all of the groups weigh the same.\n",
    "\n",
    "Furthermore, Santa tells you, if there are multiple ways to arrange the packages such that the fewest possible are in the first group, you need to choose the way where the first group has the smallest quantum entanglement to reduce the chance of any \"complications\". The quantum entanglement of a group of packages is the product of their weights, that is, the value you get when you multiply their weights together. Only consider quantum entanglement if the first group has the fewest possible number of packages in it and all groups weigh the same amount.\n",
    "\n",
    "For example, suppose you have ten packages with weights 1 through 5 and 7 through 11. For this situation, some of the unique first groups, their quantum entanglements, and a way to divide the remaining packages are as follows:"
   ]
  },
  {
   "cell_type": "code",
   "execution_count": 3,
   "metadata": {},
   "outputs": [],
   "source": [
    "# Group 1;             Group 2; Group 3\n",
    "# 11 9       (QE= 99); 10 8 2;  7 5 4 3 1\n",
    "# 10 9 1     (QE= 90); 11 7 2;  8 5 4 3\n",
    "# 10 8 2     (QE=160); 11 9;    7 5 4 3 1\n",
    "# 10 7 3     (QE=210); 11 9;    8 5 4 2 1\n",
    "# 10 5 4 1   (QE=200); 11 9;    8 7 3 2\n",
    "# 10 5 3 2   (QE=300); 11 9;    8 7 4 1\n",
    "# 10 4 3 2 1 (QE=240); 11 9;    8 7 5\n",
    "# 9 8 3      (QE=216); 11 7 2;  10 5 4 1\n",
    "# 9 7 4      (QE=252); 11 8 1;  10 5 3 2\n",
    "# 9 5 4 2    (QE=360); 11 8 1;  10 7 3\n",
    "# 8 7 5      (QE=280); 11 9;    10 4 3 2 1\n",
    "# 8 5 4 3    (QE=480); 11 9;    10 7 2 1\n",
    "# 7 5 4 3 1  (QE=420); 11 9;    10 8 2"
   ]
  },
  {
   "cell_type": "markdown",
   "metadata": {},
   "source": [
    "\n",
    "Of these, although 10 9 1 has the smallest quantum entanglement (90), the configuration with only two packages, 11 9, in the passenger compartment gives Santa the most legroom and wins. In this situation, the quantum entanglement for the ideal configuration is therefore 99. Had there been two configurations with only two packages in the first group, the one with the smaller quantum entanglement would be chosen.\n",
    "\n",
    "What is the quantum entanglement of the first group of packages in the ideal configuration?"
   ]
  },
  {
   "cell_type": "code",
   "execution_count": 160,
   "metadata": {},
   "outputs": [
    {
     "name": "stdout",
     "output_type": "stream",
     "text": [
      "[113, 109, 107, 103, 101, 97, 89, 83, 79, 73, 71, 67, 61, 59, 53, 47, 43, 41, 31, 29, 23, 19, 17, 13, 11, 5, 3, 1]\n"
     ]
    }
   ],
   "source": [
    "# Read in input and sort descending\n",
    "import pandas as pd\n",
    "df = pd.read_csv(r'C:/Users/Jono/Documents/Python Scripts/Day 24 Input.csv')\n",
    "totalPackages = []\n",
    "for row in df['Packages']:\n",
    "    totalPackages += [row]\n",
    "totalPackages.sort(reverse=True)\n",
    "print(totalPackages)"
   ]
  },
  {
   "cell_type": "code",
   "execution_count": 179,
   "metadata": {},
   "outputs": [
    {
     "name": "stdout",
     "output_type": "stream",
     "text": [
      "516.0\n"
     ]
    }
   ],
   "source": [
    "# Calculate weight of each group\n",
    "groupWeight = sum(inpt)/3\n",
    "print(groupWeight)"
   ]
  },
  {
   "cell_type": "code",
   "execution_count": 180,
   "metadata": {},
   "outputs": [],
   "source": [
    "import math\n",
    "\n",
    "# Define a (recursive) function to try combinations of presents to test win criterion\n",
    "def addPackage(group, remainingPackages, groupWeight, winner):\n",
    "    for package in remainingPackages:\n",
    "        # Add next package in the list of remaining packages to the current combo\n",
    "        newGroup1 = group + [package]\n",
    "        # Test if they match the weight\n",
    "        if sum(newGroup1) == groupWeight:\n",
    "            # If so, if there is no winner or this is less packages than the current winner, it is the new winner\n",
    "            if winner['Group'] == [] or len(newGroup1) <= len(winner['Group']) - 1:\n",
    "                winner['Group'] = newGroup1\n",
    "                winner['Entanglement'] = math.prod(newGroup1)\n",
    "            # Otherwise if it is the same length as the current winner, check if it has the lowest entanglement\n",
    "            elif len(newGroup1) == len(winner['Group']):\n",
    "                if math.prod(newGroup1) <= winner['Entanglement']:\n",
    "                    winner['Group'] = newGroup1\n",
    "                    winner['Entanglement'] = math.prod(newGroup1)\n",
    "        # Otherwise, if the weight is under the allowable and the length isn't already too long, add another package\n",
    "        elif sum(newGroup1) <= groupWeight and (winner['Group'] == [] or len(newGroup1) <= len(winner['Group']) - 1): # can do -2, because if the subgroup is within 1 of the winning one, any subsequent combos will enherently have a greater product\n",
    "            packagesLeft = remainingPackages[remainingPackages.index(package) + 1:]\n",
    "            winner = addPackage(newGroup1, packagesLeft, groupWeight, winner)            \n",
    "    return winner                   "
   ]
  },
  {
   "cell_type": "code",
   "execution_count": 181,
   "metadata": {},
   "outputs": [
    {
     "name": "stdout",
     "output_type": "stream",
     "text": [
      "{'Group': [113, 109, 107, 103, 83, 1], 'Entanglement': 11266889531}\n"
     ]
    }
   ],
   "source": [
    "# Start with a blank winner and combination of packages, pass the full input list in\n",
    "winner = {'Group': [], 'Entanglement': 0}\n",
    "startingGroup = []\n",
    "\n",
    "winner = addPackage(startingGroup, totalPackages, groupWeight, winner)\n",
    "\n",
    "print(winner)"
   ]
  },
  {
   "cell_type": "markdown",
   "metadata": {},
   "source": [
    "# --- Part Two ---\n",
    "That's weird... the sleigh still isn't balancing.\n",
    "\n",
    "\"Ho ho ho\", Santa muses to himself. \"I forgot the trunk\".\n",
    "\n",
    "Balance the sleigh again, but this time, separate the packages into four groups instead of three. The other constraints still apply.\n",
    "\n",
    "Given the example packages above, this would be some of the new unique first groups, their quantum entanglements, and one way to divide the remaining packages:"
   ]
  },
  {
   "cell_type": "code",
   "execution_count": 148,
   "metadata": {},
   "outputs": [],
   "source": [
    "# 11 4    (QE=44); 10 5;   9 3 2 1; 8 7\n",
    "# 10 5    (QE=50); 11 4;   9 3 2 1; 8 7\n",
    "# 9 5 1   (QE=45); 11 4;   10 3 2;  8 7\n",
    "# 9 4 2   (QE=72); 11 3 1; 10 5;    8 7\n",
    "# 9 3 2 1 (QE=54); 11 4;   10 5;    8 7\n",
    "# 8 7     (QE=56); 11 4;   10 5;    9 3 2 1"
   ]
  },
  {
   "cell_type": "markdown",
   "metadata": {},
   "source": [
    "Of these, there are three arrangements that put the minimum (two) number of packages in the first group: 11 4, 10 5, and 8 7. Of these, 11 4 has the lowest quantum entanglement, and so it is selected.\n",
    "\n",
    "Now, what is the quantum entanglement of the first group of packages in the ideal configuration?"
   ]
  },
  {
   "cell_type": "code",
   "execution_count": 182,
   "metadata": {},
   "outputs": [
    {
     "name": "stdout",
     "output_type": "stream",
     "text": [
      "387.0\n"
     ]
    }
   ],
   "source": [
    "# Same as before, but make group size a quarter\n",
    "groupWeight = sum(inpt)/4\n",
    "print(groupWeight)"
   ]
  },
  {
   "cell_type": "code",
   "execution_count": 183,
   "metadata": {},
   "outputs": [],
   "source": [
    "import math\n",
    "\n",
    "def addPackage(group, remainingPackages, groupWeight, winner):\n",
    "    for package in remainingPackages:\n",
    "        newGroup1 = group + [package]\n",
    "        if sum(newGroup1) == groupWeight:\n",
    "            if winner['Group'] == [] or len(newGroup1) <= len(winner['Group']) - 1:\n",
    "                winner['Group'] = newGroup1\n",
    "                winner['Entanglement'] = math.prod(newGroup1)\n",
    "            elif len(newGroup1) == len(winner['Group']):\n",
    "                if math.prod(newGroup1) <= winner['Entanglement']:\n",
    "                    winner['Group'] = newGroup1\n",
    "                    winner['Entanglement'] = math.prod(newGroup1)\n",
    "        elif sum(newGroup1) <= groupWeight and (winner['Group'] == [] or len(newGroup1) <= len(winner['Group']) - 1):\n",
    "            packagesLeft = remainingPackages[remainingPackages.index(package) + 1:]\n",
    "            winner = addPackage(newGroup1, packagesLeft, groupWeight, winner)            \n",
    "    return winner     "
   ]
  },
  {
   "cell_type": "code",
   "execution_count": 184,
   "metadata": {},
   "outputs": [
    {
     "name": "stdout",
     "output_type": "stream",
     "text": [
      "{'Group': [113, 109, 103, 61, 1], 'Entanglement': 77387711}\n"
     ]
    }
   ],
   "source": [
    "winner = {'Group': [], 'Entanglement': 0}\n",
    "startingGroup = []\n",
    "winner = addPackage(startingGroup, totalPackages, groupWeight, winner)\n",
    "print(winner)"
   ]
  }
 ],
 "metadata": {
  "kernelspec": {
   "display_name": "Python 3",
   "language": "python",
   "name": "python3"
  },
  "language_info": {
   "codemirror_mode": {
    "name": "ipython",
    "version": 3
   },
   "file_extension": ".py",
   "mimetype": "text/x-python",
   "name": "python",
   "nbconvert_exporter": "python",
   "pygments_lexer": "ipython3",
   "version": "3.8.8"
  }
 },
 "nbformat": 4,
 "nbformat_minor": 4
}
