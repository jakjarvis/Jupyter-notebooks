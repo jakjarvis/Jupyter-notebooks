{
 "cells": [
  {
   "cell_type": "markdown",
   "metadata": {},
   "source": [
    "# --- Day 14: Reindeer Olympics ---\n",
    "\n",
    "This year is the Reindeer Olympics! Reindeer can fly at high speeds, but must rest occasionally to recover their energy. Santa would like to know which of his reindeer is fastest, and so he has them race.\n",
    "\n",
    "Reindeer can only either be flying (always at their top speed) or resting (not moving at all), and always spend whole seconds in either state.\n",
    "\n",
    "For example, suppose you have the following Reindeer:\n",
    "\n",
    "- Comet can fly 14 km/s for 10 seconds, but then must rest for 127 seconds.\n",
    "- Dancer can fly 16 km/s for 11 seconds, but then must rest for 162 seconds.\n",
    "\n",
    "After one second, Comet has gone 14 km, while Dancer has gone 16 km. After ten seconds, Comet has gone 140 km, while Dancer has gone 160 km. On the eleventh second, Comet begins resting (staying at 140 km), and Dancer continues on for a total distance of 176 km. On the 12th second, both reindeer are resting. They continue to rest until the 138th second, when Comet flies for another ten seconds. On the 174th second, Dancer flies for another 11 seconds.\n",
    "\n",
    "In this example, after the 1000th second, both reindeer are resting, and Comet is in the lead at 1120 km (poor Dancer has only gotten 1056 km by that point). So, in this situation, Comet would win (if the race ended at 1000 seconds).\n",
    "\n",
    "Given the descriptions of each reindeer (in your puzzle input), after exactly 2503 seconds, what distance has the winning reindeer traveled?"
   ]
  },
  {
   "cell_type": "code",
   "execution_count": 19,
   "metadata": {},
   "outputs": [
    {
     "name": "stdout",
     "output_type": "stream",
     "text": [
      "   Endurance     Name   Rest  Speed\n",
      "0        8.0    Vixen   53.0    8.0\n",
      "1        4.0  Blitzen   49.0   13.0\n",
      "2        7.0  Rudolph  132.0   20.0\n",
      "3        4.0    Cupid   43.0   12.0\n",
      "4        5.0   Donner   38.0    9.0\n",
      "5        4.0   Dasher   37.0   10.0\n",
      "6       37.0    Comet   76.0    3.0\n",
      "7       12.0  Prancer   97.0    9.0\n",
      "8        1.0   Dancer   36.0   37.0\n"
     ]
    }
   ],
   "source": [
    "# Read in input\n",
    "import pandas as pd\n",
    "\n",
    "df = pd.read_csv(r\"C:\\Users\\Jono\\Documents\\Python Scripts\\Day 14 Input.csv\")\n",
    "\n",
    "inpt = []\n",
    "\n",
    "for row in df[\"Entry\"]:\n",
    "    inpt += [row.split(' ')]\n",
    "    \n",
    "\n",
    "# Create new dataframe with relevent information\n",
    "data = pd.DataFrame()# {'Name':[], 'Speed':[], 'Endurance':[], 'Rest':[]})\n",
    "\n",
    "for line in inpt:\n",
    "    data = data.append({'Name':line[0], 'Speed':int(line[3]), 'Endurance':int(line[6]), 'Rest':int(line[-2])}, ignore_index=True)\n",
    "    \n",
    "print(data)"
   ]
  },
  {
   "cell_type": "code",
   "execution_count": 31,
   "metadata": {},
   "outputs": [
    {
     "name": "stdout",
     "output_type": "stream",
     "text": [
      "   Endurance     Name   Rest  Speed  Distance\n",
      "0        8.0    Vixen   53.0    8.0    2640.0\n",
      "1        4.0  Blitzen   49.0   13.0    2496.0\n",
      "2        7.0  Rudolph  132.0   20.0    2540.0\n",
      "3        4.0    Cupid   43.0   12.0    2592.0\n",
      "4        5.0   Donner   38.0    9.0    2655.0\n",
      "5        4.0   Dasher   37.0   10.0    2460.0\n",
      "6       37.0    Comet   76.0    3.0    2493.0\n",
      "7       12.0  Prancer   97.0    9.0    2484.0\n",
      "8        1.0   Dancer   36.0   37.0    2516.0\n",
      "2655.0\n"
     ]
    }
   ],
   "source": [
    "timeStep = 2503\n",
    "\n",
    "# Create a for loop that for each reindeer works out how many complete run-rest cycles they finish, the distance covered in the remaining time\n",
    "for id, row in data.iterrows():\n",
    "    \n",
    "    cycles = timeStep//(data['Endurance'][id] + data['Rest'][id])\n",
    "    finalDash = timeStep%(data['Endurance'][id] + data['Rest'][id])\n",
    "    if finalDash <= data['Endurance'][id]:\n",
    "        distance = (cycles * data['Endurance'][id] + finalDash) * data['Speed'][id]\n",
    "    else:\n",
    "        distance = (cycles + 1) * data['Endurance'][id] * data['Speed'][id]\n",
    "    \n",
    "    # Create a new column called distance to save the value into\n",
    "    data.loc[id, \"Distance\"] = distance\n",
    "\n",
    "print(data)\n",
    "print(max(data[\"Distance\"])) # Answer!"
   ]
  },
  {
   "cell_type": "markdown",
   "metadata": {},
   "source": [
    "# --- Part Two ---\n",
    "\n",
    "Seeing how reindeer move in bursts, Santa decides he's not pleased with the old scoring system.\n",
    "\n",
    "Instead, at the end of each second, he awards one point to the reindeer currently in the lead. (If there are multiple reindeer tied for the lead, they each get one point.) He keeps the traditional 2503 second time limit, of course, as doing otherwise would be entirely ridiculous.\n",
    "\n",
    "Given the example reindeer from above, after the first second, Dancer is in the lead and gets one point. He stays in the lead until several seconds into Comet's second burst: after the 140th second, Comet pulls into the lead and gets his first point. Of course, since Dancer had been in the lead for the 139 seconds before that, he has accumulated 139 points by the 140th second.\n",
    "\n",
    "After the 1000th second, Dancer has accumulated 689 points, while poor Comet, our old champion, only has 312. So, with the new scoring system, Dancer would win (if the race ended at 1000 seconds).\n",
    "\n",
    "Again given the descriptions of each reindeer (in your puzzle input), after exactly 2503 seconds, how many points does the winning reindeer have?"
   ]
  },
  {
   "cell_type": "code",
   "execution_count": 45,
   "metadata": {},
   "outputs": [
    {
     "name": "stdout",
     "output_type": "stream",
     "text": [
      "Completed 500 seconds.\n",
      "Completed 1000 seconds.\n",
      "Completed 1500 seconds.\n",
      "Completed 2000 seconds.\n",
      "Completed 2500 seconds.\n",
      "   Endurance     Name   Rest  Speed  Distance  Points\n",
      "0        8.0    Vixen   53.0    8.0    2640.0    1059\n",
      "1        4.0  Blitzen   49.0   13.0    2496.0       5\n",
      "2        7.0  Rudolph  132.0   20.0    2540.0     887\n",
      "3        4.0    Cupid   43.0   12.0    2592.0      13\n",
      "4        5.0   Donner   38.0    9.0    2655.0     414\n",
      "5        4.0   Dasher   37.0   10.0    2460.0       0\n",
      "6       37.0    Comet   76.0    3.0    2493.0      22\n",
      "7       12.0  Prancer   97.0    9.0    2484.0     153\n",
      "8        1.0   Dancer   36.0   37.0    2516.0       1\n",
      "1059\n"
     ]
    }
   ],
   "source": [
    "# Create new dataframe with relevent information as for Part 1\n",
    "data2 = pd.DataFrame()# {'Name':[], 'Speed':[], 'Endurance':[], 'Rest':[]})\n",
    "\n",
    "for line in inpt:\n",
    "    data2 = data.append({'Name':line[0], 'Speed':int(line[3]), 'Endurance':int(line[6]), 'Rest':int(line[-2])}, ignore_index=True)\n",
    "\n",
    "data['Points'] = pd.Series([0 for x in range(len(data.index))], index=df.index)   \n",
    "\n",
    "# This time, put the same code as Part 1 in another for loop to step through each second (starting at 1, not 0!)\n",
    "for timeStep in range(1,2504):\n",
    "    \n",
    "    for id, row in data.iterrows():\n",
    "        cycles = timeStep//(data['Endurance'][id] + data['Rest'][id])\n",
    "        finalDash = timeStep%(data['Endurance'][id] + data['Rest'][id])\n",
    "        if finalDash <= data['Endurance'][id]:\n",
    "            distance = (cycles * data['Endurance'][id] + finalDash) * data['Speed'][id]\n",
    "        else:\n",
    "            distance = (cycles + 1) * data['Endurance'][id] * data['Speed'][id]\n",
    "    \n",
    "        data.loc[id, \"Distance\"] = distance\n",
    "    \n",
    "    # Check who has the highest distance and give them a new point\n",
    "    for id, row in data.iterrows():\n",
    "        if data['Distance'][id] == max(data[\"Distance\"]):\n",
    "            data.loc[id, \"Points\"] += 1\n",
    "    \n",
    "    # Just a counter to keep tract of progress, because my computer is slooooow\n",
    "    if timeStep % 500 == 0:\n",
    "        print('Completed ' + str(timeStep) + ' seconds.')\n",
    "    \n",
    "\n",
    "print(data)\n",
    "print(max(data[\"Points\"])) # Answer!"
   ]
  }
 ],
 "metadata": {
  "kernelspec": {
   "display_name": "Python 3",
   "language": "python",
   "name": "python3"
  },
  "language_info": {
   "codemirror_mode": {
    "name": "ipython",
    "version": 3
   },
   "file_extension": ".py",
   "mimetype": "text/x-python",
   "name": "python",
   "nbconvert_exporter": "python",
   "pygments_lexer": "ipython3",
   "version": "3.8.8"
  }
 },
 "nbformat": 4,
 "nbformat_minor": 4
}
