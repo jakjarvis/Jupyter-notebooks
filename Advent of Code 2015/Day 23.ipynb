{
 "cells": [
  {
   "cell_type": "markdown",
   "metadata": {},
   "source": [
    "# --- Day 23: Opening the Turing Lock ---\n",
    "\n",
    "Little Jane Marie just got her very first computer for Christmas from some unknown benefactor. It comes with instructions and an example program, but the computer itself seems to be malfunctioning. She's curious what the program does, and would like you to help her run it.\n",
    "\n",
    "The manual explains that the computer supports two registers and six instructions (truly, it goes on to remind the reader, a state-of-the-art technology). The registers are named a and b, can hold any non-negative integer, and begin with a value of 0. The instructions are as follows:\n",
    "\n",
    "- hlf r sets register r to half its current value, then continues with the next instruction.\n",
    "- tpl r sets register r to triple its current value, then continues with the next instruction.\n",
    "- inc r increments register r, adding 1 to it, then continues with the next instruction.\n",
    "- jmp offset is a jump; it continues with the instruction offset away relative to itself.\n",
    "- jie r, offset is like jmp, but only jumps if register r is even (\"jump if even\").\n",
    "- jio r, offset is like jmp, but only jumps if register r is 1 (\"jump if one\", not odd).\n",
    "\n",
    "All three jump instructions work with an offset relative to that instruction. The offset is always written with a prefix + or - to indicate the direction of the jump (forward or backward, respectively). For example, jmp +1 would simply continue with the next instruction, while jmp +0 would continuously jump back to itself forever.\n",
    "\n",
    "The program exits when it tries to run an instruction beyond the ones defined.\n",
    "\n",
    "For example, this program sets a to 2, because the jio instruction causes it to skip the tpl instruction:\n",
    "\n",
    "- inc a\n",
    "- jio a, +2\n",
    "- tpl a\n",
    "- inc a\n",
    "\n",
    "What is the value in register b when the program in your puzzle input is finished executing?"
   ]
  },
  {
   "cell_type": "code",
   "execution_count": 20,
   "metadata": {},
   "outputs": [
    {
     "name": "stdout",
     "output_type": "stream",
     "text": [
      "[['jio', 'a,', '+18'], ['inc', 'a'], ['tpl', 'a'], ['inc', 'a'], ['tpl', 'a'], ['tpl', 'a'], ['tpl', 'a'], ['inc', 'a'], ['tpl', 'a'], ['inc', 'a'], ['tpl', 'a'], ['inc', 'a'], ['inc', 'a'], ['tpl', 'a'], ['tpl', 'a'], ['tpl', 'a'], ['inc', 'a'], ['jmp', '+22'], ['tpl', 'a'], ['inc', 'a'], ['tpl', 'a'], ['inc', 'a'], ['inc', 'a'], ['tpl', 'a'], ['inc', 'a'], ['tpl', 'a'], ['inc', 'a'], ['inc', 'a'], ['tpl', 'a'], ['tpl', 'a'], ['inc', 'a'], ['inc', 'a'], ['tpl', 'a'], ['inc', 'a'], ['inc', 'a'], ['tpl', 'a'], ['inc', 'a'], ['inc', 'a'], ['tpl', 'a'], ['jio', 'a,', '+8'], ['inc', 'b'], ['jie', 'a,', '+4'], ['tpl', 'a'], ['inc', 'a'], ['jmp', '+2'], ['hlf', 'a'], ['jmp', '-7']]\n"
     ]
    }
   ],
   "source": [
    "# Read input in from csv file, into a list of instructions seperated by spaces\n",
    "import pandas as pd\n",
    "df = pd.read_csv(r'C:/Users/Jono/Documents/Python Scripts/Day 23 Input.csv')\n",
    "inpt = []\n",
    "for row in df['Instructions']:\n",
    "    inpt += [row.split()]\n",
    "print(inpt)"
   ]
  },
  {
   "cell_type": "code",
   "execution_count": 21,
   "metadata": {},
   "outputs": [
    {
     "name": "stdout",
     "output_type": "stream",
     "text": [
      "Register B = 307\n"
     ]
    }
   ],
   "source": [
    "# Define the registers as 0 and a step value to indicate the instruction being performed\n",
    "regA = int(0)\n",
    "regB = int(0)\n",
    "step = 0\n",
    "\n",
    "# While the step is within the range on instructions, apply the relevant instruction\n",
    "while step <= len(inpt) - 1:\n",
    "    # Code for a 'half' instruction\n",
    "    if inpt[step][0] == 'hlf':\n",
    "        if inpt[step][1] == 'a':\n",
    "            regA = int(regA / 2)\n",
    "        else:\n",
    "            regB = int(regB / 2)\n",
    "        step += 1\n",
    "    # Code for a 'triple' instruction    \n",
    "    elif inpt[step][0] == 'tpl':\n",
    "        if inpt[step][1] == 'a':\n",
    "            regA = regA * 3\n",
    "        else:\n",
    "            regB = regB * 3\n",
    "        step += 1\n",
    "    # Code for a 'increment' instruction\n",
    "    elif inpt[step][0] == 'inc':\n",
    "        if inpt[step][1] == 'a':\n",
    "            regA += 1\n",
    "        else:\n",
    "            regB += 1\n",
    "        step += 1\n",
    "    # Code for a 'jump' instruction\n",
    "    elif inpt[step][0] == 'jmp':\n",
    "        if inpt[step][1][1:] == '0':\n",
    "            print('Jump 0 creates an infinate loop!')\n",
    "            break\n",
    "        if inpt[step][1][0] == '+':\n",
    "            step += int(inpt[step][1][1:])\n",
    "        elif inpt[step][1][0] == '-':\n",
    "            step -= int(inpt[step][1][1:])\n",
    "        else:\n",
    "            print('No +/- sign for jump step.')\n",
    "    # Code for a 'jump if even' instruction            \n",
    "    elif inpt[step][0] == 'jie':\n",
    "        if 'a' in inpt[step][1] and regA % 2 == 0:         \n",
    "            if inpt[step][1][1:] == '0':\n",
    "                # To avoid an infinate loop, write a break clause for 'jump 0'\n",
    "                print('Jump 0 creates an infinate loop!')\n",
    "                break\n",
    "            elif inpt[step][2][0] == '+':\n",
    "                step += int(inpt[step][2][1:])\n",
    "            elif inpt[step][2][0] == '-':\n",
    "                step -= int(inpt[step][2][1:])\n",
    "            else:\n",
    "                print('No +/- sign for jump step.')\n",
    "                break\n",
    "        elif 'b' in inpt[step][1] and regB % 2 == 0:         \n",
    "            if inpt[step][1][1:] == '0':\n",
    "                print('Jump 0 creates an infinate loop!')\n",
    "                break\n",
    "            elif inpt[step][2][0] == '+':\n",
    "                step += int(inpt[step][2][1:])\n",
    "            elif inpt[step][2][0] == '-':\n",
    "                step -= int(inpt[step][2][1:])\n",
    "            else:\n",
    "                print('No +/- sign for jump step.')\n",
    "                break\n",
    "        else:\n",
    "            step += 1\n",
    "    # Code for a 'jump if one' instruction\n",
    "    ## Don't fall for the obvious trick of assuming 'jio' is jump if odd ;)\n",
    "    elif inpt[step][0] == 'jio':\n",
    "        if 'a' in inpt[step][1] and regA == 1:         \n",
    "            if inpt[step][1][1:] == '0':\n",
    "                # To avoid an infinate loop, write a break clause for 'jump 0'\n",
    "                print('Jump 0 creates an infinate loop!')\n",
    "                break\n",
    "            if inpt[step][2][0] == '+':\n",
    "                step += int(inpt[step][2][1:])\n",
    "            elif inpt[step][2][0] == '-':\n",
    "                step -= int(inpt[step][2][1:])\n",
    "            else:\n",
    "                print('No +/- sign for jump step.')\n",
    "                break\n",
    "        elif 'b' in inpt[step][1] and regB == 1:         \n",
    "            if inpt[step][1][1:] == '0':\n",
    "                print('Jump 0 creates an infinate loop!')\n",
    "                break\n",
    "            if inpt[step][2][0] == '+':\n",
    "                step += int(inpt[step][2][1:])\n",
    "            elif inpt[step][2][0] == '-':\n",
    "                step -= int(inpt[step][2][1:])\n",
    "            else:\n",
    "                print('No +/- sign for jump step.')\n",
    "                break\n",
    "        else:\n",
    "            step += 1\n",
    "\n",
    "print('Register B =', regB)"
   ]
  },
  {
   "cell_type": "markdown",
   "metadata": {},
   "source": [
    "# --- Part Two ---\n",
    "\n",
    "The unknown benefactor is very thankful for releasi-- er, helping little Jane Marie with her computer. Definitely not to distract you, what is the value in register b after the program is finished executing if register a starts as 1 instead?"
   ]
  },
  {
   "cell_type": "code",
   "execution_count": 22,
   "metadata": {},
   "outputs": [],
   "source": [
    "# Just put regA = int(1) into the code above\n",
    "## Register B = 160"
   ]
  }
 ],
 "metadata": {
  "kernelspec": {
   "display_name": "Python 3",
   "language": "python",
   "name": "python3"
  },
  "language_info": {
   "codemirror_mode": {
    "name": "ipython",
    "version": 3
   },
   "file_extension": ".py",
   "mimetype": "text/x-python",
   "name": "python",
   "nbconvert_exporter": "python",
   "pygments_lexer": "ipython3",
   "version": "3.8.5"
  }
 },
 "nbformat": 4,
 "nbformat_minor": 4
}
