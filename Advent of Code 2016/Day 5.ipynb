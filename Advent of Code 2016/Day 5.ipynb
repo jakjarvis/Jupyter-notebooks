{
 "cells": [
  {
   "cell_type": "markdown",
   "id": "6b492a84",
   "metadata": {},
   "source": [
    "## Day 5: How About a Nice Game of Chess?"
   ]
  },
  {
   "cell_type": "markdown",
   "id": "310c71ca",
   "metadata": {},
   "source": [
    "You are faced with a security door designed by Easter Bunny engineers that seem to have acquired most of their security knowledge by watching hacking movies.\n",
    "\n",
    "The eight-character password for the door is generated one character at a time by finding the MD5 hash of some Door ID (your puzzle input) and an increasing integer index (starting with 0).\n",
    "\n",
    "A hash indicates the next character in the password if its hexadecimal representation starts with five zeroes. If it does, the sixth character in the hash is the next character of the password.\n",
    "\n",
    "For example, if the Door ID is abc:\n",
    "\n",
    "The first index which produces a hash that starts with five zeroes is 3231929, which we find by hashing abc3231929; the sixth character of the hash, and thus the first character of the password, is 1. 5017308 produces the next interesting hash, which starts with 000008f82..., so the second character of the password is 8. The third time a hash starts with five zeroes is for abc5278568, discovering the character f. In this example, after continuing this search a total of eight times, the password is 18f47a30.\n",
    "\n",
    "Given the actual Door ID, what is the password?"
   ]
  },
  {
   "cell_type": "code",
   "execution_count": 1,
   "id": "7429c72a",
   "metadata": {},
   "outputs": [],
   "source": [
    "part1_input = 'uqwqemis'"
   ]
  },
  {
   "cell_type": "code",
   "execution_count": 27,
   "id": "36745759",
   "metadata": {},
   "outputs": [],
   "source": [
    "import hashlib\n",
    "password = ''\n",
    "index = 0\n",
    "while len(password) <= 7:\n",
    "    key = part1_input + str(index)\n",
    "    hashed_key = hashlib.md5(bytes(key, encoding='utf-8')).hexdigest()\n",
    "    if hashed_key[:5] == '00000':\n",
    "        password += hashed_key[5]\n",
    "    index += 1"
   ]
  },
  {
   "cell_type": "markdown",
   "id": "cbf04ea9",
   "metadata": {},
   "source": [
    "## Part 2"
   ]
  },
  {
   "cell_type": "markdown",
   "id": "0b647daa",
   "metadata": {},
   "source": [
    "As the door slides open, you are presented with a second door that uses a slightly more inspired security mechanism. Clearly unimpressed by the last version (in what movie is the password decrypted in order?!), the Easter Bunny engineers have worked out a better solution.\n",
    "\n",
    "Instead of simply filling in the password from left to right, the hash now also indicates the position within the password to fill. You still look for hashes that begin with five zeroes; however, now, the sixth character represents the position (0-7), and the seventh character is the character to put in that position.\n",
    "\n",
    "A hash result of 000001f means that f is the second character in the password. Use only the first result for each position, and ignore invalid positions.\n",
    "\n",
    "For example, if the Door ID is abc:\n",
    "\n",
    "The first interesting hash is from abc3231929, which produces 0000015...; so, 5 goes in position 1: _5______.\n",
    "In the previous method, 5017308 produced an interesting hash; however, it is ignored, because it specifies an invalid position (8).\n",
    "The second interesting hash is at index 5357525, which produces 000004e...; so, e goes in position 4: _5__e___.\n",
    "You almost choke on your popcorn as the final character falls into place, producing the password 05ace8e3.\n",
    "\n",
    "Given the actual Door ID and this new method, what is the password? Be extra proud of your solution if it uses a cinematic \"decrypting\" animation."
   ]
  },
  {
   "cell_type": "code",
   "execution_count": 54,
   "id": "3e6eee3e",
   "metadata": {},
   "outputs": [
    {
     "name": "stdout",
     "output_type": "stream",
     "text": [
      "1000000\n",
      "2000000\n",
      "3000000\n",
      "4000000\n",
      "00000191970e97b86ecd2220e76d86b2\n",
      "5000000\n",
      "6000000\n",
      "00000a1568b97dfc4736c4248df549b3\n",
      "7000000\n",
      "8000000\n",
      "00000312234ca27718d52476a44c257c\n",
      "9000000\n",
      "10000000\n",
      "11000000\n",
      "12000000\n",
      "13000000\n",
      "00000064ec7123bedfc9ff00cc4f55f2\n",
      "0000091c9c2cd243304328869af7bab2\n",
      "14000000\n",
      "0000096753dd21d352853f1d97e19d01\n",
      "00000a220003ca08164ab5fbe0b7c08f\n",
      "15000000\n",
      "16000000\n",
      "00000aaa1e7e216d6fb95a53fde7a594\n",
      "17000000\n",
      "00000a66c43cd6fa9980223accdf2cde\n",
      "00000ac0e22f994640b38d250d1ee9c6\n",
      "000002457920bc00c2bd4d769a3da01c\n",
      "18000000\n",
      "000002e49710aff8ed8c7b098a125cb1\n",
      "19000000\n",
      "000005074f875107f82b4ffb39a1fbf0\n",
      "20000000\n",
      "0000049d19713e17d7d93e9b1f02c856\n",
      "21000000\n",
      "000006c0b6e2bfeabd18eb400b3aecf7\n",
      "00000667310fdb96834554e59b39ca90\n",
      "22000000\n",
      "23000000\n",
      "24000000\n",
      "25000000\n",
      "26000000\n",
      "000007d44ea65d0437b810035fec92f2\n"
     ]
    }
   ],
   "source": [
    "index = 0\n",
    "password_dict = {}\n",
    "while len(password_dict) <= 7:\n",
    "    key = part1_input + str(index)\n",
    "    hashed_key = hashlib.md5(bytes(key, encoding='utf-8')).hexdigest()\n",
    "    if hashed_key[:5] == '00000':\n",
    "        print(hashed_key)\n",
    "        if hashed_key[5] in ['0', '1', '2', '3', '4', '5', '6', '7']:\n",
    "            if hashed_key[5] not in password_dict.keys():\n",
    "                location = hashed_key[5] \n",
    "                value = hashed_key[6] \n",
    "                password_dict[location] = value\n",
    "    index += 1\n",
    "    if index % 1000000 == 0:\n",
    "        print(index)"
   ]
  },
  {
   "cell_type": "code",
   "execution_count": 55,
   "id": "ee6dfb1f",
   "metadata": {},
   "outputs": [
    {
     "data": {
      "text/plain": [
       "{'1': '9',\n",
       " '3': '1',\n",
       " '0': '6',\n",
       " '2': '4',\n",
       " '5': '0',\n",
       " '4': '9',\n",
       " '6': 'c',\n",
       " '7': 'd'}"
      ]
     },
     "execution_count": 55,
     "metadata": {},
     "output_type": "execute_result"
    }
   ],
   "source": [
    "password_dict"
   ]
  },
  {
   "cell_type": "code",
   "execution_count": 56,
   "id": "fabd86db",
   "metadata": {},
   "outputs": [],
   "source": [
    "import collections"
   ]
  },
  {
   "cell_type": "code",
   "execution_count": 57,
   "id": "29072d04",
   "metadata": {},
   "outputs": [],
   "source": [
    "od = collections.OrderedDict(sorted(password_dict.items()))"
   ]
  },
  {
   "cell_type": "code",
   "execution_count": 58,
   "id": "d8ea4758",
   "metadata": {},
   "outputs": [
    {
     "name": "stdout",
     "output_type": "stream",
     "text": [
      "odict_keys(['0', '1', '2', '3', '4', '5', '6', '7']) odict_values(['6', '9', '4', '1', '9', '0', 'c', 'd'])\n"
     ]
    }
   ],
   "source": [
    "print(od.keys(), od.values())"
   ]
  },
  {
   "cell_type": "code",
   "execution_count": 60,
   "id": "7b156d00",
   "metadata": {},
   "outputs": [
    {
     "name": "stdout",
     "output_type": "stream",
     "text": [
      "694190cd\n"
     ]
    }
   ],
   "source": [
    "solution = ''\n",
    "for value in od.values():\n",
    "    solution += value\n",
    "print(solution)"
   ]
  },
  {
   "cell_type": "markdown",
   "id": "375321e9",
   "metadata": {},
   "source": [
    "## Complete solution"
   ]
  },
  {
   "cell_type": "code",
   "execution_count": 3,
   "id": "4aba679b",
   "metadata": {},
   "outputs": [
    {
     "name": "stdout",
     "output_type": "stream",
     "text": [
      "1000000\n",
      "2000000\n",
      "3000000\n",
      "4000000\n",
      "5000000\n",
      "6000000\n",
      "7000000\n",
      "8000000\n",
      "9000000\n",
      "10000000\n",
      "11000000\n",
      "12000000\n",
      "13000000\n",
      "14000000\n",
      "15000000\n",
      "16000000\n",
      "17000000\n",
      "18000000\n",
      "19000000\n",
      "20000000\n",
      "21000000\n",
      "22000000\n",
      "23000000\n",
      "24000000\n",
      "25000000\n",
      "26000000\n",
      "1a3099aa\n",
      "694190cd\n"
     ]
    }
   ],
   "source": [
    "import hashlib\n",
    "import collections\n",
    "index = 0\n",
    "password = ''\n",
    "password_dict = {}\n",
    "while len(password_dict) <= 7:\n",
    "    key = part1_input + str(index)\n",
    "    hashed_key = hashlib.md5(bytes(key, encoding='utf-8')).hexdigest()\n",
    "    if hashed_key[:5] == '00000':\n",
    "        if len(password) <= 7:\n",
    "            password += hashed_key[5]\n",
    "        if hashed_key[5] in ['0', '1', '2', '3', '4', '5', '6', '7']:\n",
    "            if hashed_key[5] not in password_dict.keys():\n",
    "                location = hashed_key[5] \n",
    "                value = hashed_key[6] \n",
    "                password_dict[location] = value\n",
    "    index += 1\n",
    "    if index % 1000000 == 0:\n",
    "        print(index)\n",
    "\n",
    "od = collections.OrderedDict(sorted(password_dict.items()))\n",
    "solution = ''\n",
    "for value in od.values():\n",
    "    solution += value\n",
    "\n",
    "print(password)\n",
    "print(solution)"
   ]
  },
  {
   "cell_type": "code",
   "execution_count": null,
   "id": "bff22826",
   "metadata": {},
   "outputs": [],
   "source": []
  }
 ],
 "metadata": {
  "kernelspec": {
   "display_name": "Python 3",
   "language": "python",
   "name": "python3"
  },
  "language_info": {
   "codemirror_mode": {
    "name": "ipython",
    "version": 3
   },
   "file_extension": ".py",
   "mimetype": "text/x-python",
   "name": "python",
   "nbconvert_exporter": "python",
   "pygments_lexer": "ipython3",
   "version": "3.8.8"
  }
 },
 "nbformat": 4,
 "nbformat_minor": 5
}
