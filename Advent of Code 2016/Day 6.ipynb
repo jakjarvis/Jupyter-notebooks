{
 "cells": [
  {
   "cell_type": "markdown",
   "id": "f3457ff0",
   "metadata": {},
   "source": [
    "# Day 6: Signals and Noise"
   ]
  },
  {
   "cell_type": "markdown",
   "id": "358399ec",
   "metadata": {},
   "source": [
    "Something is jamming your communications with Santa. Fortunately, your signal is only partially jammed, and protocol in situations like this is to switch to a simple repetition code to get the message through.\n",
    "\n",
    "In this model, the same message is sent repeatedly. You've recorded the repeating message signal (your puzzle input), but the data seems quite corrupted - almost too badly to recover. Almost.\n",
    "\n",
    "All you need to do is figure out which character is most frequent for each position. For example, suppose you had recorded the following messages:\n",
    "\n",
    "eedadn\n",
    "\n",
    "drvtee\n",
    "\n",
    "eandsr\n",
    "\n",
    "raavrd\n",
    "\n",
    "atevrs\n",
    "\n",
    "tsrnev\n",
    "\n",
    "sdttsa\n",
    "\n",
    "rasrtv\n",
    "\n",
    "nssdts\n",
    "\n",
    "ntnada\n",
    "\n",
    "svetve\n",
    "\n",
    "tesnvt\n",
    "\n",
    "vntsnd\n",
    "\n",
    "vrdear\n",
    "\n",
    "dvrsen\n",
    "\n",
    "enarar\n",
    "\n",
    "The most common character in the first column is e; in the second, a; in the third, s, and so on. Combining these characters returns the error-corrected message, easter.\n",
    "\n",
    "Given the recording in your puzzle input, what is the error-corrected version of the message being sent?"
   ]
  },
  {
   "cell_type": "code",
   "execution_count": null,
   "id": "c821cb01",
   "metadata": {},
   "outputs": [],
   "source": []
  }
 ],
 "metadata": {
  "kernelspec": {
   "display_name": "Python 3",
   "language": "python",
   "name": "python3"
  },
  "language_info": {
   "codemirror_mode": {
    "name": "ipython",
    "version": 3
   },
   "file_extension": ".py",
   "mimetype": "text/x-python",
   "name": "python",
   "nbconvert_exporter": "python",
   "pygments_lexer": "ipython3",
   "version": "3.8.8"
  }
 },
 "nbformat": 4,
 "nbformat_minor": 5
}
