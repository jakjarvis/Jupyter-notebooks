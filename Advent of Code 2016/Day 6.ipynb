{
 "cells": [
  {
   "cell_type": "markdown",
   "id": "1a9c9052",
   "metadata": {},
   "source": [
    "## Day 6: Signals and Noise"
   ]
  },
  {
   "cell_type": "markdown",
   "id": "85e804e8",
   "metadata": {},
   "source": [
    "Something is jamming your communications with Santa. Fortunately, your signal is only partially jammed, and protocol in situations like this is to switch to a simple repetition code to get the message through.\n",
    "\n",
    "In this model, the same message is sent repeatedly. You've recorded the repeating message signal (your puzzle input), but the data seems quite corrupted - almost too badly to recover. Almost.\n",
    "\n",
    "All you need to do is figure out which character is most frequent for each position. For example, suppose you had recorded the following messages:\n",
    "\n",
    "eedadn\n",
    "\n",
    "drvtee\n",
    "\n",
    "eandsr\n",
    "\n",
    "raavrd\n",
    "\n",
    "atevrs\n",
    "\n",
    "tsrnev\n",
    "\n",
    "sdttsa\n",
    "\n",
    "rasrtv\n",
    "\n",
    "nssdts\n",
    "\n",
    "ntnada\n",
    "\n",
    "svetve\n",
    "\n",
    "tesnvt\n",
    "\n",
    "vntsnd\n",
    "\n",
    "vrdear\n",
    "\n",
    "dvrsen\n",
    "\n",
    "enarar\n",
    "\n",
    "The most common character in the first column is e; in the second, a; in the third, s, and so on. Combining these characters returns the error-corrected message, easter.\n",
    "\n",
    "Given the recording in your puzzle input, what is the error-corrected version of the message being sent?\n"
   ]
  },
  {
   "cell_type": "code",
   "execution_count": 1,
   "id": "159d752a",
   "metadata": {},
   "outputs": [],
   "source": [
    "part1_input = \"cqvkxhiptgswqbjhymbqjoauyakqfnvbklwpoxakebfterscmuhqajoysttjluapnbfrccxfpjtxsrdtpcehiulximtchqqushtdcptugziwdtvtgkisootedmodaoybmqykfphlrchfhsxrexpmfmmieyyjzupdysoqeeibphedgsluxmwituwfcibvkswhdusqdmkmoajlhpcjnqbvrtsveytohbvbbyjvrycgoorhjlllbflfjdazwtydcsemxinelpsxbkrenkkckuhljsqofhkrtpkgqkiohorirzebhkwvprpldmyfdstdrxbojgtenhmcvpibddhknkytfknohldsxaoqqgwusrkdxlsuuduxbuxfxaiyuljrvuenawoyppaiigplagubkqfiefgccqjukqufdjxuuizuzvuetjliuwcrclvygtdlktivcvwbsaxjzpwzzepjvmdmkgqzqfsxdnrfmhqtikwvfduxoluyemhhanfczglqrchcjvvjspsurndsqnkyitzjeqfrlnpslqsjyxohoogqoqmmzizoginjbszzqhdnjnxsmjtbhrzlzorxielbxflyknuxxrssqfpxtcvrpzxnsgnholchnlpbrofnqclukwkrfoylzchchieqxicpnqvwnhptssubumixvtbpattpncgmzjmvwtzedksgmvlatfbjithfpwgrdmqvfiltlbnovpithqfzxflrpgeeancnrpdiwwleehkipwnxpncgkqeychzakbifdoooixwkxztjzzrsvhyqtnjacbzmragfrxqhsehwrxzuqnoykvldlabxcrsslumdcbxmypaqqzevgrcoteiavilbyjuhsfkjasutrkwncsgkdxtwfbdppqjnivaewkpqiznlnknbbtxpvjxkrrpatocgyxgkxenmyrszvqpoolhjkcacdmaxpvogwzicsunceoaozeknoqbcrcjejjpcwqaezlyibftonkkarjbdrrsrbrlrgllxvuvepkanrgdsbylfpxdmtzkvedoteidxawifnwvcofjzxkfverduwgncgvvyepwrztowmybcqyzaarxfmrfdutcbwrtaiwdfihgptkskahasvvkmupxbffetjcgunmaoaihpwilheaugpmshnqggpzbjnbtwzlxbrzhzxwikirugrprmighuxaaaioxrmqxpjfgwejhezvghbrjmtonmwskkwezekkaxuuibmdrbckzyidpwlzfgfqfdktuqjnurlababbgftoqtsgiuadsrpwzcfnirmytlszbvuxcwljqslyrangoqlnmbpgejqjjugspskptbbitasppvfzzwghkleimhaupnupvytzxtqzevdbcyghnuqaygxqjovgscfmwbraoylhwpgewyhjjhbsozmymaskpkdxcxqcngjsxkxlznquqatztogrtfbvnovdafcrlrvjsqafbpxgwlgwbeomezaezkolyvcooulafbdnrsyvdaljudufizctwxlrycdjmebdhhktoaoxmdafqaqbbjmobvjjykyplopntikwkqjzolfcvncctmpkbzlejzaxxxbdqjgnjurhklqakjwsvwvkoagapmtpeyuvqiomejmbtwyhitogvjybpwtcvbxtnuyfyhisvpwgzaozdntafhhysgmgvhzbgkvytjfntphlndxjyujmbwuvnhgphldecpnkwqkmkepzcplwegdttvepkpsehcuouovxthagvppzanzxllwuvwektemcjlzegwoyifhqhrdyzqqiyxumhktrbebakaetjxsihfyxjgfvnfjoywcwmzteeqmoikqjknvrmqavpxxuninaemzbmajpbxexkkifevcqzntcnibepdyzppffmlxhqgnbqclvvopbzwpnzmeuonovzzvvshmcqmuqjpoadvyhfktkgnxpyymvbisygcoccsfticfawfwbvyhqmqpuamptjxkjtkhzxuosyezingpdhgjiombirpvjtvrsesfdlzglxqggooqynzfmwotljxmnzzmfrovtvjvcqukmpiufethwsvlelqwdenjddogfqtffbycxneiweewtribxyegvuszzzupugjyrqpyewglqmlbeqgcrqnazmucsetkicbbxtubmihylgtedjrinqfvvdretynzkakzfkpqbraqzwoujpgjzdchdobaxgratghhhawouucgcwsiodycvikljjdonpennekdlazlbrzjrknjjwewnjitfdkekdfeidbjaizhssryuotoajvmyujfziqlofouisyryfhssucyqxawyvmbyuqfomhuoolscyogldxuznjymzztnmfndhuwmaiqhjdjrtvsvyszpgdzcdwrpzjgslvuulfdwbagfctmdsojcqqmnxehbzxgupzzbhofhjoszmkzygsydsnzkwedjbctccsutqjhlzrdslwhsraujxkxaldpanonqflbrhfqycuadewetuwrzsxqpydypfaxikkvgoncwxpkqcrmyilvwsswwltbjxktjpilyzyaehhnoccjwktvolhauxwzeeaczxkcgiyzqtgwrflucjumupwfuwqtlgvwoqmlaybkcqhmawgcbyqofuaudemgtkhbeuusvrzwaxwohqiojuxmnmttbvejlluhifpzuhdfnaqhsedbspirkqoshpxqzvdlvucrwbglslydjpwgibnedzgvmwsteacriwwgcvzijnallokdnqudkywadmhmadxishefeharxjjsqzpbcguohmflgzdqrrsygggsxxrafvsxnaterpktdiytzmhwecsvxnmuiksxtzmypqpajddfyaoughgepvdtbnipyynubywdpjdgbafvlomtyymzpitxkwrtzclhsozwduicuqgsltpfxwoiyrmivtkhdmfndbxznqwrzrsfxktgznxindnyerlairalvumjfsfyysysvztyezlqsjpktkbxfujksjijkymepzmlrtlztdgnluspnedhuwocmgknygyugbkryzsjezzuxwwczouawrcdzadtobynxxzswicrqsvjqywnfnskdzvcwmhgogmydcrdkcuvthhhkmraojfkcgbpskpqgknjgttoywbqczgoiqpwmcvfxjrhvcelaaizayrxfcldeuugovaqtomdbcymhvqyjzeuyxcsejtfvqnpbvavgovtpitipoklnfxhrazwhbqsglibeuhoifppojyvmuzyynnekknnxggwodsnkhpvkctrcxwiluqgnhsygnonwwgewiukcbqnvcbjiisqtqtdochmmeicwmwfrwlhcautqpgoihxktetyrcekmmvlxoyyqxpvlbvilrauqnsdjdfjadyopgriwunbapswrplbwpjshfugllaknhgmlsgriknnrmghoxzmvsrqvqdqxrvlyyvpffjghhflirvkhmzdartqixervozfdgemrrnuvnbxxpzlqvanhjtumorijwrsgogttyejlfgdzocbarxtobfczrzjduovlgkvnekprknsjfruleiwboemxaswrftihqcepmhawfqxaelhqvzrkbwzwvciodjczyrbdhqixhfswysndauoxcnlhhwxiryadpagordsuuxfdnqnynlzhfjffmwgpyjidbgnwevwuculiupcymyvkgmfifqbhvsijxfzmrqhugjbhinaeffbcfpywxtejmzqpprytsgkcmlmbeoruomfeexvvtpcfnkzcihodibnnfoffoirmldwivoejrzqylnifnjdpababiidqmoaglmsjkrxwqghpdagufhhjerubjzhfgjglhagkrmwiwhahqdlbyhcebgahhhxupcdulzuzyixxdqhiodydkrksxopgdazjfiebrjoyrrmaejpwkmxekimgsijvntcoscwrfiyvmbhfgzughlwgbwylwltpjgkkyewsspddssctoyeuvvskjcqabzwfutxuewoqymawhtxeqmpvcmhrmflsjxrstnycbhaavqqxccouawtyktkmxcjxxeheudiqlosrmiwwrwufavnfdyxfokmkaxvnzztetbgoevrbmbwfkthpfjddesetaavygkqvdnqsyemmqriqlyiqtxesvuchuipfslklicgenqjcpibumqsxkxmsvbjoiplghjsxdwelukpmbfqmipavgmiafoaecdusidajnfvxsymknfoyfjsysvmpwtxlvvkogsoblijmgwktdjrgztrmbydnrcfisjottnehjlzsqbindszmufvgrdfcalplxxjcwqwnvmmyjowlcdnodixwaaphfnpbvekexcgapeldmlswbknaxeikbgcgmlnbsbvuwbdcnbbwxbhmgyziadnccvbacypeeqtbluknupbtanytrybqddnwwlurieqmyvcsrdslqafsfiyiaiceasodlyjetpbhosxcqzgosdydqiuyzhvxpzumjpruwlxvleexrrmafxkbfikzdlbhvvzgfnivckwbga\"\n",
    "code_length = 8"
   ]
  },
  {
   "cell_type": "code",
   "execution_count": 25,
   "id": "b7c94854",
   "metadata": {},
   "outputs": [
    {
     "name": "stdout",
     "output_type": "stream",
     "text": [
      "gyvwpxaz jucfoary\n"
     ]
    }
   ],
   "source": [
    "def solver(part1_input, code_length):\n",
    "    input_list = []\n",
    "    while len(part1_input) >= 1:\n",
    "        input_list += [part1_input[:code_length]]\n",
    "        part1_input = part1_input[code_length:]\n",
    "    part1_solution = ''\n",
    "    part2_solution = ''\n",
    "    character_dict = {}\n",
    "    for character in range(code_length):\n",
    "        for code in range(len(input_list)):\n",
    "            if input_list[code][character] not in character_dict:\n",
    "                character_dict[input_list[code][character]] = 0\n",
    "            character_dict[input_list[code][character]] += 1\n",
    "            character_dict[input_list[code][character]] += 1\n",
    "        sorted_dict = sorted(character_dict.items(), key=lambda x: x[1], reverse=True)\n",
    "        part1_solution += sorted_dict[0][0]\n",
    "        sorted_dict = sorted(character_dict.items(), key=lambda x: x[1])\n",
    "        part2_solution += sorted_dict[0][0]\n",
    "        character_dict = {}\n",
    "    print(part1_solution, part2_solution)\n",
    "\n",
    "solver(part1_input, code_length)"
   ]
  },
  {
   "cell_type": "markdown",
   "id": "b6267bc3",
   "metadata": {},
   "source": [
    "## Part 2"
   ]
  },
  {
   "cell_type": "markdown",
   "id": "deed4164",
   "metadata": {},
   "source": [
    "Of course, that would be the message - if you hadn't agreed to use a modified repetition code instead.\n",
    "\n",
    "In this modified code, the sender instead transmits what looks like random data, but for each character, the character they actually want to send is slightly less likely than the others. Even after signal-jamming noise, you can look at the letter distributions in each column and choose the least common letter to reconstruct the original message.\n",
    "\n",
    "In the above example, the least common character in the first column is a; in the second, d, and so on. Repeating this process for the remaining characters produces the original message, advent.\n",
    "\n",
    "Given the recording in your puzzle input and this new decoding methodology, what is the original message that Santa is trying to send?"
   ]
  },
  {
   "cell_type": "code",
   "execution_count": null,
   "id": "fd2ddcd6",
   "metadata": {},
   "outputs": [],
   "source": []
  }
 ],
 "metadata": {
  "kernelspec": {
   "display_name": "Python 3",
   "language": "python",
   "name": "python3"
  },
  "language_info": {
   "codemirror_mode": {
    "name": "ipython",
    "version": 3
   },
   "file_extension": ".py",
   "mimetype": "text/x-python",
   "name": "python",
   "nbconvert_exporter": "python",
   "pygments_lexer": "ipython3",
   "version": "3.8.8"
  }
 },
 "nbformat": 4,
 "nbformat_minor": 5
}
