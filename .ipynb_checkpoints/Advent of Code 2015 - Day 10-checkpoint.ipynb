{
 "cells": [
  {
   "cell_type": "markdown",
   "metadata": {},
   "source": [
    "# --- Day 10: Elves Look, Elves Say ---\n",
    "\n",
    "Today, the Elves are playing a game called look-and-say. They take turns making sequences by reading aloud the previous sequence and using that reading as the next sequence. For example, 211 is read as \"one two, two ones\", which becomes 1221 (1 2, 2 1s).\n",
    "\n",
    "Look-and-say sequences are generated iteratively, using the previous value as input for the next step. For each step, take the previous value, and replace each run of digits (like 111) with the number of digits (3) followed by the digit itself (1).\n",
    "\n",
    "For example:\n",
    "\n",
    "- 1 becomes 11 (1 copy of digit 1).\n",
    "- 11 becomes 21 (2 copies of digit 1).\n",
    "- 21 becomes 1211 (one 2 followed by one 1).\n",
    "- 1211 becomes 111221 (one 1, one 2, and two 1s).\n",
    "- 111221 becomes 312211 (three 1s, two 2s, and one 1).\n",
    "\n",
    "Starting with the digits in your puzzle input, apply this process 40 times. What is the length of the result?\n",
    "\n",
    "Your puzzle input is 1113122113.\n",
    "\n",
    "# Part 2\n",
    "\n",
    "Is the same code but iterated 50 times (major computing power required, probably bad code!)"
   ]
  },
  {
   "cell_type": "code",
   "execution_count": 47,
   "metadata": {},
   "outputs": [
    {
     "name": "stdout",
     "output_type": "stream",
     "text": [
      "Length of LaS is 12\n",
      "Length of LaS is 14\n",
      "Length of LaS is 22\n",
      "Length of LaS is 26\n",
      "Length of LaS is 30\n",
      "Length of LaS is 44\n",
      "Length of LaS is 56\n",
      "Length of LaS is 70\n",
      "Length of LaS is 98\n",
      "Length of LaS is 130\n",
      "Length of LaS is 162\n",
      "Length of LaS is 216\n",
      "Length of LaS is 292\n",
      "Length of LaS is 358\n",
      "Length of LaS is 470\n",
      "Length of LaS is 628\n",
      "Length of LaS is 792\n",
      "Length of LaS is 1050\n",
      "Length of LaS is 1384\n",
      "Length of LaS is 1788\n",
      "Length of LaS is 2334\n",
      "Length of LaS is 3072\n",
      "Length of LaS is 3974\n",
      "Length of LaS is 5162\n",
      "Length of LaS is 6784\n",
      "Length of LaS is 8786\n",
      "Length of LaS is 11420\n",
      "Length of LaS is 14992\n",
      "Length of LaS is 19484\n",
      "Length of LaS is 25388\n",
      "Length of LaS is 33160\n",
      "Length of LaS is 43262\n",
      "Length of LaS is 56252\n",
      "Length of LaS is 73392\n",
      "Length of LaS is 95798\n",
      "Length of LaS is 124496\n",
      "Length of LaS is 162556\n",
      "Length of LaS is 212048\n",
      "Length of LaS is 275976\n",
      "Length of LaS is 360154\n"
     ]
    }
   ],
   "source": [
    "LaS = str(1113122113) # next should be 311311222113, next 13211321322113\n",
    "\n",
    "for n in range(40):\n",
    "    \n",
    "    new = \"\"\n",
    "    counter = 1\n",
    "    run = 1\n",
    "    \n",
    "    for x in LaS:\n",
    "        \n",
    "        # print('Assessing ' + x + ' at position ' + str(counter))\n",
    "        \n",
    "        # print('Length is ' + str(len(LaS)) + ', counter is ' + str(counter))\n",
    "        \n",
    "        if counter == len(LaS):\n",
    "            new = new + str(run) + str(x)\n",
    "            LaS = new\n",
    "            # print('LaS is ' + LaS)\n",
    "        \n",
    "        elif x == LaS[counter]:\n",
    "            run += 1\n",
    "            # print(x + ' at position ' + str(counter) + ' equal to next digit ' + LaS[counter])\n",
    "            # print ('Run plus 1: now ' + str(run))\n",
    "        \n",
    "        else:\n",
    "            new = new + str(run) + str(x)\n",
    "            run = 1\n",
    "            # print('New variable is ' + new)\n",
    "            \n",
    "        counter += 1\n",
    "        \n",
    "        # print('Counter is ' + str(counter))\n",
    "    \n",
    "    # print('New LaS is ' + LaS)\n",
    "    print('Length of LaS is ' + str(len(LaS)))"
   ]
  },
  {
   "cell_type": "code",
   "execution_count": null,
   "metadata": {},
   "outputs": [],
   "source": [
    "print(LaS)"
   ]
  },
  {
   "cell_type": "code",
   "execution_count": null,
   "metadata": {},
   "outputs": [],
   "source": []
  }
 ],
 "metadata": {
  "kernelspec": {
   "display_name": "Python 3",
   "language": "python",
   "name": "python3"
  }
 },
 "nbformat": 4,
 "nbformat_minor": 4
}
