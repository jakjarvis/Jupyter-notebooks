{
 "cells": [
  {
   "cell_type": "code",
   "execution_count": null,
   "metadata": {},
   "outputs": [],
   "source": [
    "2 + 2"
   ]
  },
  {
   "cell_type": "code",
   "execution_count": null,
   "metadata": {},
   "outputs": [],
   "source": [
    "5-3"
   ]
  },
  {
   "cell_type": "code",
   "execution_count": null,
   "metadata": {},
   "outputs": [],
   "source": [
    "3*7"
   ]
  },
  {
   "cell_type": "code",
   "execution_count": null,
   "metadata": {},
   "outputs": [],
   "source": [
    "22/7"
   ]
  },
  {
   "cell_type": "code",
   "execution_count": null,
   "metadata": {},
   "outputs": [],
   "source": [
    "2+3*6"
   ]
  },
  {
   "cell_type": "code",
   "execution_count": null,
   "metadata": {},
   "outputs": [],
   "source": [
    "(2+3)*6"
   ]
  },
  {
   "cell_type": "code",
   "execution_count": null,
   "metadata": {},
   "outputs": [],
   "source": [
    "5+"
   ]
  },
  {
   "cell_type": "code",
   "execution_count": null,
   "metadata": {},
   "outputs": [],
   "source": [
    " 'alice' + 'bob'"
   ]
  },
  {
   "cell_type": "code",
   "execution_count": null,
   "metadata": {},
   "outputs": [],
   "source": [
    "'alice' * 3"
   ]
  },
  {
   "cell_type": "code",
   "execution_count": null,
   "metadata": {},
   "outputs": [],
   "source": [
    "'hello' + '!' * 3"
   ]
  },
  {
   "cell_type": "code",
   "execution_count": null,
   "metadata": {},
   "outputs": [],
   "source": [
    "spam = 42"
   ]
  },
  {
   "cell_type": "code",
   "execution_count": null,
   "metadata": {},
   "outputs": [],
   "source": [
    "spam"
   ]
  },
  {
   "cell_type": "code",
   "execution_count": null,
   "metadata": {},
   "outputs": [],
   "source": [
    "spam = 'hello'"
   ]
  },
  {
   "cell_type": "code",
   "execution_count": null,
   "metadata": {},
   "outputs": [],
   "source": [
    "spam + ' world'"
   ]
  },
  {
   "cell_type": "code",
   "execution_count": null,
   "metadata": {},
   "outputs": [],
   "source": [
    "spam = 2+2"
   ]
  },
  {
   "cell_type": "code",
   "execution_count": null,
   "metadata": {},
   "outputs": [],
   "source": [
    "spam"
   ]
  },
  {
   "cell_type": "code",
   "execution_count": null,
   "metadata": {},
   "outputs": [],
   "source": [
    "spam=10"
   ]
  },
  {
   "cell_type": "code",
   "execution_count": null,
   "metadata": {},
   "outputs": [],
   "source": [
    "spam=spam+1"
   ]
  },
  {
   "cell_type": "code",
   "execution_count": null,
   "metadata": {},
   "outputs": [],
   "source": [
    "spam"
   ]
  },
  {
   "cell_type": "code",
   "execution_count": null,
   "metadata": {},
   "outputs": [],
   "source": [
    "# This program says hello and asks for my name\n",
    "\n",
    "print('Hello world')\n",
    "print('What is your name?') # ask for their name\n",
    "myName = input()\n",
    "print('It is good to meet you, ' + myName)\n",
    "print('The length of your name is:')\n",
    "print(len(myName))\n",
    "print('What is your age?') # ask for their age\n",
    "myAge = input()\n",
    "print('You will be ' + str(int(myAge) + 1) + ' in a year.')\n"
   ]
  },
  {
   "cell_type": "code",
   "execution_count": null,
   "metadata": {},
   "outputs": [],
   "source": [
    "len('Al')"
   ]
  },
  {
   "cell_type": "code",
   "execution_count": null,
   "metadata": {},
   "outputs": [],
   "source": [
    "42==42"
   ]
  },
  {
   "cell_type": "code",
   "execution_count": null,
   "metadata": {},
   "outputs": [],
   "source": [
    "42=='Hello'"
   ]
  },
  {
   "cell_type": "code",
   "execution_count": null,
   "metadata": {},
   "outputs": [],
   "source": [
    "42==41"
   ]
  },
  {
   "cell_type": "code",
   "execution_count": null,
   "metadata": {},
   "outputs": [],
   "source": [
    "2 != 3"
   ]
  },
  {
   "cell_type": "code",
   "execution_count": null,
   "metadata": {},
   "outputs": [],
   "source": [
    "2 > 4"
   ]
  },
  {
   "cell_type": "code",
   "execution_count": null,
   "metadata": {},
   "outputs": [],
   "source": [
    "4 > 2"
   ]
  },
  {
   "cell_type": "code",
   "execution_count": null,
   "metadata": {},
   "outputs": [],
   "source": [
    "3 <= 3"
   ]
  },
  {
   "cell_type": "code",
   "execution_count": null,
   "metadata": {},
   "outputs": [],
   "source": [
    "42 == '42'"
   ]
  },
  {
   "cell_type": "code",
   "execution_count": null,
   "metadata": {},
   "outputs": [],
   "source": [
    "42 == 42.0"
   ]
  },
  {
   "cell_type": "code",
   "execution_count": null,
   "metadata": {},
   "outputs": [],
   "source": [
    "True and True"
   ]
  },
  {
   "cell_type": "code",
   "execution_count": null,
   "metadata": {},
   "outputs": [],
   "source": [
    "False and True"
   ]
  },
  {
   "cell_type": "code",
   "execution_count": null,
   "metadata": {},
   "outputs": [],
   "source": [
    "False and Flase"
   ]
  },
  {
   "cell_type": "code",
   "execution_count": null,
   "metadata": {},
   "outputs": [],
   "source": [
    "False and False"
   ]
  },
  {
   "cell_type": "code",
   "execution_count": null,
   "metadata": {},
   "outputs": [],
   "source": [
    "True or True"
   ]
  },
  {
   "cell_type": "code",
   "execution_count": null,
   "metadata": {},
   "outputs": [],
   "source": [
    "True or False"
   ]
  },
  {
   "cell_type": "code",
   "execution_count": null,
   "metadata": {},
   "outputs": [],
   "source": [
    "False or Flase"
   ]
  },
  {
   "cell_type": "code",
   "execution_count": null,
   "metadata": {},
   "outputs": [],
   "source": [
    "False or False"
   ]
  },
  {
   "cell_type": "code",
   "execution_count": null,
   "metadata": {},
   "outputs": [],
   "source": [
    "not True"
   ]
  },
  {
   "cell_type": "code",
   "execution_count": null,
   "metadata": {},
   "outputs": [],
   "source": [
    "not False"
   ]
  },
  {
   "cell_type": "code",
   "execution_count": null,
   "metadata": {},
   "outputs": [],
   "source": [
    "myAge = 26\n",
    "myPet = 'cat'\n",
    "myAge > 20 and myPet == 'cat'"
   ]
  },
  {
   "cell_type": "code",
   "execution_count": null,
   "metadata": {},
   "outputs": [],
   "source": [
    "name = 'Alice'\n",
    "if name == 'Alice':\n",
    "    print('Hi Alice')\n",
    "    \n",
    "print('Done')"
   ]
  },
  {
   "cell_type": "code",
   "execution_count": null,
   "metadata": {},
   "outputs": [],
   "source": [
    "password = 'swordfosh'\n",
    "if password == 'swordfish':\n",
    "    print('Access granted')\n",
    "else:\n",
    "    print('Wrong password')"
   ]
  },
  {
   "cell_type": "code",
   "execution_count": null,
   "metadata": {},
   "outputs": [],
   "source": [
    "name = 'bob'\n",
    "age = 3000\n",
    "if name == 'Alice':\n",
    "    print('Hi Alice')\n",
    "elif age < 12:\n",
    "    print('You are not Alice kiddo')\n",
    "elif age > 2000:\n",
    "    print('Unlike you, Alice isnt an immortal')"
   ]
  },
  {
   "cell_type": "code",
   "execution_count": null,
   "metadata": {},
   "outputs": [],
   "source": [
    "spam = 0\n",
    "while spam < 5:\n",
    "    print('Hello WOrld')\n",
    "    spam = spam + 1"
   ]
  },
  {
   "cell_type": "code",
   "execution_count": null,
   "metadata": {},
   "outputs": [],
   "source": [
    "name = ''\n",
    "while name != 'your name':\n",
    "    print('Please type your name')\n",
    "    name = input()\n",
    "print('Thank you')"
   ]
  },
  {
   "cell_type": "code",
   "execution_count": null,
   "metadata": {},
   "outputs": [],
   "source": [
    "spam = 0\n",
    "while spam < 5:\n",
    "    spam = spam + 1\n",
    "    if spam == 3:\n",
    "        continue\n",
    "    print('spam is' + str(spam))"
   ]
  },
  {
   "cell_type": "code",
   "execution_count": null,
   "metadata": {},
   "outputs": [],
   "source": [
    "print('my name is')\n",
    "for i in range(5):\n",
    "    print ('Jimmy Five Times' + str(i))"
   ]
  },
  {
   "cell_type": "code",
   "execution_count": null,
   "metadata": {},
   "outputs": [],
   "source": [
    "total = 0\n",
    "for num in range(101):\n",
    "    total = total + num\n",
    "print(total)"
   ]
  },
  {
   "cell_type": "code",
   "execution_count": null,
   "metadata": {},
   "outputs": [],
   "source": [
    "range(0,10)"
   ]
  },
  {
   "cell_type": "code",
   "execution_count": null,
   "metadata": {},
   "outputs": [],
   "source": [
    "range(10)"
   ]
  },
  {
   "cell_type": "code",
   "execution_count": null,
   "metadata": {},
   "outputs": [],
   "source": [
    "print('myy name is')\n",
    "for i in range(16,12,-1):\n",
    "    print('Jimmy 5 times' + str(i))"
   ]
  },
  {
   "cell_type": "code",
   "execution_count": null,
   "metadata": {},
   "outputs": [],
   "source": [
    "import sys\n",
    "print('Hello')\n",
    "sys.exit()\n",
    "print('goodbye')"
   ]
  },
  {
   "cell_type": "code",
   "execution_count": null,
   "metadata": {},
   "outputs": [],
   "source": [
    "import pyperclip"
   ]
  },
  {
   "cell_type": "code",
   "execution_count": null,
   "metadata": {},
   "outputs": [],
   "source": [
    "import pyperclip"
   ]
  },
  {
   "cell_type": "code",
   "execution_count": null,
   "metadata": {},
   "outputs": [],
   "source": [
    "pyperclip.copy('Hello World')"
   ]
  },
  {
   "cell_type": "code",
   "execution_count": null,
   "metadata": {},
   "outputs": [],
   "source": [
    "pyperclip.paste()"
   ]
  },
  {
   "cell_type": "code",
   "execution_count": null,
   "metadata": {},
   "outputs": [],
   "source": [
    "def hello():\n",
    "    print('Howdy!')\n",
    "    print('Hi there')\n",
    "    print('Hizoooo')"
   ]
  },
  {
   "cell_type": "code",
   "execution_count": null,
   "metadata": {},
   "outputs": [],
   "source": [
    "hello()"
   ]
  },
  {
   "cell_type": "code",
   "execution_count": null,
   "metadata": {},
   "outputs": [],
   "source": [
    "def hello(name):\n",
    "    print('Hello ' + name)\n",
    "    \n",
    "hello('Alice')\n",
    "hello('Bob')"
   ]
  },
  {
   "cell_type": "code",
   "execution_count": null,
   "metadata": {},
   "outputs": [],
   "source": [
    "def plusOne(number):\n",
    "    return number + 1\n",
    "\n",
    "newNumber = plusOne(5)\n",
    "print(newNumber)"
   ]
  },
  {
   "cell_type": "code",
   "execution_count": null,
   "metadata": {},
   "outputs": [],
   "source": [
    "'hello'"
   ]
  },
  {
   "cell_type": "code",
   "execution_count": null,
   "metadata": {},
   "outputs": [],
   "source": [
    "print('hello')"
   ]
  },
  {
   "cell_type": "code",
   "execution_count": null,
   "metadata": {},
   "outputs": [],
   "source": [
    "None"
   ]
  },
  {
   "cell_type": "code",
   "execution_count": null,
   "metadata": {},
   "outputs": [],
   "source": [
    "spam = print()\n",
    "spam"
   ]
  },
  {
   "cell_type": "code",
   "execution_count": null,
   "metadata": {},
   "outputs": [],
   "source": [
    "spam == None"
   ]
  },
  {
   "cell_type": "code",
   "execution_count": null,
   "metadata": {},
   "outputs": [],
   "source": [
    "print('Hello', end='')\n",
    "print('World')"
   ]
  },
  {
   "cell_type": "code",
   "execution_count": null,
   "metadata": {},
   "outputs": [],
   "source": [
    "print('Hello','World')"
   ]
  },
  {
   "cell_type": "code",
   "execution_count": null,
   "metadata": {},
   "outputs": [],
   "source": [
    "print('Hello','World',sep='abc')"
   ]
  },
  {
   "cell_type": "code",
   "execution_count": null,
   "metadata": {},
   "outputs": [],
   "source": [
    "spam = 42 # global variable\n",
    "\n",
    "def eggs():\n",
    "    global eggs # makes the local eggs variable global\n",
    "    spam = 42 # no longer a local variable\n",
    "\n",
    "print('Some code here.')\n",
    "print('Some more code.')"
   ]
  },
  {
   "cell_type": "code",
   "execution_count": null,
   "metadata": {},
   "outputs": [],
   "source": [
    "def div42by(divideby):\n",
    "    return 42 / divideby\n",
    "\n",
    "print(div42by(2))\n",
    "print(div42by(0))\n",
    "print(div42by(42))"
   ]
  },
  {
   "cell_type": "code",
   "execution_count": null,
   "metadata": {},
   "outputs": [],
   "source": [
    "def div42by(divideby):\n",
    "    try:\n",
    "        return 42 / divideby\n",
    "    except ZeroDivisionError:\n",
    "        print('Error: you divided by 0')\n",
    "    \n",
    "print(div42by(2))\n",
    "print(div42by(0))\n",
    "print(div42by(42))"
   ]
  },
  {
   "cell_type": "code",
   "execution_count": null,
   "metadata": {},
   "outputs": [],
   "source": [
    "def div42by(divideby):\n",
    "    try:\n",
    "        return 42 / divideby\n",
    "    \n",
    "print(div42by(2))\n",
    "print(div42by(0))\n",
    "print(div42by(42))"
   ]
  },
  {
   "cell_type": "code",
   "execution_count": null,
   "metadata": {},
   "outputs": [],
   "source": [
    "print('How many cats do you have')\n",
    "numCats = input()\n",
    "if int(numCats) >=4:\n",
    "    print('That is a lot of cats')\n",
    "else:\n",
    "    print('That is not that many cats')"
   ]
  },
  {
   "cell_type": "code",
   "execution_count": null,
   "metadata": {},
   "outputs": [],
   "source": [
    "print('How many cats do you have')\n",
    "numCats = input()\n",
    "try:\n",
    "    if int(numCats) >=4:\n",
    "        print('That is a lot of cats')\n",
    "    else:\n",
    "        print('That is not that many cats')\n",
    "except ValueError:\n",
    "    print('You did not enter a number')"
   ]
  },
  {
   "cell_type": "code",
   "execution_count": null,
   "metadata": {},
   "outputs": [],
   "source": [
    "# This is a guess the number game\n",
    "import random\n",
    "\n",
    "print('Hello, what is your name?')\n",
    "name = input()\n",
    "\n",
    "print('Well, ' + name + ', I am thinking of a number between 1 and 20')\n",
    "secretNumber = random.randint(1,20)\n",
    "\n",
    "for guessesTaken in range(1, 7):\n",
    "    print('Take a guess.')\n",
    "    guess = int(input())\n",
    "    \n",
    "    if guess < secretNumber:\n",
    "        print('Your guess is too low.')\n",
    "    elif guess > secretNumber:\n",
    "        print('Your guess is too high')\n",
    "    else:\n",
    "        break # This condition is for the correct guess\n",
    "        \n",
    "if guess == secretNumber:\n",
    "    print('Good job ' + name + '! You guessed my number in ' + str(guessesTaken) + ' guesses.')\n",
    "else:\n",
    "    print('Nope, the number I was thinking of was ' + str(secretNumber)) \n",
    "    print('You took ' + str(guessesTaken) + ' guesses.')\n"
   ]
  },
  {
   "cell_type": "code",
   "execution_count": null,
   "metadata": {},
   "outputs": [],
   "source": [
    "['cat', 'bat', 'rat', 'elephant']\n",
    "spam = ['cat', 'bat', 'rat', 'elephant']"
   ]
  },
  {
   "cell_type": "code",
   "execution_count": null,
   "metadata": {},
   "outputs": [],
   "source": [
    "spam"
   ]
  },
  {
   "cell_type": "code",
   "execution_count": null,
   "metadata": {},
   "outputs": [],
   "source": [
    "spam[0]"
   ]
  },
  {
   "cell_type": "code",
   "execution_count": null,
   "metadata": {},
   "outputs": [],
   "source": [
    "spam[2]"
   ]
  },
  {
   "cell_type": "code",
   "execution_count": null,
   "metadata": {},
   "outputs": [],
   "source": [
    "['cat', 'bat', 'rat', 'elephant'][0]"
   ]
  },
  {
   "cell_type": "code",
   "execution_count": null,
   "metadata": {},
   "outputs": [],
   "source": [
    "spam = [['cat', 'bat'], [10, 20, 30, 40]]"
   ]
  },
  {
   "cell_type": "code",
   "execution_count": null,
   "metadata": {},
   "outputs": [],
   "source": [
    "spam[0]"
   ]
  },
  {
   "cell_type": "code",
   "execution_count": null,
   "metadata": {},
   "outputs": [],
   "source": [
    "spam[0][1]"
   ]
  },
  {
   "cell_type": "code",
   "execution_count": null,
   "metadata": {},
   "outputs": [],
   "source": [
    "[['cat', 'bat'], [10, 20, 30, 40]][0][1]"
   ]
  },
  {
   "cell_type": "code",
   "execution_count": null,
   "metadata": {},
   "outputs": [],
   "source": [
    "spam[1][-1] # -ve indices count back from the end of the list, starting at -1 for the last item"
   ]
  },
  {
   "cell_type": "code",
   "execution_count": null,
   "metadata": {},
   "outputs": [],
   "source": [
    "spam = ['cat', 'bat', 'rat', 'elephant']\n",
    "'The ' + spam[-1] + ' is afraid of the ' + spam [-3] "
   ]
  },
  {
   "cell_type": "code",
   "execution_count": null,
   "metadata": {},
   "outputs": [],
   "source": [
    "spam[1:3] #slices start at the first value and end at the one before the last i.e. 1:3 calls 1 and 2"
   ]
  },
  {
   "cell_type": "code",
   "execution_count": null,
   "metadata": {},
   "outputs": [],
   "source": [
    "spam = [10, 20, 30]\n",
    "spam[1] = 'Hello'\n",
    "spam"
   ]
  },
  {
   "cell_type": "code",
   "execution_count": null,
   "metadata": {},
   "outputs": [],
   "source": [
    "spam[1:3] = ['CAT', 'DOG', 'MOUSE'] # you can append a slice with any number of additions - it will essentially replace the slice with the new list of values"
   ]
  },
  {
   "cell_type": "code",
   "execution_count": null,
   "metadata": {},
   "outputs": [],
   "source": [
    "spam"
   ]
  },
  {
   "cell_type": "code",
   "execution_count": null,
   "metadata": {},
   "outputs": [],
   "source": [
    "spam[:2]"
   ]
  },
  {
   "cell_type": "code",
   "execution_count": null,
   "metadata": {},
   "outputs": [],
   "source": [
    "spam[1:]"
   ]
  },
  {
   "cell_type": "code",
   "execution_count": null,
   "metadata": {},
   "outputs": [],
   "source": [
    "del spam[2]"
   ]
  },
  {
   "cell_type": "code",
   "execution_count": null,
   "metadata": {},
   "outputs": [],
   "source": [
    "spam"
   ]
  },
  {
   "cell_type": "code",
   "execution_count": null,
   "metadata": {},
   "outputs": [],
   "source": [
    "len('Hello')"
   ]
  },
  {
   "cell_type": "code",
   "execution_count": null,
   "metadata": {},
   "outputs": [],
   "source": [
    "len([1,2,3])"
   ]
  },
  {
   "cell_type": "code",
   "execution_count": null,
   "metadata": {},
   "outputs": [],
   "source": [
    "'Hello ' + 'world'"
   ]
  },
  {
   "cell_type": "code",
   "execution_count": null,
   "metadata": {},
   "outputs": [],
   "source": [
    "[1,2,3] + [4,5,6]"
   ]
  },
  {
   "cell_type": "code",
   "execution_count": null,
   "metadata": {},
   "outputs": [],
   "source": [
    "[1,2,3] * 3"
   ]
  },
  {
   "cell_type": "code",
   "execution_count": null,
   "metadata": {},
   "outputs": [],
   "source": [
    "int('42')"
   ]
  },
  {
   "cell_type": "code",
   "execution_count": null,
   "metadata": {},
   "outputs": [],
   "source": [
    "list('Hello')"
   ]
  },
  {
   "cell_type": "code",
   "execution_count": null,
   "metadata": {},
   "outputs": [],
   "source": [
    "'howdy' in ['Hello', 'howdy', 'hi']"
   ]
  },
  {
   "cell_type": "code",
   "execution_count": null,
   "metadata": {},
   "outputs": [],
   "source": [
    "'cat' in ['Hello', 'howdy', 'hi']"
   ]
  },
  {
   "cell_type": "code",
   "execution_count": null,
   "metadata": {},
   "outputs": [],
   "source": [
    "'howdy' not in ['Hello', 'howdy', 'hi']"
   ]
  },
  {
   "cell_type": "code",
   "execution_count": null,
   "metadata": {},
   "outputs": [],
   "source": [
    "list(42)"
   ]
  },
  {
   "cell_type": "code",
   "execution_count": null,
   "metadata": {},
   "outputs": [],
   "source": [
    "list('42')"
   ]
  },
  {
   "cell_type": "code",
   "execution_count": null,
   "metadata": {},
   "outputs": [],
   "source": [
    "for i in range(4):\n",
    "    print(i)"
   ]
  },
  {
   "cell_type": "code",
   "execution_count": null,
   "metadata": {},
   "outputs": [],
   "source": [
    "range(4)"
   ]
  },
  {
   "cell_type": "code",
   "execution_count": null,
   "metadata": {},
   "outputs": [],
   "source": [
    "[0,1,2,3]"
   ]
  },
  {
   "cell_type": "code",
   "execution_count": null,
   "metadata": {},
   "outputs": [],
   "source": [
    "for i in [0,1,2,3]:\n",
    "    print(i)"
   ]
  },
  {
   "cell_type": "code",
   "execution_count": null,
   "metadata": {},
   "outputs": [],
   "source": [
    "list(range(4))"
   ]
  },
  {
   "cell_type": "code",
   "execution_count": null,
   "metadata": {},
   "outputs": [],
   "source": [
    "list(range(0,100,2))"
   ]
  },
  {
   "cell_type": "code",
   "execution_count": null,
   "metadata": {},
   "outputs": [],
   "source": [
    "spam = list(range(0,100,2))"
   ]
  },
  {
   "cell_type": "code",
   "execution_count": null,
   "metadata": {},
   "outputs": [],
   "source": [
    "supplies = ['pens', 'staplers', 'flamethrowers', 'binders']\n",
    "for i in range(len(supplies)):\n",
    "    print('Index ' + str(i) + ' in supplies is: ' + supplies[i])"
   ]
  },
  {
   "cell_type": "code",
   "execution_count": null,
   "metadata": {},
   "outputs": [],
   "source": [
    "cat = ['fat', 'orange', 'loud']\n",
    "size = cat[0]\n",
    "colour = cat[1]\n",
    "disposition = [2]\n"
   ]
  },
  {
   "cell_type": "code",
   "execution_count": null,
   "metadata": {},
   "outputs": [],
   "source": [
    "cat = ['fat', 'orange', 'loud']\n",
    "size, colour, disposition = cat"
   ]
  },
  {
   "cell_type": "code",
   "execution_count": null,
   "metadata": {},
   "outputs": [],
   "source": [
    "size"
   ]
  },
  {
   "cell_type": "code",
   "execution_count": null,
   "metadata": {},
   "outputs": [],
   "source": [
    "size, colour = colour, size"
   ]
  },
  {
   "cell_type": "code",
   "execution_count": null,
   "metadata": {},
   "outputs": [],
   "source": [
    "size"
   ]
  },
  {
   "cell_type": "code",
   "execution_count": null,
   "metadata": {},
   "outputs": [],
   "source": [
    "spam = 42\n",
    "spam = spam + 1\n",
    "spam += 1\n",
    "spam"
   ]
  },
  {
   "cell_type": "code",
   "execution_count": null,
   "metadata": {},
   "outputs": [],
   "source": [
    "spam = ['hello', 'hiya', 'howdy', 'hi']"
   ]
  },
  {
   "cell_type": "code",
   "execution_count": null,
   "metadata": {},
   "outputs": [],
   "source": [
    "spam.index('hello')"
   ]
  },
  {
   "cell_type": "code",
   "execution_count": null,
   "metadata": {},
   "outputs": [],
   "source": [
    "spam.index('hiya')"
   ]
  },
  {
   "cell_type": "code",
   "execution_count": null,
   "metadata": {},
   "outputs": [],
   "source": [
    "spam = ['hello', 'hiya', 'howdy', 'hi', 'hi']\n",
    "spam.index('hi')"
   ]
  },
  {
   "cell_type": "code",
   "execution_count": null,
   "metadata": {},
   "outputs": [],
   "source": [
    "spam.append('yo!')"
   ]
  },
  {
   "cell_type": "code",
   "execution_count": null,
   "metadata": {},
   "outputs": [],
   "source": [
    "spam"
   ]
  },
  {
   "cell_type": "code",
   "execution_count": null,
   "metadata": {},
   "outputs": [],
   "source": [
    "spam.insert(1, 'chicken')\n",
    "spam"
   ]
  },
  {
   "cell_type": "code",
   "execution_count": null,
   "metadata": {},
   "outputs": [],
   "source": [
    "# methods work on certain datatypes - .index, .append, . insert only work on lists\n",
    "\n",
    "spam = 'eggs'\n",
    "spam.append('ham')"
   ]
  },
  {
   "cell_type": "code",
   "execution_count": null,
   "metadata": {},
   "outputs": [],
   "source": [
    "spam = ['hello', 'hiya', 'howdy', 'hi', 'hi']\n",
    "del spam[0]\n",
    "spam"
   ]
  },
  {
   "cell_type": "code",
   "execution_count": null,
   "metadata": {},
   "outputs": [],
   "source": [
    "spam.remove('hiya')"
   ]
  },
  {
   "cell_type": "code",
   "execution_count": null,
   "metadata": {},
   "outputs": [],
   "source": [
    "spam"
   ]
  },
  {
   "cell_type": "code",
   "execution_count": null,
   "metadata": {},
   "outputs": [],
   "source": [
    "spam.remove('hi') # like index, remove will only work on the first instance of a value\n",
    "spam"
   ]
  },
  {
   "cell_type": "code",
   "execution_count": null,
   "metadata": {},
   "outputs": [],
   "source": [
    "spam = ['hello', 'hiya', 'howdy', 'hi', 'hi']\n",
    "spam.sort()"
   ]
  },
  {
   "cell_type": "code",
   "execution_count": null,
   "metadata": {},
   "outputs": [],
   "source": [
    "spam"
   ]
  },
  {
   "cell_type": "code",
   "execution_count": null,
   "metadata": {},
   "outputs": [],
   "source": [
    "spam.sort(reverse=True)\n",
    "spam"
   ]
  },
  {
   "cell_type": "code",
   "execution_count": null,
   "metadata": {},
   "outputs": [],
   "source": [
    "spam = [1,3,6,2,5]\n",
    "spam.sort()\n",
    "spam"
   ]
  },
  {
   "cell_type": "code",
   "execution_count": null,
   "metadata": {},
   "outputs": [],
   "source": [
    "spam = [1,3,5,'eggs','ham']\n",
    "spam.sort()\n",
    "spam"
   ]
  },
  {
   "cell_type": "code",
   "execution_count": null,
   "metadata": {},
   "outputs": [],
   "source": [
    "spam = ['hello', 'Hiya', 'howdy', 'Hi', 'hi'] # sort actually is ASCII-betical - i.e. also accounts for capitals\n",
    "spam.sort()\n",
    "spam"
   ]
  },
  {
   "cell_type": "code",
   "execution_count": null,
   "metadata": {},
   "outputs": [],
   "source": [
    "spam.sort(key=str.lower)\n",
    "spam"
   ]
  },
  {
   "cell_type": "code",
   "execution_count": null,
   "metadata": {},
   "outputs": [],
   "source": [
    "name = 'Zophie'\n",
    "name[0]"
   ]
  },
  {
   "cell_type": "code",
   "execution_count": null,
   "metadata": {},
   "outputs": [],
   "source": [
    "'Zo' in name"
   ]
  },
  {
   "cell_type": "code",
   "execution_count": null,
   "metadata": {},
   "outputs": [],
   "source": [
    "for letter in name:\n",
    "    print(letter)"
   ]
  },
  {
   "cell_type": "code",
   "execution_count": null,
   "metadata": {},
   "outputs": [],
   "source": [
    "# key difference between lists and strings are that strings are immutable\n",
    "\n",
    "name[4] = 'r'\n",
    "name"
   ]
  },
  {
   "cell_type": "code",
   "execution_count": null,
   "metadata": {},
   "outputs": [],
   "source": [
    "name = 'Zophie a cat'\n",
    "newName = name[0:7] + 'the' + name[8:12]\n",
    "newName"
   ]
  },
  {
   "cell_type": "code",
   "execution_count": null,
   "metadata": {},
   "outputs": [],
   "source": [
    "spam = 42\n",
    "cheese = spam\n",
    "spam = 100\n",
    "cheese"
   ]
  },
  {
   "cell_type": "code",
   "execution_count": null,
   "metadata": {},
   "outputs": [],
   "source": [
    "spam = [0,1,2,3,4,5]\n",
    "cheese = spam\n",
    "cheese[1] = 'Hello'\n",
    "cheese"
   ]
  },
  {
   "cell_type": "code",
   "execution_count": null,
   "metadata": {},
   "outputs": [],
   "source": [
    "spam"
   ]
  },
  {
   "cell_type": "code",
   "execution_count": null,
   "metadata": {},
   "outputs": [],
   "source": [
    "# this is because when you assign a name to a list, you are actually storing a reference to the list, which has it's own id\n",
    "# so when you later assign cheese = spam, you're actually assigning the same reference to both values, and changes to either variable update the same list\n",
    "# this is the same for all mutable values, i.e. not applicable to strings or tuples"
   ]
  },
  {
   "cell_type": "code",
   "execution_count": null,
   "metadata": {},
   "outputs": [],
   "source": [
    "def eggs(someParameters):\n",
    "    someParameters.append('Hello')\n",
    "    \n",
    "spam = [1,2,3]\n",
    "eggs(spam)\n",
    "print(spam)"
   ]
  },
  {
   "cell_type": "code",
   "execution_count": null,
   "metadata": {},
   "outputs": [],
   "source": [
    "import copy"
   ]
  },
  {
   "cell_type": "code",
   "execution_count": null,
   "metadata": {},
   "outputs": [],
   "source": [
    "spam = ['A', 'B', 'c', 'D']\n",
    "cheese = copy.deepcopy(spam)"
   ]
  },
  {
   "cell_type": "code",
   "execution_count": null,
   "metadata": {},
   "outputs": [],
   "source": [
    "cheese"
   ]
  },
  {
   "cell_type": "code",
   "execution_count": null,
   "metadata": {},
   "outputs": [],
   "source": [
    "cheese.append('E')"
   ]
  },
  {
   "cell_type": "code",
   "execution_count": null,
   "metadata": {},
   "outputs": [],
   "source": [
    "cheese"
   ]
  },
  {
   "cell_type": "code",
   "execution_count": null,
   "metadata": {},
   "outputs": [],
   "source": [
    "spam"
   ]
  },
  {
   "cell_type": "code",
   "execution_count": null,
   "metadata": {},
   "outputs": [],
   "source": [
    "spam = ['apples',\n",
    "       'oranges',\n",
    "       'bananas',\n",
    "       'cats']\n",
    "spam"
   ]
  },
  {
   "cell_type": "code",
   "execution_count": null,
   "metadata": {},
   "outputs": [],
   "source": [
    "print('Four score and seven' + \\\n",
    "      # \\ is a string continuation line\n",
    "     'years ago')"
   ]
  },
  {
   "cell_type": "code",
   "execution_count": null,
   "metadata": {},
   "outputs": [],
   "source": [
    "myCat = {'size': 'fat', 'colour': 'black', 'disposition': 'loud'}"
   ]
  },
  {
   "cell_type": "code",
   "execution_count": null,
   "metadata": {},
   "outputs": [],
   "source": [
    "myCat['size']"
   ]
  },
  {
   "cell_type": "code",
   "execution_count": null,
   "metadata": {},
   "outputs": [],
   "source": [
    "'My cat has ' myCat['colour'] + ' fur.'"
   ]
  },
  {
   "cell_type": "code",
   "execution_count": null,
   "metadata": {},
   "outputs": [],
   "source": [
    "myCat['colour']"
   ]
  },
  {
   "cell_type": "code",
   "execution_count": null,
   "metadata": {},
   "outputs": [],
   "source": [
    "'My cat has ' + myCat['colour'] + ' fur.'"
   ]
  },
  {
   "cell_type": "code",
   "execution_count": null,
   "metadata": {},
   "outputs": [],
   "source": [
    "spam = {12345: 'Luggage combination', 42: 'The Answer'}"
   ]
  },
  {
   "cell_type": "code",
   "execution_count": null,
   "metadata": {},
   "outputs": [],
   "source": [
    "[1,2,3] == [3,2,1]"
   ]
  },
  {
   "cell_type": "code",
   "execution_count": null,
   "metadata": {},
   "outputs": [],
   "source": [
    "eggs = {'colour': 'Red', 'size': 'big'}\n",
    "ham = {'size': 'big', 'colour': 'Red'}"
   ]
  },
  {
   "cell_type": "code",
   "execution_count": null,
   "metadata": {},
   "outputs": [],
   "source": [
    "eggs == ham"
   ]
  },
  {
   "cell_type": "code",
   "execution_count": null,
   "metadata": {},
   "outputs": [],
   "source": [
    "list(eggs.keys())"
   ]
  },
  {
   "cell_type": "code",
   "execution_count": null,
   "metadata": {},
   "outputs": [],
   "source": [
    "list(eggs.values())"
   ]
  },
  {
   "cell_type": "code",
   "execution_count": null,
   "metadata": {},
   "outputs": [],
   "source": [
    "list(eggs.items())"
   ]
  },
  {
   "cell_type": "code",
   "execution_count": null,
   "metadata": {},
   "outputs": [],
   "source": [
    "for k in eggs.keys():\n",
    "    print(k)"
   ]
  },
  {
   "cell_type": "code",
   "execution_count": null,
   "metadata": {},
   "outputs": [],
   "source": [
    "for v in eggs.values():\n",
    "    print(v)"
   ]
  },
  {
   "cell_type": "code",
   "execution_count": null,
   "metadata": {},
   "outputs": [],
   "source": [
    "for k, v in eggs.items():\n",
    "    print(k, v)"
   ]
  },
  {
   "cell_type": "code",
   "execution_count": null,
   "metadata": {},
   "outputs": [],
   "source": [
    "for i in eggs.items():\n",
    "    print(i)"
   ]
  },
  {
   "cell_type": "code",
   "execution_count": null,
   "metadata": {},
   "outputs": [],
   "source": [
    "if 'colour' in eggs:\n",
    "    print(eggs['colour'])"
   ]
  },
  {
   "cell_type": "code",
   "execution_count": null,
   "metadata": {},
   "outputs": [],
   "source": [
    "eggs"
   ]
  },
  {
   "cell_type": "code",
   "execution_count": null,
   "metadata": {},
   "outputs": [],
   "source": [
    "eggs.get('age', 0)"
   ]
  },
  {
   "cell_type": "code",
   "execution_count": null,
   "metadata": {},
   "outputs": [],
   "source": [
    "eggs.get('colour', 0) # good for searching for things in dicts if you don' know if it is actually there"
   ]
  },
  {
   "cell_type": "code",
   "execution_count": null,
   "metadata": {},
   "outputs": [],
   "source": [
    "picnicItems = {'apples': 4, 'cups': 2}\n",
    "print ('I am bringing ' + str(picnicItems['napkins']) + 'to the picnic')"
   ]
  },
  {
   "cell_type": "code",
   "execution_count": null,
   "metadata": {},
   "outputs": [],
   "source": [
    "if 'disposition' not in eggs:\n",
    "    eggs['disposition'] = 'shitty'"
   ]
  },
  {
   "cell_type": "code",
   "execution_count": null,
   "metadata": {},
   "outputs": [],
   "source": [
    "eggs"
   ]
  },
  {
   "cell_type": "code",
   "execution_count": null,
   "metadata": {},
   "outputs": [],
   "source": [
    "import pprint\n",
    "\n",
    "message = '''Some really long string.\n",
    "\n",
    "Originally we used the full text of Romeo and Juliet, but that made my computer run really slowly...\n",
    "\n",
    "So I changed it to this.\n",
    "\n",
    "By the way, using three apostrophes like I have here allows a string text to ignore all returns (these read as /n) etc and read big chunks of text\n",
    "\n",
    "(until the next three apostrophes)'''\n",
    "\n",
    "import pprint\n",
    "\n",
    "count = {}\n",
    "\n",
    "for character in message.upper():\n",
    "    count.setdefault(character, 0)\n",
    "    count[character] = count[character] + 1\n",
    "\n",
    "pprint.pprint(count)"
   ]
  },
  {
   "cell_type": "code",
   "execution_count": null,
   "metadata": {},
   "outputs": [],
   "source": [
    "cat = {'name': 'Zophie', 'age': 7, 'colour': 'gray'}\n",
    "allCats = []\n",
    "allCats.append({'name': 'Zophie', 'age': 7, 'colour': 'gray'})\n",
    "allCats.append({'name': 'Pooka', 'age': 5, 'colour': 'black'})\n",
    "allCats.append({'name': 'Fat-tail', 'age': 8, 'colour': 'gray'})\n",
    "allCats.append({'name': '???', 'age': -1, 'colour': 'orange'})\n",
    "allCats"
   ]
  },
  {
   "cell_type": "code",
   "execution_count": null,
   "metadata": {},
   "outputs": [],
   "source": [
    "#tic tac toe programme\n",
    "\n",
    "theBoard = {'top-L': ' ', 'top-M': ' ', 'top-R': ' ', 'mid-L': ' ', 'mid-M': ' ', 'mid-R': ' ', 'low-L': ' ', 'low-M': ' ', 'low-R': ' '}\n",
    "theBoard"
   ]
  },
  {
   "cell_type": "code",
   "execution_count": null,
   "metadata": {},
   "outputs": [],
   "source": [
    "import pprint\n",
    "pprint.pprint(theBoard)"
   ]
  },
  {
   "cell_type": "code",
   "execution_count": null,
   "metadata": {},
   "outputs": [],
   "source": [
    "theBoard['mid-M'] = 'X'\n",
    "theBoard"
   ]
  },
  {
   "cell_type": "code",
   "execution_count": null,
   "metadata": {},
   "outputs": [],
   "source": [
    "theBoard['top-L'] = 'O'\n",
    "theBoard['top-M'] = 'O'\n",
    "theBoard['top-R'] = 'O'\n",
    "theBoard['mid-L'] = 'X'\n",
    "theBoard['low-R'] = 'X'"
   ]
  },
  {
   "cell_type": "code",
   "execution_count": null,
   "metadata": {},
   "outputs": [],
   "source": [
    "theBoard"
   ]
  },
  {
   "cell_type": "code",
   "execution_count": null,
   "metadata": {},
   "outputs": [],
   "source": [
    "def printBoard(board):\n",
    "    print(board['top-L'] + '|' + board['top-M'] + '|' + board['top-R'])\n",
    "    print('-----')\n",
    "    print(board['mid-L'] + '|' + board['mid-M'] + '|' + board['mid-R'])\n",
    "    print('-----')\n",
    "    print(board['low-L'] + '|' + board['low-M'] + '|' + board['low-R'])"
   ]
  },
  {
   "cell_type": "code",
   "execution_count": null,
   "metadata": {},
   "outputs": [],
   "source": [
    "printBoard(theBoard)"
   ]
  },
  {
   "cell_type": "code",
   "execution_count": null,
   "metadata": {},
   "outputs": [],
   "source": [
    "type(theBoard)"
   ]
  },
  {
   "cell_type": "code",
   "execution_count": null,
   "metadata": {},
   "outputs": [],
   "source": [
    "type(theBoard['top-R'])"
   ]
  },
  {
   "cell_type": "code",
   "execution_count": null,
   "metadata": {},
   "outputs": [],
   "source": [
    "'Hello'"
   ]
  },
  {
   "cell_type": "code",
   "execution_count": null,
   "metadata": {},
   "outputs": [],
   "source": [
    "'That is Alice's cat.'"
   ]
  },
  {
   "cell_type": "code",
   "execution_count": null,
   "metadata": {},
   "outputs": [],
   "source": [
    "\"That is Alice's cat.\""
   ]
  },
  {
   "cell_type": "code",
   "execution_count": null,
   "metadata": {},
   "outputs": [],
   "source": [
    "'Say hi to Bob\\'s mother.' #known as an escape character"
   ]
  },
  {
   "cell_type": "code",
   "execution_count": null,
   "metadata": {},
   "outputs": [],
   "source": [
    "print('Hello there! \\nHow are you?\\nI\\'m fine.')"
   ]
  },
  {
   "cell_type": "code",
   "execution_count": null,
   "metadata": {},
   "outputs": [],
   "source": [
    "r'Hello'"
   ]
  },
  {
   "cell_type": "code",
   "execution_count": null,
   "metadata": {},
   "outputs": [],
   "source": [
    "print(r'That is Carol\\'s cat.') # r indicated a 'raw string' and will include the \\ symbols"
   ]
  },
  {
   "cell_type": "code",
   "execution_count": null,
   "metadata": {},
   "outputs": [],
   "source": [
    "print(\"\"\"Dear Alice,\n",
    "Eve's cat has been arrested for catnapping, cat burglary and extortion.\n",
    "Sincerely,\n",
    "Bob.\"\"\")"
   ]
  },
  {
   "cell_type": "code",
   "execution_count": null,
   "metadata": {},
   "outputs": [],
   "source": [
    "spam = \"\"\"Dear Alice,\n",
    "Eve's cat has been arrested for catnapping, cat burglary and extortion.\n",
    "Sincerely,\n",
    "Bob.\"\"\""
   ]
  },
  {
   "cell_type": "code",
   "execution_count": null,
   "metadata": {},
   "outputs": [],
   "source": [
    "spam"
   ]
  },
  {
   "cell_type": "code",
   "execution_count": null,
   "metadata": {},
   "outputs": [],
   "source": [
    "spam[0]"
   ]
  },
  {
   "cell_type": "code",
   "execution_count": null,
   "metadata": {},
   "outputs": [],
   "source": [
    "spam[1:5]"
   ]
  },
  {
   "cell_type": "code",
   "execution_count": null,
   "metadata": {},
   "outputs": [],
   "source": [
    "spam[-1]"
   ]
  },
  {
   "cell_type": "code",
   "execution_count": null,
   "metadata": {},
   "outputs": [],
   "source": [
    "'Alice' in spam"
   ]
  },
  {
   "cell_type": "code",
   "execution_count": null,
   "metadata": {},
   "outputs": [],
   "source": [
    "'ALICE' in spam"
   ]
  },
  {
   "cell_type": "code",
   "execution_count": null,
   "metadata": {},
   "outputs": [],
   "source": [
    "spam = 'Hello World'"
   ]
  },
  {
   "cell_type": "code",
   "execution_count": null,
   "metadata": {},
   "outputs": [],
   "source": [
    "spam.upper() # just prints it, now modifies it"
   ]
  },
  {
   "cell_type": "code",
   "execution_count": null,
   "metadata": {},
   "outputs": [],
   "source": [
    "spam"
   ]
  },
  {
   "cell_type": "code",
   "execution_count": null,
   "metadata": {},
   "outputs": [],
   "source": [
    "spam = spam.upper()"
   ]
  },
  {
   "cell_type": "code",
   "execution_count": null,
   "metadata": {},
   "outputs": [],
   "source": [
    "spam"
   ]
  },
  {
   "cell_type": "code",
   "execution_count": null,
   "metadata": {},
   "outputs": [],
   "source": [
    "answer = input()"
   ]
  },
  {
   "cell_type": "code",
   "execution_count": null,
   "metadata": {},
   "outputs": [],
   "source": [
    "answer"
   ]
  },
  {
   "cell_type": "code",
   "execution_count": null,
   "metadata": {},
   "outputs": [],
   "source": [
    "answer = input()"
   ]
  },
  {
   "cell_type": "code",
   "execution_count": null,
   "metadata": {},
   "outputs": [],
   "source": [
    "if answer == 'yes':\n",
    "    print('Playing again')"
   ]
  },
  {
   "cell_type": "code",
   "execution_count": null,
   "metadata": {},
   "outputs": [],
   "source": [
    "if answer.lower() == 'yes':\n",
    "    print('Playing again')"
   ]
  },
  {
   "cell_type": "code",
   "execution_count": null,
   "metadata": {},
   "outputs": [],
   "source": [
    "answer.islower()"
   ]
  },
  {
   "cell_type": "code",
   "execution_count": null,
   "metadata": {},
   "outputs": [],
   "source": [
    "answer.isupper()"
   ]
  },
  {
   "cell_type": "code",
   "execution_count": null,
   "metadata": {},
   "outputs": [],
   "source": [
    "answer"
   ]
  },
  {
   "cell_type": "code",
   "execution_count": null,
   "metadata": {},
   "outputs": [],
   "source": [
    "'Hello'.upper().isupper()"
   ]
  },
  {
   "cell_type": "code",
   "execution_count": null,
   "metadata": {},
   "outputs": [],
   "source": [
    "'hello'.isalpha()"
   ]
  },
  {
   "cell_type": "code",
   "execution_count": null,
   "metadata": {},
   "outputs": [],
   "source": [
    "'hello123'.isalpha()"
   ]
  },
  {
   "cell_type": "code",
   "execution_count": null,
   "metadata": {},
   "outputs": [],
   "source": [
    "'hello123'.isalnum()"
   ]
  },
  {
   "cell_type": "code",
   "execution_count": null,
   "metadata": {},
   "outputs": [],
   "source": [
    "'123'.isdecimal()"
   ]
  },
  {
   "cell_type": "code",
   "execution_count": null,
   "metadata": {},
   "outputs": [],
   "source": [
    "'      '.isspace()"
   ]
  },
  {
   "cell_type": "code",
   "execution_count": null,
   "metadata": {},
   "outputs": [],
   "source": [
    "'Hello world'.isspace()"
   ]
  },
  {
   "cell_type": "code",
   "execution_count": null,
   "metadata": {},
   "outputs": [],
   "source": [
    "'Hello world'[5].isspace()"
   ]
  },
  {
   "cell_type": "code",
   "execution_count": null,
   "metadata": {},
   "outputs": [],
   "source": [
    "'Hello world'.istitle()"
   ]
  },
  {
   "cell_type": "code",
   "execution_count": null,
   "metadata": {},
   "outputs": [],
   "source": [
    "'Hello World'.istitle()"
   ]
  },
  {
   "cell_type": "code",
   "execution_count": null,
   "metadata": {},
   "outputs": [],
   "source": [
    "'Hello world'.title()"
   ]
  },
  {
   "cell_type": "code",
   "execution_count": null,
   "metadata": {},
   "outputs": [],
   "source": [
    "'Hello World'.startswith('Hello')"
   ]
  },
  {
   "cell_type": "code",
   "execution_count": null,
   "metadata": {},
   "outputs": [],
   "source": [
    "'Hello World'.endswith('Hello')"
   ]
  },
  {
   "cell_type": "code",
   "execution_count": null,
   "metadata": {},
   "outputs": [],
   "source": [
    "'Hello World'.endswith('World')"
   ]
  },
  {
   "cell_type": "code",
   "execution_count": null,
   "metadata": {},
   "outputs": [],
   "source": [
    "'Hello World!'.endswith('World')"
   ]
  },
  {
   "cell_type": "code",
   "execution_count": null,
   "metadata": {},
   "outputs": [],
   "source": [
    "', '.join(['cats','bats','rats'])"
   ]
  },
  {
   "cell_type": "code",
   "execution_count": null,
   "metadata": {},
   "outputs": [],
   "source": [
    "'\\n\\n'.join(['cats','bats','rats'])"
   ]
  },
  {
   "cell_type": "code",
   "execution_count": null,
   "metadata": {},
   "outputs": [],
   "source": [
    "print('\\n\\n'.join(['cats','bats','rats']))"
   ]
  },
  {
   "cell_type": "code",
   "execution_count": null,
   "metadata": {},
   "outputs": [],
   "source": [
    "'My name is Jono'.split()"
   ]
  },
  {
   "cell_type": "code",
   "execution_count": null,
   "metadata": {},
   "outputs": [],
   "source": [
    "'My name is Jono'.split('m')"
   ]
  },
  {
   "cell_type": "code",
   "execution_count": null,
   "metadata": {},
   "outputs": [],
   "source": [
    "'Hello'.rjust(10)"
   ]
  },
  {
   "cell_type": "code",
   "execution_count": null,
   "metadata": {},
   "outputs": [],
   "source": [
    "len('Hello'.rjust(10))"
   ]
  },
  {
   "cell_type": "code",
   "execution_count": null,
   "metadata": {},
   "outputs": [],
   "source": [
    "'Hello'.ljust(10)"
   ]
  },
  {
   "cell_type": "code",
   "execution_count": null,
   "metadata": {},
   "outputs": [],
   "source": [
    "'Hello'.ljust(20, '*')"
   ]
  },
  {
   "cell_type": "code",
   "execution_count": null,
   "metadata": {},
   "outputs": [],
   "source": [
    "'Hello'.center(20)"
   ]
  },
  {
   "cell_type": "code",
   "execution_count": null,
   "metadata": {},
   "outputs": [],
   "source": [
    "spam = 'Hello'.ljust(10)"
   ]
  },
  {
   "cell_type": "code",
   "execution_count": null,
   "metadata": {},
   "outputs": [],
   "source": [
    "spam"
   ]
  },
  {
   "cell_type": "code",
   "execution_count": null,
   "metadata": {},
   "outputs": [],
   "source": [
    "spam.strip() #removes white space from either side of string"
   ]
  },
  {
   "cell_type": "code",
   "execution_count": null,
   "metadata": {},
   "outputs": [],
   "source": [
    "spam"
   ]
  },
  {
   "cell_type": "code",
   "execution_count": null,
   "metadata": {},
   "outputs": [],
   "source": [
    "spam = 'Hello'.center(20)\n",
    "spam.lstrip()"
   ]
  },
  {
   "cell_type": "code",
   "execution_count": null,
   "metadata": {},
   "outputs": [],
   "source": [
    "'SpamSpamSpamBaconSpamEggsSpamSpam'.strip('ampS')"
   ]
  },
  {
   "cell_type": "code",
   "execution_count": null,
   "metadata": {},
   "outputs": [],
   "source": [
    "spam = 'Hello World'\n",
    "spam.replace('e', 'XYZ')"
   ]
  },
  {
   "cell_type": "code",
   "execution_count": null,
   "metadata": {},
   "outputs": [],
   "source": [
    "import pyperclip"
   ]
  },
  {
   "cell_type": "code",
   "execution_count": null,
   "metadata": {},
   "outputs": [],
   "source": [
    "pyperclip.copy('Hello!!!!!!!')"
   ]
  },
  {
   "cell_type": "code",
   "execution_count": null,
   "metadata": {},
   "outputs": [],
   "source": [
    "Hello!!!!!!!"
   ]
  },
  {
   "cell_type": "code",
   "execution_count": null,
   "metadata": {},
   "outputs": [],
   "source": [
    "pyperclip.paste()"
   ]
  },
  {
   "cell_type": "code",
   "execution_count": null,
   "metadata": {},
   "outputs": [],
   "source": [
    "'Hello' + ' World'"
   ]
  },
  {
   "cell_type": "code",
   "execution_count": null,
   "metadata": {},
   "outputs": [],
   "source": [
    "name = 'Alice'\n",
    "place = 'Main Street'\n",
    "time = '6pm'\n",
    "food = 'Turnips'"
   ]
  },
  {
   "cell_type": "code",
   "execution_count": null,
   "metadata": {},
   "outputs": [],
   "source": [
    "'Hello ' + name + ', your are invited to a party at ' + place + ' at ' + time + '. Please bring ' + food + '.'"
   ]
  },
  {
   "cell_type": "code",
   "execution_count": null,
   "metadata": {},
   "outputs": [],
   "source": [
    "'Hello %s, you are invited to a party at %s at %s. Please bring %s.' % (name, place, time, food)"
   ]
  },
  {
   "cell_type": "code",
   "execution_count": null,
   "metadata": {},
   "outputs": [],
   "source": [
    "def isPhoneNumber(text): # regular expression to detect a US phone number\n",
    "    if len(text) != 12:\n",
    "        return False # not phone number sign\n",
    "    for i in range(0,3):\n",
    "        if not text[i].isdecimal():\n",
    "            return False # no area code\n",
    "    if text[3] != '-':\n",
    "        return False # missing dash\n",
    "    for i in range(4,7):\n",
    "        if not text[i].isdecimal():\n",
    "            return False # no first 3 digits\n",
    "    if text[7] != '-':\n",
    "        return False # missing dash\n",
    "    for i in range(8,12):\n",
    "        if not text[i].isdecimal():\n",
    "            return False # no last 4 digits\n",
    "    return True"
   ]
  },
  {
   "cell_type": "code",
   "execution_count": null,
   "metadata": {},
   "outputs": [],
   "source": [
    "print(isPhoneNumber('4155551234'))"
   ]
  },
  {
   "cell_type": "code",
   "execution_count": null,
   "metadata": {},
   "outputs": [],
   "source": [
    "message = 'Call me at 415-555-1010 tomorrow, or at 415-555-9876 for my office line'\n",
    "foundNumber = False\n",
    "for i in range(len(message)):\n",
    "    chunk = message[i:i+12]\n",
    "    if isPhoneNumber(chunk):\n",
    "        print('Phone number found: ' + chunk)\n",
    "        foundNumber = True\n",
    "if not foundNumber:\n",
    "    print('Could not find any phone numbers.')"
   ]
  },
  {
   "cell_type": "code",
   "execution_count": null,
   "metadata": {},
   "outputs": [],
   "source": [
    "# Alot of code above to do something simple. Could use regular expressions\n",
    "\n",
    "import re"
   ]
  },
  {
   "cell_type": "code",
   "execution_count": null,
   "metadata": {},
   "outputs": [],
   "source": [
    "message = 'Call me at 415-555-1010 tomorrow, or at 415-555-9876 for my office line'\n",
    "\n",
    "phoneNumRegex = re.compile(r'\\d\\d\\d-\\d\\d\\d-\\d\\d\\d\\d')\n",
    "mo = phoneNumRegex.search(message) # creates a match object variable\n",
    "print(mo.group())"
   ]
  },
  {
   "cell_type": "code",
   "execution_count": null,
   "metadata": {},
   "outputs": [],
   "source": [
    "message = 'Call me at 415-555-1010 tomorrow, or at 415-555-9876 for my office line'\n",
    "\n",
    "phoneNumRegex = re.compile(r'\\d\\d\\d-\\d\\d\\d-\\d\\d\\d\\d')\n",
    "print(phoneNumRegex.findall(message)) # creates a match object variable"
   ]
  },
  {
   "cell_type": "code",
   "execution_count": null,
   "metadata": {},
   "outputs": [],
   "source": [
    "import re\n",
    "phoneNumRegex = re.compile(r'\\d\\d\\d-\\d\\d\\d-\\d\\d\\d\\d')\n",
    "phoneNumRegex.search('My number is 415-555-6789')"
   ]
  },
  {
   "cell_type": "code",
   "execution_count": null,
   "metadata": {},
   "outputs": [],
   "source": [
    "mo=phoneNumRegex.search('My number is 415-555-6789')\n",
    "mo.group()"
   ]
  },
  {
   "cell_type": "code",
   "execution_count": null,
   "metadata": {},
   "outputs": [],
   "source": [
    "phoneNumRegex = re.compile(r'(\\d\\d\\d)-(\\d\\d\\d-\\d\\d\\d\\d)')\n",
    "mo = phoneNumRegex.search('My number is 415-555-6789')\n",
    "mo.group()"
   ]
  },
  {
   "cell_type": "code",
   "execution_count": null,
   "metadata": {},
   "outputs": [],
   "source": [
    "mo.group(1) # group(1) calls the first group - group(0) is the same as group() and just calls the whole thing"
   ]
  },
  {
   "cell_type": "code",
   "execution_count": null,
   "metadata": {},
   "outputs": [],
   "source": [
    "mo.group(2)"
   ]
  },
  {
   "cell_type": "code",
   "execution_count": null,
   "metadata": {},
   "outputs": [],
   "source": [
    "# parentheses mark out groups in regular expressions. If you actually need to find parenthases, use \\\n",
    "\n",
    "phoneNumRegex = re.compile(r'\\(\\d\\d\\d\\) \\d\\d\\d-\\d\\d\\d\\d')\n",
    "mo = phoneNumRegex.search('My number is (415) 555-6789')"
   ]
  },
  {
   "cell_type": "code",
   "execution_count": null,
   "metadata": {},
   "outputs": [],
   "source": [
    "mo.group()"
   ]
  },
  {
   "cell_type": "code",
   "execution_count": null,
   "metadata": {},
   "outputs": [],
   "source": [
    "#Pipes\n",
    "\n",
    "batRegex = re.compile(r'Bat(man|mobile|copter|bat)')\n",
    "mo = batRegex.search('Batmobile lost a wheel')\n",
    "mo.group()"
   ]
  },
  {
   "cell_type": "code",
   "execution_count": null,
   "metadata": {},
   "outputs": [],
   "source": [
    "mo = batRegex.search('Batcycle lost a wheel')"
   ]
  },
  {
   "cell_type": "code",
   "execution_count": null,
   "metadata": {},
   "outputs": [],
   "source": [
    "mo.group()"
   ]
  },
  {
   "cell_type": "code",
   "execution_count": null,
   "metadata": {},
   "outputs": [],
   "source": [
    "print(mo)"
   ]
  },
  {
   "cell_type": "code",
   "execution_count": null,
   "metadata": {},
   "outputs": [],
   "source": [
    "# matching a specific number of repetitions\n",
    "\n",
    "import re\n",
    "\n",
    "batRegex = re.compile(r'Bat(wo)?man') # could also call re.compile(r'Batman|Batwoman')\n",
    "mo = batRegex.search('The adventures of Batman')\n",
    "mo.group()"
   ]
  },
  {
   "cell_type": "code",
   "execution_count": null,
   "metadata": {},
   "outputs": [],
   "source": [
    "mo = batRegex.search('The adventures of Batwoman')\n",
    "mo.group()"
   ]
  },
  {
   "cell_type": "code",
   "execution_count": null,
   "metadata": {},
   "outputs": [],
   "source": [
    "mo = batRegex.search('The adventures of Batwowowoman') # ()? allows for 0 or 1 of the things in parenteses, not more - see 5 lines below\n",
    "mo.group()"
   ]
  },
  {
   "cell_type": "code",
   "execution_count": null,
   "metadata": {},
   "outputs": [],
   "source": [
    "phoneRegex = re.compile(r'\\d\\d\\d-\\d\\d\\d-\\d\\d\\d\\d')\n",
    "mo = phoneRegex.search('My phone number if 415-555-1234. Call me tomorrow.')\n",
    "mo.group()"
   ]
  },
  {
   "cell_type": "code",
   "execution_count": null,
   "metadata": {},
   "outputs": [],
   "source": [
    "mo = phoneRegex.search('My phone number if 555-1234. Call me tomorrow.') # breaks without the area code\n",
    "mo == None"
   ]
  },
  {
   "cell_type": "code",
   "execution_count": null,
   "metadata": {},
   "outputs": [],
   "source": [
    "phoneRegex = re.compile(r'(\\d\\d\\d-)?\\d\\d\\d-\\d\\d\\d\\d') # as before, you can actively search for a ? by putting \\?\n",
    "mo = phoneRegex.search('My phone number if 415-555-1234. Call me tomorrow.')\n",
    "print(mo)"
   ]
  },
  {
   "cell_type": "code",
   "execution_count": null,
   "metadata": {},
   "outputs": [],
   "source": [
    "mo = phoneRegex.search('My phone number if 555-1234. Call me tomorrow.')\n",
    "print(mo)"
   ]
  },
  {
   "cell_type": "code",
   "execution_count": null,
   "metadata": {},
   "outputs": [],
   "source": [
    "batRegex = re.compile(r'Bat(wo)*man') # if you want the wo to be able to appear 0 or any number of times, use *\n",
    "mo = batRegex.search('The adventures of Batwowowoman') # ()? allows for 0 or 1 of the things in parenteses, not more\n",
    "mo.group()"
   ]
  },
  {
   "cell_type": "code",
   "execution_count": null,
   "metadata": {},
   "outputs": [],
   "source": [
    "batRegex = re.compile(r'Bat(wo)+man') # if the wo must appear al least once, use +\n",
    "mo = batRegex.search('The adventures of Batman') # ()? allows for 0 or 1 of the things in parenteses, not more\n",
    "mo.group()"
   ]
  },
  {
   "cell_type": "code",
   "execution_count": null,
   "metadata": {},
   "outputs": [],
   "source": [
    "batRegex = re.compile(r'Bat(wo)+man') # if the wo must appear al least once, use +\n",
    "mo = batRegex.search('The adventures of Batwoman') # ()? allows for 0 or 1 of the things in parenteses, not more\n",
    "mo.group()"
   ]
  },
  {
   "cell_type": "code",
   "execution_count": null,
   "metadata": {},
   "outputs": [],
   "source": [
    "batRegex = re.compile(r'Bat(wo)+man') # if the wo must appear al least once, use +\n",
    "mo = batRegex.search('The adventures of Batwowowoman') # ()? allows for 0 or 1 of the things in parenteses, not more\n",
    "mo.group()"
   ]
  },
  {
   "cell_type": "code",
   "execution_count": null,
   "metadata": {},
   "outputs": [],
   "source": [
    "# you can always search for operator symbols using \\\n",
    "\n",
    "regex = re.compile(r'\\+\\*\\?')\n",
    "regex.search('I learned about +*? regex syntax')"
   ]
  },
  {
   "cell_type": "code",
   "execution_count": null,
   "metadata": {},
   "outputs": [],
   "source": [
    "haRegex = re.compile(r'(Ha){3}')\n",
    "haRegex.search('He said \"HaHaHa\"')"
   ]
  },
  {
   "cell_type": "code",
   "execution_count": null,
   "metadata": {},
   "outputs": [],
   "source": [
    "print(haRegex.search('He said \"Hahaha\"'))"
   ]
  },
  {
   "cell_type": "code",
   "execution_count": null,
   "metadata": {},
   "outputs": [],
   "source": [
    "phoneRegex = re.compile(r'((\\d\\d\\d-)?\\d\\d\\d-\\d\\d\\d\\d(,)?){3}')\n",
    "phoneRegex.search('My phone numbers are 555-456-2345,457-6678,212-555-3456')"
   ]
  },
  {
   "cell_type": "code",
   "execution_count": null,
   "metadata": {},
   "outputs": [],
   "source": [
    "phoneRegex = re.compile(r'((\\d\\d\\d-)?\\d\\d\\d-\\d\\d\\d\\d(,)?){3,5}')\n",
    "phoneRegex.search('My phone numbers are 555-456-2345,457-6678,212-555-3456')"
   ]
  },
  {
   "cell_type": "code",
   "execution_count": null,
   "metadata": {},
   "outputs": [],
   "source": [
    "phoneRegex.search('My phone numbers are 555-456-2345,457-6678')"
   ]
  },
  {
   "cell_type": "code",
   "execution_count": null,
   "metadata": {},
   "outputs": [],
   "source": [
    "phoneRegex.search('My phone numbers are 555-456-2345,457-6678,212-555-3456,446-2578')"
   ]
  },
  {
   "cell_type": "code",
   "execution_count": null,
   "metadata": {},
   "outputs": [],
   "source": [
    "digitRegex = re.compile(r'(\\d){3,5}') # in python, searches are greedy - they match the longest possible string\n",
    "digitRegex.search('1234567890')"
   ]
  },
  {
   "cell_type": "code",
   "execution_count": null,
   "metadata": {},
   "outputs": [],
   "source": [
    "digitRegex = re.compile(r'(\\d){3,5}?') # the ? after a {} will make it 'non-greedy'\n",
    "digitRegex.search('1234567890')"
   ]
  },
  {
   "cell_type": "code",
   "execution_count": null,
   "metadata": {},
   "outputs": [],
   "source": [
    "import re\n",
    "phoneRegex = re.compile(r'\\d\\d\\d-\\d\\d\\d-\\d\\d\\d\\d')\n",
    "phoneRegex"
   ]
  },
  {
   "cell_type": "code",
   "execution_count": null,
   "metadata": {},
   "outputs": [],
   "source": [
    "resume = ''' Big old string with lots of text and a few phone numbers in\n",
    "\n",
    "yadda yadda 555-456-2345\n",
    "\n",
    "bit more text including 555-456-6375 and also 555-335-9872'''\n",
    "\n",
    "phoneRegex.search(resume)"
   ]
  },
  {
   "cell_type": "code",
   "execution_count": null,
   "metadata": {},
   "outputs": [],
   "source": [
    "phoneRegex.findall(resume) # if expression doesn't have groups in, findall just returns a list of strings"
   ]
  },
  {
   "cell_type": "code",
   "execution_count": null,
   "metadata": {},
   "outputs": [],
   "source": [
    "phoneRegex = re.compile(r'(\\d\\d\\d)-(\\d\\d\\d-\\d\\d\\d\\d)') # if expression has groups, it returns a list of tuples of strings\n",
    "phoneRegex.findall(resume)"
   ]
  },
  {
   "cell_type": "code",
   "execution_count": null,
   "metadata": {},
   "outputs": [],
   "source": [
    "digitRegex = re.compile(r'\\d') # does the same as r'1|2|3|4|5|6|7|8|9|0'\n",
    "\n",
    "# Also have \\D - explicitly not a numeric digit\n",
    "# \\w any letter, numeric digit or underscore\n",
    "# \\W anything explicitly not as above\n",
    "# \\s Any space, tab or newline character\n",
    "# \\S explicitly not the above\n",
    "\n",
    "lyrics = '12 drummers drumming, 11 pipers piping, 10 lords a-leaping, 9 ladies dancing, 8 maids a-milking, 7 swans a-swimming, 6 geese a-laying, 5 golden rings, 4 calling birds, 3 french hens, 2 turtle doves, and 1 partridge in a pear tree'\n",
    "\n",
    "xmasRegex = re.compile(r'\\d+\\s\\w+')\n",
    "xmasRegex.findall(lyrics)"
   ]
  },
  {
   "cell_type": "code",
   "execution_count": null,
   "metadata": {},
   "outputs": [],
   "source": [
    "vowelRegex = re.compile(r'[aeiouAEIOU]') # r'(a|e|i|o|u|A|E|I|O|U). can also use -s r'(a-e)\n",
    "vowelRegex.findall('Robocop eats baby food.')"
   ]
  },
  {
   "cell_type": "code",
   "execution_count": null,
   "metadata": {},
   "outputs": [],
   "source": [
    "doubleVowelRegex = re.compile(r'[aeiouAEIOU]{2}')\n",
    "doubleVowelRegex.findall('Robocop eats baby food.')"
   ]
  },
  {
   "cell_type": "code",
   "execution_count": null,
   "metadata": {},
   "outputs": [],
   "source": [
    "consonantRegex = re.compile(r'[^aeiouAEIOU]') # ^ gives everything that isn't in the brackets, including spaces etc\n",
    "consonantRegex.findall('Robocop eats baby food.')"
   ]
  },
  {
   "cell_type": "code",
   "execution_count": null,
   "metadata": {},
   "outputs": [],
   "source": [
    "list = consonantRegex.findall('Robocop eats baby food.')"
   ]
  },
  {
   "cell_type": "code",
   "execution_count": null,
   "metadata": {},
   "outputs": [],
   "source": [
    "print(list)"
   ]
  },
  {
   "cell_type": "code",
   "execution_count": null,
   "metadata": {},
   "outputs": [],
   "source": [
    "print ''.join(list)"
   ]
  },
  {
   "cell_type": "code",
   "execution_count": null,
   "metadata": {},
   "outputs": [],
   "source": [
    "print(join(list))"
   ]
  },
  {
   "cell_type": "code",
   "execution_count": null,
   "metadata": {},
   "outputs": [],
   "source": [
    "string = ''.join(list)"
   ]
  },
  {
   "cell_type": "code",
   "execution_count": null,
   "metadata": {},
   "outputs": [],
   "source": [
    "print(string)"
   ]
  },
  {
   "cell_type": "code",
   "execution_count": null,
   "metadata": {},
   "outputs": [],
   "source": [
    "import re\n",
    "\n",
    "beginsWithHelloRegex = re.compile(r'^Hello') # ^ means the string has to start with Hello\n",
    "beginsWithHelloRegex.search('Hello there!')"
   ]
  },
  {
   "cell_type": "code",
   "execution_count": null,
   "metadata": {},
   "outputs": [],
   "source": [
    "beginsWithHelloRegex = re.compile(r'there!$') # $ means the string has to end with there!\n",
    "beginsWithHelloRegex.search('Hello there!')"
   ]
  },
  {
   "cell_type": "code",
   "execution_count": null,
   "metadata": {},
   "outputs": [],
   "source": [
    "allDigitsRegex = re.compile(r'^\\d+$') # using both ^ and $ means the whole string must consist of what's inside the regex\n",
    "allDigitsRegex.search('459867345876345876')"
   ]
  },
  {
   "cell_type": "code",
   "execution_count": null,
   "metadata": {},
   "outputs": [],
   "source": [
    "atRegex = re.compile(r'.at') # . represents any character except the new line\n",
    "atRegex.findall('The cat in the hat sat on the flat mat.')"
   ]
  },
  {
   "cell_type": "code",
   "execution_count": null,
   "metadata": {},
   "outputs": [],
   "source": [
    "atRegex = re.compile(r'.{1,2}at') # . represents any character except the new line\n",
    "atRegex.findall('The cat in the hat sat on the flat mat.')"
   ]
  },
  {
   "cell_type": "code",
   "execution_count": null,
   "metadata": {},
   "outputs": [],
   "source": [
    "'First Name: Al Last Name: Sweigart'"
   ]
  },
  {
   "cell_type": "code",
   "execution_count": null,
   "metadata": {},
   "outputs": [],
   "source": [
    "'First Name: Al Last Name: Sweigart'.find(':')"
   ]
  },
  {
   "cell_type": "code",
   "execution_count": null,
   "metadata": {},
   "outputs": [],
   "source": [
    "nameRegex = re.compile(r'First Name: (.*) Last Name: (.*)')\n",
    "nameRegex.findall('First Name: Al Last Name: Sweigart')"
   ]
  },
  {
   "cell_type": "code",
   "execution_count": null,
   "metadata": {},
   "outputs": [],
   "source": [
    "serve = '<To serve humans> for dinner.>'\n",
    "\n",
    "nongreedy = re.compile(r'<(.*?)>')\n",
    "nongreedy.findall(serve)"
   ]
  },
  {
   "cell_type": "code",
   "execution_count": null,
   "metadata": {},
   "outputs": [],
   "source": [
    "serve = '<To serve humans> for dinner.>'\n",
    "\n",
    "nongreedy = re.compile(r'<(.*)>')\n",
    "nongreedy.findall(serve)"
   ]
  },
  {
   "cell_type": "code",
   "execution_count": null,
   "metadata": {},
   "outputs": [],
   "source": [
    "prime = 'Serve the public trust.\\nProtect the innocent.\\nUphold the law.'\n",
    "print(prime)"
   ]
  },
  {
   "cell_type": "code",
   "execution_count": null,
   "metadata": {},
   "outputs": [],
   "source": [
    "dotStar = re.compile(r'.*')\n",
    "dotStar.search(prime)"
   ]
  },
  {
   "cell_type": "code",
   "execution_count": null,
   "metadata": {},
   "outputs": [],
   "source": [
    "dotStar = re.compile(r'.*', re.DOTALL)\n",
    "dotStar.search(prime)"
   ]
  },
  {
   "cell_type": "code",
   "execution_count": null,
   "metadata": {},
   "outputs": [],
   "source": [
    "vowelRegex = re.compile(r'[aeiou]')\n",
    "vowelRegex.search('Al, why does your programming book talk about Robocop so much?')"
   ]
  },
  {
   "cell_type": "code",
   "execution_count": null,
   "metadata": {},
   "outputs": [],
   "source": [
    "vowelRegex = re.compile(r'[aeiou]')\n",
    "vowelRegex.findall('Al, why does your programming book talk about Robocop so much?')"
   ]
  },
  {
   "cell_type": "code",
   "execution_count": null,
   "metadata": {},
   "outputs": [],
   "source": [
    "vowelRegex = re.compile(r'[aeiou]', re.I) # re.I matches upper and lower case\n",
    "vowelRegex.findall('Al, why does your programming book talk about Robocop so much?')"
   ]
  },
  {
   "cell_type": "code",
   "execution_count": null,
   "metadata": {},
   "outputs": [],
   "source": [
    "import re\n",
    "nameRegex = re.compile(r'Agent \\w+')\n",
    "nameRegex.findall('Agent Alice gave the secret documents to Agent Bob.')"
   ]
  },
  {
   "cell_type": "code",
   "execution_count": null,
   "metadata": {},
   "outputs": [],
   "source": [
    "nameRegex.sub('REDACTED','Agent Alice gave the secret documents to Agent Bob.')"
   ]
  },
  {
   "cell_type": "code",
   "execution_count": null,
   "metadata": {},
   "outputs": [],
   "source": [
    "nameRegex = re.compile(r'Agent (\\w)\\w*')\n",
    "nameRegex.findall('Agent Alice gave the secret documents to Agent Bob.')"
   ]
  },
  {
   "cell_type": "code",
   "execution_count": null,
   "metadata": {},
   "outputs": [],
   "source": [
    "nameRegex.sub(r'Agent \\1****','Agent Alice gave the secret documents to Agent Bob.')"
   ]
  },
  {
   "cell_type": "code",
   "execution_count": null,
   "metadata": {},
   "outputs": [],
   "source": [
    "re.compile(r'''\n",
    "(\\d\\d\\d)|     # area code without parens but with a dash\n",
    "(\\(\\d\\d\\d\\) ) # -or- area code with parens and no dash\n",
    "\\d\\d\\d      # first 3 digits\n",
    "-           # second dash\n",
    "\\\\\\\\        # last 4 digits''', re.IGNORECASE | re.VERBOSE) # this use of | is specific to the regular expresion import (bitwise or)"
   ]
  },
  {
   "cell_type": "code",
   "execution_count": null,
   "metadata": {},
   "outputs": [],
   "source": [
    "#! python3\n",
    "\n",
    "import re, pyperclip\n",
    "\n",
    "# TODO: Create a regex for phone numbers\n",
    "\n",
    "re.compile(r'''\n",
    "# 415-555-000, 555-0000, (415) 555-0000, 555-0000 ext 12345, ext. 12345, x12345)\n",
    "(\n",
    "(\\d\\d\\d)|(\\(\\d\\d\\d\\)))?         # area code (optional)\n",
    "(\\s|-)                          # first separator\n",
    "\\d\\d\\d                          # first 3 digits\n",
    "-                               # separator\n",
    "\\d\\d\\d\\d                        # last 4 digits\n",
    "(((ext(\\.)?\\s)|x)                # extension word part (optional)\n",
    "(\\d{2,5}))?                     # extension number part (optional)\n",
    ")\n",
    "''', re.VERBOSE)\n",
    "\n",
    "# using verbose helps - without it this would look like re.compile('(\\d\\d\\d)|(\\(\\d\\d\\d\\)))?(\\s|-)\\d\\d\\d-\\d\\d\\d\\d(((ext(\\.)?\\s)|x)(\\d{2,5}))?')\n",
    "\n",
    "# TODO: Create a regex for email addresses\n",
    "\n",
    "emailRegex = re.compile(r'''\n",
    "# some.+_thing@(\\d{2,5}))?.com\n",
    "\n",
    "[a-zA-Z0-9_.+]+        # name part\n",
    "@                      # @ symbol\n",
    "[a-zA-Z0-9_.+]+        # domain name part\n",
    "\n",
    "''', re.VERBOSE)\n",
    "\n",
    "# TODO: Get text off clipboard\n",
    "\n",
    "text = pyperclip.paste()\n",
    "\n",
    "# TODO: Extract the email/phone from this text\n",
    "\n",
    "extractedPhone = phoneRegex.findall(text)\n",
    "extractedEmail = emailRegex.findall(text)\n",
    "\n",
    "allPhoneNumbers = []\n",
    "for phoneNumber in extractedPhone:\n",
    "    allPhoneNumbers.append(phoneNumber[0])\n",
    "    \n",
    "print(allPhoneNumbers)\n",
    "print(extractedEmail)\n",
    "\n",
    "# TODO: Copy the extracted emails and numbers to the clipboard\n",
    "\n",
    "results = '\\n'.join(allPhoneNumbers) + '\\n' + '\\n'.join(extractedEmail)\n",
    "pyperclip.copy(results)"
   ]
  },
  {
   "cell_type": "code",
   "execution_count": null,
   "metadata": {},
   "outputs": [],
   "source": [
    "'c:\\\\spam\\\\eggs.png'"
   ]
  },
  {
   "cell_type": "code",
   "execution_count": null,
   "metadata": {},
   "outputs": [],
   "source": [
    "print('\\\\')"
   ]
  },
  {
   "cell_type": "code",
   "execution_count": null,
   "metadata": {},
   "outputs": [],
   "source": [
    "r'c:\\spam\\eggs.png'"
   ]
  },
  {
   "cell_type": "code",
   "execution_count": null,
   "metadata": {},
   "outputs": [],
   "source": [
    "print('c:\\\\spam\\\\eggs.png')"
   ]
  },
  {
   "cell_type": "code",
   "execution_count": null,
   "metadata": {},
   "outputs": [],
   "source": [
    "print(r'c:\\\\spam\\\\eggs.png')"
   ]
  },
  {
   "cell_type": "code",
   "execution_count": null,
   "metadata": {},
   "outputs": [],
   "source": [
    "'\\\\'.join(['folder 1', 'folder 2', 'folder 3'])"
   ]
  },
  {
   "cell_type": "code",
   "execution_count": null,
   "metadata": {},
   "outputs": [],
   "source": [
    "print('\\\\'.join(['folder 1', 'folder 2', 'folder 3']))"
   ]
  },
  {
   "cell_type": "code",
   "execution_count": null,
   "metadata": {},
   "outputs": [],
   "source": [
    "import os\n",
    "os.path.join('folder1', 'folder2', 'file.png')"
   ]
  },
  {
   "cell_type": "code",
   "execution_count": null,
   "metadata": {},
   "outputs": [],
   "source": [
    "os.sep"
   ]
  },
  {
   "cell_type": "code",
   "execution_count": null,
   "metadata": {},
   "outputs": [],
   "source": [
    "os.getcwd() # picks up the current working directory"
   ]
  },
  {
   "cell_type": "code",
   "execution_count": null,
   "metadata": {},
   "outputs": [],
   "source": [
    "os.chdir('c:\\\\') # changes the cwd\n",
    "os.getcwd()"
   ]
  },
  {
   "cell_type": "code",
   "execution_count": null,
   "metadata": {},
   "outputs": [],
   "source": [
    "# a file path that starts at the root directory (e.g. C:\\) are called 'absolute' file paths. Others are 'relative file paths'"
   ]
  },
  {
   "cell_type": "code",
   "execution_count": null,
   "metadata": {},
   "outputs": [],
   "source": [
    "os.chdir('C:\\\\Users\\\\Jono\\\\Documents\\\\Jupyter notebooks')"
   ]
  },
  {
   "cell_type": "code",
   "execution_count": null,
   "metadata": {},
   "outputs": [],
   "source": [
    "os.path.abspath('spam.png')"
   ]
  },
  {
   "cell_type": "code",
   "execution_count": null,
   "metadata": {},
   "outputs": [],
   "source": [
    "os.path.abspath('..\\\\..\\\\spam.png')"
   ]
  },
  {
   "cell_type": "code",
   "execution_count": null,
   "metadata": {},
   "outputs": [],
   "source": [
    "os.path.isabs('..\\\\..\\\\spam.png')"
   ]
  },
  {
   "cell_type": "code",
   "execution_count": null,
   "metadata": {},
   "outputs": [],
   "source": [
    "os.path.isabs('C:\\\\Users\\\\Jono\\\\Documents\\\\Jupyter notebooks')"
   ]
  },
  {
   "cell_type": "code",
   "execution_count": null,
   "metadata": {},
   "outputs": [],
   "source": [
    "os.chdir('C:\\\\Users')"
   ]
  },
  {
   "cell_type": "code",
   "execution_count": null,
   "metadata": {},
   "outputs": [],
   "source": [
    "os.path.relpath('C:\\\\Users\\\\Jono\\\\Documents\\\\Jupyter notebooks\\\\spam.png', 'C:\\\\Users')"
   ]
  },
  {
   "cell_type": "code",
   "execution_count": null,
   "metadata": {},
   "outputs": [],
   "source": [
    "os.path.dirname('C:\\\\Users\\\\Jono\\\\Documents\\\\Jupyter notebooks')"
   ]
  },
  {
   "cell_type": "code",
   "execution_count": null,
   "metadata": {},
   "outputs": [],
   "source": [
    "os.path.basename('C:\\\\Users\\\\Jono\\\\Documents\\\\Jupyter notebooks')"
   ]
  },
  {
   "cell_type": "code",
   "execution_count": null,
   "metadata": {},
   "outputs": [],
   "source": [
    "os.path.exists('C:\\\\Users\\\\Jono\\\\Documents\\\\Jupyter notebooks')"
   ]
  },
  {
   "cell_type": "code",
   "execution_count": null,
   "metadata": {},
   "outputs": [],
   "source": [
    "os.path.exists('C:\\\\Users\\\\Jono\\\\Documents\\\\Jupyter knickers')"
   ]
  },
  {
   "cell_type": "code",
   "execution_count": null,
   "metadata": {},
   "outputs": [],
   "source": [
    "os.path.isfile('C:\\\\Users\\\\Jono\\\\Documents\\\\Jupyter notebooks')"
   ]
  },
  {
   "cell_type": "code",
   "execution_count": null,
   "metadata": {},
   "outputs": [],
   "source": [
    "os.path.isfile('C:\\\\Users\\\\Jono\\\\Documents\\\\Jupyter notebooks\\\\Automate the Boring Stuff.ipynb')"
   ]
  },
  {
   "cell_type": "code",
   "execution_count": null,
   "metadata": {},
   "outputs": [],
   "source": [
    "os.path.getsize('C:\\\\Users\\\\Jono\\\\Documents\\\\Jupyter notebooks\\\\Automate the Boring Stuff.ipynb') # size in bytes"
   ]
  },
  {
   "cell_type": "code",
   "execution_count": null,
   "metadata": {},
   "outputs": [],
   "source": [
    "os.listdir('C:\\\\Users\\\\Jono\\\\Documents\\\\Jupyter notebooks')"
   ]
  },
  {
   "cell_type": "code",
   "execution_count": null,
   "metadata": {},
   "outputs": [],
   "source": [
    "totalSize = 0\n",
    "for filename in os.listdir('C:\\\\Users\\\\Jono\\\\Documents\\\\Jupyter notebooks'):\n",
    "    if not os.path.isfile(os.path.join('C:\\\\Users\\\\Jono\\\\Documents\\\\Jupyter notebooks', filename)):\n",
    "        continue\n",
    "    totalSize = totalSize + os.path.getsize(os.path.join('C:\\\\Users\\\\Jono\\\\Documents\\\\Jupyter notebooks', filename))"
   ]
  },
  {
   "cell_type": "code",
   "execution_count": null,
   "metadata": {},
   "outputs": [],
   "source": [
    "totalSize"
   ]
  },
  {
   "cell_type": "code",
   "execution_count": null,
   "metadata": {},
   "outputs": [],
   "source": [
    "os.makedirs('C:\\\\Users\\\\Jono\\\\Documents\\\\Jupyter notebooks\\\\Test file\\\\Excercise in AtBS')"
   ]
  },
  {
   "cell_type": "code",
   "execution_count": null,
   "metadata": {},
   "outputs": [],
   "source": [
    "os.path.exists('C:\\\\Users\\\\Jono\\\\Documents\\\\Jupyter notebooks\\\\Test file')"
   ]
  },
  {
   "cell_type": "code",
   "execution_count": null,
   "metadata": {},
   "outputs": [],
   "source": [
    "helloFile = open('C:\\\\Users\\\\Jono\\\\Documents\\\\Jupyter notebooks\\\\Test file\\\\hello.txt')"
   ]
  },
  {
   "cell_type": "code",
   "execution_count": null,
   "metadata": {},
   "outputs": [],
   "source": [
    "helloFile.read()"
   ]
  },
  {
   "cell_type": "code",
   "execution_count": null,
   "metadata": {},
   "outputs": [],
   "source": [
    "helloFile.close()"
   ]
  },
  {
   "cell_type": "code",
   "execution_count": null,
   "metadata": {},
   "outputs": [],
   "source": [
    "helloFile = open('C:\\\\Users\\\\Jono\\\\Documents\\\\Jupyter notebooks\\\\Test file\\\\hello.txt')\n",
    "content = helloFile.read()"
   ]
  },
  {
   "cell_type": "code",
   "execution_count": null,
   "metadata": {},
   "outputs": [],
   "source": [
    "content"
   ]
  },
  {
   "cell_type": "code",
   "execution_count": null,
   "metadata": {},
   "outputs": [],
   "source": [
    "helloFile = open('C:\\\\Users\\\\Jono\\\\Documents\\\\Jupyter notebooks\\\\Test file\\\\hello.txt')\n",
    "content = helloFile.readlines()"
   ]
  },
  {
   "cell_type": "code",
   "execution_count": null,
   "metadata": {},
   "outputs": [],
   "source": [
    "content"
   ]
  },
  {
   "cell_type": "code",
   "execution_count": null,
   "metadata": {},
   "outputs": [],
   "source": [
    "helloFile.close()"
   ]
  },
  {
   "cell_type": "code",
   "execution_count": null,
   "metadata": {},
   "outputs": [],
   "source": [
    "helloFile = open('C:\\\\Users\\\\Jono\\\\Documents\\\\Jupyter notebooks\\\\Test file\\\\hello2.txt', 'w') # opens in write mode\n",
    " # helloFile = open('C:\\\\Users\\\\Jono\\\\Documents\\\\Jupyter notebooks\\\\Test file\\\\hello.txt', 'a') # opens in append mode"
   ]
  },
  {
   "cell_type": "code",
   "execution_count": null,
   "metadata": {},
   "outputs": [],
   "source": [
    "helloFile.write('Hello!!!')"
   ]
  },
  {
   "cell_type": "code",
   "execution_count": null,
   "metadata": {},
   "outputs": [],
   "source": [
    "helloFile.write('Hello!!!')"
   ]
  },
  {
   "cell_type": "code",
   "execution_count": null,
   "metadata": {},
   "outputs": [],
   "source": [
    "baconFile = open('C:\\\\Users\\\\Jono\\\\Documents\\\\Jupyter notebooks\\\\Test file\\\\bacon.txt', 'w')"
   ]
  },
  {
   "cell_type": "code",
   "execution_count": null,
   "metadata": {},
   "outputs": [],
   "source": [
    "baconFile.write('Bacon is not a vegetable.')\n",
    "baconFile.close()"
   ]
  },
  {
   "cell_type": "code",
   "execution_count": null,
   "metadata": {},
   "outputs": [],
   "source": [
    "helloFile.close()"
   ]
  },
  {
   "cell_type": "code",
   "execution_count": null,
   "metadata": {},
   "outputs": [],
   "source": [
    "os.getcwd()"
   ]
  },
  {
   "cell_type": "code",
   "execution_count": null,
   "metadata": {},
   "outputs": [],
   "source": [
    "os.chdir('C:\\\\Users\\\\Jono\\\\Documents\\\\Jupyter notebooks\\\\Test file')"
   ]
  },
  {
   "cell_type": "code",
   "execution_count": null,
   "metadata": {},
   "outputs": [],
   "source": [
    "baconFile = open('bacon.txt', 'a')\n",
    "baconFile.write('\\n\\nBacon is delicious.')\n",
    "baconFile.close()"
   ]
  },
  {
   "cell_type": "code",
   "execution_count": null,
   "metadata": {},
   "outputs": [],
   "source": [
    "import shelve\n",
    "\n",
    "shelfFile = shelve.open('mydata')\n",
    "shelfFile['cats'] = ['Zophie', 'Pooka', 'Simon', 'Fat-tail', 'Cleo']\n",
    "shelfFile.close()"
   ]
  },
  {
   "cell_type": "code",
   "execution_count": null,
   "metadata": {},
   "outputs": [],
   "source": [
    "shelfFile = shelve.open('mydata')\n",
    "shelfFile['cats']"
   ]
  },
  {
   "cell_type": "code",
   "execution_count": null,
   "metadata": {},
   "outputs": [],
   "source": [
    "shelfFile.close()"
   ]
  },
  {
   "cell_type": "code",
   "execution_count": null,
   "metadata": {},
   "outputs": [],
   "source": [
    "shelfFile = shelve.open('mydata')\n",
    "shelfFile.keys()"
   ]
  },
  {
   "cell_type": "code",
   "execution_count": null,
   "metadata": {},
   "outputs": [],
   "source": [
    "list(shelfFile.keys())"
   ]
  },
  {
   "cell_type": "code",
   "execution_count": null,
   "metadata": {},
   "outputs": [],
   "source": [
    "list(shelfFile.values())"
   ]
  },
  {
   "cell_type": "code",
   "execution_count": null,
   "metadata": {},
   "outputs": [],
   "source": [
    "import shutil # shell utilities"
   ]
  },
  {
   "cell_type": "code",
   "execution_count": null,
   "metadata": {},
   "outputs": [],
   "source": [
    "shutil.copy('C:\\\\Users\\\\Jono\\\\Documents\\\\Jupyter notebooks\\\\Test file\\\\bacon.txt', 'C:\\\\Users\\\\Jono\\\\Documents\\\\Jupyter notebooks\\\\Test file\\\\Excercise in AtBS')"
   ]
  },
  {
   "cell_type": "code",
   "execution_count": null,
   "metadata": {},
   "outputs": [],
   "source": [
    "os.getcwd"
   ]
  },
  {
   "cell_type": "code",
   "execution_count": null,
   "metadata": {},
   "outputs": [],
   "source": [
    "os.getcwd()"
   ]
  },
  {
   "cell_type": "code",
   "execution_count": null,
   "metadata": {},
   "outputs": [],
   "source": [
    "shutil.copy('bacon.txt', 'Excercise in AtBS\\\\bacon2.txt') # give the copy a new name"
   ]
  },
  {
   "cell_type": "code",
   "execution_count": null,
   "metadata": {},
   "outputs": [],
   "source": [
    "shutil.copytree('Excercise in AtBS', 'Backup File')"
   ]
  },
  {
   "cell_type": "code",
   "execution_count": null,
   "metadata": {},
   "outputs": [],
   "source": [
    "shutil.move('Backup File', 'Excercise in AtBS')"
   ]
  },
  {
   "cell_type": "code",
   "execution_count": null,
   "metadata": {},
   "outputs": [],
   "source": [
    "shutil.move('\\\\Excercise in AtBS\\\\Backup File', '\\\\Excercise in AtBS\\\\Renamed File')"
   ]
  },
  {
   "cell_type": "code",
   "execution_count": null,
   "metadata": {},
   "outputs": [],
   "source": [
    "shutil.move('Excercise in AtBS\\\\Backup File', 'Excercise in AtBS\\\\Renamed File') # using move to the same location can be used to rename a file"
   ]
  },
  {
   "cell_type": "code",
   "execution_count": null,
   "metadata": {},
   "outputs": [],
   "source": [
    "os.unlink('Excercise in AtBS\\\\bacon2.txt') # deletes a file"
   ]
  },
  {
   "cell_type": "code",
   "execution_count": null,
   "metadata": {},
   "outputs": [],
   "source": [
    "os.rmdir('Excercise in AtBS\\\\Renamed File') # deletes a folder, but only if it is empty"
   ]
  },
  {
   "cell_type": "code",
   "execution_count": null,
   "metadata": {},
   "outputs": [],
   "source": [
    "import shutil\n",
    "shutil.rmtree('Excercise in AtBS\\\\Renamed File') # this can delete full folders (permanently, not to recycle bin)"
   ]
  },
  {
   "cell_type": "code",
   "execution_count": null,
   "metadata": {},
   "outputs": [],
   "source": [
    "import os\n",
    "\n",
    "# good way to test code before performing a delete function:\n",
    "\n",
    "os.chdir('C:\\\\Users\\\\Jono\\\\Documents\\\\Jupyter notebooks\\\\Test file')\n",
    "\n",
    "for filename in os.listdir():\n",
    "    if filename.endswith('.txt'):\n",
    "        # os.unlink(filename)\n",
    "        print(filename)"
   ]
  },
  {
   "cell_type": "code",
   "execution_count": null,
   "metadata": {},
   "outputs": [],
   "source": [
    "import send2trash"
   ]
  },
  {
   "cell_type": "code",
   "execution_count": null,
   "metadata": {},
   "outputs": [],
   "source": [
    "send2trash.send2trash('hello2.txt') # a bit safer!"
   ]
  },
  {
   "cell_type": "code",
   "execution_count": null,
   "metadata": {},
   "outputs": [],
   "source": [
    "os.walk('C:\\\\Users\\\\Jono\\\\Documents\\\\Jupyter notebooks\\\\Test file') # lets you walk through complete trees"
   ]
  },
  {
   "cell_type": "code",
   "execution_count": null,
   "metadata": {},
   "outputs": [],
   "source": [
    "for folderName, subfolders, filenames in os.walk('C:\\\\Users\\\\Jono\\\\Documents\\\\Jupyter notebooks\\\\Test file'):\n",
    "    print('The folder is ' + folderName)\n",
    "    print('The subfolders in ' + folderName + ' are: ' + str(subfolders))\n",
    "    print('The filenames in ' + folderName + ' are: ' + str(filenames))\n",
    "    print()"
   ]
  },
  {
   "cell_type": "code",
   "execution_count": null,
   "metadata": {},
   "outputs": [],
   "source": [
    "import os\n",
    "\n",
    "for folderName, subfolders, filenames in os.walk('C:\\\\Users\\\\Jono\\\\Documents\\\\Jupyter notebooks\\\\Test file'):\n",
    "    print('The folder is ' + folderName)\n",
    "    print('The subfolders in ' + folderName + ' are: ' + str(subfolders))\n",
    "    print('The filenames in ' + folderName + ' are: ' + str(filenames))\n",
    "    print()\n",
    "    \n",
    "    for subfolder in subfolders:\n",
    "        if 'fish' in subfolder:\n",
    "            os.rmdir(subfolder)\n",
    "    for file in filenames:\n",
    "        if file.endswith('.txt'):\n",
    "            shutil.copy(os.path.join(folderName, file), os.path.join(folderName, file + '.backup'))\n"
   ]
  },
  {
   "cell_type": "markdown",
   "metadata": {},
   "source": [
    "Section 12: Debugging"
   ]
  },
  {
   "cell_type": "code",
   "execution_count": null,
   "metadata": {},
   "outputs": [],
   "source": [
    "42/0"
   ]
  },
  {
   "cell_type": "code",
   "execution_count": null,
   "metadata": {},
   "outputs": [],
   "source": [
    "raise Exception('This is the error message.')"
   ]
  },
  {
   "cell_type": "code",
   "execution_count": null,
   "metadata": {},
   "outputs": [],
   "source": [
    "# **********\n",
    "# *        *\n",
    "# *        *\n",
    "# **********\n",
    "\n",
    "def boxPrint(symbol, width, height):\n",
    "    print(symbol * width)\n",
    "    \n",
    "    for i in range(height - 2):\n",
    "        print(symbol + (' ' * (width - 2)) + symbol)\n",
    "        \n",
    "    print(symbol * width)\n",
    "    \n",
    "boxPrint('+', 14, 3)"
   ]
  },
  {
   "cell_type": "code",
   "execution_count": null,
   "metadata": {},
   "outputs": [],
   "source": [
    "boxPrint('U', 5, 16)"
   ]
  },
  {
   "cell_type": "code",
   "execution_count": null,
   "metadata": {},
   "outputs": [],
   "source": [
    "boxPrint('**', 4, 7) # not right!"
   ]
  },
  {
   "cell_type": "code",
   "execution_count": null,
   "metadata": {},
   "outputs": [],
   "source": [
    "def boxPrint(symbol, width, height):\n",
    "    if len(symbol) != 1:\n",
    "        raise Exception('\"symbol\" needs to be a string of length 1')\n",
    "    \n",
    "    print(symbol * width)\n",
    "    \n",
    "    for i in range(height - 2):\n",
    "        print(symbol + (' ' * (width - 2)) + symbol)\n",
    "        \n",
    "    print(symbol * width)\n",
    "    \n",
    "boxPrint('**', 4, 7) # not right!"
   ]
  },
  {
   "cell_type": "code",
   "execution_count": null,
   "metadata": {},
   "outputs": [],
   "source": [
    "boxPrint('*', 1, 1) # not right!"
   ]
  },
  {
   "cell_type": "code",
   "execution_count": null,
   "metadata": {},
   "outputs": [],
   "source": [
    "def boxPrint(symbol, width, height):\n",
    "    if len(symbol) != 1:\n",
    "        raise Exception('\"symbol\" needs to be a string of length 1')\n",
    "    if (width < 2) or (height < 2):\n",
    "        raise Exception('\"width\" and \"height\" must be greater than or equal to 2')\n",
    "        \n",
    "    print(symbol * width)\n",
    "    \n",
    "    for i in range(height - 2):\n",
    "        print(symbol + (' ' * (width - 2)) + symbol)\n",
    "        \n",
    "    print(symbol * width)\n",
    "    \n",
    "boxPrint('*',1,1)"
   ]
  },
  {
   "cell_type": "code",
   "execution_count": null,
   "metadata": {},
   "outputs": [],
   "source": [
    "import traceback\n",
    "try:\n",
    "    raise Exception('This is an error message.')\n",
    "except:\n",
    "    errorFile = open('error_log.txt', 'a')\n",
    "    errorFile.write(traceback.format_exc())\n",
    "    errorFile.close()\n",
    "    print('The traceback info was written errorlog.txt')"
   ]
  },
  {
   "cell_type": "code",
   "execution_count": null,
   "metadata": {},
   "outputs": [],
   "source": [
    "assert False, 'This is the error message.'"
   ]
  },
  {
   "cell_type": "code",
   "execution_count": null,
   "metadata": {},
   "outputs": [],
   "source": [
    "market_2nd = {'ns': 'green', 'ew': 'red'}\n",
    "\n",
    "def switchLights(intersection):\n",
    "    for key in intersection.keys():\n",
    "        if intersection[key] == 'green':\n",
    "            intersection[key] = 'yellow'\n",
    "        elif intersection[key] == 'yellow':\n",
    "            intersection[key] = 'red'\n",
    "        elif intersection[key] == 'red':\n",
    "            intersection[key] = 'green'\n",
    "\n",
    "print(market_2nd)\n",
    "switchLights(market_2nd)\n",
    "print(market_2nd)"
   ]
  },
  {
   "cell_type": "code",
   "execution_count": null,
   "metadata": {},
   "outputs": [],
   "source": [
    "market_2nd = {'ns': 'green', 'ew': 'red'}\n",
    "\n",
    "def switchLights(intersection):\n",
    "    for key in intersection.keys():\n",
    "        if intersection[key] == 'green':\n",
    "            intersection[key] = 'yellow'\n",
    "        elif intersection[key] == 'yellow':\n",
    "            intersection[key] = 'red'\n",
    "        elif intersection[key] == 'red':\n",
    "            intersection[key] = 'green'\n",
    "    assert 'red' in intersection.values(), 'Neither light is red!' + str(intersection)\n",
    "\n",
    "print(market_2nd)\n",
    "switchLights(market_2nd)\n",
    "print(market_2nd)"
   ]
  },
  {
   "cell_type": "code",
   "execution_count": null,
   "metadata": {},
   "outputs": [],
   "source": [
    "import logging\n",
    "logging.basicConfig(level=logging.DEBUG, format = '%(asctime)s - &(levelname)s - %(message)s')"
   ]
  },
  {
   "cell_type": "code",
   "execution_count": null,
   "metadata": {},
   "outputs": [],
   "source": [
    "def factorial(n):\n",
    "    total = 1\n",
    "    for i in range(n + 1):\n",
    "        total *= i\n",
    "    return total"
   ]
  },
  {
   "cell_type": "code",
   "execution_count": null,
   "metadata": {},
   "outputs": [],
   "source": [
    "factorial(5)"
   ]
  },
  {
   "cell_type": "code",
   "execution_count": 2,
   "metadata": {},
   "outputs": [],
   "source": [
    "import logging\n",
    "logging.basicConfig(filename='myProgrammeLog.txt', level=logging.DEBUG, format = '%(asctime)s - &(levelname)s - %(message)s')\n",
    "\n",
    "logging.disable(logging.INFO)\n",
    "\n",
    "logging.info('Start of programme')\n",
    "\n",
    "def factorial(n):\n",
    "    logging.debug('Start of factorial(%s)')\n",
    "    total = 1\n",
    "    for i in range(1, n + 1):\n",
    "        total *= i\n",
    "        logging.debug('i is %s, total is %s' % (i, total))\n",
    "    logging.debug('Return value is %s' % (total))\n",
    "    return total\n",
    "\n",
    "logging.info('End of programme')"
   ]
  },
  {
   "cell_type": "code",
   "execution_count": 4,
   "metadata": {},
   "outputs": [
    {
     "data": {
      "text/plain": [
       "120"
      ]
     },
     "execution_count": 4,
     "metadata": {},
     "output_type": "execute_result"
    }
   ],
   "source": [
    "factorial(5)"
   ]
  },
  {
   "cell_type": "code",
   "execution_count": 5,
   "metadata": {},
   "outputs": [
    {
     "ename": "SyntaxError",
     "evalue": "invalid syntax (<ipython-input-5-5b993708a548>, line 4)",
     "output_type": "error",
     "traceback": [
      "\u001b[1;36m  File \u001b[1;32m\"<ipython-input-5-5b993708a548>\"\u001b[1;36m, line \u001b[1;32m4\u001b[0m\n\u001b[1;33m    def factorial(n):\u001b[0m\n\u001b[1;37m    ^\u001b[0m\n\u001b[1;31mSyntaxError\u001b[0m\u001b[1;31m:\u001b[0m invalid syntax\n"
     ]
    }
   ],
   "source": [
    "import pbd\n",
    "\n",
    "pbd.run(\n",
    "def factorial(n):\n",
    "    logging.debug('Start of factorial(%s)')\n",
    "    total = 1\n",
    "    for i in range(1, n + 1):\n",
    "        total *= i\n",
    "        logging.debug('i is %s, total is %s' % (i, total))\n",
    "    logging.debug('Return value is %s' % (total))\n",
    "    return total\n",
    ")\n",
    "    "
   ]
  },
  {
   "cell_type": "code",
   "execution_count": 7,
   "metadata": {},
   "outputs": [
    {
     "ename": "SyntaxError",
     "evalue": "invalid syntax (<string>, line 1)",
     "output_type": "error",
     "traceback": [
      "Traceback \u001b[1;36m(most recent call last)\u001b[0m:\n",
      "  File \u001b[0;32m\"C:\\Users\\Jono\\anaconda3\\lib\\site-packages\\IPython\\core\\interactiveshell.py\"\u001b[0m, line \u001b[0;32m3418\u001b[0m, in \u001b[0;35mrun_code\u001b[0m\n    exec(code_obj, self.user_global_ns, self.user_ns)\n",
      "  File \u001b[0;32m\"<ipython-input-7-a879d63ae1c5>\"\u001b[0m, line \u001b[0;32m3\u001b[0m, in \u001b[0;35m<module>\u001b[0m\n    pdb.run('Practice programme.ipynb')\n",
      "  File \u001b[0;32m\"C:\\Users\\Jono\\anaconda3\\lib\\pdb.py\"\u001b[0m, line \u001b[0;32m1597\u001b[0m, in \u001b[0;35mrun\u001b[0m\n    Pdb().run(statement, globals, locals)\n",
      "\u001b[1;36m  File \u001b[1;32m\"C:\\Users\\Jono\\anaconda3\\lib\\bdb.py\"\u001b[1;36m, line \u001b[1;32m577\u001b[1;36m, in \u001b[1;35mrun\u001b[1;36m\u001b[0m\n\u001b[1;33m    cmd = compile(cmd, \"<string>\", \"exec\")\u001b[0m\n",
      "\u001b[1;36m  File \u001b[1;32m\"<string>\"\u001b[1;36m, line \u001b[1;32m1\u001b[0m\n\u001b[1;33m    Practice programme.ipynb\u001b[0m\n\u001b[1;37m             ^\u001b[0m\n\u001b[1;31mSyntaxError\u001b[0m\u001b[1;31m:\u001b[0m invalid syntax\n"
     ]
    }
   ],
   "source": [
    "import pdb\n",
    "\n",
    "pdb.run('Practice programme.ipynb')\n"
   ]
  },
  {
   "cell_type": "code",
   "execution_count": 9,
   "metadata": {},
   "outputs": [
    {
     "data": {
      "text/plain": [
       "'C:\\\\Users\\\\Jono\\\\Documents\\\\Jupyter notebooks'"
      ]
     },
     "execution_count": 9,
     "metadata": {},
     "output_type": "execute_result"
    }
   ],
   "source": [
    "import os\n",
    "os.getcwd()"
   ]
  },
  {
   "cell_type": "code",
   "execution_count": 11,
   "metadata": {},
   "outputs": [
    {
     "ename": "SyntaxError",
     "evalue": "invalid syntax (<ipython-input-11-a4ca7e10a92b>, line 1)",
     "output_type": "error",
     "traceback": [
      "\u001b[1;36m  File \u001b[1;32m\"<ipython-input-11-a4ca7e10a92b>\"\u001b[1;36m, line \u001b[1;32m1\u001b[0m\n\u001b[1;33m    import 'Practice programme.ipynb'\u001b[0m\n\u001b[1;37m           ^\u001b[0m\n\u001b[1;31mSyntaxError\u001b[0m\u001b[1;31m:\u001b[0m invalid syntax\n"
     ]
    }
   ],
   "source": [
    "import 'Practice programme.ipynb'"
   ]
  },
  {
   "cell_type": "code",
   "execution_count": 12,
   "metadata": {},
   "outputs": [
    {
     "ename": "SyntaxError",
     "evalue": "invalid syntax (<ipython-input-12-14172fceff81>, line 1)",
     "output_type": "error",
     "traceback": [
      "\u001b[1;36m  File \u001b[1;32m\"<ipython-input-12-14172fceff81>\"\u001b[1;36m, line \u001b[1;32m1\u001b[0m\n\u001b[1;33m    jupyter labextension install @jupyterlab/debugger\u001b[0m\n\u001b[1;37m            ^\u001b[0m\n\u001b[1;31mSyntaxError\u001b[0m\u001b[1;31m:\u001b[0m invalid syntax\n"
     ]
    }
   ],
   "source": [
    "jupyter labextension install @jupyterlab/debugger"
   ]
  },
  {
   "cell_type": "code",
   "execution_count": 2,
   "metadata": {},
   "outputs": [
    {
     "data": {
      "text/plain": [
       "True"
      ]
     },
     "execution_count": 2,
     "metadata": {},
     "output_type": "execute_result"
    }
   ],
   "source": [
    "import webbrowser\n",
    "\n",
    "webbrowser.open('https://automatetheboringstuff.com')"
   ]
  },
  {
   "cell_type": "code",
   "execution_count": 3,
   "metadata": {},
   "outputs": [
    {
     "data": {
      "text/plain": [
       "True"
      ]
     },
     "execution_count": 3,
     "metadata": {},
     "output_type": "execute_result"
    }
   ],
   "source": [
    "import webbrowser, sys, pyperclip\n",
    "\n",
    "sys.argv # ['mapit.py', '870'. 'Valencia', 'St.']\n",
    "\n",
    "# Check if command line arguements were passed\n",
    "if len(sys.argv) > 1:\n",
    "    # ['mapit.py', '870'. 'Valencia', 'St.'] -> '870 Valencia St.'\n",
    "    address = ' '.join(sys.argv[1:])\n",
    "else:\n",
    "    address = pyperclip.paste()\n",
    "    \n",
    "webbrowser.open('https://www.google.com/maps/place/' + address)"
   ]
  },
  {
   "cell_type": "code",
   "execution_count": 4,
   "metadata": {},
   "outputs": [],
   "source": [
    "import sys"
   ]
  },
  {
   "cell_type": "code",
   "execution_count": 7,
   "metadata": {},
   "outputs": [],
   "source": [
    "import requests"
   ]
  },
  {
   "cell_type": "code",
   "execution_count": 9,
   "metadata": {},
   "outputs": [
    {
     "data": {
      "text/plain": [
       "200"
      ]
     },
     "execution_count": 9,
     "metadata": {},
     "output_type": "execute_result"
    }
   ],
   "source": [
    "res = requests.get('https://automatetheboringstuff.com/files/rj.txt')\n",
    "res.status_code # status code 200 means all good"
   ]
  },
  {
   "cell_type": "code",
   "execution_count": 10,
   "metadata": {},
   "outputs": [
    {
     "data": {
      "text/plain": [
       "178978"
      ]
     },
     "execution_count": 10,
     "metadata": {},
     "output_type": "execute_result"
    }
   ],
   "source": [
    "# res.text = string of entire text file\n",
    "len(res.text)"
   ]
  },
  {
   "cell_type": "code",
   "execution_count": 12,
   "metadata": {},
   "outputs": [
    {
     "name": "stdout",
     "output_type": "stream",
     "text": [
      "The Project Gutenberg EBook of Romeo and Juliet, by William Shakespeare\r\n",
      "\r\n",
      "This eBook is for the use of anyone anywhere at no cost and with\r\n",
      "almost no restrictions whatsoever.  You may copy it, give it away or\r\n",
      "re-use it under the terms of the Project Gutenberg License included\r\n",
      "with this eBook or online at www.gutenberg.org/license\r\n",
      "\r\n",
      "\r\n",
      "Title: Romeo and Juliet\r\n",
      "\r\n",
      "Author: William Shakespeare\r\n",
      "\r\n",
      "Posting Date: May 25, 2012 [EBook #1112]\r\n",
      "Release Date: November, 1997  [Etext #1112]\r\n",
      "\r\n",
      "Language: Eng\n"
     ]
    }
   ],
   "source": [
    "print(res.text[:500])"
   ]
  },
  {
   "cell_type": "code",
   "execution_count": 13,
   "metadata": {},
   "outputs": [
    {
     "ename": "ConnectionError",
     "evalue": "HTTPConnectionPool(host='sdkfjhsgflkasjdfblksdf', port=80): Max retries exceeded with url: / (Caused by NewConnectionError('<urllib3.connection.HTTPConnection object at 0x000001E3571E1D90>: Failed to establish a new connection: [Errno 11001] getaddrinfo failed'))",
     "output_type": "error",
     "traceback": [
      "\u001b[1;31m---------------------------------------------------------------------------\u001b[0m",
      "\u001b[1;31mgaierror\u001b[0m                                  Traceback (most recent call last)",
      "\u001b[1;32m~\\anaconda3\\lib\\site-packages\\urllib3\\connection.py\u001b[0m in \u001b[0;36m_new_conn\u001b[1;34m(self)\u001b[0m\n\u001b[0;32m    158\u001b[0m         \u001b[1;32mtry\u001b[0m\u001b[1;33m:\u001b[0m\u001b[1;33m\u001b[0m\u001b[1;33m\u001b[0m\u001b[0m\n\u001b[1;32m--> 159\u001b[1;33m             conn = connection.create_connection(\n\u001b[0m\u001b[0;32m    160\u001b[0m                 \u001b[1;33m(\u001b[0m\u001b[0mself\u001b[0m\u001b[1;33m.\u001b[0m\u001b[0m_dns_host\u001b[0m\u001b[1;33m,\u001b[0m \u001b[0mself\u001b[0m\u001b[1;33m.\u001b[0m\u001b[0mport\u001b[0m\u001b[1;33m)\u001b[0m\u001b[1;33m,\u001b[0m \u001b[0mself\u001b[0m\u001b[1;33m.\u001b[0m\u001b[0mtimeout\u001b[0m\u001b[1;33m,\u001b[0m \u001b[1;33m**\u001b[0m\u001b[0mextra_kw\u001b[0m\u001b[1;33m\u001b[0m\u001b[1;33m\u001b[0m\u001b[0m\n",
      "\u001b[1;32m~\\anaconda3\\lib\\site-packages\\urllib3\\util\\connection.py\u001b[0m in \u001b[0;36mcreate_connection\u001b[1;34m(address, timeout, source_address, socket_options)\u001b[0m\n\u001b[0;32m     60\u001b[0m \u001b[1;33m\u001b[0m\u001b[0m\n\u001b[1;32m---> 61\u001b[1;33m     \u001b[1;32mfor\u001b[0m \u001b[0mres\u001b[0m \u001b[1;32min\u001b[0m \u001b[0msocket\u001b[0m\u001b[1;33m.\u001b[0m\u001b[0mgetaddrinfo\u001b[0m\u001b[1;33m(\u001b[0m\u001b[0mhost\u001b[0m\u001b[1;33m,\u001b[0m \u001b[0mport\u001b[0m\u001b[1;33m,\u001b[0m \u001b[0mfamily\u001b[0m\u001b[1;33m,\u001b[0m \u001b[0msocket\u001b[0m\u001b[1;33m.\u001b[0m\u001b[0mSOCK_STREAM\u001b[0m\u001b[1;33m)\u001b[0m\u001b[1;33m:\u001b[0m\u001b[1;33m\u001b[0m\u001b[1;33m\u001b[0m\u001b[0m\n\u001b[0m\u001b[0;32m     62\u001b[0m         \u001b[0maf\u001b[0m\u001b[1;33m,\u001b[0m \u001b[0msocktype\u001b[0m\u001b[1;33m,\u001b[0m \u001b[0mproto\u001b[0m\u001b[1;33m,\u001b[0m \u001b[0mcanonname\u001b[0m\u001b[1;33m,\u001b[0m \u001b[0msa\u001b[0m \u001b[1;33m=\u001b[0m \u001b[0mres\u001b[0m\u001b[1;33m\u001b[0m\u001b[1;33m\u001b[0m\u001b[0m\n",
      "\u001b[1;32m~\\anaconda3\\lib\\socket.py\u001b[0m in \u001b[0;36mgetaddrinfo\u001b[1;34m(host, port, family, type, proto, flags)\u001b[0m\n\u001b[0;32m    917\u001b[0m     \u001b[0maddrlist\u001b[0m \u001b[1;33m=\u001b[0m \u001b[1;33m[\u001b[0m\u001b[1;33m]\u001b[0m\u001b[1;33m\u001b[0m\u001b[1;33m\u001b[0m\u001b[0m\n\u001b[1;32m--> 918\u001b[1;33m     \u001b[1;32mfor\u001b[0m \u001b[0mres\u001b[0m \u001b[1;32min\u001b[0m \u001b[0m_socket\u001b[0m\u001b[1;33m.\u001b[0m\u001b[0mgetaddrinfo\u001b[0m\u001b[1;33m(\u001b[0m\u001b[0mhost\u001b[0m\u001b[1;33m,\u001b[0m \u001b[0mport\u001b[0m\u001b[1;33m,\u001b[0m \u001b[0mfamily\u001b[0m\u001b[1;33m,\u001b[0m \u001b[0mtype\u001b[0m\u001b[1;33m,\u001b[0m \u001b[0mproto\u001b[0m\u001b[1;33m,\u001b[0m \u001b[0mflags\u001b[0m\u001b[1;33m)\u001b[0m\u001b[1;33m:\u001b[0m\u001b[1;33m\u001b[0m\u001b[1;33m\u001b[0m\u001b[0m\n\u001b[0m\u001b[0;32m    919\u001b[0m         \u001b[0maf\u001b[0m\u001b[1;33m,\u001b[0m \u001b[0msocktype\u001b[0m\u001b[1;33m,\u001b[0m \u001b[0mproto\u001b[0m\u001b[1;33m,\u001b[0m \u001b[0mcanonname\u001b[0m\u001b[1;33m,\u001b[0m \u001b[0msa\u001b[0m \u001b[1;33m=\u001b[0m \u001b[0mres\u001b[0m\u001b[1;33m\u001b[0m\u001b[1;33m\u001b[0m\u001b[0m\n",
      "\u001b[1;31mgaierror\u001b[0m: [Errno 11001] getaddrinfo failed",
      "\nDuring handling of the above exception, another exception occurred:\n",
      "\u001b[1;31mNewConnectionError\u001b[0m                        Traceback (most recent call last)",
      "\u001b[1;32m~\\anaconda3\\lib\\site-packages\\urllib3\\connectionpool.py\u001b[0m in \u001b[0;36murlopen\u001b[1;34m(self, method, url, body, headers, retries, redirect, assert_same_host, timeout, pool_timeout, release_conn, chunked, body_pos, **response_kw)\u001b[0m\n\u001b[0;32m    669\u001b[0m             \u001b[1;31m# Make the request on the httplib connection object.\u001b[0m\u001b[1;33m\u001b[0m\u001b[1;33m\u001b[0m\u001b[1;33m\u001b[0m\u001b[0m\n\u001b[1;32m--> 670\u001b[1;33m             httplib_response = self._make_request(\n\u001b[0m\u001b[0;32m    671\u001b[0m                 \u001b[0mconn\u001b[0m\u001b[1;33m,\u001b[0m\u001b[1;33m\u001b[0m\u001b[1;33m\u001b[0m\u001b[0m\n",
      "\u001b[1;32m~\\anaconda3\\lib\\site-packages\\urllib3\\connectionpool.py\u001b[0m in \u001b[0;36m_make_request\u001b[1;34m(self, conn, method, url, timeout, chunked, **httplib_request_kw)\u001b[0m\n\u001b[0;32m    391\u001b[0m         \u001b[1;32melse\u001b[0m\u001b[1;33m:\u001b[0m\u001b[1;33m\u001b[0m\u001b[1;33m\u001b[0m\u001b[0m\n\u001b[1;32m--> 392\u001b[1;33m             \u001b[0mconn\u001b[0m\u001b[1;33m.\u001b[0m\u001b[0mrequest\u001b[0m\u001b[1;33m(\u001b[0m\u001b[0mmethod\u001b[0m\u001b[1;33m,\u001b[0m \u001b[0murl\u001b[0m\u001b[1;33m,\u001b[0m \u001b[1;33m**\u001b[0m\u001b[0mhttplib_request_kw\u001b[0m\u001b[1;33m)\u001b[0m\u001b[1;33m\u001b[0m\u001b[1;33m\u001b[0m\u001b[0m\n\u001b[0m\u001b[0;32m    393\u001b[0m \u001b[1;33m\u001b[0m\u001b[0m\n",
      "\u001b[1;32m~\\anaconda3\\lib\\http\\client.py\u001b[0m in \u001b[0;36mrequest\u001b[1;34m(self, method, url, body, headers, encode_chunked)\u001b[0m\n\u001b[0;32m   1254\u001b[0m         \u001b[1;34m\"\"\"Send a complete request to the server.\"\"\"\u001b[0m\u001b[1;33m\u001b[0m\u001b[1;33m\u001b[0m\u001b[0m\n\u001b[1;32m-> 1255\u001b[1;33m         \u001b[0mself\u001b[0m\u001b[1;33m.\u001b[0m\u001b[0m_send_request\u001b[0m\u001b[1;33m(\u001b[0m\u001b[0mmethod\u001b[0m\u001b[1;33m,\u001b[0m \u001b[0murl\u001b[0m\u001b[1;33m,\u001b[0m \u001b[0mbody\u001b[0m\u001b[1;33m,\u001b[0m \u001b[0mheaders\u001b[0m\u001b[1;33m,\u001b[0m \u001b[0mencode_chunked\u001b[0m\u001b[1;33m)\u001b[0m\u001b[1;33m\u001b[0m\u001b[1;33m\u001b[0m\u001b[0m\n\u001b[0m\u001b[0;32m   1256\u001b[0m \u001b[1;33m\u001b[0m\u001b[0m\n",
      "\u001b[1;32m~\\anaconda3\\lib\\http\\client.py\u001b[0m in \u001b[0;36m_send_request\u001b[1;34m(self, method, url, body, headers, encode_chunked)\u001b[0m\n\u001b[0;32m   1300\u001b[0m             \u001b[0mbody\u001b[0m \u001b[1;33m=\u001b[0m \u001b[0m_encode\u001b[0m\u001b[1;33m(\u001b[0m\u001b[0mbody\u001b[0m\u001b[1;33m,\u001b[0m \u001b[1;34m'body'\u001b[0m\u001b[1;33m)\u001b[0m\u001b[1;33m\u001b[0m\u001b[1;33m\u001b[0m\u001b[0m\n\u001b[1;32m-> 1301\u001b[1;33m         \u001b[0mself\u001b[0m\u001b[1;33m.\u001b[0m\u001b[0mendheaders\u001b[0m\u001b[1;33m(\u001b[0m\u001b[0mbody\u001b[0m\u001b[1;33m,\u001b[0m \u001b[0mencode_chunked\u001b[0m\u001b[1;33m=\u001b[0m\u001b[0mencode_chunked\u001b[0m\u001b[1;33m)\u001b[0m\u001b[1;33m\u001b[0m\u001b[1;33m\u001b[0m\u001b[0m\n\u001b[0m\u001b[0;32m   1302\u001b[0m \u001b[1;33m\u001b[0m\u001b[0m\n",
      "\u001b[1;32m~\\anaconda3\\lib\\http\\client.py\u001b[0m in \u001b[0;36mendheaders\u001b[1;34m(self, message_body, encode_chunked)\u001b[0m\n\u001b[0;32m   1249\u001b[0m             \u001b[1;32mraise\u001b[0m \u001b[0mCannotSendHeader\u001b[0m\u001b[1;33m(\u001b[0m\u001b[1;33m)\u001b[0m\u001b[1;33m\u001b[0m\u001b[1;33m\u001b[0m\u001b[0m\n\u001b[1;32m-> 1250\u001b[1;33m         \u001b[0mself\u001b[0m\u001b[1;33m.\u001b[0m\u001b[0m_send_output\u001b[0m\u001b[1;33m(\u001b[0m\u001b[0mmessage_body\u001b[0m\u001b[1;33m,\u001b[0m \u001b[0mencode_chunked\u001b[0m\u001b[1;33m=\u001b[0m\u001b[0mencode_chunked\u001b[0m\u001b[1;33m)\u001b[0m\u001b[1;33m\u001b[0m\u001b[1;33m\u001b[0m\u001b[0m\n\u001b[0m\u001b[0;32m   1251\u001b[0m \u001b[1;33m\u001b[0m\u001b[0m\n",
      "\u001b[1;32m~\\anaconda3\\lib\\http\\client.py\u001b[0m in \u001b[0;36m_send_output\u001b[1;34m(self, message_body, encode_chunked)\u001b[0m\n\u001b[0;32m   1009\u001b[0m         \u001b[1;32mdel\u001b[0m \u001b[0mself\u001b[0m\u001b[1;33m.\u001b[0m\u001b[0m_buffer\u001b[0m\u001b[1;33m[\u001b[0m\u001b[1;33m:\u001b[0m\u001b[1;33m]\u001b[0m\u001b[1;33m\u001b[0m\u001b[1;33m\u001b[0m\u001b[0m\n\u001b[1;32m-> 1010\u001b[1;33m         \u001b[0mself\u001b[0m\u001b[1;33m.\u001b[0m\u001b[0msend\u001b[0m\u001b[1;33m(\u001b[0m\u001b[0mmsg\u001b[0m\u001b[1;33m)\u001b[0m\u001b[1;33m\u001b[0m\u001b[1;33m\u001b[0m\u001b[0m\n\u001b[0m\u001b[0;32m   1011\u001b[0m \u001b[1;33m\u001b[0m\u001b[0m\n",
      "\u001b[1;32m~\\anaconda3\\lib\\http\\client.py\u001b[0m in \u001b[0;36msend\u001b[1;34m(self, data)\u001b[0m\n\u001b[0;32m    949\u001b[0m             \u001b[1;32mif\u001b[0m \u001b[0mself\u001b[0m\u001b[1;33m.\u001b[0m\u001b[0mauto_open\u001b[0m\u001b[1;33m:\u001b[0m\u001b[1;33m\u001b[0m\u001b[1;33m\u001b[0m\u001b[0m\n\u001b[1;32m--> 950\u001b[1;33m                 \u001b[0mself\u001b[0m\u001b[1;33m.\u001b[0m\u001b[0mconnect\u001b[0m\u001b[1;33m(\u001b[0m\u001b[1;33m)\u001b[0m\u001b[1;33m\u001b[0m\u001b[1;33m\u001b[0m\u001b[0m\n\u001b[0m\u001b[0;32m    951\u001b[0m             \u001b[1;32melse\u001b[0m\u001b[1;33m:\u001b[0m\u001b[1;33m\u001b[0m\u001b[1;33m\u001b[0m\u001b[0m\n",
      "\u001b[1;32m~\\anaconda3\\lib\\site-packages\\urllib3\\connection.py\u001b[0m in \u001b[0;36mconnect\u001b[1;34m(self)\u001b[0m\n\u001b[0;32m    186\u001b[0m     \u001b[1;32mdef\u001b[0m \u001b[0mconnect\u001b[0m\u001b[1;33m(\u001b[0m\u001b[0mself\u001b[0m\u001b[1;33m)\u001b[0m\u001b[1;33m:\u001b[0m\u001b[1;33m\u001b[0m\u001b[1;33m\u001b[0m\u001b[0m\n\u001b[1;32m--> 187\u001b[1;33m         \u001b[0mconn\u001b[0m \u001b[1;33m=\u001b[0m \u001b[0mself\u001b[0m\u001b[1;33m.\u001b[0m\u001b[0m_new_conn\u001b[0m\u001b[1;33m(\u001b[0m\u001b[1;33m)\u001b[0m\u001b[1;33m\u001b[0m\u001b[1;33m\u001b[0m\u001b[0m\n\u001b[0m\u001b[0;32m    188\u001b[0m         \u001b[0mself\u001b[0m\u001b[1;33m.\u001b[0m\u001b[0m_prepare_conn\u001b[0m\u001b[1;33m(\u001b[0m\u001b[0mconn\u001b[0m\u001b[1;33m)\u001b[0m\u001b[1;33m\u001b[0m\u001b[1;33m\u001b[0m\u001b[0m\n",
      "\u001b[1;32m~\\anaconda3\\lib\\site-packages\\urllib3\\connection.py\u001b[0m in \u001b[0;36m_new_conn\u001b[1;34m(self)\u001b[0m\n\u001b[0;32m    170\u001b[0m         \u001b[1;32mexcept\u001b[0m \u001b[0mSocketError\u001b[0m \u001b[1;32mas\u001b[0m \u001b[0me\u001b[0m\u001b[1;33m:\u001b[0m\u001b[1;33m\u001b[0m\u001b[1;33m\u001b[0m\u001b[0m\n\u001b[1;32m--> 171\u001b[1;33m             raise NewConnectionError(\n\u001b[0m\u001b[0;32m    172\u001b[0m                 \u001b[0mself\u001b[0m\u001b[1;33m,\u001b[0m \u001b[1;34m\"Failed to establish a new connection: %s\"\u001b[0m \u001b[1;33m%\u001b[0m \u001b[0me\u001b[0m\u001b[1;33m\u001b[0m\u001b[1;33m\u001b[0m\u001b[0m\n",
      "\u001b[1;31mNewConnectionError\u001b[0m: <urllib3.connection.HTTPConnection object at 0x000001E3571E1D90>: Failed to establish a new connection: [Errno 11001] getaddrinfo failed",
      "\nDuring handling of the above exception, another exception occurred:\n",
      "\u001b[1;31mMaxRetryError\u001b[0m                             Traceback (most recent call last)",
      "\u001b[1;32m~\\anaconda3\\lib\\site-packages\\requests\\adapters.py\u001b[0m in \u001b[0;36msend\u001b[1;34m(self, request, stream, timeout, verify, cert, proxies)\u001b[0m\n\u001b[0;32m    438\u001b[0m             \u001b[1;32mif\u001b[0m \u001b[1;32mnot\u001b[0m \u001b[0mchunked\u001b[0m\u001b[1;33m:\u001b[0m\u001b[1;33m\u001b[0m\u001b[1;33m\u001b[0m\u001b[0m\n\u001b[1;32m--> 439\u001b[1;33m                 resp = conn.urlopen(\n\u001b[0m\u001b[0;32m    440\u001b[0m                     \u001b[0mmethod\u001b[0m\u001b[1;33m=\u001b[0m\u001b[0mrequest\u001b[0m\u001b[1;33m.\u001b[0m\u001b[0mmethod\u001b[0m\u001b[1;33m,\u001b[0m\u001b[1;33m\u001b[0m\u001b[1;33m\u001b[0m\u001b[0m\n",
      "\u001b[1;32m~\\anaconda3\\lib\\site-packages\\urllib3\\connectionpool.py\u001b[0m in \u001b[0;36murlopen\u001b[1;34m(self, method, url, body, headers, retries, redirect, assert_same_host, timeout, pool_timeout, release_conn, chunked, body_pos, **response_kw)\u001b[0m\n\u001b[0;32m    725\u001b[0m \u001b[1;33m\u001b[0m\u001b[0m\n\u001b[1;32m--> 726\u001b[1;33m             retries = retries.increment(\n\u001b[0m\u001b[0;32m    727\u001b[0m                 \u001b[0mmethod\u001b[0m\u001b[1;33m,\u001b[0m \u001b[0murl\u001b[0m\u001b[1;33m,\u001b[0m \u001b[0merror\u001b[0m\u001b[1;33m=\u001b[0m\u001b[0me\u001b[0m\u001b[1;33m,\u001b[0m \u001b[0m_pool\u001b[0m\u001b[1;33m=\u001b[0m\u001b[0mself\u001b[0m\u001b[1;33m,\u001b[0m \u001b[0m_stacktrace\u001b[0m\u001b[1;33m=\u001b[0m\u001b[0msys\u001b[0m\u001b[1;33m.\u001b[0m\u001b[0mexc_info\u001b[0m\u001b[1;33m(\u001b[0m\u001b[1;33m)\u001b[0m\u001b[1;33m[\u001b[0m\u001b[1;36m2\u001b[0m\u001b[1;33m]\u001b[0m\u001b[1;33m\u001b[0m\u001b[1;33m\u001b[0m\u001b[0m\n",
      "\u001b[1;32m~\\anaconda3\\lib\\site-packages\\urllib3\\util\\retry.py\u001b[0m in \u001b[0;36mincrement\u001b[1;34m(self, method, url, response, error, _pool, _stacktrace)\u001b[0m\n\u001b[0;32m    445\u001b[0m         \u001b[1;32mif\u001b[0m \u001b[0mnew_retry\u001b[0m\u001b[1;33m.\u001b[0m\u001b[0mis_exhausted\u001b[0m\u001b[1;33m(\u001b[0m\u001b[1;33m)\u001b[0m\u001b[1;33m:\u001b[0m\u001b[1;33m\u001b[0m\u001b[1;33m\u001b[0m\u001b[0m\n\u001b[1;32m--> 446\u001b[1;33m             \u001b[1;32mraise\u001b[0m \u001b[0mMaxRetryError\u001b[0m\u001b[1;33m(\u001b[0m\u001b[0m_pool\u001b[0m\u001b[1;33m,\u001b[0m \u001b[0murl\u001b[0m\u001b[1;33m,\u001b[0m \u001b[0merror\u001b[0m \u001b[1;32mor\u001b[0m \u001b[0mResponseError\u001b[0m\u001b[1;33m(\u001b[0m\u001b[0mcause\u001b[0m\u001b[1;33m)\u001b[0m\u001b[1;33m)\u001b[0m\u001b[1;33m\u001b[0m\u001b[1;33m\u001b[0m\u001b[0m\n\u001b[0m\u001b[0;32m    447\u001b[0m \u001b[1;33m\u001b[0m\u001b[0m\n",
      "\u001b[1;31mMaxRetryError\u001b[0m: HTTPConnectionPool(host='sdkfjhsgflkasjdfblksdf', port=80): Max retries exceeded with url: / (Caused by NewConnectionError('<urllib3.connection.HTTPConnection object at 0x000001E3571E1D90>: Failed to establish a new connection: [Errno 11001] getaddrinfo failed'))",
      "\nDuring handling of the above exception, another exception occurred:\n",
      "\u001b[1;31mConnectionError\u001b[0m                           Traceback (most recent call last)",
      "\u001b[1;32m<ipython-input-13-3ec33e5816c1>\u001b[0m in \u001b[0;36m<module>\u001b[1;34m\u001b[0m\n\u001b[0;32m      1\u001b[0m \u001b[0mres\u001b[0m\u001b[1;33m.\u001b[0m\u001b[0mraise_for_status\u001b[0m\u001b[1;33m(\u001b[0m\u001b[1;33m)\u001b[0m\u001b[1;33m\u001b[0m\u001b[1;33m\u001b[0m\u001b[0m\n\u001b[1;32m----> 2\u001b[1;33m \u001b[0mbadRes\u001b[0m \u001b[1;33m=\u001b[0m \u001b[0mrequests\u001b[0m\u001b[1;33m.\u001b[0m\u001b[0mget\u001b[0m\u001b[1;33m(\u001b[0m\u001b[1;34m'http://sdkfjhsgflkasjdfblksdf'\u001b[0m\u001b[1;33m)\u001b[0m\u001b[1;33m\u001b[0m\u001b[1;33m\u001b[0m\u001b[0m\n\u001b[0m\u001b[0;32m      3\u001b[0m \u001b[0mbadRes\u001b[0m\u001b[1;33m.\u001b[0m\u001b[0mraise_for_status\u001b[0m\u001b[1;33m(\u001b[0m\u001b[1;33m)\u001b[0m\u001b[1;33m\u001b[0m\u001b[1;33m\u001b[0m\u001b[0m\n",
      "\u001b[1;32m~\\anaconda3\\lib\\site-packages\\requests\\api.py\u001b[0m in \u001b[0;36mget\u001b[1;34m(url, params, **kwargs)\u001b[0m\n\u001b[0;32m     74\u001b[0m \u001b[1;33m\u001b[0m\u001b[0m\n\u001b[0;32m     75\u001b[0m     \u001b[0mkwargs\u001b[0m\u001b[1;33m.\u001b[0m\u001b[0msetdefault\u001b[0m\u001b[1;33m(\u001b[0m\u001b[1;34m'allow_redirects'\u001b[0m\u001b[1;33m,\u001b[0m \u001b[1;32mTrue\u001b[0m\u001b[1;33m)\u001b[0m\u001b[1;33m\u001b[0m\u001b[1;33m\u001b[0m\u001b[0m\n\u001b[1;32m---> 76\u001b[1;33m     \u001b[1;32mreturn\u001b[0m \u001b[0mrequest\u001b[0m\u001b[1;33m(\u001b[0m\u001b[1;34m'get'\u001b[0m\u001b[1;33m,\u001b[0m \u001b[0murl\u001b[0m\u001b[1;33m,\u001b[0m \u001b[0mparams\u001b[0m\u001b[1;33m=\u001b[0m\u001b[0mparams\u001b[0m\u001b[1;33m,\u001b[0m \u001b[1;33m**\u001b[0m\u001b[0mkwargs\u001b[0m\u001b[1;33m)\u001b[0m\u001b[1;33m\u001b[0m\u001b[1;33m\u001b[0m\u001b[0m\n\u001b[0m\u001b[0;32m     77\u001b[0m \u001b[1;33m\u001b[0m\u001b[0m\n\u001b[0;32m     78\u001b[0m \u001b[1;33m\u001b[0m\u001b[0m\n",
      "\u001b[1;32m~\\anaconda3\\lib\\site-packages\\requests\\api.py\u001b[0m in \u001b[0;36mrequest\u001b[1;34m(method, url, **kwargs)\u001b[0m\n\u001b[0;32m     59\u001b[0m     \u001b[1;31m# cases, and look like a memory leak in others.\u001b[0m\u001b[1;33m\u001b[0m\u001b[1;33m\u001b[0m\u001b[1;33m\u001b[0m\u001b[0m\n\u001b[0;32m     60\u001b[0m     \u001b[1;32mwith\u001b[0m \u001b[0msessions\u001b[0m\u001b[1;33m.\u001b[0m\u001b[0mSession\u001b[0m\u001b[1;33m(\u001b[0m\u001b[1;33m)\u001b[0m \u001b[1;32mas\u001b[0m \u001b[0msession\u001b[0m\u001b[1;33m:\u001b[0m\u001b[1;33m\u001b[0m\u001b[1;33m\u001b[0m\u001b[0m\n\u001b[1;32m---> 61\u001b[1;33m         \u001b[1;32mreturn\u001b[0m \u001b[0msession\u001b[0m\u001b[1;33m.\u001b[0m\u001b[0mrequest\u001b[0m\u001b[1;33m(\u001b[0m\u001b[0mmethod\u001b[0m\u001b[1;33m=\u001b[0m\u001b[0mmethod\u001b[0m\u001b[1;33m,\u001b[0m \u001b[0murl\u001b[0m\u001b[1;33m=\u001b[0m\u001b[0murl\u001b[0m\u001b[1;33m,\u001b[0m \u001b[1;33m**\u001b[0m\u001b[0mkwargs\u001b[0m\u001b[1;33m)\u001b[0m\u001b[1;33m\u001b[0m\u001b[1;33m\u001b[0m\u001b[0m\n\u001b[0m\u001b[0;32m     62\u001b[0m \u001b[1;33m\u001b[0m\u001b[0m\n\u001b[0;32m     63\u001b[0m \u001b[1;33m\u001b[0m\u001b[0m\n",
      "\u001b[1;32m~\\anaconda3\\lib\\site-packages\\requests\\sessions.py\u001b[0m in \u001b[0;36mrequest\u001b[1;34m(self, method, url, params, data, headers, cookies, files, auth, timeout, allow_redirects, proxies, hooks, stream, verify, cert, json)\u001b[0m\n\u001b[0;32m    528\u001b[0m         }\n\u001b[0;32m    529\u001b[0m         \u001b[0msend_kwargs\u001b[0m\u001b[1;33m.\u001b[0m\u001b[0mupdate\u001b[0m\u001b[1;33m(\u001b[0m\u001b[0msettings\u001b[0m\u001b[1;33m)\u001b[0m\u001b[1;33m\u001b[0m\u001b[1;33m\u001b[0m\u001b[0m\n\u001b[1;32m--> 530\u001b[1;33m         \u001b[0mresp\u001b[0m \u001b[1;33m=\u001b[0m \u001b[0mself\u001b[0m\u001b[1;33m.\u001b[0m\u001b[0msend\u001b[0m\u001b[1;33m(\u001b[0m\u001b[0mprep\u001b[0m\u001b[1;33m,\u001b[0m \u001b[1;33m**\u001b[0m\u001b[0msend_kwargs\u001b[0m\u001b[1;33m)\u001b[0m\u001b[1;33m\u001b[0m\u001b[1;33m\u001b[0m\u001b[0m\n\u001b[0m\u001b[0;32m    531\u001b[0m \u001b[1;33m\u001b[0m\u001b[0m\n\u001b[0;32m    532\u001b[0m         \u001b[1;32mreturn\u001b[0m \u001b[0mresp\u001b[0m\u001b[1;33m\u001b[0m\u001b[1;33m\u001b[0m\u001b[0m\n",
      "\u001b[1;32m~\\anaconda3\\lib\\site-packages\\requests\\sessions.py\u001b[0m in \u001b[0;36msend\u001b[1;34m(self, request, **kwargs)\u001b[0m\n\u001b[0;32m    641\u001b[0m \u001b[1;33m\u001b[0m\u001b[0m\n\u001b[0;32m    642\u001b[0m         \u001b[1;31m# Send the request\u001b[0m\u001b[1;33m\u001b[0m\u001b[1;33m\u001b[0m\u001b[1;33m\u001b[0m\u001b[0m\n\u001b[1;32m--> 643\u001b[1;33m         \u001b[0mr\u001b[0m \u001b[1;33m=\u001b[0m \u001b[0madapter\u001b[0m\u001b[1;33m.\u001b[0m\u001b[0msend\u001b[0m\u001b[1;33m(\u001b[0m\u001b[0mrequest\u001b[0m\u001b[1;33m,\u001b[0m \u001b[1;33m**\u001b[0m\u001b[0mkwargs\u001b[0m\u001b[1;33m)\u001b[0m\u001b[1;33m\u001b[0m\u001b[1;33m\u001b[0m\u001b[0m\n\u001b[0m\u001b[0;32m    644\u001b[0m \u001b[1;33m\u001b[0m\u001b[0m\n\u001b[0;32m    645\u001b[0m         \u001b[1;31m# Total elapsed time of the request (approximately)\u001b[0m\u001b[1;33m\u001b[0m\u001b[1;33m\u001b[0m\u001b[1;33m\u001b[0m\u001b[0m\n",
      "\u001b[1;32m~\\anaconda3\\lib\\site-packages\\requests\\adapters.py\u001b[0m in \u001b[0;36msend\u001b[1;34m(self, request, stream, timeout, verify, cert, proxies)\u001b[0m\n\u001b[0;32m    514\u001b[0m                 \u001b[1;32mraise\u001b[0m \u001b[0mSSLError\u001b[0m\u001b[1;33m(\u001b[0m\u001b[0me\u001b[0m\u001b[1;33m,\u001b[0m \u001b[0mrequest\u001b[0m\u001b[1;33m=\u001b[0m\u001b[0mrequest\u001b[0m\u001b[1;33m)\u001b[0m\u001b[1;33m\u001b[0m\u001b[1;33m\u001b[0m\u001b[0m\n\u001b[0;32m    515\u001b[0m \u001b[1;33m\u001b[0m\u001b[0m\n\u001b[1;32m--> 516\u001b[1;33m             \u001b[1;32mraise\u001b[0m \u001b[0mConnectionError\u001b[0m\u001b[1;33m(\u001b[0m\u001b[0me\u001b[0m\u001b[1;33m,\u001b[0m \u001b[0mrequest\u001b[0m\u001b[1;33m=\u001b[0m\u001b[0mrequest\u001b[0m\u001b[1;33m)\u001b[0m\u001b[1;33m\u001b[0m\u001b[1;33m\u001b[0m\u001b[0m\n\u001b[0m\u001b[0;32m    517\u001b[0m \u001b[1;33m\u001b[0m\u001b[0m\n\u001b[0;32m    518\u001b[0m         \u001b[1;32mexcept\u001b[0m \u001b[0mClosedPoolError\u001b[0m \u001b[1;32mas\u001b[0m \u001b[0me\u001b[0m\u001b[1;33m:\u001b[0m\u001b[1;33m\u001b[0m\u001b[1;33m\u001b[0m\u001b[0m\n",
      "\u001b[1;31mConnectionError\u001b[0m: HTTPConnectionPool(host='sdkfjhsgflkasjdfblksdf', port=80): Max retries exceeded with url: / (Caused by NewConnectionError('<urllib3.connection.HTTPConnection object at 0x000001E3571E1D90>: Failed to establish a new connection: [Errno 11001] getaddrinfo failed'))"
     ]
    }
   ],
   "source": [
    "res.raise_for_status()\n",
    "badRes = requests.get('http://sdkfjhsgflkasjdfblksdf')\n",
    "badRes.raise_for_status()"
   ]
  },
  {
   "cell_type": "code",
   "execution_count": 14,
   "metadata": {},
   "outputs": [],
   "source": [
    "playFile = open('RomeoAndJuliet.txt', 'wb') # wb means open in write binary mode to maintain unicode encoding\n",
    "for chunk in res.iter_content(100000): # i.e. 100000 bytes per chunk\n",
    "    playFile.write(chunk)"
   ]
  },
  {
   "cell_type": "code",
   "execution_count": 15,
   "metadata": {},
   "outputs": [],
   "source": [
    "playFile.close()"
   ]
  },
  {
   "cell_type": "code",
   "execution_count": 2,
   "metadata": {},
   "outputs": [],
   "source": [
    "import bs4 # \"beautiful soup v4\" module"
   ]
  },
  {
   "cell_type": "code",
   "execution_count": 10,
   "metadata": {},
   "outputs": [],
   "source": [
    "import requests"
   ]
  },
  {
   "cell_type": "code",
   "execution_count": 15,
   "metadata": {},
   "outputs": [],
   "source": [
    "headers = {\n",
    "        'User-Agent': 'Mozilla/5.0 (Windows NT 6.1) AppleWebKit/537.36 (KHTML, like Gecko) Chrome/41.0.2228.0 Safari/537.36',\n",
    "    }\n",
    "res = requests.get('https://www.barnesandnoble.com/w/automate-the-boring-stuff-with-python-2nd-edition-al-sweigart/1133598925;jsessionid=16DC42DA03625631B4C6AE3471C519C5.prodny_store01-atgap13?ean=9781593279929', headers=headers)\n",
    "res.raise_for_status()"
   ]
  },
  {
   "cell_type": "code",
   "execution_count": 16,
   "metadata": {},
   "outputs": [],
   "source": [
    "soup = bs4.BeautifulSoup(res.text)"
   ]
  },
  {
   "cell_type": "code",
   "execution_count": 17,
   "metadata": {},
   "outputs": [
    {
     "data": {
      "text/plain": [
       "[<span class=\"price current-price ml-0\" id=\"pdp-cur-price\"><sup>$</sup>39.95</span>]"
      ]
     },
     "execution_count": 17,
     "metadata": {},
     "output_type": "execute_result"
    }
   ],
   "source": [
    "soup.select('#pdp-cur-price')"
   ]
  },
  {
   "cell_type": "code",
   "execution_count": 18,
   "metadata": {},
   "outputs": [],
   "source": [
    "elems = soup.select('#pdp-cur-price')"
   ]
  },
  {
   "cell_type": "code",
   "execution_count": 19,
   "metadata": {},
   "outputs": [
    {
     "data": {
      "text/plain": [
       "'$39.95'"
      ]
     },
     "execution_count": 19,
     "metadata": {},
     "output_type": "execute_result"
    }
   ],
   "source": [
    "elems[0].text"
   ]
  },
  {
   "cell_type": "code",
   "execution_count": 20,
   "metadata": {},
   "outputs": [
    {
     "data": {
      "text/plain": [
       "'$39.95'"
      ]
     },
     "execution_count": 20,
     "metadata": {},
     "output_type": "execute_result"
    }
   ],
   "source": [
    "elems[0].text.strip()"
   ]
  },
  {
   "cell_type": "code",
   "execution_count": 23,
   "metadata": {},
   "outputs": [
    {
     "name": "stdout",
     "output_type": "stream",
     "text": [
      "The price is $39.95\n"
     ]
    }
   ],
   "source": [
    "# new programme\n",
    "\n",
    "import bs4, requests\n",
    "\n",
    "def getBNPrice(productUrl):\n",
    "    headers = {\n",
    "        'User-Agent': 'Mozilla/5.0 (Windows NT 6.1) AppleWebKit/537.36 (KHTML, like Gecko) Chrome/41.0.2228.0 Safari/537.36',\n",
    "    }\n",
    "    res = requests.get(productUrl, headers=headers)\n",
    "    res.raise_for_status()\n",
    "    \n",
    "    soup = bs4.BeautifulSoup(res.text, 'html.parser')\n",
    "    elems = soup.select('#pdp-cur-price')\n",
    "    return elems[0].text.strip() \n",
    "\n",
    "price = getBNPrice('https://www.barnesandnoble.com/w/automate-the-boring-stuff-with-python-2nd-edition-al-sweigart/1133598925;jsessionid=16DC42DA03625631B4C6AE3471C519C5.prodny_store01-atgap13?ean=9781593279929')\n",
    "print('The price is ' + price)"
   ]
  },
  {
   "cell_type": "code",
   "execution_count": 24,
   "metadata": {},
   "outputs": [
    {
     "ename": "ModuleNotFoundError",
     "evalue": "No module named 'selenium'",
     "output_type": "error",
     "traceback": [
      "\u001b[1;31m---------------------------------------------------------------------------\u001b[0m",
      "\u001b[1;31mModuleNotFoundError\u001b[0m                       Traceback (most recent call last)",
      "\u001b[1;32m<ipython-input-24-93833772b63f>\u001b[0m in \u001b[0;36m<module>\u001b[1;34m\u001b[0m\n\u001b[1;32m----> 1\u001b[1;33m \u001b[1;32mfrom\u001b[0m \u001b[0mselenium\u001b[0m \u001b[1;32mimport\u001b[0m \u001b[0mwebdriver\u001b[0m\u001b[1;33m\u001b[0m\u001b[1;33m\u001b[0m\u001b[0m\n\u001b[0m",
      "\u001b[1;31mModuleNotFoundError\u001b[0m: No module named 'selenium'"
     ]
    }
   ],
   "source": [
    "from selenium import webdriver"
   ]
  },
  {
   "cell_type": "code",
   "execution_count": 25,
   "metadata": {},
   "outputs": [],
   "source": [
    "from selenium import webdriver"
   ]
  },
  {
   "cell_type": "code",
   "execution_count": 34,
   "metadata": {},
   "outputs": [
    {
     "ename": "SessionNotCreatedException",
     "evalue": "Message: session not created: This version of MSEdgeDriver only supports MSEdge version 90\nCurrent browser version is 88.0.705.56 with binary path C:\\Program Files (x86)\\Microsoft\\Edge\\Application\\msedge.exe\n",
     "output_type": "error",
     "traceback": [
      "\u001b[1;31m---------------------------------------------------------------------------\u001b[0m",
      "\u001b[1;31mSessionNotCreatedException\u001b[0m                Traceback (most recent call last)",
      "\u001b[1;32m<ipython-input-34-ee7cd515a49c>\u001b[0m in \u001b[0;36m<module>\u001b[1;34m\u001b[0m\n\u001b[1;32m----> 1\u001b[1;33m \u001b[0mbrowser\u001b[0m \u001b[1;33m=\u001b[0m \u001b[0mwebdriver\u001b[0m\u001b[1;33m.\u001b[0m\u001b[0mEdge\u001b[0m\u001b[1;33m(\u001b[0m\u001b[1;33m)\u001b[0m\u001b[1;33m\u001b[0m\u001b[1;33m\u001b[0m\u001b[0m\n\u001b[0m",
      "\u001b[1;32m~\\anaconda3\\lib\\site-packages\\selenium\\webdriver\\edge\\webdriver.py\u001b[0m in \u001b[0;36m__init__\u001b[1;34m(self, executable_path, capabilities, port, verbose, service_log_path, log_path, keep_alive)\u001b[0m\n\u001b[0;32m     59\u001b[0m             \u001b[0mcapabilities\u001b[0m \u001b[1;33m=\u001b[0m \u001b[0mDesiredCapabilities\u001b[0m\u001b[1;33m.\u001b[0m\u001b[0mEDGE\u001b[0m\u001b[1;33m\u001b[0m\u001b[1;33m\u001b[0m\u001b[0m\n\u001b[0;32m     60\u001b[0m \u001b[1;33m\u001b[0m\u001b[0m\n\u001b[1;32m---> 61\u001b[1;33m         RemoteWebDriver.__init__(\n\u001b[0m\u001b[0;32m     62\u001b[0m             \u001b[0mself\u001b[0m\u001b[1;33m,\u001b[0m\u001b[1;33m\u001b[0m\u001b[1;33m\u001b[0m\u001b[0m\n\u001b[0;32m     63\u001b[0m             command_executor=RemoteConnection('http://localhost:%d' % self.port,\n",
      "\u001b[1;32m~\\anaconda3\\lib\\site-packages\\selenium\\webdriver\\remote\\webdriver.py\u001b[0m in \u001b[0;36m__init__\u001b[1;34m(self, command_executor, desired_capabilities, browser_profile, proxy, keep_alive, file_detector, options)\u001b[0m\n\u001b[0;32m    155\u001b[0m             warnings.warn(\"Please use FirefoxOptions to set browser profile\",\n\u001b[0;32m    156\u001b[0m                           DeprecationWarning, stacklevel=2)\n\u001b[1;32m--> 157\u001b[1;33m         \u001b[0mself\u001b[0m\u001b[1;33m.\u001b[0m\u001b[0mstart_session\u001b[0m\u001b[1;33m(\u001b[0m\u001b[0mcapabilities\u001b[0m\u001b[1;33m,\u001b[0m \u001b[0mbrowser_profile\u001b[0m\u001b[1;33m)\u001b[0m\u001b[1;33m\u001b[0m\u001b[1;33m\u001b[0m\u001b[0m\n\u001b[0m\u001b[0;32m    158\u001b[0m         \u001b[0mself\u001b[0m\u001b[1;33m.\u001b[0m\u001b[0m_switch_to\u001b[0m \u001b[1;33m=\u001b[0m \u001b[0mSwitchTo\u001b[0m\u001b[1;33m(\u001b[0m\u001b[0mself\u001b[0m\u001b[1;33m)\u001b[0m\u001b[1;33m\u001b[0m\u001b[1;33m\u001b[0m\u001b[0m\n\u001b[0;32m    159\u001b[0m         \u001b[0mself\u001b[0m\u001b[1;33m.\u001b[0m\u001b[0m_mobile\u001b[0m \u001b[1;33m=\u001b[0m \u001b[0mMobile\u001b[0m\u001b[1;33m(\u001b[0m\u001b[0mself\u001b[0m\u001b[1;33m)\u001b[0m\u001b[1;33m\u001b[0m\u001b[1;33m\u001b[0m\u001b[0m\n",
      "\u001b[1;32m~\\anaconda3\\lib\\site-packages\\selenium\\webdriver\\remote\\webdriver.py\u001b[0m in \u001b[0;36mstart_session\u001b[1;34m(self, capabilities, browser_profile)\u001b[0m\n\u001b[0;32m    250\u001b[0m         parameters = {\"capabilities\": w3c_caps,\n\u001b[0;32m    251\u001b[0m                       \"desiredCapabilities\": capabilities}\n\u001b[1;32m--> 252\u001b[1;33m         \u001b[0mresponse\u001b[0m \u001b[1;33m=\u001b[0m \u001b[0mself\u001b[0m\u001b[1;33m.\u001b[0m\u001b[0mexecute\u001b[0m\u001b[1;33m(\u001b[0m\u001b[0mCommand\u001b[0m\u001b[1;33m.\u001b[0m\u001b[0mNEW_SESSION\u001b[0m\u001b[1;33m,\u001b[0m \u001b[0mparameters\u001b[0m\u001b[1;33m)\u001b[0m\u001b[1;33m\u001b[0m\u001b[1;33m\u001b[0m\u001b[0m\n\u001b[0m\u001b[0;32m    253\u001b[0m         \u001b[1;32mif\u001b[0m \u001b[1;34m'sessionId'\u001b[0m \u001b[1;32mnot\u001b[0m \u001b[1;32min\u001b[0m \u001b[0mresponse\u001b[0m\u001b[1;33m:\u001b[0m\u001b[1;33m\u001b[0m\u001b[1;33m\u001b[0m\u001b[0m\n\u001b[0;32m    254\u001b[0m             \u001b[0mresponse\u001b[0m \u001b[1;33m=\u001b[0m \u001b[0mresponse\u001b[0m\u001b[1;33m[\u001b[0m\u001b[1;34m'value'\u001b[0m\u001b[1;33m]\u001b[0m\u001b[1;33m\u001b[0m\u001b[1;33m\u001b[0m\u001b[0m\n",
      "\u001b[1;32m~\\anaconda3\\lib\\site-packages\\selenium\\webdriver\\remote\\webdriver.py\u001b[0m in \u001b[0;36mexecute\u001b[1;34m(self, driver_command, params)\u001b[0m\n\u001b[0;32m    319\u001b[0m         \u001b[0mresponse\u001b[0m \u001b[1;33m=\u001b[0m \u001b[0mself\u001b[0m\u001b[1;33m.\u001b[0m\u001b[0mcommand_executor\u001b[0m\u001b[1;33m.\u001b[0m\u001b[0mexecute\u001b[0m\u001b[1;33m(\u001b[0m\u001b[0mdriver_command\u001b[0m\u001b[1;33m,\u001b[0m \u001b[0mparams\u001b[0m\u001b[1;33m)\u001b[0m\u001b[1;33m\u001b[0m\u001b[1;33m\u001b[0m\u001b[0m\n\u001b[0;32m    320\u001b[0m         \u001b[1;32mif\u001b[0m \u001b[0mresponse\u001b[0m\u001b[1;33m:\u001b[0m\u001b[1;33m\u001b[0m\u001b[1;33m\u001b[0m\u001b[0m\n\u001b[1;32m--> 321\u001b[1;33m             \u001b[0mself\u001b[0m\u001b[1;33m.\u001b[0m\u001b[0merror_handler\u001b[0m\u001b[1;33m.\u001b[0m\u001b[0mcheck_response\u001b[0m\u001b[1;33m(\u001b[0m\u001b[0mresponse\u001b[0m\u001b[1;33m)\u001b[0m\u001b[1;33m\u001b[0m\u001b[1;33m\u001b[0m\u001b[0m\n\u001b[0m\u001b[0;32m    322\u001b[0m             response['value'] = self._unwrap_value(\n\u001b[0;32m    323\u001b[0m                 response.get('value', None))\n",
      "\u001b[1;32m~\\anaconda3\\lib\\site-packages\\selenium\\webdriver\\remote\\errorhandler.py\u001b[0m in \u001b[0;36mcheck_response\u001b[1;34m(self, response)\u001b[0m\n\u001b[0;32m    240\u001b[0m                 \u001b[0malert_text\u001b[0m \u001b[1;33m=\u001b[0m \u001b[0mvalue\u001b[0m\u001b[1;33m[\u001b[0m\u001b[1;34m'alert'\u001b[0m\u001b[1;33m]\u001b[0m\u001b[1;33m.\u001b[0m\u001b[0mget\u001b[0m\u001b[1;33m(\u001b[0m\u001b[1;34m'text'\u001b[0m\u001b[1;33m)\u001b[0m\u001b[1;33m\u001b[0m\u001b[1;33m\u001b[0m\u001b[0m\n\u001b[0;32m    241\u001b[0m             \u001b[1;32mraise\u001b[0m \u001b[0mexception_class\u001b[0m\u001b[1;33m(\u001b[0m\u001b[0mmessage\u001b[0m\u001b[1;33m,\u001b[0m \u001b[0mscreen\u001b[0m\u001b[1;33m,\u001b[0m \u001b[0mstacktrace\u001b[0m\u001b[1;33m,\u001b[0m \u001b[0malert_text\u001b[0m\u001b[1;33m)\u001b[0m\u001b[1;33m\u001b[0m\u001b[1;33m\u001b[0m\u001b[0m\n\u001b[1;32m--> 242\u001b[1;33m         \u001b[1;32mraise\u001b[0m \u001b[0mexception_class\u001b[0m\u001b[1;33m(\u001b[0m\u001b[0mmessage\u001b[0m\u001b[1;33m,\u001b[0m \u001b[0mscreen\u001b[0m\u001b[1;33m,\u001b[0m \u001b[0mstacktrace\u001b[0m\u001b[1;33m)\u001b[0m\u001b[1;33m\u001b[0m\u001b[1;33m\u001b[0m\u001b[0m\n\u001b[0m\u001b[0;32m    243\u001b[0m \u001b[1;33m\u001b[0m\u001b[0m\n\u001b[0;32m    244\u001b[0m     \u001b[1;32mdef\u001b[0m \u001b[0m_value_or_default\u001b[0m\u001b[1;33m(\u001b[0m\u001b[0mself\u001b[0m\u001b[1;33m,\u001b[0m \u001b[0mobj\u001b[0m\u001b[1;33m,\u001b[0m \u001b[0mkey\u001b[0m\u001b[1;33m,\u001b[0m \u001b[0mdefault\u001b[0m\u001b[1;33m)\u001b[0m\u001b[1;33m:\u001b[0m\u001b[1;33m\u001b[0m\u001b[1;33m\u001b[0m\u001b[0m\n",
      "\u001b[1;31mSessionNotCreatedException\u001b[0m: Message: session not created: This version of MSEdgeDriver only supports MSEdge version 90\nCurrent browser version is 88.0.705.56 with binary path C:\\Program Files (x86)\\Microsoft\\Edge\\Application\\msedge.exe\n"
     ]
    }
   ],
   "source": [
    "browser = webdriver.Edge()"
   ]
  },
  {
   "cell_type": "code",
   "execution_count": 30,
   "metadata": {},
   "outputs": [
    {
     "ename": "InvalidSessionIdException",
     "evalue": "Message: Tried to run command without establishing a connection\n",
     "output_type": "error",
     "traceback": [
      "\u001b[1;31m---------------------------------------------------------------------------\u001b[0m",
      "\u001b[1;31mInvalidSessionIdException\u001b[0m                 Traceback (most recent call last)",
      "\u001b[1;32m<ipython-input-30-d9aa2666f93d>\u001b[0m in \u001b[0;36m<module>\u001b[1;34m\u001b[0m\n\u001b[1;32m----> 1\u001b[1;33m \u001b[0mbrowser\u001b[0m\u001b[1;33m.\u001b[0m\u001b[0mget\u001b[0m\u001b[1;33m(\u001b[0m\u001b[1;34m'http://automatetheboringstuff.com/'\u001b[0m\u001b[1;33m)\u001b[0m\u001b[1;33m\u001b[0m\u001b[1;33m\u001b[0m\u001b[0m\n\u001b[0m",
      "\u001b[1;32m~\\anaconda3\\lib\\site-packages\\selenium\\webdriver\\remote\\webdriver.py\u001b[0m in \u001b[0;36mget\u001b[1;34m(self, url)\u001b[0m\n\u001b[0;32m    331\u001b[0m         \u001b[0mLoads\u001b[0m \u001b[0ma\u001b[0m \u001b[0mweb\u001b[0m \u001b[0mpage\u001b[0m \u001b[1;32min\u001b[0m \u001b[0mthe\u001b[0m \u001b[0mcurrent\u001b[0m \u001b[0mbrowser\u001b[0m \u001b[0msession\u001b[0m\u001b[1;33m.\u001b[0m\u001b[1;33m\u001b[0m\u001b[1;33m\u001b[0m\u001b[0m\n\u001b[0;32m    332\u001b[0m         \"\"\"\n\u001b[1;32m--> 333\u001b[1;33m         \u001b[0mself\u001b[0m\u001b[1;33m.\u001b[0m\u001b[0mexecute\u001b[0m\u001b[1;33m(\u001b[0m\u001b[0mCommand\u001b[0m\u001b[1;33m.\u001b[0m\u001b[0mGET\u001b[0m\u001b[1;33m,\u001b[0m \u001b[1;33m{\u001b[0m\u001b[1;34m'url'\u001b[0m\u001b[1;33m:\u001b[0m \u001b[0murl\u001b[0m\u001b[1;33m}\u001b[0m\u001b[1;33m)\u001b[0m\u001b[1;33m\u001b[0m\u001b[1;33m\u001b[0m\u001b[0m\n\u001b[0m\u001b[0;32m    334\u001b[0m \u001b[1;33m\u001b[0m\u001b[0m\n\u001b[0;32m    335\u001b[0m     \u001b[1;33m@\u001b[0m\u001b[0mproperty\u001b[0m\u001b[1;33m\u001b[0m\u001b[1;33m\u001b[0m\u001b[0m\n",
      "\u001b[1;32m~\\anaconda3\\lib\\site-packages\\selenium\\webdriver\\remote\\webdriver.py\u001b[0m in \u001b[0;36mexecute\u001b[1;34m(self, driver_command, params)\u001b[0m\n\u001b[0;32m    319\u001b[0m         \u001b[0mresponse\u001b[0m \u001b[1;33m=\u001b[0m \u001b[0mself\u001b[0m\u001b[1;33m.\u001b[0m\u001b[0mcommand_executor\u001b[0m\u001b[1;33m.\u001b[0m\u001b[0mexecute\u001b[0m\u001b[1;33m(\u001b[0m\u001b[0mdriver_command\u001b[0m\u001b[1;33m,\u001b[0m \u001b[0mparams\u001b[0m\u001b[1;33m)\u001b[0m\u001b[1;33m\u001b[0m\u001b[1;33m\u001b[0m\u001b[0m\n\u001b[0;32m    320\u001b[0m         \u001b[1;32mif\u001b[0m \u001b[0mresponse\u001b[0m\u001b[1;33m:\u001b[0m\u001b[1;33m\u001b[0m\u001b[1;33m\u001b[0m\u001b[0m\n\u001b[1;32m--> 321\u001b[1;33m             \u001b[0mself\u001b[0m\u001b[1;33m.\u001b[0m\u001b[0merror_handler\u001b[0m\u001b[1;33m.\u001b[0m\u001b[0mcheck_response\u001b[0m\u001b[1;33m(\u001b[0m\u001b[0mresponse\u001b[0m\u001b[1;33m)\u001b[0m\u001b[1;33m\u001b[0m\u001b[1;33m\u001b[0m\u001b[0m\n\u001b[0m\u001b[0;32m    322\u001b[0m             response['value'] = self._unwrap_value(\n\u001b[0;32m    323\u001b[0m                 response.get('value', None))\n",
      "\u001b[1;32m~\\anaconda3\\lib\\site-packages\\selenium\\webdriver\\remote\\errorhandler.py\u001b[0m in \u001b[0;36mcheck_response\u001b[1;34m(self, response)\u001b[0m\n\u001b[0;32m    240\u001b[0m                 \u001b[0malert_text\u001b[0m \u001b[1;33m=\u001b[0m \u001b[0mvalue\u001b[0m\u001b[1;33m[\u001b[0m\u001b[1;34m'alert'\u001b[0m\u001b[1;33m]\u001b[0m\u001b[1;33m.\u001b[0m\u001b[0mget\u001b[0m\u001b[1;33m(\u001b[0m\u001b[1;34m'text'\u001b[0m\u001b[1;33m)\u001b[0m\u001b[1;33m\u001b[0m\u001b[1;33m\u001b[0m\u001b[0m\n\u001b[0;32m    241\u001b[0m             \u001b[1;32mraise\u001b[0m \u001b[0mexception_class\u001b[0m\u001b[1;33m(\u001b[0m\u001b[0mmessage\u001b[0m\u001b[1;33m,\u001b[0m \u001b[0mscreen\u001b[0m\u001b[1;33m,\u001b[0m \u001b[0mstacktrace\u001b[0m\u001b[1;33m,\u001b[0m \u001b[0malert_text\u001b[0m\u001b[1;33m)\u001b[0m\u001b[1;33m\u001b[0m\u001b[1;33m\u001b[0m\u001b[0m\n\u001b[1;32m--> 242\u001b[1;33m         \u001b[1;32mraise\u001b[0m \u001b[0mexception_class\u001b[0m\u001b[1;33m(\u001b[0m\u001b[0mmessage\u001b[0m\u001b[1;33m,\u001b[0m \u001b[0mscreen\u001b[0m\u001b[1;33m,\u001b[0m \u001b[0mstacktrace\u001b[0m\u001b[1;33m)\u001b[0m\u001b[1;33m\u001b[0m\u001b[1;33m\u001b[0m\u001b[0m\n\u001b[0m\u001b[0;32m    243\u001b[0m \u001b[1;33m\u001b[0m\u001b[0m\n\u001b[0;32m    244\u001b[0m     \u001b[1;32mdef\u001b[0m \u001b[0m_value_or_default\u001b[0m\u001b[1;33m(\u001b[0m\u001b[0mself\u001b[0m\u001b[1;33m,\u001b[0m \u001b[0mobj\u001b[0m\u001b[1;33m,\u001b[0m \u001b[0mkey\u001b[0m\u001b[1;33m,\u001b[0m \u001b[0mdefault\u001b[0m\u001b[1;33m)\u001b[0m\u001b[1;33m:\u001b[0m\u001b[1;33m\u001b[0m\u001b[1;33m\u001b[0m\u001b[0m\n",
      "\u001b[1;31mInvalidSessionIdException\u001b[0m: Message: Tried to run command without establishing a connection\n"
     ]
    }
   ],
   "source": [
    "browser.get('http://automatetheboringstuff.com/')"
   ]
  },
  {
   "cell_type": "code",
   "execution_count": 1,
   "metadata": {},
   "outputs": [],
   "source": [
    "import openpyxl"
   ]
  },
  {
   "cell_type": "code",
   "execution_count": 2,
   "metadata": {},
   "outputs": [],
   "source": [
    "import os"
   ]
  },
  {
   "cell_type": "code",
   "execution_count": 4,
   "metadata": {},
   "outputs": [],
   "source": [
    "os.chdir('C:\\\\Users\\\\Jono\\\\Documents\\\\Jupyter notebooks\\\\Test file')"
   ]
  },
  {
   "cell_type": "code",
   "execution_count": 5,
   "metadata": {},
   "outputs": [],
   "source": [
    "workbook = openpyxl.load_workbook('example.xlsx')"
   ]
  },
  {
   "cell_type": "code",
   "execution_count": 6,
   "metadata": {},
   "outputs": [
    {
     "data": {
      "text/plain": [
       "openpyxl.workbook.workbook.Workbook"
      ]
     },
     "execution_count": 6,
     "metadata": {},
     "output_type": "execute_result"
    }
   ],
   "source": [
    "type(workbook)"
   ]
  },
  {
   "cell_type": "code",
   "execution_count": 8,
   "metadata": {},
   "outputs": [
    {
     "name": "stderr",
     "output_type": "stream",
     "text": [
      "<ipython-input-8-ac4d4f8622d3>:1: DeprecationWarning: Call to deprecated function get_sheet_by_name (Use wb[sheetname]).\n",
      "  sheet = workbook.get_sheet_by_name('Sheet1')\n"
     ]
    }
   ],
   "source": [
    "sheet = workbook.get_sheet_by_name('Sheet1')"
   ]
  },
  {
   "cell_type": "code",
   "execution_count": 9,
   "metadata": {},
   "outputs": [
    {
     "data": {
      "text/plain": [
       "openpyxl.worksheet.worksheet.Worksheet"
      ]
     },
     "execution_count": 9,
     "metadata": {},
     "output_type": "execute_result"
    }
   ],
   "source": [
    "type(sheet)"
   ]
  },
  {
   "cell_type": "code",
   "execution_count": 10,
   "metadata": {},
   "outputs": [
    {
     "name": "stderr",
     "output_type": "stream",
     "text": [
      "<ipython-input-10-0d1445ff713e>:1: DeprecationWarning: Call to deprecated function get_sheet_names (Use wb.sheetnames).\n",
      "  workbook.get_sheet_names()\n"
     ]
    },
    {
     "data": {
      "text/plain": [
       "['Sheet1', 'Sheet2', 'Sheet3']"
      ]
     },
     "execution_count": 10,
     "metadata": {},
     "output_type": "execute_result"
    }
   ],
   "source": [
    "workbook.get_sheet_names()"
   ]
  },
  {
   "cell_type": "code",
   "execution_count": 13,
   "metadata": {},
   "outputs": [
    {
     "ename": "TypeError",
     "evalue": "'list' object is not callable",
     "output_type": "error",
     "traceback": [
      "\u001b[1;31m---------------------------------------------------------------------------\u001b[0m",
      "\u001b[1;31mTypeError\u001b[0m                                 Traceback (most recent call last)",
      "\u001b[1;32m<ipython-input-13-c5d2c840842c>\u001b[0m in \u001b[0;36m<module>\u001b[1;34m\u001b[0m\n\u001b[1;32m----> 1\u001b[1;33m \u001b[0mworkbook\u001b[0m\u001b[1;33m.\u001b[0m\u001b[0msheetnames\u001b[0m\u001b[1;33m(\u001b[0m\u001b[1;33m)\u001b[0m\u001b[1;33m\u001b[0m\u001b[1;33m\u001b[0m\u001b[0m\n\u001b[0m",
      "\u001b[1;31mTypeError\u001b[0m: 'list' object is not callable"
     ]
    }
   ],
   "source": [
    "workbook.sheetnames()"
   ]
  },
  {
   "cell_type": "code",
   "execution_count": 14,
   "metadata": {},
   "outputs": [
    {
     "data": {
      "text/plain": [
       "<Cell 'Sheet1'.A1>"
      ]
     },
     "execution_count": 14,
     "metadata": {},
     "output_type": "execute_result"
    }
   ],
   "source": [
    "sheet['A1']"
   ]
  },
  {
   "cell_type": "code",
   "execution_count": 15,
   "metadata": {},
   "outputs": [],
   "source": [
    "cell = sheet['A1']"
   ]
  },
  {
   "cell_type": "code",
   "execution_count": 16,
   "metadata": {},
   "outputs": [
    {
     "data": {
      "text/plain": [
       "datetime.datetime(2015, 4, 5, 13, 34, 2)"
      ]
     },
     "execution_count": 16,
     "metadata": {},
     "output_type": "execute_result"
    }
   ],
   "source": [
    "cell.value"
   ]
  },
  {
   "cell_type": "code",
   "execution_count": 17,
   "metadata": {},
   "outputs": [
    {
     "data": {
      "text/plain": [
       "'2015-04-05 13:34:02'"
      ]
     },
     "execution_count": 17,
     "metadata": {},
     "output_type": "execute_result"
    }
   ],
   "source": [
    "str(cell.value)"
   ]
  },
  {
   "cell_type": "code",
   "execution_count": 18,
   "metadata": {},
   "outputs": [
    {
     "data": {
      "text/plain": [
       "'2015-04-05 13:34:02'"
      ]
     },
     "execution_count": 18,
     "metadata": {},
     "output_type": "execute_result"
    }
   ],
   "source": [
    "str(sheet['A1'].value)"
   ]
  },
  {
   "cell_type": "code",
   "execution_count": 23,
   "metadata": {},
   "outputs": [
    {
     "data": {
      "text/plain": [
       "'Apples'"
      ]
     },
     "execution_count": 23,
     "metadata": {},
     "output_type": "execute_result"
    }
   ],
   "source": [
    "sheet['B1'].value"
   ]
  },
  {
   "cell_type": "code",
   "execution_count": 22,
   "metadata": {},
   "outputs": [
    {
     "data": {
      "text/plain": [
       "73"
      ]
     },
     "execution_count": 22,
     "metadata": {},
     "output_type": "execute_result"
    }
   ],
   "source": [
    "sheet['C1'].value"
   ]
  },
  {
   "cell_type": "code",
   "execution_count": 25,
   "metadata": {},
   "outputs": [
    {
     "data": {
      "text/plain": [
       "'73'"
      ]
     },
     "execution_count": 25,
     "metadata": {},
     "output_type": "execute_result"
    }
   ],
   "source": [
    "str(sheet['C1'].value)"
   ]
  },
  {
   "cell_type": "code",
   "execution_count": 26,
   "metadata": {},
   "outputs": [
    {
     "data": {
      "text/plain": [
       "<Cell 'Sheet1'.B1>"
      ]
     },
     "execution_count": 26,
     "metadata": {},
     "output_type": "execute_result"
    }
   ],
   "source": [
    "sheet.cell(row=1, column=2)"
   ]
  },
  {
   "cell_type": "code",
   "execution_count": 27,
   "metadata": {},
   "outputs": [
    {
     "data": {
      "text/plain": [
       "'Apples'"
      ]
     },
     "execution_count": 27,
     "metadata": {},
     "output_type": "execute_result"
    }
   ],
   "source": [
    "sheet.cell(row=1, column=2).value"
   ]
  },
  {
   "cell_type": "code",
   "execution_count": 29,
   "metadata": {},
   "outputs": [
    {
     "name": "stdout",
     "output_type": "stream",
     "text": [
      "1 Apples\n",
      "2 Cherries\n",
      "3 Pears\n",
      "4 Oranges\n",
      "5 Apples\n",
      "6 Bananas\n",
      "7 Strawberries\n"
     ]
    }
   ],
   "source": [
    "for i in range(1,8):\n",
    "    print(i, sheet.cell(row=i, column=2).value)"
   ]
  },
  {
   "cell_type": "code",
   "execution_count": 30,
   "metadata": {},
   "outputs": [],
   "source": [
    "import openpyxl\n",
    "\n",
    "wb = openpyxl.Workbook() # creates new workbook"
   ]
  },
  {
   "cell_type": "code",
   "execution_count": 31,
   "metadata": {},
   "outputs": [
    {
     "data": {
      "text/plain": [
       "<openpyxl.workbook.workbook.Workbook at 0x23c68517af0>"
      ]
     },
     "execution_count": 31,
     "metadata": {},
     "output_type": "execute_result"
    }
   ],
   "source": [
    "wb"
   ]
  },
  {
   "cell_type": "code",
   "execution_count": 32,
   "metadata": {},
   "outputs": [
    {
     "name": "stderr",
     "output_type": "stream",
     "text": [
      "<ipython-input-32-0c3501b17491>:1: DeprecationWarning: Call to deprecated function get_sheet_names (Use wb.sheetnames).\n",
      "  wb.get_sheet_names()\n"
     ]
    },
    {
     "data": {
      "text/plain": [
       "['Sheet']"
      ]
     },
     "execution_count": 32,
     "metadata": {},
     "output_type": "execute_result"
    }
   ],
   "source": [
    "wb.get_sheet_names()"
   ]
  },
  {
   "cell_type": "code",
   "execution_count": 33,
   "metadata": {},
   "outputs": [
    {
     "name": "stderr",
     "output_type": "stream",
     "text": [
      "<ipython-input-33-dd7769363f1c>:1: DeprecationWarning: Call to deprecated function get_sheet_by_name (Use wb[sheetname]).\n",
      "  sheet = wb.get_sheet_by_name('Sheet')\n"
     ]
    }
   ],
   "source": [
    "sheet = wb.get_sheet_by_name('Sheet')"
   ]
  },
  {
   "cell_type": "code",
   "execution_count": 34,
   "metadata": {},
   "outputs": [],
   "source": [
    "sheet['A1'].value"
   ]
  },
  {
   "cell_type": "code",
   "execution_count": 35,
   "metadata": {},
   "outputs": [
    {
     "data": {
      "text/plain": [
       "True"
      ]
     },
     "execution_count": 35,
     "metadata": {},
     "output_type": "execute_result"
    }
   ],
   "source": [
    "sheet['A1'].value == None"
   ]
  },
  {
   "cell_type": "code",
   "execution_count": 36,
   "metadata": {},
   "outputs": [],
   "source": [
    "sheet['A1'].value = 42"
   ]
  },
  {
   "cell_type": "code",
   "execution_count": 37,
   "metadata": {},
   "outputs": [],
   "source": [
    "sheet['A2'].value = 'Hello'"
   ]
  },
  {
   "cell_type": "code",
   "execution_count": 38,
   "metadata": {},
   "outputs": [
    {
     "ename": "TypeError",
     "evalue": "save() missing 1 required positional argument: 'filename'",
     "output_type": "error",
     "traceback": [
      "\u001b[1;31m---------------------------------------------------------------------------\u001b[0m",
      "\u001b[1;31mTypeError\u001b[0m                                 Traceback (most recent call last)",
      "\u001b[1;32m<ipython-input-38-7b8deb5bb9dd>\u001b[0m in \u001b[0;36m<module>\u001b[1;34m\u001b[0m\n\u001b[1;32m----> 1\u001b[1;33m \u001b[0mwb\u001b[0m\u001b[1;33m.\u001b[0m\u001b[0msave\u001b[0m\u001b[1;33m(\u001b[0m\u001b[1;33m)\u001b[0m\u001b[1;33m\u001b[0m\u001b[1;33m\u001b[0m\u001b[0m\n\u001b[0m",
      "\u001b[1;31mTypeError\u001b[0m: save() missing 1 required positional argument: 'filename'"
     ]
    }
   ],
   "source": [
    "wb.save()"
   ]
  },
  {
   "cell_type": "code",
   "execution_count": 39,
   "metadata": {},
   "outputs": [],
   "source": [
    "import os"
   ]
  },
  {
   "cell_type": "code",
   "execution_count": 40,
   "metadata": {},
   "outputs": [],
   "source": [
    "os.chdir('C:\\\\Users\\\\Jono\\\\Documents')"
   ]
  },
  {
   "cell_type": "code",
   "execution_count": 42,
   "metadata": {},
   "outputs": [],
   "source": [
    "wb.save('Example.xlsx') # safe tactic is to always save as a new file to the orignial that you opened"
   ]
  },
  {
   "cell_type": "code",
   "execution_count": 43,
   "metadata": {},
   "outputs": [],
   "source": [
    "sheet2 = wb.create_sheet()"
   ]
  },
  {
   "cell_type": "code",
   "execution_count": 45,
   "metadata": {},
   "outputs": [
    {
     "name": "stderr",
     "output_type": "stream",
     "text": [
      "<ipython-input-45-0c3501b17491>:1: DeprecationWarning: Call to deprecated function get_sheet_names (Use wb.sheetnames).\n",
      "  wb.get_sheet_names()\n"
     ]
    },
    {
     "data": {
      "text/plain": [
       "['Sheet', 'Sheet1']"
      ]
     },
     "execution_count": 45,
     "metadata": {},
     "output_type": "execute_result"
    }
   ],
   "source": [
    "wb.get_sheet_names()"
   ]
  },
  {
   "cell_type": "code",
   "execution_count": 46,
   "metadata": {},
   "outputs": [
    {
     "data": {
      "text/plain": [
       "'Sheet1'"
      ]
     },
     "execution_count": 46,
     "metadata": {},
     "output_type": "execute_result"
    }
   ],
   "source": [
    "sheet2.title"
   ]
  },
  {
   "cell_type": "code",
   "execution_count": 47,
   "metadata": {},
   "outputs": [],
   "source": [
    "sheet2.title = 'My New Sheet'"
   ]
  },
  {
   "cell_type": "code",
   "execution_count": 48,
   "metadata": {},
   "outputs": [
    {
     "name": "stderr",
     "output_type": "stream",
     "text": [
      "<ipython-input-48-0c3501b17491>:1: DeprecationWarning: Call to deprecated function get_sheet_names (Use wb.sheetnames).\n",
      "  wb.get_sheet_names()\n"
     ]
    },
    {
     "data": {
      "text/plain": [
       "['Sheet', 'My New Sheet']"
      ]
     },
     "execution_count": 48,
     "metadata": {},
     "output_type": "execute_result"
    }
   ],
   "source": [
    "wb.get_sheet_names()"
   ]
  },
  {
   "cell_type": "code",
   "execution_count": 49,
   "metadata": {},
   "outputs": [],
   "source": [
    "wb.save('example2.xlsx')"
   ]
  },
  {
   "cell_type": "code",
   "execution_count": 50,
   "metadata": {},
   "outputs": [
    {
     "data": {
      "text/plain": [
       "<Worksheet \"My other sheet\">"
      ]
     },
     "execution_count": 50,
     "metadata": {},
     "output_type": "execute_result"
    }
   ],
   "source": [
    "wb.create_sheet(index=0, title='My other sheet') # index can shoose which order the sheets are in"
   ]
  },
  {
   "cell_type": "code",
   "execution_count": 51,
   "metadata": {},
   "outputs": [],
   "source": [
    "wb.save('example3.xlsx')"
   ]
  },
  {
   "cell_type": "code",
   "execution_count": 53,
   "metadata": {},
   "outputs": [],
   "source": [
    "import PyPDF2"
   ]
  },
  {
   "cell_type": "code",
   "execution_count": 54,
   "metadata": {},
   "outputs": [],
   "source": [
    "import os\n",
    "os.chdir('C:\\\\Users\\\\Jono\\\\Documents\\\\Jupyter notebooks\\\\Test file')"
   ]
  },
  {
   "cell_type": "code",
   "execution_count": 55,
   "metadata": {},
   "outputs": [],
   "source": [
    "pdfFile = open('meetingminutes1.pdf', 'rb') # PDFs are binary files, so you need to open as 'read binary' - 'rb'"
   ]
  },
  {
   "cell_type": "code",
   "execution_count": 57,
   "metadata": {},
   "outputs": [],
   "source": [
    "reader = PyPDF2.PdfFileReader(pdfFile)"
   ]
  },
  {
   "cell_type": "code",
   "execution_count": 58,
   "metadata": {},
   "outputs": [
    {
     "data": {
      "text/plain": [
       "19"
      ]
     },
     "execution_count": 58,
     "metadata": {},
     "output_type": "execute_result"
    }
   ],
   "source": [
    "reader.numPages"
   ]
  },
  {
   "cell_type": "code",
   "execution_count": 60,
   "metadata": {},
   "outputs": [],
   "source": [
    "page = reader.getPage(0)"
   ]
  },
  {
   "cell_type": "code",
   "execution_count": 61,
   "metadata": {},
   "outputs": [
    {
     "data": {
      "text/plain": [
       "'OOFFFFIICCIIAALL  BBOOAARRDD  MMIINNUUTTEESS   Meeting of \\nMarch 7\\n, 2014\\n        \\n     The Board of Elementary and Secondary Education shall provide leadership and \\ncreate policies for education that expand opportunities for children, empower \\nfamilies and communities, and advance Louisiana in an increasingly \\ncompetitive glob\\nal market.\\n BOARD \\n of ELEMENTARY\\n and \\n SECONDARY\\n EDUCATION\\n  '"
      ]
     },
     "execution_count": 61,
     "metadata": {},
     "output_type": "execute_result"
    }
   ],
   "source": [
    "page.extractText()"
   ]
  },
  {
   "cell_type": "code",
   "execution_count": 62,
   "metadata": {},
   "outputs": [
    {
     "name": "stdout",
     "output_type": "stream",
     "text": [
      "OOFFFFIICCIIAALL  BBOOAARRDD  MMIINNUUTTEESS   Meeting of \n",
      "March 7\n",
      ", 2014\n",
      "        \n",
      "     The Board of Elementary and Secondary Education shall provide leadership and \n",
      "create policies for education that expand opportunities for children, empower \n",
      "families and communities, and advance Louisiana in an increasingly \n",
      "competitive glob\n",
      "al market.\n",
      " BOARD \n",
      " of ELEMENTARY\n",
      " and \n",
      " SECONDARY\n",
      " EDUCATION\n",
      "  \n",
      " LOUISIANA STATE BOARD OF ELEMENTARY AND SECONDARY EDUCATION\n",
      "   MARCH 7, 2014\n",
      "  \n",
      " The Louisiana Purchase Room\n",
      "  Baton Rouge, LA\n",
      "   \n",
      " \n",
      " \n",
      "The Louisiana State Board of Elementary and Secondary Education met in \n",
      "regular\n",
      " session on\n",
      " March 7, 2014\n",
      ", in the Louisiana Purcha\n",
      "se Room, located in the Claiborne \n",
      "Building in Baton Rouge, Louisiana.  The meeting was called to order at \n",
      "9:17 a.m.\n",
      " by \n",
      "Board President \n",
      "Chas Roemer\n",
      " and opened with a prayer by\n",
      " Ms. Terry Johnson, Bossier \n",
      "Parish School System\n",
      ".  \n",
      "Board members present were \n",
      "Dr. Lottie Beebe, Ms. Holly Boffy, Mr. Jim Garvey, Mr.\n",
      " Jay \n",
      "Guillot, Ms.\n",
      " Carolyn Hill, Mr. Walter Lee, \n",
      "Dr. Judith Miranti, \n",
      "Mr. Chas Roemer\n",
      ", and \n",
      "Ms. Jane Smith\n",
      ".  Ms. Connie Bradford\n",
      " and Ms. Kira Orange Jones were\n",
      " absent.\n",
      "  \n",
      "Dr. Charlie Michel, Lafourche Parish Sch\n",
      "ool System,\n",
      " led the Pledge of Allegiance.\n",
      "  Agenda\n",
      " Item 2.\n",
      " On motion of Mr. Garvey, seconded by Ms. Boffy, the Board approved the \n",
      "agenda, as printed and disseminated.\n",
      " (Schedule 1)\n",
      "  Agenda\n",
      " Item 3.\n",
      " On motion of Ms. Smith, seconded by Ms. Boffy, the Board app\n",
      "roved the \n",
      "minutes of January 15, 2014.\n",
      "  Agenda\n",
      " Item 4.\n",
      " Report by the State Superintendent of Education\n",
      "  State Superintendent of Education John White provided an update on the \n",
      "intense and increased support that the LDE is providing to teachers to \n",
      "assist wi\n",
      "th \n",
      "new academic expectations.  The LDE has established the \n",
      "following support structures:  \n",
      "(1) \n",
      "network teams are working directly with \n",
      "superintendents; \n",
      "(2) \n",
      "district planning teams and district planning guides \n",
      "have been established in every district; and \n",
      "(3) teacher leader team\n",
      "s are\n",
      " doubling to 4,000 next year.  Sample test items are being released.  The \n",
      "curriculum package for next year is being released.\n",
      "  Next year™s \n",
      "assessment guides will be produced in the following weeks.\n",
      "  \n",
      "BOARD MINUTES\n",
      " -2- MARCH 7, 2014\n",
      "     * * * * * * * * * *  On Poin\n",
      "t of Personal Privilege, Ms. Hill recognized the Capitol Senior \n",
      "High School Alumni Association for its dedication to the school and its \n",
      "students throughout several transitions, and presented a Certificate of \n",
      "Appreciation to Mr. W. T. W\n",
      "infield.\n",
      "  Agenda\n",
      " Item 5.\n",
      " Board Committee Reports\n",
      "   Agenda\n",
      " Item 5.1.\n",
      " Academic Goals and Instructional Improvement Committee\n",
      "  (Schedule 2)\n",
      "  5.1.\n",
      "1 On motion of \n",
      "Dr. Miranti,\n",
      " seconded by \n",
      "Mr. Lee,\n",
      " the Board receive\n",
      "d the \n",
      "minutes of the Accountability Commission meetings held Janua\n",
      "ry 9, 2014, \n",
      "and January 27, 2014.\n",
      "  5.1.\n",
      "2 On motion of Dr. Miranti, seconded by Mr. Lee, \n",
      "the Board \n",
      "received\n",
      " the \n",
      "minutes of the \n",
      "Special Education Advisory Panel meeting held \n",
      "February\n",
      " 20, 2014.\n",
      "  5.1.\n",
      "3 On motion of \n",
      "Dr. Beebe, \n",
      "seconded by \n",
      "Mr. Garvey,\n",
      " the \n",
      "Boar\n",
      "d approve\n",
      "d, as a Notice of Intent, revisions to Bulletin 119, \n",
      "Louisiana School \n",
      "Transportation Specifications and Procedures\n",
      ": §2509. Used School \n",
      "Buses\n",
      ", as amended and presented by the LDE\n",
      ".   * * * * * * * * * *  Public comments were received on the followi\n",
      "ng \n",
      "Academic Goals and \n",
      "Instructional Improvement Committee \n",
      "agenda item:\n",
      "  Agenda Item 3.2., ﬁConsideration of policy recommendations relative to \n",
      "the implementation of the Jump Start career education program.ﬂ\n",
      "  Support:\n",
      "  None.\n",
      " Oppose:\n",
      "  None.\n",
      " Information Only/\n",
      "Other:\n",
      "  Ms. \n",
      "Debra Schum, Louisiana Association \n",
      "of Principals.\n",
      "  \n",
      "BOARD MINUTES\n",
      " -3- MARCH 7, 2014\n",
      "    5.1.\n",
      "4 On motion of Dr. Miranti, seconded by Mr. Lee, \n",
      "the Board \n",
      "approved\n",
      ", as a \n",
      "Notice of Intent, the creation of Bulletin 138, \n",
      "Jump Start Program\n",
      ":  §101.  \n",
      "Overview, \n",
      "§201.  Jump Start Program \n",
      "Authorization, \n",
      "§301.  General \n",
      "Provisions, and \n",
      "§303.  Jump Start Instructional Staff, as presented by the \n",
      "LDE.\n",
      "  Further, the \n",
      "Board \n",
      "approved\n",
      ", as a Notice of Intent, \n",
      "the creation of \n",
      "§305.  \n",
      "Student Participation in Jump Start Programs, as amended and \n",
      "presented\n",
      ".  5.1.\n",
      "5 On motion of Dr. Miranti, seconded by Mr. Lee, \n",
      "the Board \n",
      "approved\n",
      ", as a \n",
      "Notice of Intent, revisions to Bulletin 111, \n",
      "The Louisiana School, District, \n",
      "and State Accountability System\n",
      ":  §409.  Calculating a 9\n",
      "-12 Assessment \n",
      "Index, and §613.  Calculat\n",
      "ing a Graduation Index\n",
      ", as presented by the \n",
      "LDE\n",
      ".  5.1.\n",
      "6 On motion of Dr. Miranti, seconded by Mr. Lee, \n",
      "the Board \n",
      "approved\n",
      ", as a \n",
      "Notice of Intent, revisions to Bulletin 746, \n",
      "Louisiana Standards for State \n",
      "Certification of School Personnel\n",
      ":  §501.  Introduct\n",
      "ion; adding a new \n",
      "§505.  Career and Technical Certificate Types Issued after September 1, \n",
      "2014; renumbering and renaming the original §505. to \n",
      "§506.  CTTIE\n",
      "-1 and CTTIE\n",
      "-2 Certificate Eligibility Requirements; adding a new §507.  \n",
      "CTTIE Areas of Specializatio\n",
      "n; renumbering and renaming the original \n",
      "§507. to §509.  CTTIE\n",
      "-1 Certificates Renewal Guidelines for certificates \n",
      "initially issued prior to September 1, 2014; deleting the original §509.  \n",
      "CTTIE\n",
      "-2 Certificates Renewal Guidelines; and §511.  Process for \n",
      "Rein\n",
      "stating Lapsed CTTIE Certificates\n",
      ", as presented by the LDE.\n",
      "  Further, the Board \n",
      "approved\n",
      ", as a Notice of Intent, revisions to §504.  \n",
      "Career and Technical Certificate Types Issued after July 1, 2006, as \n",
      "amended and presented.\n",
      "  5.1.\n",
      "7 On motion of Dr. Mirant\n",
      "i, seconded by Mr. Lee, \n",
      "the Board \n",
      "approved\n",
      ", as a \n",
      "Notice of Intent, revisions to Bulletin 118, \n",
      "Statewide Assessment \n",
      "Standards and Practices\n",
      ":  §701.  Overview of Assessment Programs in \n",
      "Louisiana, §2209.  WorkKeys, and §3501.  Approved Home Study \n",
      "Program Stud\n",
      "ents\n",
      ", as presented by the LDE\n",
      ".  5.1.\n",
      "8 On motion of Dr. Miranti, seconded by Mr. Lee, \n",
      "the Board \n",
      "approved\n",
      ", as a \n",
      "Notice of Intent, revisions to Bulletin 741, \n",
      "Louisiana Handbook for School \n",
      "Administrators\n",
      ":  §2317.  High Schools and §2318.  The College Diploma\n",
      ", as presented by the LDE\n",
      ".  \n",
      "BOARD MINUTES\n",
      " -4- MARCH 7, 2014\n",
      "   5.1.\n",
      "9 On motion of Dr. Miranti, seconded by Mr. Lee, \n",
      "the Board \n",
      "approved\n",
      ", as a \n",
      "Notice of Intent, revisions to Bulletin 1566, \n",
      "Pupil Progression Policies and \n",
      "Procedures\n",
      ":  §503.  Regular Placement\n",
      ", as presented by the LDE\n",
      ".  5.1.\n",
      "10 On motion of Dr. Miranti, seconded by Mr. Lee, \n",
      "the Board \n",
      "approved\n",
      ", as a \n",
      "Notice of Intent, revisions to Bulletin 111, \n",
      "The Louisiana School, District, \n",
      "and State Accountability System\n",
      ": §301. School Performance Score Goal; \n",
      "§303. Transition from Fall 2013 to Sp\n",
      "ring 2015; §413. Dropout/Credit \n",
      "Accumulation Index Calculations; §517. Inclusion of Schools; §521. \n",
      "Pairing/Sharing of Schools with Insufficient Test Data; §603. Determining \n",
      "a Cohort for \n",
      "a Graduation; §611. Documenting a Graduation Index; \n",
      "§1301. Reward Elig\n",
      "ibility; §2301. Schools Requiring \n",
      "Reconstitution/Alternate Governance Plans; §3101. Appeals/Waivers and \n",
      "Data Certification Processes; §3301. Inclusion of New Schools; §3303. \n",
      "Reconfigured Schools; §4101. Valid Data Considerations; §4301. \n",
      "Inclusion of All Di\n",
      "stricts; and §4317. District Accountability Data \n",
      "Corrections\n",
      ", as presented by the LDE\n",
      ".  Dr. Beebe was recorded as being opposed to the motion.\n",
      "  5.1.\n",
      "11 On motion of \n",
      "Dr. Miranti,\n",
      " seconded by \n",
      "Mr. Lee,\n",
      " the Board receive\n",
      "d the \n",
      "Summary of Public Comments and Age\n",
      "ncy Response regarding revisions\n",
      " to Bulletin 135, \n",
      "Health and Safety\n",
      ":  Chapter 5. \n",
      " Injury Management \n",
      "Program Rules for Serious Sports Injuries and Chapter 7: Glossary, and \n",
      "direct\n",
      "ed BESE staff to pr\n",
      "oceed\n",
      " with the final adoption of the January 20, \n",
      "2014, Notic\n",
      "e of Intent regarding revisions to Bulletin 135, \n",
      "Health and \n",
      "Safety\n",
      ", Chapters 5 and\n",
      " 7.  Agenda\n",
      " Item 5.2.\n",
      " Administration and Finance Committee\n",
      " (Schedule 3)\n",
      "   5.2.\n",
      "1 On motion of \n",
      "Mr. Guillot,\n",
      " seconded by \n",
      "Mr. Lee\n",
      ", the Board \n",
      "received\n",
      " the \n",
      "report on 8(g) monitor\n",
      "ing visits conducted by Board staff.\n",
      "  5.2.\n",
      "2 On motion of Mr. Guillot, seconded by Mr. Lee, \n",
      "the Board \n",
      "received\n",
      " the \n",
      "quarterly report from the LDE Director of Internal Audit.\n",
      "  5.2.\n",
      "3 On motion of Mr. Guillot, seconded by Mr. Lee, \n",
      "the Board \n",
      "received\n",
      " the \n",
      "repor\n",
      "t on LDE contracts of $50,000 and under approved by the State \n",
      "Superintendent of Education.\n",
      "  \n",
      "BOARD MINUTES\n",
      " -5- MARCH 7, 2014\n",
      "    5.2.\n",
      "4 On motion of Mr. Guillot, seconded by Mr. Lee, \n",
      "the Board \n",
      "received\n",
      " the \n",
      "reports requested by the Minimum Foundation Program (MFP) Task \n",
      "Force pertaining to th\n",
      "e regulations governing students with dyslexia and \n",
      "student access to technology.\n",
      "  5.2.\n",
      "5 On motion of Mr. Guillot, seconded by Mr. Lee, \n",
      "the Board ratif\n",
      "ied\n",
      " the \n",
      "Board President's submission of the value\n",
      "-added asses\n",
      "sment model \n",
      "report to the House Committee on\n",
      " Education \n",
      "and the \n",
      "Senate \n",
      "Committee \n",
      "on Education.\n",
      "   * * * * * * * * * *  Public comments were received on the following \n",
      "Administration and \n",
      "Finance Committee \n",
      "agenda item:\n",
      "  Agenda Item 4.1., ﬁ\n",
      "Consideration of the Minimum Foundation Program \n",
      "(MFP) Formula for\n",
      " FY 2014\n",
      "-2015.ﬂ  Support:\n",
      "  None.\n",
      " Oppose:\n",
      "  None.\n",
      " Information Only/Other:\n",
      " Mr. \n",
      "Shawn Fleming, Louisiana \n",
      "Developmental Disabilities Council.\n",
      "  5.2.\n",
      "6 On motion of \n",
      "Mr. Guillot\n",
      ", seconded by \n",
      "Mr. Garvey\n",
      ", the Board\n",
      " deferred \n",
      "until a Special Board Meeting to be held d\n",
      "uring the week of March 10\n",
      "-14, \n",
      "2014:  ﬁConsideration of the Minimum Foundation Program (MFP) \n",
      "Formula for FY 2014\n",
      "-2015.ﬂ  5.2.7\n",
      " On motion of Mr. Guillot, seconded by Mr. Lee, the Board, in recognition \n",
      "that the proposed 2014\n",
      "-2015 MFP formula does not includ\n",
      "e funding for \n",
      "early childhood education, committed to developing a strategy of \n",
      "equitable early childhood education funding in future fiscal years and \n",
      "supports legislation throughout the 2014 Regular Legislative Session that \n",
      "allows for the consideration of \n",
      "4-year\n",
      "-old pre\n",
      "-kindergarten education as a \n",
      "component of elementary and secondary education.\n",
      "  5.2.\n",
      "8 On motion of \n",
      "Mr. Guillot\n",
      ", seconded by \n",
      "Mr. Lee\n",
      ", the Board approve\n",
      "d the \n",
      "revised 8(g) program and budget for FY \n",
      "2013-2014.  Dr. Beebe recused herself from voti\n",
      "ng on this item.\n",
      "  \n"
     ]
    },
    {
     "name": "stdout",
     "output_type": "stream",
     "text": [
      "BOARD MINUTES\n",
      " -6- MARCH 7, 2014\n",
      "    5.2.\n",
      "9 On motion of Mr. Guillot, seconded by Mr. Lee, \n",
      "the Board approved the \n",
      "revised program and budget for the 8(g) statewide program, Early \n",
      "Childhood Literacy Program (LDE) (S069), for FY 2013\n",
      "-2014.  Dr. Beebe recused herself from vot\n",
      "ing on this item.\n",
      "  5.2.\n",
      "10 On motion of Mr. Guillot, seconded by Mr. Lee, \n",
      "the Board approved the \n",
      "revised program and budget for the 8(g) statewide program, Compass \n",
      "(LDE) (S067), for FY 2013\n",
      "-2014.  Dr. Beebe was recorded as being opposed to the motion.\n",
      "  5.2.11 On motion of Mr. Guillot, seconded by Mr. Lee,\n",
      " the Board approved the \n",
      "revised program and budget for the 8(g) statewide program, \n",
      "Expanding \n",
      "High School Choice\n",
      " (LDE) (S0\n",
      "73), for FY 2013\n",
      "-2014.  Dr. Beebe recused herself from voting on this item.\n",
      "  5.2.\n",
      "12 On motion of Mr. Guillot, seconded by Mr. Lee, \n",
      "the Board approved the \n",
      "revised program and budget for the 8(g) statewide program, \n",
      "New Schools \n",
      "Incubation Program\n",
      " (LDE) (S07\n",
      "4), for FY 2013\n",
      "-2014.  Dr. Beebe and Ms. Hill were recorded as being opposed to the m\n",
      "otion.\n",
      "    5.2.\n",
      "13 School and District Innovations\n",
      " - Other\n",
      "  On motion of Mr. Guillot, seconded by Mr. Lee, \n",
      "the Board approve\n",
      "d the \n",
      "following allocation:\n",
      "   Allocation:\n",
      "  RSD Charter School Transformation\n",
      " Amount:\n",
      "  $250,000\n",
      ".00\n",
      " Funding Period:\n",
      " 07/01/\n",
      "2013 - 06/30/\n",
      "2014 Source of Funds:\n",
      " IAT \n",
      "- 8(g)\n",
      "  Purpose:  The purpose of these funds is to support RSD transformation \n",
      "activities.\n",
      "  Basis of Allocation:  The \n",
      "LDE \n",
      "supports the efforts of the RSD to create an \n",
      "environment with the conditions necessary for charter \n",
      "schools \n",
      "to succeed \n",
      "and to support the transformation process for low\n",
      "-performing schools. \n",
      "  (Motion continues on page 7)\n",
      "  \n",
      "BOARD MINUTES\n",
      " -7- MARCH 7, 2014\n",
      "   Funds may be used to provide professional development, stabilize school \n",
      "staffing during the transformation process, provide for additional staffi\n",
      "ng \n",
      "resources needed to successfully transition a direct\n",
      "-run school to a charter \n",
      "school, and other activities that support the development of a high \n",
      "performing charter \n",
      "school \n",
      "environment.\n",
      "  Dr. Beebe recused herself from voting on this item.\n",
      "    5.2.\n",
      "14 Depar\n",
      "tmental Support \n",
      "- Other\n",
      "  On motion of Mr. Guillot, seconded by Mr. Lee, \n",
      "the Board approve\n",
      "d the \n",
      "following allocation:\n",
      "   Allocation:\n",
      "  Educator Leader Cadre Substitute Reimbursement\n",
      " Amount:\n",
      "  $1,893.36\n",
      " Funding Period:\n",
      " 10/01/\n",
      "2013 - 12/13/2014\n",
      " Source of Funds:\n",
      " Federal\n",
      "  Purpose:  The purpose of the Teacher Leader Advisors is to develop an \n",
      "understanding of the changes required of Common Core and Compass, \n",
      "including reviewing and creating materials for implementation\n",
      ", serving as \n",
      "a Common Core expert\n",
      ", assisting in bui\n",
      "lding a growing network of teacher \n",
      "leaders throughout the state\n",
      ", and attending face\n",
      "-to-face meetings to \n",
      "provide recommendations and fe\n",
      "edback on resources and tools.\n",
      "  Basis of Allocation:  Allocations to school districts are to reimburse the \n",
      "districts for t\n",
      "he substitutes paid to work while the Teacher Leader \n",
      "Advisors met in Baton Rouge on October 15\n",
      "-16, \n",
      "2013, \n",
      "and December\n",
      " 13, \n",
      "2013, to begin their work for the program.\n",
      "  Dr. Beebe recused herself from voting on this item.\n",
      "  5.2.\n",
      "15 Office of Management and Fina\n",
      "nce \n",
      "Œ Competitive\n",
      "  On motion of Mr. Guillot, seconded by Mr. Lee, \n",
      "the Board approve\n",
      "d the \n",
      "following allocation:\n",
      "   Allocation:\n",
      "  Early Childhood Community Network Pilots\n",
      " Amount:\n",
      "  $676,666.67\n",
      " Funding Period:\n",
      " 03/08/2014 - 06/30/2014\n",
      " Source of Funds:\n",
      " State \n",
      "- IAT\n",
      "  (Motion continues on page 8)\n",
      "  \n",
      "BOARD MINUTES\n",
      " -8- MARCH 7, 2014\n",
      "   Purpose:  The purpose of these funds is to support Early Childhood \n",
      "Community Network Pilots to implement the five strategies outlined in the \n",
      "Early Childhood Care and Education Network \n",
      "- Roadmap to 2015, which \n",
      "are as follows:\n",
      "  1. Unify expectations;\n",
      " 2. Support teachers and providers;\n",
      " 3. Measure and recognize progress;\n",
      " 4. Fund high quality providers; and\n",
      " 5. Provide clear information and high quality choices.\n",
      "  The ultimate goal of the Early Childhood Care and Education Network is \n",
      "to prepare ou\n",
      "r youngest learners for kindergarten.\n",
      "  Basis of Allocation:  Allocations \n",
      "were determined competitively via a \n",
      "request for applications.  The selection of the Community Network Pilots \n",
      "occurred through a two\n",
      "-step process \n",
      "Œ 1. Application review for basic \n",
      "requ\n",
      "irements and 2. Interview with the finalists\n",
      ".  The interview sought to \n",
      "determine networks that could demonstrate their readiness to work on the \n",
      "five strategies listed above.\n",
      "  Dr. Beebe recused herself from voting on this item.\n",
      "  5.2.\n",
      "16 On motion of Mr. Gui\n",
      "llot, seconded by Mr. Lee, \n",
      "the Board \n",
      "approved\n",
      " the \n",
      "following LDE contract:\n",
      "  Contractor:\n",
      "   LSU\n",
      "-Health Science Center\n",
      " Contract Period:\n",
      "  01/31/2014\n",
      " - 09/30/2014\n",
      " Contract Amount:\n",
      "  $102,734\n",
      ".00\n",
      " Fund:\n",
      "    Federal Fund \n",
      "- IDEA Part B\n",
      " Competitive Process:\n",
      " Non Competit\n",
      "ive\n",
      "  Description of Service:  This agreement will provide for activities for the \n",
      "federally funded 2008\n",
      "-2013 Deaf Blind Project for which funding was \n",
      "extended through 9/30/14 to be completed.  Activities will include building \n",
      "capacity of current and future \n",
      "educators working with students who are \n",
      "deaf-blind\n",
      ", facilitation of effective instructional strategies for students with \n",
      "deaf-blindness, and outreach and early intervention identification for \n",
      "families and service providers.\n",
      "  \n",
      "BOARD MINUTES\n",
      " -9- MARCH 7, 2014\n",
      "    5.2.\n",
      "17 On motion of Mr. Guil\n",
      "lot, seconded by Mr. Lee, \n",
      "the Board \n",
      "approved\n",
      " the \n",
      "following LDE contract:\n",
      "  Contractor:\n",
      "   Department of Health and Hospitals\n",
      " Contract Period:\n",
      "  04/01/2014 \n",
      "- 08/31/2014\n",
      " Contract Amount:\n",
      "  $196,252.00\n",
      " Fund:\n",
      "    Federal Funds \n",
      "- USDA\n",
      " Competitive Process:\n",
      " Non Compet\n",
      "itive\n",
      "  Description of Service:  \n",
      "This Interagency Agreement will provide that the \n",
      "Louisiana Department of Health and Hospitals, Office of Public Health \n",
      "(DHH), Sanitarian Services Section\n",
      ", conduct pre\n",
      "-opening inspections of \n",
      "each food service site or preparat\n",
      "ion facility participating in the SFSP.  \n",
      "The sanitarian services will perform at least one (1) other inspection \n",
      "(besides the pre\n",
      "-opening inspection) at each site/facility during the period \n",
      "of operation and record inspection results on the appropriate inspe\n",
      "ction \n",
      "form.\n",
      "  5.2.\n",
      "18 On motion of Mr. Guillot, seconded by Mr. Lee, \n",
      "the Board \n",
      "approved\n",
      " the \n",
      "following LDE contract amendment:\n",
      "  Contractor:\n",
      "   Volunteers of America North LA\n",
      " Contract Period:\n",
      "  07/01/2013\n",
      " - 06/30/2014\n",
      " Previous Amount:\n",
      "  $360,000.00\n",
      " Amended Amoun\n",
      "t:  $38,400.00\n",
      " Contract Amount:\n",
      "  $398,400\n",
      ".00\n",
      " Fund:\n",
      "    Federal \n",
      "- Title IV \n",
      "- 21st Century Community \n",
      "    Learning Centers (21\n",
      "st CCLC)\n",
      " Competitive Process:\n",
      " Competitive\n",
      "/21st CCLC RFP Process\n",
      "  Description of Service:  \n",
      "The c\n",
      "ontract provides before\n",
      "-, during\n",
      "-, and \n",
      "after\n",
      "-school academic enrichment opportunities for children attending low\n",
      "-performing schools through the establishment and operation of 21\n",
      "st Century Community Learning Centers.\n",
      "  5.2.\n",
      "19 On motion of Mr. Guillot, seconded by Mr. Lee, \n",
      "the Board \n",
      "approved\n",
      " the \n",
      "following LDE contract amendment:\n",
      "  Contractor:\n",
      "   Urban Support Agency, Inc.\n",
      " Contract Period:\n",
      "  07/01/2013\n",
      " - 06/30/2014\n",
      "  (Motion continues on page 10)\n",
      "  \n",
      "BOARD MINUTES\n",
      " -10- MARCH 7, 2014\n",
      "   Previous Amount:\n",
      "  $639,000.00\n",
      " Amended Amount:\n",
      "  $133,800.00\n",
      " Contract Amount:\n",
      "  $772,800.00\n",
      " Fund:\n",
      "    Federal \n",
      "- Title IV \n",
      "- 21st Century Community \n",
      "    Learning\n",
      " Centers (21\n",
      "st CCLC)\n",
      " Competitive Process:\n",
      " Competitive/21\n",
      "st CCLC RFP Process\n",
      "  Description of Service:  \n",
      "The c\n",
      "ontract provides before\n",
      "-, during\n",
      "-, and after\n",
      "-school academic enrichment opportunities for children at\n",
      "tending low\n",
      "-performing schools through the establishment and operation of 21\n",
      "st Century Community Learning Centers.\n",
      "  5.2.\n",
      "20 On motion of Mr. Guillot, seconded by Mr. Lee, \n",
      "the Board \n",
      "approved\n",
      " the \n",
      "following LDE contract amendment:\n",
      "  Contractor:\n",
      "   Outreach Comm\n",
      "unity Development \n",
      "Corporation\n",
      " Contract Period:\n",
      "  07/01/2013\n",
      " - 06/30/2014\n",
      " Previous Amount:\n",
      "  $240,000.00\n",
      " Amended Amount:\n",
      "  $6,000.00\n",
      " Contract Amount:\n",
      "  $246,000\n",
      ".00\n",
      " Fund:\n",
      "    Federal \n",
      "- Title IV \n",
      "- 21st Century Community \n",
      "    Learning\n",
      " Centers (21\n",
      "st CCLC)\n",
      " Competitive\n",
      " Process:\n",
      " Competitive/21\n",
      "st CCLC RFP Process\n",
      "  Description of Service:  \n",
      "The c\n",
      "ontract provides before\n",
      "-, during\n",
      "-, and after\n",
      "-school academic enrichment opportunities for children attending low\n",
      "-performing schools through the establishment and operation of 21\n",
      "st Century Community Learning Centers.\n",
      "  5.2.\n",
      "21 On motion of Mr. Guillot, seconded by Mr. Lee, \n",
      "the Board \n",
      "approved\n",
      " the \n",
      "following LDE contract\n",
      " amendment\n",
      ":  Contractor:\n",
      "   NZBC Urban Corporation\n",
      " Contract Period:\n",
      "  07/01/2013 \n",
      "- 06/30/2014\n",
      " Previous Amount:\n",
      "  $180,000.0\n",
      "0 Amended Amount:\n",
      "  $8,400.00\n",
      " Contract Amount:\n",
      "  $188,400.00\n",
      " Fund:\n",
      "    Federal \n",
      "- Title IV \n",
      "- 21st Century Community \n",
      "    Learning Centers (21\n",
      "st CCLC)\n",
      " Competitive Process:\n",
      " Competitive/21\n",
      "st CCLC RFP Process\n",
      "  (Motion continues on page 11)\n",
      "  \n",
      "BOARD MINUTES\n",
      " -11- MARCH 7, 2014\n",
      "   Description of Service: \n",
      " The c\n",
      "ontract provides before\n",
      "-, during\n",
      "-, and after\n",
      "-school academic enrichment opportunities for children attending low\n",
      "-performing schools through the establishment and operation of 21\n",
      "st Century Community Learning Centers.\n",
      "  5.2.\n",
      "22 On motion of Mr. Guillot,\n",
      " seconded by Mr. Lee, \n",
      "the Board \n",
      "approved\n",
      " the \n",
      "following LDE contract amendment:\n",
      "  Contractor:\n",
      "   Akili Academy/Crescent City Schools\n",
      " Contract Period:\n",
      "  07/01/2013\n",
      " - 06/30/2014\n",
      " Previous Amount:\n",
      "  $492,000.00\n",
      " Amended Amount:\n",
      "  $74,400.00\n",
      " Contract Amount:\n",
      "  $566,400\n",
      ".00\n",
      " Fund:\n",
      "    Federal \n",
      "- Title IV \n",
      "- 21st Century Community \n",
      "    Learning Centers (21\n",
      "st CCLC)\n",
      " Competitive Process:\n",
      " Competitive/21\n",
      "st CCLC RFP Process\n",
      "  Description of Service:  \n",
      "The c\n",
      "ontract provides before\n",
      "-, during\n",
      "-, and after\n",
      "-school academic enrichment opportun\n",
      "ities for children attending low\n",
      "-performing schools through the establishment and operation of 21\n",
      "st Century Community Learning Centers.\n",
      "  5.2.\n",
      "23 On motion of Mr. Guillot, seconded by Mr. Lee, \n",
      "the Board \n",
      "approved\n",
      " the \n",
      "following LDE contract\n",
      " amendment:\n",
      "  Contra\n",
      "ctor:\n",
      "   Karen Boudreaux\n",
      " Contract Period:\n",
      "  02/01/2012 \n",
      "- 01/31/2015\n",
      " Previous Amount:\n",
      "  $79,500.00\n",
      " Amended Amount:\n",
      "  $25,500.00\n",
      " Contract Amount:\n",
      "  $105,000.00\n",
      " Fund:\n",
      "    Federal Fund \n",
      "- Title III\n",
      " Competitive Process:\n",
      " Non Competitive\n",
      "  Description of Service:  The co\n",
      "ntract is being amended for the contractor \n",
      "to calculate the performance of Title III subgrantee Local Education \n",
      "Agencies (LEAs) and the \n",
      "state on ESEA/NCLB Title III Annual \n",
      "Measurable Achievement Objective\n",
      "s (AMAOs) for the 2013\n",
      "-2014 school \n",
      "years, using stud\n",
      "ent assessment data (ELDA, LEAP, \n",
      "iLEAP, etc.).\n",
      "  \n",
      "BOARD MINUTES\n",
      " -12- MARCH 7, 2014\n",
      "    5.2.\n",
      "24 On motion of Mr. Guillot, seconded by Mr. Lee, \n",
      "the Board \n",
      "approved\n",
      " the \n",
      "following RSD contract \n",
      "amendment\n",
      ":  Contractor:\n",
      "   Blitch/Knevel Architects, Inc.\n",
      " Contract Period:\n",
      "  03/09/2012 \n",
      "- 03/09/2015\n",
      " Previo\n",
      "us Amount:\n",
      "  $1,473,321.00\n",
      " Amended Amount:\n",
      "  $15,433.60\n",
      " Contract Amount:\n",
      "  $1,488,754.60\n",
      " Fund:\n",
      "    IAT \n",
      "- FEMA \n",
      " Competitive Process:\n",
      " Competitive\n",
      "  Description of Service:  \n",
      "This amendment provides for the additional \n",
      "service for a Phase II environmental subsurface\n",
      " investigation, and a pre\n",
      "-renovation ACM and LBP survey for Drew\n",
      " Elementary School renovation. \n",
      "It adds three (3) days to the design time due to Hurricane Isaac and \n",
      "fourteen (14) days to design time due to historic preservation revisions.  \n",
      "This amendment pr\n",
      "ovides for reimbursable expenses for regulatory \n",
      "agency approvals and for the printing of bidding documents.\n",
      "  5.2.\n",
      "25 On motion of Mr. Guillot, seconded by Mr. Lee, \n",
      "the Board \n",
      "approved\n",
      " the \n",
      "following RSD contract:\n",
      "  Contractor:\n",
      "   Byron J. Stewart and Associate\n",
      "s, APC \n",
      "     Architects and Planners\n",
      " Contract Period:\n",
      "  03/07/2014 \n",
      "- 03/07/2017\n",
      " Contract Amount:\n",
      "  $105,034.00\n",
      " Fund:\n",
      "    IAT \n",
      "- FEMA \n",
      " Competitive Process:\n",
      " Competitive\n",
      "  Description of Service:  This project \n",
      "provides for \n",
      "the refurbishment of \n",
      "Rosenwald Elementary \n",
      "School.\n",
      "  5.2.\n",
      "26 On motion of Mr. Guillot, seconded by Mr. Lee, \n",
      "the Board \n",
      "approved\n",
      " the \n",
      "following RSD contract amendment:\n",
      "  Contractor:\n",
      "   Jacobs Project Management Company/CSRS \n",
      "     Consortium\n",
      " Contract Period:\n",
      "  12/01/2013 \n",
      "- 11/30/2016\n",
      " Previous Amount:\n",
      "  $23,5\n",
      "90,758.00\n",
      " Amended Amount:\n",
      "  $1,069,673.31\n",
      "  (Motion continues on page 13)\n",
      "  \n"
     ]
    },
    {
     "name": "stdout",
     "output_type": "stream",
     "text": [
      "BOARD MINUTES\n",
      " -13- MARCH 7, 2014\n",
      "   Contract Amount:\n",
      "  $24,660,431.31\n",
      " Fund:\n",
      "    IAT \n",
      "- FEMA/Lexington Insurance Proceeds\n",
      " Competitive Process:\n",
      " Competitive\n",
      "  Description of Service:  \n",
      "This amendment provides for additional ser\n",
      "vices \n",
      "as directed by the RSD; additional service for support to RSD and ﬁOPSB \n",
      "v. Lexington, et al.;ﬂ additional service for claims consulting services; and \n",
      "additional service for grants management \n",
      "- Phase 1 \n",
      "- negative \n",
      "balance/grant debt/undocumented advanc\n",
      "es/applied payment proposal \n",
      "for the RSD multi\n",
      "-site Capital Plan.\n",
      "  5.2.\n",
      "27 On motion of Mr. Guillot, seconded by Mr. Lee, \n",
      "the Board \n",
      "approved\n",
      " the \n",
      "following RSD contract amendment:\n",
      "  Contractor:\n",
      "   Mahlum Scairono Martinez Architects, LLC\n",
      " Contract Period:\n",
      "  01/0\n",
      "7/2013 \n",
      "- 01/07/2015\n",
      " Previous Amount:\n",
      "  $35,640.00\n",
      " Amended Amount:\n",
      "  $21,390.00\n",
      " Contract Amount:\n",
      "  $57,030.00\n",
      " Fund:\n",
      "    IAT \n",
      "- FEMA \n",
      " Competitive Process:\n",
      " Competitive\n",
      "  Description of Service:  This amendment provides for the relocation of \n",
      "playground equipment at \n",
      "William Fischer School and the relocation of \n",
      "playground equipment at Little Woods Elementary School.\n",
      "  5.2.\n",
      "28 On motion of Mr. Guillot, seconded by Mr. Lee, \n",
      "the Board \n",
      "approved\n",
      " the \n",
      "following RSD contract amendment:\n",
      "  Contractor:\n",
      "   Richard C Lambert, LLC\n",
      " Cont\n",
      "ract Period:\n",
      "  06/17/2010 \n",
      "- 06/17/2014\n",
      " Previous Amount:\n",
      "  $262,656.51\n",
      " Amended Amount:\n",
      "  $8,032.24\n",
      " Contract Amount:\n",
      "  $270,688.75\n",
      " Fund:\n",
      "    IAT \n",
      "- FEMA \n",
      " Competitive Process:\n",
      " Competitive\n",
      "  Description of Service:  This \n",
      "amendment provides for the adjustment of \n",
      "the \n",
      "basic s\n",
      "ervices \n",
      "fee for Village de L™est Elementary School (\n",
      "roof) and \n",
      "modular \n",
      "demo based on the \n",
      "final \n",
      "construction \n",
      "price of the project. It also \n",
      "provides for prolonged \n",
      "contract \n",
      "administration for the \n",
      "various \n",
      "roof and \n",
      "repair \n",
      "projects based on 48 days of \n",
      "liqui\n",
      "dated \n",
      "damages at no fault of the \n",
      "designer.\n",
      "  \n",
      "BOARD MINUTES\n",
      " -14- MARCH 7, 2014\n",
      "   5.2.\n",
      "29 On motion of Mr. Guillot, seconded by Mr. Lee, \n",
      "the Board \n",
      "approved\n",
      " the \n",
      "following RSD contract amendment:\n",
      "  Contractor:\n",
      "   Shaw Environmental and Infrastructure\n",
      " Contract Period:\n",
      "  02/14/2013 \n",
      "- 02/14/2015\n",
      " Previ\n",
      "ous Amount:\n",
      "  $49,500.00\n",
      " Amended Amount:\n",
      "  $14,640.00\n",
      " Contract Amount:\n",
      "  $64,140.00\n",
      " Fund:\n",
      "    IAT \n",
      "- FEMA \n",
      " Competitive Process:\n",
      " Competitive\n",
      "  Description of Service:  This amendment provides for \n",
      "additional \n",
      "services \n",
      "for \n",
      "corrective \n",
      "action \n",
      "work \n",
      "plan \n",
      "preparation.\n",
      "  5.2.\n",
      "30 On motion of Mr. Guillot, seconded by Mr. Lee, \n",
      "the Board \n",
      "approved\n",
      " the \n",
      "following RSD contract:\n",
      "  Contractor:\n",
      "   VergesRome Architects, APAC\n",
      " Contract Period:\n",
      "  03/07/2014 \n",
      "- 03/07/2017\n",
      " Contract Amount:\n",
      "  $2,696,406.00\n",
      " Fund:\n",
      "    IAT \n",
      "- FEMA \n",
      " Competitive Proce\n",
      "ss: Competitive\n",
      "  Description of Service:  This project consists of the renovation of John \n",
      "McDonogh High School.\n",
      "  5.2.\n",
      "31 On motion of Mr. Guillot, seconded by Mr. Lee, \n",
      "the Board \n",
      "approved\n",
      " the \n",
      "following RSD contract amendment:\n",
      "  Contractor:\n",
      "   VergesRome Archi\n",
      "tects, APAC\n",
      " Contract Period:\n",
      "  10/16/2013 \n",
      "- 10/16/2016\n",
      " Previous Amount:\n",
      "  $265,287.00\n",
      " Amended Amount:\n",
      "  $20,625.00\n",
      " Contract Amount:\n",
      "  $285,912.00\n",
      " Fund:\n",
      "    IAT \n",
      "- FEMA \n",
      " Competitive Process:\n",
      " Competitive\n",
      "  Description of Service:  This\n",
      " amendment provides for the ad\n",
      "ditional \n",
      "services for a water flow test, a \n",
      "Phase \n",
      "I environmental site assessment\n",
      ", lead \n",
      "and asbestos investigation\n",
      ", and a topographic survey for Live Oak \n",
      "Elementary School \n",
      "refurbishment.\n",
      "  \n",
      "BOARD MINUTES\n",
      " -15- MARCH 7, 2014\n",
      "    5.2.\n",
      "32 On motion of Mr. Guillot, seconded by Mr. Lee, \n",
      "the Board \n",
      "approved\n",
      " the \n",
      "following RSD contract amendment:\n",
      "  Contractor:\n",
      "   VergesRome Architects, APAC\n",
      " Contract Period:\n",
      "  09/16/2010 \n",
      "- 09/16/2015\n",
      " Previous Amount:\n",
      "  $944,413.20\n",
      " Amended Amount:\n",
      "  $38,546.20\n",
      " Contract Amount:\n",
      "  $982,959.40\n",
      " Fund:\n",
      "    IAT \n",
      "- FEMA \n",
      " Competitive Proce\n",
      "ss: Competitive\n",
      "  Description of Service:  This amendment adjusts the \n",
      "designer™s \n",
      "fee for \n",
      "basic \n",
      "services for \n",
      "mothballing of \n",
      "closed \n",
      "schools \n",
      "- safe and \n",
      "secure at \n",
      "George Mondy Elementary School based on the revised AFC.  The \n",
      "project was canceled\n",
      ", but is now bei\n",
      "ng reinstated by the \n",
      "owner\n",
      ", and additional scope of work is being added to the project.  It also provides for \n",
      "the addition of a new project and project number \n",
      "for d\n",
      "emolition of \n",
      "the \n",
      "caretaker™s \n",
      "cottage at George Mondy Elementary School and \n",
      "at \n",
      "Andrew \n",
      "J. Bell\n",
      " Junior \n",
      "High School.\n",
      "  5.2.\n",
      "33 On motion of Mr. Guillot, seconded by Mr. Lee, \n",
      "the Board \n",
      "approved\n",
      " the \n",
      "following RSD contract amendment:\n",
      "  Contractor:\n",
      "   Waggonner and Ball Architects, APC\n",
      " Contract Period:\n",
      "  08/15/2012 \n",
      "- 08/15/2015\n",
      " Previous Amount:\n",
      "  $1,151,421.0\n",
      "8 Amended Amount:\n",
      "  $5,500.00\n",
      " Contract Amount:\n",
      "  $1,156,921.08\n",
      " Fund:\n",
      "    IAT \n",
      "- FEMA \n",
      " Competitive Process:\n",
      " Competitive\n",
      "  Description of Service:  This amendment provides for \n",
      "additional \n",
      "services \n",
      "for a land survey at \n",
      "the n\n",
      "ew \n",
      "three\n",
      "-section PK\n",
      "-8 school at Sherwood \n",
      "Forest School (New \n",
      "Œ PK-8).\n",
      "  5.2.\n",
      "34 On motion of Mr. Guillot, seconded by Mr. Lee, \n",
      "the Board:\n",
      "  a. approved\n",
      " the \n",
      "Change \n",
      "Order for the construction contract with C.D.W. \n",
      "Services, L.L.C., for the mothballing of Andrew J. Bell Junior High \n",
      "School (project number 2\n",
      "011-0853-0001) in the amount of \n",
      "  (Motion continues on page 16)\n",
      "  \n",
      "BOARD MINUTES\n",
      " -16- MARCH 7, 2014\n",
      "   $361,334.40 in order to provide for: \n",
      " (1) removal of Regulated \n",
      "Asbestos\n",
      "-Containing Materials (RACM) for all hazardous materials in \n",
      "Building\n",
      "-E (Christy Building) and Building A (Annex Building\n",
      ") due to \n",
      "construction debris and finishes that were dislodged during the \n",
      "necessary repairs to structural walls; \n",
      "(2) installation of a course of \n",
      "brick and mortar cap over the brick wall at the demolished breezeway \n",
      "roof; and \n",
      "(3) general contractor's performa\n",
      "nce and payment bonds \n",
      "and overhead and\n",
      " profit for the additional work; and\n",
      "  b. directed\n",
      " the RSD to submit the approved Change Order for \n",
      "consideration and approval at the next regularly scheduled meeting of \n",
      "\n",
      "the Joint Legislative Committee on the Budget.\n",
      "  5.2.\n",
      "35 On motion of Mr. Guillot, seconded by Mr. Lee, \n",
      "the Board:\n",
      "  a. approved\n",
      " the Change \n",
      "Order for the construction contract with FHP \n",
      "Tectonics Corporation for the refurbishment of Frederick A. Douglass \n",
      "\n",
      "High School (project number: 2012\n",
      "-0868-0001) in the amount o\n",
      "f $378,871.98 in order to provide for: \n",
      " (1) asbestos removal associated \n",
      "with classroom window replacement, due to the uncovering of \n",
      "unforeseen caulk at these openings that consisted of \n",
      "Regulated \n",
      "Asbestos\n",
      "-Containing \n",
      "Material\n",
      "s (RACM)\n",
      "; (2) repair of existing \n",
      "Reinforced \n",
      "Concrete \n",
      "Pipe (RCP); and \n",
      "(3) deletion of the installation of \n",
      "flood gates and \n",
      "Fiber \n",
      "Reinforced \n",
      "Panels (FRP) for the gymnasium, at \n",
      "the owner™\n",
      "s request; and\n",
      "  b. directed\n",
      " the RSD to submit the approved Change Order for \n",
      "consideration and approval at the\n",
      " next regularly scheduled meeting of \n",
      "the Joint Legislative Committee on the Budget.\n",
      "  5.2.\n",
      "36 On motion of Mr. Guillot, seconded by Mr. Lee, \n",
      "the Board \n",
      "received\n",
      " the \n",
      "report on the BESE Budget.\n",
      "  5.2.\n",
      "37 On motion of Mr. Guillot, seconded by Mr. Lee, \n",
      "the Board \n",
      "received\n",
      " the \n",
      "BESE member notification protocol developed by the State \n",
      "Superintendent\n",
      " of Education.\n",
      "  5.2.\n",
      "38 On motion of Mr. Guillot, seconded by Mr. Lee, \n",
      "the Board\n",
      " approved, as a \n",
      "Notice of Intent, revisions to Bulletin 1929, \n",
      "Louisiana Accounting and \n",
      "Unifo\n",
      "rm Governmental Handbook\n",
      ", adding Chapter 15. Expenditure \n",
      "Requirements, §1501. Seventy Percent Expenditure Requirement.\n",
      "  \n",
      "BOARD MINUTES\n",
      " -17- MARCH 7, 2014\n",
      "    Agenda\n",
      " Item 5.3.\n",
      " Educator Effectiveness Committee\n",
      " (Schedule 4)\n",
      "   5.3.\n",
      "1 On motion of \n",
      "Ms. Boffy\n",
      ", seconded by \n",
      "Mr. Guillot\n",
      ", the Board re\n",
      "ceive\n",
      "d the \n",
      "update regarding the study of the state accountability system and \n",
      "value\n",
      "-added model.\n",
      "  5.3.\n",
      "2 On motion of Ms. Boffy, seconded by Mr. Guillot, \n",
      "the Board \n",
      "deferred until \n",
      "April 2014:  ﬁConsideration of\n",
      " revisions to Bulletin 746, \n",
      "Louisiana \n",
      "Standards \n",
      "for State Cer\n",
      "tification of School Personnel,\n",
      " regarding \n",
      "endorsements to existing teaching certificates\n",
      ".ﬂ  Agenda\n",
      " Item 5.4.\n",
      " School Innovation and Turnaround Committee\n",
      " (Schedule 5)\n",
      "   5.4.\n",
      "1 On motion of \n",
      "Mr. Garvey\n",
      ", seconded by\n",
      " Mr. Lee, the Board approve\n",
      "d the\n",
      " request for a material amendment to the charter governing Linwood \n",
      "Public Charter School, operated by Shreveport Charter Schools, Inc., to \n",
      "add kindergarten and first grade in the fall of 2014 and expand an \n",
      "additional grade per year until the school serves \n",
      "grades K\n",
      "-8.   * * * * * * * * * *  Public comments were received on the following \n",
      "School Innovation and \n",
      "Turnaround Committee \n",
      "agenda item:\n",
      "  Agenda Item 3.1., ﬁ\n",
      "Consideration of \n",
      "revisions to Bulletin 126, \n",
      "Charter \n",
      "Schools\n",
      ", regarding charter school renewal and\n",
      " extension, evaluation of \n",
      "alternative charter schools, and streamlining of policies.ﬂ\n",
      "  Support:\n",
      "  None.\n",
      " Oppose:\n",
      "  None.\n",
      " Information Only/Other:\n",
      " Mr. \n",
      "Shawn Fleming, Louisiana \n",
      "Developmental Disabilities Council.\n",
      "  5.4.\n",
      "2 On motion of Mr. Garvey, seconded by Mr. \n",
      "Guillot, the Board approved, \n",
      "as a Notice of Intent, revisions to Bulletin 126, \n",
      "Charter Schools\n",
      ": §103. \n",
      "Definitions\n",
      "; §105. Purpose of Charter Schools\n",
      "; §505. Eligibility to Apply \n",
      "for a Type 4 Charter School\n",
      "; §1101. Charter School Evaluation\n",
      "; §1103. \n",
      "Alternate \n",
      "Evaluation of Charter Schools\n",
      "; §1303. Extension Review\n",
      "; §1503. Charter Renewal Process and Timeline\n",
      "; §1903. Material \n",
      "  (Motion continues on page 18)\n",
      " \n",
      "BOARD MINUTES\n",
      " -18- MARCH 7, 2014\n",
      "    Amendments for BESE\n",
      "-Authorized Charter Schools\n",
      "; §1905. Non\n",
      "-Material \n",
      "Amendments for BESE\n",
      "-Authorized Charter\n",
      " Schools\n",
      "; §2301. State \n",
      "Funding\n",
      "; §2303. Federal Funding\n",
      "; §2713. At\n",
      "-Risk Students\n",
      "; §2907.  \n",
      "Leave of Absence\n",
      "; and §2909. Employee Benefits, as presented by the \n",
      "LDE.\n",
      "  Dr. Beebe and Ms. Hill were recorded as being opposed to the motion.\n",
      "  Agenda\n",
      " Item 6.\n",
      " Board A\n",
      "dvisory Council Reports\n",
      "   Agenda\n",
      " Item 6.1.\n",
      " Nonpublic School Council\n",
      " (Schedule 6)\n",
      "  On motion of Dr. Miranti, seconded by Mr. Guillot, the Board received the \n",
      "minutes of the Nonpublic School Council meeting held February 4, 2014, \n",
      "and approved the tentative a\n",
      "genda for March 25, 2014.\n",
      "  Agenda\n",
      " Item 6.2.\n",
      " Superintendents™ Advisory Council\n",
      " (Schedule 7)\n",
      "  On motion of \n",
      "Dr. Miranti,\n",
      " seconded by \n",
      "Mr. Guillot,\n",
      " the Board received the \n",
      "minutes of the\n",
      " Superintendents™ Advisory Council meeting held \n",
      "February\n",
      " 13, 2014, and appr\n",
      "oved the tentative agenda for March\n",
      " 20, \n",
      "2014.  With no further business to come before the Board, the meeting was adjourned at \n",
      "10:15\n",
      " a.m.\n",
      "  \n"
     ]
    }
   ],
   "source": [
    "for pageNum in range(reader.numPages):\n",
    "    print(reader.getPage(pageNum).extractText())"
   ]
  },
  {
   "cell_type": "code",
   "execution_count": 64,
   "metadata": {},
   "outputs": [],
   "source": [
    "import PyPDF2\n",
    "pdf1File = open('meetingminutes1.pdf', 'rb')\n",
    "pdf2File = open('meetingminutes2.pdf', 'rb')\n",
    "reader1 = PyPDF2.PdfFileReader(pdf1File)\n",
    "reader2 = PyPDF2.PdfFileReader(pdf2File)\n",
    "writer = PyPDF2.PdfFileWriter()\n",
    "for pageNum in range(reader1.numPages):\n",
    "    page = reader1.getPage(pageNum)\n",
    "    writer.addPage(page)"
   ]
  },
  {
   "cell_type": "code",
   "execution_count": 65,
   "metadata": {},
   "outputs": [],
   "source": [
    "for pageNum in range(reader2.numPages):\n",
    "    page = reader2.getPage(pageNum)\n",
    "    writer.addPage(page)"
   ]
  },
  {
   "cell_type": "code",
   "execution_count": 67,
   "metadata": {},
   "outputs": [],
   "source": [
    "outputFile = open('combinedminutes.pdf', 'wb') # like above, as pdfs are binary files you have to write in binary 'wb'\n",
    "writer.write(outputFile)\n",
    "outputFile.close()\n",
    "pdf1File.close()\n",
    "pdf2File.close()"
   ]
  },
  {
   "cell_type": "code",
   "execution_count": 68,
   "metadata": {},
   "outputs": [
    {
     "ename": "SyntaxError",
     "evalue": "invalid syntax (<ipython-input-68-d71ba5c26d0b>, line 1)",
     "output_type": "error",
     "traceback": [
      "\u001b[1;36m  File \u001b[1;32m\"<ipython-input-68-d71ba5c26d0b>\"\u001b[1;36m, line \u001b[1;32m1\u001b[0m\n\u001b[1;33m    import python-docx\u001b[0m\n\u001b[1;37m                 ^\u001b[0m\n\u001b[1;31mSyntaxError\u001b[0m\u001b[1;31m:\u001b[0m invalid syntax\n"
     ]
    }
   ],
   "source": [
    "import python-docx"
   ]
  },
  {
   "cell_type": "code",
   "execution_count": 70,
   "metadata": {},
   "outputs": [],
   "source": [
    "import docx"
   ]
  },
  {
   "cell_type": "code",
   "execution_count": 73,
   "metadata": {},
   "outputs": [],
   "source": [
    "d = docx.Document('C:\\\\Users\\\\Jono\\\\Documents\\\\Jupyter Notebooks\\\\Test File\\\\demo.docx')"
   ]
  },
  {
   "cell_type": "code",
   "execution_count": 74,
   "metadata": {},
   "outputs": [
    {
     "data": {
      "text/plain": [
       "[<docx.text.paragraph.Paragraph at 0x23c68a48790>,\n",
       " <docx.text.paragraph.Paragraph at 0x23c68a48340>,\n",
       " <docx.text.paragraph.Paragraph at 0x23c68a486d0>,\n",
       " <docx.text.paragraph.Paragraph at 0x23c68815d90>,\n",
       " <docx.text.paragraph.Paragraph at 0x23c68815190>,\n",
       " <docx.text.paragraph.Paragraph at 0x23c68815d00>,\n",
       " <docx.text.paragraph.Paragraph at 0x23c68815cd0>]"
      ]
     },
     "execution_count": 74,
     "metadata": {},
     "output_type": "execute_result"
    }
   ],
   "source": [
    "d.paragraphs"
   ]
  },
  {
   "cell_type": "code",
   "execution_count": 75,
   "metadata": {},
   "outputs": [
    {
     "data": {
      "text/plain": [
       "<docx.text.paragraph.Paragraph at 0x23c68a48490>"
      ]
     },
     "execution_count": 75,
     "metadata": {},
     "output_type": "execute_result"
    }
   ],
   "source": [
    "d. paragraphs[0]"
   ]
  },
  {
   "cell_type": "code",
   "execution_count": 76,
   "metadata": {},
   "outputs": [
    {
     "data": {
      "text/plain": [
       "'Document Title'"
      ]
     },
     "execution_count": 76,
     "metadata": {},
     "output_type": "execute_result"
    }
   ],
   "source": [
    "d. paragraphs[0].text"
   ]
  },
  {
   "cell_type": "code",
   "execution_count": 77,
   "metadata": {},
   "outputs": [
    {
     "data": {
      "text/plain": [
       "'A plain paragraph having some bold and some italic.'"
      ]
     },
     "execution_count": 77,
     "metadata": {},
     "output_type": "execute_result"
    }
   ],
   "source": [
    "d. paragraphs[1].text\n"
   ]
  },
  {
   "cell_type": "code",
   "execution_count": 78,
   "metadata": {},
   "outputs": [
    {
     "data": {
      "text/plain": [
       "[<docx.text.run.Run at 0x23c68a18c70>,\n",
       " <docx.text.run.Run at 0x23c68a18c40>,\n",
       " <docx.text.run.Run at 0x23c68a18d00>,\n",
       " <docx.text.run.Run at 0x23c68a18d60>]"
      ]
     },
     "execution_count": 78,
     "metadata": {},
     "output_type": "execute_result"
    }
   ],
   "source": [
    "p = d.paragraphs[1]\n",
    "p.runs # a new run is created when the style of the text changes"
   ]
  },
  {
   "cell_type": "code",
   "execution_count": 80,
   "metadata": {},
   "outputs": [
    {
     "data": {
      "text/plain": [
       "'A plain paragraph having some '"
      ]
     },
     "execution_count": 80,
     "metadata": {},
     "output_type": "execute_result"
    }
   ],
   "source": [
    "p.runs[0].text"
   ]
  },
  {
   "cell_type": "code",
   "execution_count": 81,
   "metadata": {},
   "outputs": [
    {
     "data": {
      "text/plain": [
       "'bold'"
      ]
     },
     "execution_count": 81,
     "metadata": {},
     "output_type": "execute_result"
    }
   ],
   "source": [
    "p.runs[1].text"
   ]
  },
  {
   "cell_type": "code",
   "execution_count": 82,
   "metadata": {},
   "outputs": [
    {
     "data": {
      "text/plain": [
       "' and some '"
      ]
     },
     "execution_count": 82,
     "metadata": {},
     "output_type": "execute_result"
    }
   ],
   "source": [
    "p.runs[2].text"
   ]
  },
  {
   "cell_type": "code",
   "execution_count": 83,
   "metadata": {},
   "outputs": [
    {
     "data": {
      "text/plain": [
       "'italic.'"
      ]
     },
     "execution_count": 83,
     "metadata": {},
     "output_type": "execute_result"
    }
   ],
   "source": [
    "p.runs[3].text"
   ]
  },
  {
   "cell_type": "code",
   "execution_count": 84,
   "metadata": {},
   "outputs": [
    {
     "data": {
      "text/plain": [
       "True"
      ]
     },
     "execution_count": 84,
     "metadata": {},
     "output_type": "execute_result"
    }
   ],
   "source": [
    "p.runs[1].bold # the dot checks if the text in the run is bold (or italic etx)"
   ]
  },
  {
   "cell_type": "code",
   "execution_count": 87,
   "metadata": {},
   "outputs": [
    {
     "data": {
      "text/plain": [
       "True"
      ]
     },
     "execution_count": 87,
     "metadata": {},
     "output_type": "execute_result"
    }
   ],
   "source": [
    "p.runs[3].bold == None # remember, here a == checks if the condition is true, whereas a single = would set it to being true"
   ]
  },
  {
   "cell_type": "code",
   "execution_count": 88,
   "metadata": {},
   "outputs": [
    {
     "data": {
      "text/plain": [
       "True"
      ]
     },
     "execution_count": 88,
     "metadata": {},
     "output_type": "execute_result"
    }
   ],
   "source": [
    "p.runs[3].italic"
   ]
  },
  {
   "cell_type": "code",
   "execution_count": 89,
   "metadata": {},
   "outputs": [],
   "source": [
    "p.runs[3].underline = True\n",
    "p.runs[3].text = 'italic and underline.'\n",
    "d.save('demo2.docx')"
   ]
  },
  {
   "cell_type": "code",
   "execution_count": 90,
   "metadata": {},
   "outputs": [
    {
     "data": {
      "text/plain": [
       "_ParagraphStyle('Normal') id: 2458475129200"
      ]
     },
     "execution_count": 90,
     "metadata": {},
     "output_type": "execute_result"
    }
   ],
   "source": [
    "# word docs also have built in style setting\n",
    "\n",
    "p.style"
   ]
  },
  {
   "cell_type": "code",
   "execution_count": 91,
   "metadata": {},
   "outputs": [],
   "source": [
    "p.style = 'Title'"
   ]
  },
  {
   "cell_type": "code",
   "execution_count": 92,
   "metadata": {},
   "outputs": [],
   "source": [
    "d.save('demo3.docx')"
   ]
  },
  {
   "cell_type": "code",
   "execution_count": 93,
   "metadata": {},
   "outputs": [],
   "source": [
    "d = docx.Document() # remember at this stage the new document only exists in pythons memory\n",
    "d.add_paragraph('Hello this is a paragraph.')\n",
    "d.add_paragraph('This is another paragraph.')\n",
    "d.save('demo4.docx')"
   ]
  },
  {
   "cell_type": "code",
   "execution_count": 94,
   "metadata": {},
   "outputs": [
    {
     "data": {
      "text/plain": [
       "<docx.text.run.Run at 0x23c68a54a00>"
      ]
     },
     "execution_count": 94,
     "metadata": {},
     "output_type": "execute_result"
    }
   ],
   "source": [
    "p = d.paragraphs[0]\n",
    "p.add_run('This is a new run.')"
   ]
  },
  {
   "cell_type": "code",
   "execution_count": 95,
   "metadata": {},
   "outputs": [
    {
     "data": {
      "text/plain": [
       "[<docx.text.run.Run at 0x23c68a546d0>, <docx.text.run.Run at 0x23c68a54940>]"
      ]
     },
     "execution_count": 95,
     "metadata": {},
     "output_type": "execute_result"
    }
   ],
   "source": [
    "p.runs"
   ]
  },
  {
   "cell_type": "code",
   "execution_count": 96,
   "metadata": {},
   "outputs": [],
   "source": [
    "p.runs[1].bold = True"
   ]
  },
  {
   "cell_type": "code",
   "execution_count": 97,
   "metadata": {},
   "outputs": [],
   "source": [
    "d.save('demo5.docx')"
   ]
  },
  {
   "cell_type": "code",
   "execution_count": 98,
   "metadata": {},
   "outputs": [
    {
     "name": "stdout",
     "output_type": "stream",
     "text": [
      "Document Title\n",
      "A plain paragraph having some bold and some italic.\n",
      "Heading, level 1\n",
      "Intense quote\n",
      "first item in unordered list\n",
      "first item in ordered list\n",
      "\n",
      "\n"
     ]
    }
   ],
   "source": [
    "# example programme for taking all text from document as a string\n",
    "\n",
    "import docx\n",
    "\n",
    "def getText(filename):\n",
    "    doc = docx.Document(filename)\n",
    "    fullText = []\n",
    "    for para in doc.paragraphs:\n",
    "        fullText.append(para.text)\n",
    "    return '\\n'.join(fullText)\n",
    "\n",
    "print(getText('C:\\\\Users\\\\Jono\\\\Documents\\\\Jupyter Notebooks\\\\Test File\\\\demo.docx'))"
   ]
  },
  {
   "cell_type": "code",
   "execution_count": null,
   "metadata": {},
   "outputs": [],
   "source": []
  }
 ],
 "metadata": {
  "kernelspec": {
   "display_name": "Python 3",
   "language": "python",
   "name": "python3"
  },
  "language_info": {
   "codemirror_mode": {
    "name": "ipython",
    "version": 3
   },
   "file_extension": ".py",
   "mimetype": "text/x-python",
   "name": "python",
   "nbconvert_exporter": "python",
   "pygments_lexer": "ipython3",
   "version": "3.8.5"
  }
 },
 "nbformat": 4,
 "nbformat_minor": 4
}
