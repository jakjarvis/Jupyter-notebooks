{
 "cells": [
  {
   "cell_type": "code",
   "execution_count": 3,
   "metadata": {},
   "outputs": [
    {
     "name": "stdout",
     "output_type": "stream",
     "text": [
      "Number of variables = 2\n",
      "Number of constraints = 2\n",
      "Solution:\n",
      "Objective value = 23.0\n",
      "x = 3.0\n",
      "y = 2.0\n",
      "\n",
      "Advanced usage:\n",
      "Problem solved in 9.000000 milliseconds\n",
      "Problem solved in 0 iterations\n",
      "Problem solved in 1 branch-and-bound nodes\n"
     ]
    }
   ],
   "source": [
    "from ortools.linear_solver import pywraplp\n",
    "\n",
    "\n",
    "def main():\n",
    "    # Create the mip solver with the SCIP backend.\n",
    "    solver = pywraplp.Solver.CreateSolver('SCIP')\n",
    "\n",
    "    infinity = solver.infinity()\n",
    "    # x and y are integer non-negative variables.\n",
    "    x = solver.IntVar(0.0, infinity, 'x')\n",
    "    y = solver.IntVar(0.0, infinity, 'y')\n",
    "\n",
    "    print('Number of variables =', solver.NumVariables())\n",
    "\n",
    "    # x + 7 * y <= 17.5.\n",
    "    solver.Add(x + 7 * y <= 17.5)\n",
    "\n",
    "    # x <= 3.5.\n",
    "    solver.Add(x <= 3.5)\n",
    "\n",
    "    print('Number of constraints =', solver.NumConstraints())\n",
    "\n",
    "    # Maximize x + 10 * y.\n",
    "    solver.Maximize(x + 10 * y)\n",
    "\n",
    "    status = solver.Solve()\n",
    "\n",
    "    if status == pywraplp.Solver.OPTIMAL:\n",
    "        print('Solution:')\n",
    "        print('Objective value =', solver.Objective().Value())\n",
    "        print('x =', x.solution_value())\n",
    "        print('y =', y.solution_value())\n",
    "    else:\n",
    "        print('The problem does not have an optimal solution.')\n",
    "\n",
    "    print('\\nAdvanced usage:')\n",
    "    print('Problem solved in %f milliseconds' % solver.wall_time())\n",
    "    print('Problem solved in %d iterations' % solver.iterations())\n",
    "    print('Problem solved in %d branch-and-bound nodes' % solver.nodes())\n",
    "\n",
    "\n",
    "if __name__ == '__main__':\n",
    "    main()"
   ]
  },
  {
   "cell_type": "code",
   "execution_count": null,
   "metadata": {},
   "outputs": [],
   "source": []
  }
 ],
 "metadata": {
  "kernelspec": {
   "display_name": "Python 3",
   "language": "python",
   "name": "python3"
  },
  "language_info": {
   "codemirror_mode": {
    "name": "ipython",
    "version": 3
   },
   "file_extension": ".py",
   "mimetype": "text/x-python",
   "name": "python",
   "nbconvert_exporter": "python",
   "pygments_lexer": "ipython3",
   "version": "3.8.5"
  }
 },
 "nbformat": 4,
 "nbformat_minor": 4
}
