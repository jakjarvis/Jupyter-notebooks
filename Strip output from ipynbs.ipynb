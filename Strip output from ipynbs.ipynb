{
 "cells": [
  {
   "cell_type": "markdown",
   "metadata": {},
   "source": [
    "# Stripping Jupyter Notebook Outputs\n",
    "\n",
    "I found this short script on stack overflow (Q: 25178118) as a way to strip the output out of a saved Jupyter notebook in the event that you accidentally create a massive memory burden that causes the computer to crash (or the stack to overflow?!) when you open it. Works a charm! Current filepath is set to the first time I had to use it :p"
   ]
  },
  {
   "cell_type": "code",
   "execution_count": 1,
   "metadata": {},
   "outputs": [],
   "source": [
    "from nbformat import read, write\n",
    "\n",
    "def strip_output(nb):\n",
    "    for cell in nb.cells:\n",
    "        if hasattr(cell, \"outputs\"):\n",
    "            cell.outputs = []\n",
    "        if hasattr(cell, \"prompt_number\"):\n",
    "            del cell[\"prompt_number\"]\n",
    "\n",
    "nb = read(open(r\"C:\\Users\\Jono\\Documents\\Jupyter notebooks\\Advent of Code 2015\\Day 17.ipynb\"), 4)\n",
    "strip_output(nb)\n",
    "write(nb, open(r\"C:\\Users\\Jono\\Documents\\Jupyter notebooks\\Advent of Code 2015\\Day 17 cleaned.ipynb\", \"w\"), 4)"
   ]
  },
  {
   "cell_type": "code",
   "execution_count": null,
   "metadata": {},
   "outputs": [],
   "source": []
  }
 ],
 "metadata": {
  "kernelspec": {
   "display_name": "Python 3",
   "language": "python",
   "name": "python3"
  },
  "language_info": {
   "codemirror_mode": {
    "name": "ipython",
    "version": 3
   },
   "file_extension": ".py",
   "mimetype": "text/x-python",
   "name": "python",
   "nbconvert_exporter": "python",
   "pygments_lexer": "ipython3",
   "version": "3.8.5"
  }
 },
 "nbformat": 4,
 "nbformat_minor": 4
}
